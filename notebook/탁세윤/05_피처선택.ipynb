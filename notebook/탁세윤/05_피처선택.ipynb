{
  "cells": [
    {
      "cell_type": "code",
      "execution_count": 1,
      "metadata": {
        "id": "7Xd81WmswsA_"
      },
      "outputs": [],
      "source": [
        "# 기본 라이브러리\n",
        "import numpy as np\n",
        "import pandas as pd\n",
        "\n",
        "#저장라이브러리\n",
        "import pickle\n",
        "\n",
        "import gc\n",
        "\n",
        "from sklearn.model_selection import train_test_split\n",
        "from imblearn.over_sampling import SMOTE\n",
        "# from sklearn.ensemble import RandomForestClassifier\n",
        "# from sklearn.feature_selection import SelectFromModel\n",
        "# from sklearn.metrics import classification_report\n",
        "from sklearn.preprocessing import LabelEncoder\n",
        "\n",
        "# from xgboost import XGBClassifier\n",
        "# from sklearn.metrics import classification_report\n",
        "from catboost import CatBoostClassifier\n",
        "\n",
        "# 기본 라이브러리\n",
        "import numpy as np\n",
        "import pandas as pd\n",
        "import matplotlib.pyplot as plt\n",
        "import seaborn as sns\n",
        "\n",
        "sns.set()\n",
        "\n",
        "# 그래프 기본 설정\n",
        "plt.rcParams['font.family'] = 'Malgun Gothic'\n",
        "plt.rcParams['figure.figsize'] = 12, 6\n",
        "plt.rcParams['font.size'] = 14\n",
        "plt.rcParams['axes.unicode_minus'] = False\n",
        "\n",
        "import gc\n"
      ]
    },
    {
      "cell_type": "code",
      "execution_count": null,
      "metadata": {
        "id": "EXbKGGlB1k-W"
      },
      "outputs": [],
      "source": [
        "# import matplotlib.pyplot as plt\n",
        "\n",
        "# # 그래프 기본 설정\n",
        "# plt.rcParams['figure.figsize'] = 12, 6\n",
        "# plt.rcParams['font.size'] = 14\n",
        "# plt.rcParams['axes.unicode_minus'] = False\n",
        "\n",
        "\n",
        "# import matplotlib as mpl\n",
        "# import matplotlib.font_manager as fm\n",
        "\n",
        "# # 폰트 파일 경로 지정\n",
        "# font_path = '/content/drive/MyDrive/Colab Notebooks/NanumGothic.ttf'\n",
        "\n",
        "# # 폰트 등록 및 matplotlib 설정\n",
        "# font_name = fm.FontProperties(fname=font_path).get_name()\n",
        "# fm.fontManager.addfont(font_path)\n",
        "# mpl.rc('font', family=font_name)"
      ]
    },
    {
      "cell_type": "markdown",
      "metadata": {
        "id": "FyR9xBIow_Q3"
      },
      "source": [
        "# 1. data load"
      ]
    },
    {
      "cell_type": "code",
      "execution_count": 2,
      "metadata": {
        "id": "Ioftu-Z3w-6J"
      },
      "outputs": [],
      "source": [
        "train = pd.read_parquet('train_잔액정보.parquet')"
      ]
    },
    {
      "cell_type": "code",
      "execution_count": 3,
      "metadata": {},
      "outputs": [],
      "source": [
        "seg = pd.read_parquet('train_segment.parquet')"
      ]
    },
    {
      "cell_type": "markdown",
      "metadata": {
        "id": "E5O7b3NHxQQm"
      },
      "source": [
        "# 2. data split"
      ]
    },
    {
      "cell_type": "code",
      "execution_count": 4,
      "metadata": {
        "id": "f1HiA3vLw-PB"
      },
      "outputs": [],
      "source": [
        "# 타겟 변수 분리\n",
        "X = train\n",
        "y = seg['Segment'] # segment만\n",
        "\n",
        "# 샘플링(240만건은 너무 많 => 7월 40만)\n",
        "X_sample = X.iloc[:400000]\n",
        "y_sample = y.iloc[:400000]\n",
        "\n",
        "# ID 제거\n",
        "id_sample = X_sample['ID']\n",
        "X_sample = X_sample.drop('ID', axis=1)\n",
        "\n",
        "# train/val 분리\n",
        "X_train, X_val, y_train, y_val = train_test_split(X_sample, y_sample, test_size=0.2, stratify=y_sample, random_state=40)"
      ]
    },
    {
      "cell_type": "code",
      "execution_count": 5,
      "metadata": {
        "colab": {
          "base_uri": "https://localhost:8080/"
        },
        "id": "g-CZ3-ryy8JD",
        "outputId": "f6a24157-22cf-46dc-fd1f-dfe8aaaa9045"
      },
      "outputs": [
        {
          "data": {
            "text/plain": [
              "(320000, 80000)"
            ]
          },
          "execution_count": 5,
          "metadata": {},
          "output_type": "execute_result"
        }
      ],
      "source": [
        "len(X_train), len(X_val)"
      ]
    },
    {
      "cell_type": "markdown",
      "metadata": {
        "id": "CNFZMwdCyHWe"
      },
      "source": [
        "# 3. select feature"
      ]
    },
    {
      "cell_type": "markdown",
      "metadata": {
        "id": "q2sD2Jaj2FRU"
      },
      "source": [
        "- catboost"
      ]
    },
    {
      "cell_type": "code",
      "execution_count": 6,
      "metadata": {
        "id": "UD5EaMSF2E6n"
      },
      "outputs": [],
      "source": [
        "cat_model = CatBoostClassifier(\n",
        "    iterations=100,\n",
        "    learning_rate=0.1,\n",
        "    depth=6,\n",
        "    loss_function='MultiClass',\n",
        "    eval_metric='MultiClass', # eval_metric을 단일 값 평가지표로 변경\n",
        "    custom_metric='F1', # F1을 custom_metric으로 추가\n",
        "    random_state=40,\n",
        "    verbose=False\n",
        ")"
      ]
    },
    {
      "cell_type": "code",
      "execution_count": 8,
      "metadata": {
        "colab": {
          "base_uri": "https://localhost:8080/"
        },
        "id": "EJ8jJtMU4GVt",
        "outputId": "a5318cc2-f30d-48e6-fdc2-8799a658f785"
      },
      "outputs": [
        {
          "data": {
            "text/plain": [
              "<catboost.core.CatBoostClassifier at 0x22719aebee0>"
            ]
          },
          "execution_count": 8,
          "metadata": {},
          "output_type": "execute_result"
        }
      ],
      "source": [
        "cat_model.fit(X_train, y_train)"
      ]
    },
    {
      "cell_type": "markdown",
      "metadata": {
        "id": "w_jhqmK0H7uP"
      },
      "source": [
        "---\n",
        "# 4. feature importance\n",
        "- **get feature importances**\n",
        "  - 학습된 모델에서 변수의 중요도 추출"
      ]
    },
    {
      "cell_type": "code",
      "execution_count": 9,
      "metadata": {
        "colab": {
          "base_uri": "https://localhost:8080/"
        },
        "id": "k1Zp6yNPIWxM",
        "outputId": "4574f743-bc4b-4cb7-b67a-b17a2756ede9"
      },
      "outputs": [
        {
          "name": "stdout",
          "output_type": "stream",
          "text": [
            "     Feature Id  Importances\n",
            "0     평잔_일시불_6M    16.652857\n",
            "1         평잔_6M    15.130343\n",
            "2    잔액_일시불_B0M     7.386742\n",
            "3      평잔_CA_6M     6.835071\n",
            "4  월중평잔_일시불_B0M     6.554192\n"
          ]
        }
      ],
      "source": [
        "# 변수 중요도 추출\n",
        "feature_importances = cat_model.get_feature_importance(prettified=True)\n",
        "print(feature_importances.head())"
      ]
    },
    {
      "cell_type": "markdown",
      "metadata": {
        "id": "WaA9dVnuIbpy"
      },
      "source": [
        "- **visualize feature importances**\n",
        "   - 어떤 변수가 모델에 가장 큰 영향을 미치는지 파악"
      ]
    },
    {
      "cell_type": "code",
      "execution_count": 11,
      "metadata": {
        "colab": {
          "base_uri": "https://localhost:8080/",
          "height": 554
        },
        "id": "r-vJWEshIh5n",
        "outputId": "a2ba0588-b074-4386-a512-50c1e6b418eb"
      },
      "outputs": [
        {
          "data": {
            "image/png": "[encoded data removed]",
            "text/plain": [
              "<Figure size 800x600 with 1 Axes>"
            ]
          },
          "metadata": {},
          "output_type": "display_data"
        }
      ],
      "source": [
        "import matplotlib.pyplot as plt\n",
        "\n",
        "# 상위 20개 시각화\n",
        "top_n = 20\n",
        "feature_importances[:top_n].plot(\n",
        "    kind='barh',\n",
        "    x='Feature Id',\n",
        "    y='Importances',\n",
        "    figsize=(8, 6),\n",
        "    legend=False\n",
        ")\n",
        "plt.title(f\"상위 20개 피처 시각화\")\n",
        "plt.gca().invert_yaxis()\n",
        "plt.show()"
      ]
    },
    {
      "cell_type": "markdown",
      "metadata": {
        "id": "4v165CDnIin7"
      },
      "source": [
        "- **select features**\n",
        "  - 계산된 중요도를 기반으로 가장 중요한 특성들을 선택하는 방법 결정\n",
        "  - ex) 중요도 상위 N개, 특정 임계값 이상의 중요도를 가진 특성\n",
        "\n"
      ]
    },
    {
      "cell_type": "code",
      "execution_count": 12,
      "metadata": {
        "colab": {
          "base_uri": "https://localhost:8080/"
        },
        "id": "RwJeJPSHI4IW",
        "outputId": "09273420-2b14-4852-e511-a8de8a894f69"
      },
      "outputs": [
        {
          "name": "stdout",
          "output_type": "stream",
          "text": [
            "선택된 피처 수: 15\n",
            "선택된 피처 이름: ['평잔_일시불_6M', '평잔_6M', '잔액_일시불_B0M', '평잔_CA_6M', '월중평잔_일시불_B0M', '평잔_할부_6M', '평잔_일시불_해외_6M', '잔액_일시불_B1M', '잔액_할부_유이자_B0M', '월중평잔_일시불', '월중평잔', 'RV_최대잔액_R12M', '월중평잔_CA', '잔액_할부_B0M', '잔액_할부_B1M']\n"
          ]
        }
      ],
      "source": [
        "# 상위 15개 피처\n",
        "top_n = 15\n",
        "selected_features = feature_importances['Feature Id'][:top_n].tolist()\n",
        "\n",
        "print(\"선택된 피처 수:\", len(selected_features))\n",
        "print(\"선택된 피처 이름:\", selected_features)"
      ]
    },
    {
      "cell_type": "markdown",
      "metadata": {},
      "source": [
        "- data store\n",
        "    - train"
      ]
    },
    {
      "cell_type": "code",
      "execution_count": 14,
      "metadata": {
        "id": "O5JbG_ZPVwgi"
      },
      "outputs": [
        {
          "data": {
            "text/html": [
              "<div>\n",
              "<style scoped>\n",
              "    .dataframe tbody tr th:only-of-type {\n",
              "        vertical-align: middle;\n",
              "    }\n",
              "\n",
              "    .dataframe tbody tr th {\n",
              "        vertical-align: top;\n",
              "    }\n",
              "\n",
              "    .dataframe thead th {\n",
              "        text-align: right;\n",
              "    }\n",
              "</style>\n",
              "<table border=\"1\" class=\"dataframe\">\n",
              "  <thead>\n",
              "    <tr style=\"text-align: right;\">\n",
              "      <th></th>\n",
              "      <th>ID</th>\n",
              "      <th>평잔_일시불_6M</th>\n",
              "      <th>평잔_6M</th>\n",
              "      <th>잔액_일시불_B0M</th>\n",
              "      <th>평잔_CA_6M</th>\n",
              "      <th>월중평잔_일시불_B0M</th>\n",
              "      <th>평잔_할부_6M</th>\n",
              "      <th>평잔_일시불_해외_6M</th>\n",
              "      <th>잔액_일시불_B1M</th>\n",
              "      <th>잔액_할부_유이자_B0M</th>\n",
              "      <th>월중평잔_일시불</th>\n",
              "      <th>월중평잔</th>\n",
              "      <th>RV_최대잔액_R12M</th>\n",
              "      <th>월중평잔_CA</th>\n",
              "      <th>잔액_할부_B0M</th>\n",
              "      <th>잔액_할부_B1M</th>\n",
              "    </tr>\n",
              "  </thead>\n",
              "  <tbody>\n",
              "    <tr>\n",
              "      <th>0</th>\n",
              "      <td>TRAIN_000000</td>\n",
              "      <td>2440</td>\n",
              "      <td>15988</td>\n",
              "      <td>998</td>\n",
              "      <td>17008</td>\n",
              "      <td>1084</td>\n",
              "      <td>572</td>\n",
              "      <td>0</td>\n",
              "      <td>736</td>\n",
              "      <td>0</td>\n",
              "      <td>1503</td>\n",
              "      <td>17237</td>\n",
              "      <td>0</td>\n",
              "      <td>23468</td>\n",
              "      <td>962</td>\n",
              "      <td>640</td>\n",
              "    </tr>\n",
              "    <tr>\n",
              "      <th>1</th>\n",
              "      <td>TRAIN_000001</td>\n",
              "      <td>2677</td>\n",
              "      <td>7045</td>\n",
              "      <td>2565</td>\n",
              "      <td>0</td>\n",
              "      <td>4090</td>\n",
              "      <td>2736</td>\n",
              "      <td>0</td>\n",
              "      <td>6795</td>\n",
              "      <td>2390</td>\n",
              "      <td>4447</td>\n",
              "      <td>7967</td>\n",
              "      <td>0</td>\n",
              "      <td>0</td>\n",
              "      <td>2390</td>\n",
              "      <td>2779</td>\n",
              "    </tr>\n",
              "    <tr>\n",
              "      <th>2</th>\n",
              "      <td>TRAIN_000002</td>\n",
              "      <td>9118</td>\n",
              "      <td>66549</td>\n",
              "      <td>5312</td>\n",
              "      <td>43351</td>\n",
              "      <td>5006</td>\n",
              "      <td>4429</td>\n",
              "      <td>0</td>\n",
              "      <td>5150</td>\n",
              "      <td>0</td>\n",
              "      <td>5540</td>\n",
              "      <td>59917</td>\n",
              "      <td>5329</td>\n",
              "      <td>18572</td>\n",
              "      <td>5113</td>\n",
              "      <td>9451</td>\n",
              "    </tr>\n",
              "    <tr>\n",
              "      <th>3</th>\n",
              "      <td>TRAIN_000003</td>\n",
              "      <td>884</td>\n",
              "      <td>30139</td>\n",
              "      <td>730</td>\n",
              "      <td>30697</td>\n",
              "      <td>487</td>\n",
              "      <td>5097</td>\n",
              "      <td>0</td>\n",
              "      <td>462</td>\n",
              "      <td>2368</td>\n",
              "      <td>606</td>\n",
              "      <td>27854</td>\n",
              "      <td>0</td>\n",
              "      <td>28902</td>\n",
              "      <td>5025</td>\n",
              "      <td>6134</td>\n",
              "    </tr>\n",
              "    <tr>\n",
              "      <th>4</th>\n",
              "      <td>TRAIN_000004</td>\n",
              "      <td>21</td>\n",
              "      <td>28</td>\n",
              "      <td>0</td>\n",
              "      <td>0</td>\n",
              "      <td>0</td>\n",
              "      <td>0</td>\n",
              "      <td>0</td>\n",
              "      <td>0</td>\n",
              "      <td>0</td>\n",
              "      <td>0</td>\n",
              "      <td>0</td>\n",
              "      <td>0</td>\n",
              "      <td>0</td>\n",
              "      <td>0</td>\n",
              "      <td>0</td>\n",
              "    </tr>\n",
              "  </tbody>\n",
              "</table>\n",
              "</div>"
            ],
            "text/plain": [
              "             ID  평잔_일시불_6M  평잔_6M  잔액_일시불_B0M  평잔_CA_6M  월중평잔_일시불_B0M  \\\n",
              "0  TRAIN_000000       2440  15988         998     17008          1084   \n",
              "1  TRAIN_000001       2677   7045        2565         0          4090   \n",
              "2  TRAIN_000002       9118  66549        5312     43351          5006   \n",
              "3  TRAIN_000003        884  30139         730     30697           487   \n",
              "4  TRAIN_000004         21     28           0         0             0   \n",
              "\n",
              "   평잔_할부_6M  평잔_일시불_해외_6M  잔액_일시불_B1M  잔액_할부_유이자_B0M  월중평잔_일시불   월중평잔  \\\n",
              "0       572             0         736              0      1503  17237   \n",
              "1      2736             0        6795           2390      4447   7967   \n",
              "2      4429             0        5150              0      5540  59917   \n",
              "3      5097             0         462           2368       606  27854   \n",
              "4         0             0           0              0         0      0   \n",
              "\n",
              "   RV_최대잔액_R12M  월중평잔_CA  잔액_할부_B0M  잔액_할부_B1M  \n",
              "0             0    23468        962        640  \n",
              "1             0        0       2390       2779  \n",
              "2          5329    18572       5113       9451  \n",
              "3             0    28902       5025       6134  \n",
              "4             0        0          0          0  "
            ]
          },
          "execution_count": 14,
          "metadata": {},
          "output_type": "execute_result"
        }
      ],
      "source": [
        "columns_to_select = ['ID'] + selected_features\n",
        "train_selected_with_id = train[columns_to_select]\n",
        "\n",
        "train_selected_with_id.head()"
      ]
    },
    {
      "cell_type": "code",
      "execution_count": 15,
      "metadata": {},
      "outputs": [],
      "source": [
        "train_selected_with_id.to_parquet('train_잔액_sel.parquet')"
      ]
    },
    {
      "cell_type": "markdown",
      "metadata": {},
      "source": [
        "- test"
      ]
    },
    {
      "cell_type": "code",
      "execution_count": 19,
      "metadata": {},
      "outputs": [
        {
          "data": {
            "text/html": [
              "<div>\n",
              "<style scoped>\n",
              "    .dataframe tbody tr th:only-of-type {\n",
              "        vertical-align: middle;\n",
              "    }\n",
              "\n",
              "    .dataframe tbody tr th {\n",
              "        vertical-align: top;\n",
              "    }\n",
              "\n",
              "    .dataframe thead th {\n",
              "        text-align: right;\n",
              "    }\n",
              "</style>\n",
              "<table border=\"1\" class=\"dataframe\">\n",
              "  <thead>\n",
              "    <tr style=\"text-align: right;\">\n",
              "      <th></th>\n",
              "      <th>ID</th>\n",
              "      <th>평잔_일시불_6M</th>\n",
              "      <th>평잔_6M</th>\n",
              "      <th>잔액_일시불_B0M</th>\n",
              "      <th>평잔_CA_6M</th>\n",
              "      <th>월중평잔_일시불_B0M</th>\n",
              "      <th>평잔_할부_6M</th>\n",
              "      <th>평잔_일시불_해외_6M</th>\n",
              "      <th>잔액_일시불_B1M</th>\n",
              "      <th>잔액_할부_유이자_B0M</th>\n",
              "      <th>월중평잔_일시불</th>\n",
              "      <th>월중평잔</th>\n",
              "      <th>RV_최대잔액_R12M</th>\n",
              "      <th>월중평잔_CA</th>\n",
              "      <th>잔액_할부_B0M</th>\n",
              "      <th>잔액_할부_B1M</th>\n",
              "    </tr>\n",
              "  </thead>\n",
              "  <tbody>\n",
              "    <tr>\n",
              "      <th>0</th>\n",
              "      <td>TEST_00000</td>\n",
              "      <td>2933</td>\n",
              "      <td>3847</td>\n",
              "      <td>4802</td>\n",
              "      <td>0</td>\n",
              "      <td>6412</td>\n",
              "      <td>0</td>\n",
              "      <td>384</td>\n",
              "      <td>2277</td>\n",
              "      <td>0</td>\n",
              "      <td>5187</td>\n",
              "      <td>5543</td>\n",
              "      <td>0</td>\n",
              "      <td>0</td>\n",
              "      <td>0</td>\n",
              "      <td>0</td>\n",
              "    </tr>\n",
              "    <tr>\n",
              "      <th>1</th>\n",
              "      <td>TEST_00001</td>\n",
              "      <td>657</td>\n",
              "      <td>42634</td>\n",
              "      <td>1201</td>\n",
              "      <td>1530</td>\n",
              "      <td>1010</td>\n",
              "      <td>7979</td>\n",
              "      <td>0</td>\n",
              "      <td>1467</td>\n",
              "      <td>3120</td>\n",
              "      <td>865</td>\n",
              "      <td>57180</td>\n",
              "      <td>0</td>\n",
              "      <td>3179</td>\n",
              "      <td>8628</td>\n",
              "      <td>7985</td>\n",
              "    </tr>\n",
              "    <tr>\n",
              "      <th>2</th>\n",
              "      <td>TEST_00002</td>\n",
              "      <td>6253</td>\n",
              "      <td>22936</td>\n",
              "      <td>3046</td>\n",
              "      <td>0</td>\n",
              "      <td>4407</td>\n",
              "      <td>12329</td>\n",
              "      <td>0</td>\n",
              "      <td>2496</td>\n",
              "      <td>2853</td>\n",
              "      <td>5591</td>\n",
              "      <td>20641</td>\n",
              "      <td>0</td>\n",
              "      <td>0</td>\n",
              "      <td>6144</td>\n",
              "      <td>7805</td>\n",
              "    </tr>\n",
              "    <tr>\n",
              "      <th>3</th>\n",
              "      <td>TEST_00003</td>\n",
              "      <td>819</td>\n",
              "      <td>1206</td>\n",
              "      <td>768</td>\n",
              "      <td>0</td>\n",
              "      <td>1107</td>\n",
              "      <td>468</td>\n",
              "      <td>0</td>\n",
              "      <td>675</td>\n",
              "      <td>0</td>\n",
              "      <td>1545</td>\n",
              "      <td>2480</td>\n",
              "      <td>0</td>\n",
              "      <td>0</td>\n",
              "      <td>945</td>\n",
              "      <td>803</td>\n",
              "    </tr>\n",
              "    <tr>\n",
              "      <th>4</th>\n",
              "      <td>TEST_00004</td>\n",
              "      <td>979</td>\n",
              "      <td>2914</td>\n",
              "      <td>637</td>\n",
              "      <td>0</td>\n",
              "      <td>1072</td>\n",
              "      <td>2414</td>\n",
              "      <td>0</td>\n",
              "      <td>1395</td>\n",
              "      <td>0</td>\n",
              "      <td>1462</td>\n",
              "      <td>5644</td>\n",
              "      <td>0</td>\n",
              "      <td>0</td>\n",
              "      <td>2558</td>\n",
              "      <td>3888</td>\n",
              "    </tr>\n",
              "  </tbody>\n",
              "</table>\n",
              "</div>"
            ],
            "text/plain": [
              "           ID  평잔_일시불_6M  평잔_6M  잔액_일시불_B0M  평잔_CA_6M  월중평잔_일시불_B0M  평잔_할부_6M  \\\n",
              "0  TEST_00000       2933   3847        4802         0          6412         0   \n",
              "1  TEST_00001        657  42634        1201      1530          1010      7979   \n",
              "2  TEST_00002       6253  22936        3046         0          4407     12329   \n",
              "3  TEST_00003        819   1206         768         0          1107       468   \n",
              "4  TEST_00004        979   2914         637         0          1072      2414   \n",
              "\n",
              "   평잔_일시불_해외_6M  잔액_일시불_B1M  잔액_할부_유이자_B0M  월중평잔_일시불   월중평잔  RV_최대잔액_R12M  \\\n",
              "0           384        2277              0      5187   5543             0   \n",
              "1             0        1467           3120       865  57180             0   \n",
              "2             0        2496           2853      5591  20641             0   \n",
              "3             0         675              0      1545   2480             0   \n",
              "4             0        1395              0      1462   5644             0   \n",
              "\n",
              "   월중평잔_CA  잔액_할부_B0M  잔액_할부_B1M  \n",
              "0        0          0          0  \n",
              "1     3179       8628       7985  \n",
              "2        0       6144       7805  \n",
              "3        0        945        803  \n",
              "4        0       2558       3888  "
            ]
          },
          "execution_count": 19,
          "metadata": {},
          "output_type": "execute_result"
        }
      ],
      "source": [
        "test = pd.read_parquet('test_잔액정보.parquet')\n",
        "columns_to_select = ['ID'] + selected_features\n",
        "test_selected_with_id = test[columns_to_select]\n",
        "test_selected_with_id.head()"
      ]
    },
    {
      "cell_type": "code",
      "execution_count": 20,
      "metadata": {},
      "outputs": [],
      "source": [
        "test_selected_with_id.to_parquet('test_잔액_sel.parquet')"
      ]
    }
  ],
  "metadata": {
    "colab": {
      "provenance": []
    },
    "kernelspec": {
      "display_name": "Python 3",
      "name": "python3"
    },
    "language_info": {
      "codemirror_mode": {
        "name": "ipython",
        "version": 3
      },
      "file_extension": ".py",
      "mimetype": "text/x-python",
      "name": "python",
      "nbconvert_exporter": "python",
      "pygments_lexer": "ipython3",
      "version": "3.10.11"
    }
  },
  "nbformat": 4,
  "nbformat_minor": 0
}
