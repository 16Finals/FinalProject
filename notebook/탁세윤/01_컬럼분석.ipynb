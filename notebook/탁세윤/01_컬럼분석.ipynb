{
 "cells": [
  {
   "cell_type": "code",
   "execution_count": 2,
   "id": "2fe6b477",
   "metadata": {},
   "outputs": [],
   "source": [
    "# 기본 라이브러리\n",
    "import numpy as np\n",
    "import pandas as pd\n",
    "import matplotlib.pyplot as plt\n",
    "import seaborn as sns\n",
    "\n",
    "sns.set()\n",
    "\n",
    "# 그래프 기본 설정\n",
    "plt.rcParams['font.family'] = 'Malgun Gothic'\n",
    "# plt.rcParams['font.family'] = 'AppleGothic'\n",
    "plt.rcParams['figure.figsize'] = 12, 6\n",
    "plt.rcParams['font.size'] = 14\n",
    "plt.rcParams['axes.unicode_minus'] = False\n",
    "\n",
    "import gc"
   ]
  },
  {
   "cell_type": "markdown",
   "id": "e6c2ddd5",
   "metadata": {},
   "source": [
    "# 1️⃣데이터 로드"
   ]
  },
  {
   "cell_type": "markdown",
   "id": "9a91113c",
   "metadata": {},
   "source": [
    "train"
   ]
  },
  {
   "cell_type": "code",
   "execution_count": 3,
   "id": "423e8b07",
   "metadata": {},
   "outputs": [
    {
     "name": "stdout",
     "output_type": "stream",
     "text": [
      "(2400000, 78)\n"
     ]
    }
   ],
   "source": [
    "# parquet 파일 데이터를 읽어온다.\n",
    "path = 'open/train/1.회원정보/'\n",
    "\n",
    "# 201807부터 201812까지의 데이터 파일을 하나의 데이터프레임에 저장\n",
    "data_dict = {}\n",
    "for i in range(7, 13):\n",
    "    key = f'data{i:02d}'\n",
    "    file_path = f'{path}2018{i:02d}_train_회원정보.parquet'\n",
    "    data_dict[key] = pd.read_parquet(file_path)\n",
    "# 데이터프레임을 하나로 합친다.\n",
    "df = pd.concat(data_dict.values(), ignore_index=True)\n",
    "# 메모리 해제\n",
    "gc.collect()\n",
    "# 데이터프레임 확인\n",
    "print(df.shape)"
   ]
  },
  {
   "cell_type": "markdown",
   "id": "e3081195",
   "metadata": {},
   "source": [
    "test"
   ]
  },
  {
   "cell_type": "code",
   "execution_count": 29,
   "id": "622449d0",
   "metadata": {},
   "outputs": [
    {
     "name": "stdout",
     "output_type": "stream",
     "text": [
      "(600000, 77)\n"
     ]
    }
   ],
   "source": [
    "# parquet 파일 데이터를 읽어온다.\n",
    "path = 'open/test/1.회원정보/'\n",
    "\n",
    "# 201807부터 201812까지의 데이터 파일을 하나의 데이터프레임에 저장\n",
    "data_dict2 = {}\n",
    "for i in range(7, 13):\n",
    "    key = f'data{i:02d}'\n",
    "    file_path = f'{path}2018{i:02d}_test_회원정보.parquet'\n",
    "    data_dict2[key] = pd.read_parquet(file_path)\n",
    "# 데이터프레임을 하나로 합친다.\n",
    "df_test = pd.concat(data_dict2.values(), ignore_index=True)\n",
    "# 메모리 해제\n",
    "gc.collect()\n",
    "# 데이터프레임 확인\n",
    "print(df_test.shape)"
   ]
  },
  {
   "cell_type": "markdown",
   "id": "961e7940",
   "metadata": {},
   "source": [
    "---"
   ]
  },
  {
   "cell_type": "code",
   "execution_count": 4,
   "id": "c749b3ca",
   "metadata": {},
   "outputs": [
    {
     "data": {
      "text/html": [
       "<div>\n",
       "<style scoped>\n",
       "    .dataframe tbody tr th:only-of-type {\n",
       "        vertical-align: middle;\n",
       "    }\n",
       "\n",
       "    .dataframe tbody tr th {\n",
       "        vertical-align: top;\n",
       "    }\n",
       "\n",
       "    .dataframe thead th {\n",
       "        text-align: right;\n",
       "    }\n",
       "</style>\n",
       "<table border=\"1\" class=\"dataframe\">\n",
       "  <thead>\n",
       "    <tr style=\"text-align: right;\">\n",
       "      <th></th>\n",
       "      <th>ID</th>\n",
       "      <th>Segment</th>\n",
       "    </tr>\n",
       "  </thead>\n",
       "  <tbody>\n",
       "    <tr>\n",
       "      <th>0</th>\n",
       "      <td>TRAIN_000000</td>\n",
       "      <td>D</td>\n",
       "    </tr>\n",
       "    <tr>\n",
       "      <th>1</th>\n",
       "      <td>TRAIN_000001</td>\n",
       "      <td>E</td>\n",
       "    </tr>\n",
       "    <tr>\n",
       "      <th>2</th>\n",
       "      <td>TRAIN_000002</td>\n",
       "      <td>C</td>\n",
       "    </tr>\n",
       "    <tr>\n",
       "      <th>3</th>\n",
       "      <td>TRAIN_000003</td>\n",
       "      <td>D</td>\n",
       "    </tr>\n",
       "    <tr>\n",
       "      <th>4</th>\n",
       "      <td>TRAIN_000004</td>\n",
       "      <td>E</td>\n",
       "    </tr>\n",
       "    <tr>\n",
       "      <th>...</th>\n",
       "      <td>...</td>\n",
       "      <td>...</td>\n",
       "    </tr>\n",
       "    <tr>\n",
       "      <th>2399995</th>\n",
       "      <td>TRAIN_399995</td>\n",
       "      <td>E</td>\n",
       "    </tr>\n",
       "    <tr>\n",
       "      <th>2399996</th>\n",
       "      <td>TRAIN_399996</td>\n",
       "      <td>D</td>\n",
       "    </tr>\n",
       "    <tr>\n",
       "      <th>2399997</th>\n",
       "      <td>TRAIN_399997</td>\n",
       "      <td>C</td>\n",
       "    </tr>\n",
       "    <tr>\n",
       "      <th>2399998</th>\n",
       "      <td>TRAIN_399998</td>\n",
       "      <td>E</td>\n",
       "    </tr>\n",
       "    <tr>\n",
       "      <th>2399999</th>\n",
       "      <td>TRAIN_399999</td>\n",
       "      <td>E</td>\n",
       "    </tr>\n",
       "  </tbody>\n",
       "</table>\n",
       "<p>2400000 rows × 2 columns</p>\n",
       "</div>"
      ],
      "text/plain": [
       "                   ID Segment\n",
       "0        TRAIN_000000       D\n",
       "1        TRAIN_000001       E\n",
       "2        TRAIN_000002       C\n",
       "3        TRAIN_000003       D\n",
       "4        TRAIN_000004       E\n",
       "...               ...     ...\n",
       "2399995  TRAIN_399995       E\n",
       "2399996  TRAIN_399996       D\n",
       "2399997  TRAIN_399997       C\n",
       "2399998  TRAIN_399998       E\n",
       "2399999  TRAIN_399999       E\n",
       "\n",
       "[2400000 rows x 2 columns]"
      ]
     },
     "execution_count": 4,
     "metadata": {},
     "output_type": "execute_result"
    }
   ],
   "source": [
    "# segment랑 ID 컬럼만 따로 저장\n",
    "df_segment = df[['ID', 'Segment']].copy()\n",
    "df_segment"
   ]
  },
  {
   "cell_type": "code",
   "execution_count": 5,
   "id": "8106ab1f",
   "metadata": {},
   "outputs": [
    {
     "data": {
      "image/png": "[encoded data removed]",
      "text/plain": [
       "<Figure size 1000x500 with 1 Axes>"
      ]
     },
     "metadata": {},
     "output_type": "display_data"
    }
   ],
   "source": [
    "# Segment 컬럼 시각화\n",
    "# 오름차순 정렬 및 막대그래프 위에 숫자 표시\n",
    "\n",
    "plt.figure(figsize=(10, 5))\n",
    "segment_counts = df_segment['Segment'].value_counts().sort_index()  # 오름차순 정렬\n",
    "\n",
    "bars = plt.bar(segment_counts.index, segment_counts.values, color='skyblue')\n",
    "plt.title('Segment 분포')\n",
    "plt.xlabel('Segment')\n",
    "plt.ylabel('Count')\n",
    "\n",
    "# 막대 위에 숫자 표시\n",
    "for bar in bars:\n",
    "    height = bar.get_height()\n",
    "    plt.text(bar.get_x() + bar.get_width()/2, height, f'{int(height)}', ha='center', va='bottom', fontsize=12)\n",
    "\n",
    "plt.show()"
   ]
  },
  {
   "cell_type": "markdown",
   "id": "cd162b01",
   "metadata": {},
   "source": [
    "# 2️⃣데이터 확인\n",
    "### 💌notion 컬럼 분석 내용\n",
    "1. ~~(8)'소지여부_신용'~~ \n",
    "2. (11)'입회일자_신용' 제거\n",
    "3. (15)'동의여부_한도증액안내' 제거\n",
    "4. (20)'가입통신회사코드' 제거\n",
    "5. (28~32, 33~37)데이터 파악\n",
    "    - 신용체크 컬럼 제거"
   ]
  },
  {
   "cell_type": "code",
   "execution_count": 6,
   "id": "3d2fb43a",
   "metadata": {},
   "outputs": [],
   "source": [
    "# '입회일자_신용' 컬럼 제거\n",
    "df.drop(columns=['입회일자_신용'], inplace=True)"
   ]
  },
  {
   "cell_type": "code",
   "execution_count": 30,
   "id": "c56f9f71",
   "metadata": {},
   "outputs": [],
   "source": [
    "df_test.drop(columns=['입회일자_신용'], inplace=True)"
   ]
  },
  {
   "cell_type": "code",
   "execution_count": 7,
   "id": "d88856fd",
   "metadata": {},
   "outputs": [],
   "source": [
    "# '동의여부_한도증액안내' 컬럼 제거\n",
    "df.drop(columns=['동의여부_한도증액안내'], inplace=True)"
   ]
  },
  {
   "cell_type": "code",
   "execution_count": 31,
   "id": "8d0bdd79",
   "metadata": {},
   "outputs": [],
   "source": [
    "df_test.drop(columns=['동의여부_한도증액안내'], inplace=True)"
   ]
  },
  {
   "cell_type": "code",
   "execution_count": null,
   "id": "e9f27f92",
   "metadata": {},
   "outputs": [],
   "source": [
    "# '가입통신회사코드' 컬럼 제거\n",
    "df.drop(columns=['가입통신회사코드'], inplace=True)"
   ]
  },
  {
   "cell_type": "code",
   "execution_count": 32,
   "id": "6c8f0c16",
   "metadata": {},
   "outputs": [],
   "source": [
    "df_test.drop(columns=['가입통신회사코드'], inplace=True)"
   ]
  },
  {
   "cell_type": "markdown",
   "id": "a3ec0639",
   "metadata": {},
   "source": [
    "|컬럼|내용|\n",
    "|---|---|\n",
    "|유효 카드수|특정 시점에 정상적으로 사용 가능한 카드 수|\n",
    "|이용가능 카드수|실제로 사용하거나 사용 가능한 카드 수|\n",
    "|이용 카드수|유효한 카드 중 사용 정지된 카드는 제외|"
   ]
  },
  {
   "cell_type": "markdown",
   "id": "e6d54099",
   "metadata": {},
   "source": [
    "|컬럼|내용|\n",
    "|---|---|\n",
    "|신용체크|신용카드+체크카드|\n",
    "|신용|본인 명의의 신용카드|\n",
    "|신용_가족|가족 명의로 발급되었지만 본인이 사용하는 신용카드 수|\n",
    "|체크|본인 명의의 체크카드|\n",
    "|체크 _가족|가족 명의로 발급되었지만 본인이 사용하는 체크카드 수|"
   ]
  },
  {
   "cell_type": "code",
   "execution_count": 9,
   "id": "0f5adbab",
   "metadata": {},
   "outputs": [],
   "source": [
    "# 유효 카드수\n",
    "\n",
    "# 신용체크는 신용카드와 체크카드를 합친 것이므로 제거\n",
    "df.drop(columns=['유효카드수_신용체크'], inplace=True)"
   ]
  },
  {
   "cell_type": "code",
   "execution_count": 33,
   "id": "42fc7a27",
   "metadata": {},
   "outputs": [],
   "source": [
    "df_test.drop(columns=['유효카드수_신용체크'], inplace=True)"
   ]
  },
  {
   "cell_type": "code",
   "execution_count": 10,
   "id": "c38bba83",
   "metadata": {},
   "outputs": [],
   "source": [
    "# 이용가능카드수\n",
    "\n",
    "df.drop(columns=['이용가능카드수_신용체크'], inplace=True)"
   ]
  },
  {
   "cell_type": "code",
   "execution_count": 34,
   "id": "e0b709f4",
   "metadata": {},
   "outputs": [],
   "source": [
    "df_test.drop(columns=['이용가능카드수_신용체크'], inplace=True)"
   ]
  },
  {
   "cell_type": "code",
   "execution_count": 11,
   "id": "2dac098e",
   "metadata": {},
   "outputs": [],
   "source": [
    "# 이용카드수\n",
    "\n",
    "# 이용카드수_체크_가족은 전부 0이므로 제거? 혹은 비교를 위해 냅둬?? \n",
    "df.drop(columns=['이용카드수_신용체크'], inplace=True)"
   ]
  },
  {
   "cell_type": "code",
   "execution_count": 35,
   "id": "6593ed23",
   "metadata": {},
   "outputs": [],
   "source": [
    "df_test.drop(columns=['이용카드수_신용체크'], inplace=True)"
   ]
  },
  {
   "cell_type": "code",
   "execution_count": 12,
   "id": "b48b72d0",
   "metadata": {},
   "outputs": [],
   "source": [
    "# 이용금액\n",
    "\n",
    "df.drop(columns=['이용금액_R3M_신용체크'], inplace=True)"
   ]
  },
  {
   "cell_type": "code",
   "execution_count": 36,
   "id": "2f23c5d9",
   "metadata": {},
   "outputs": [],
   "source": [
    "df_test.drop(columns=['이용금액_R3M_신용체크'], inplace=True)"
   ]
  },
  {
   "cell_type": "code",
   "execution_count": 13,
   "id": "262cfce4",
   "metadata": {},
   "outputs": [],
   "source": [
    "# 청구금액_기본연회비, 청구금액_제휴연회비 제거\n",
    "# 기본연회비, 제휴연회비와 같은 컬럼임\n",
    "df.drop(columns=['청구금액_기본연회비_B0M'], inplace=True)\n",
    "df.drop(columns=['청구금액_제휴연회비_B0M'], inplace=True)"
   ]
  },
  {
   "cell_type": "code",
   "execution_count": 37,
   "id": "a2b1fd1d",
   "metadata": {},
   "outputs": [],
   "source": [
    "df_test.drop(columns=['청구금액_기본연회비_B0M'], inplace=True)\n",
    "df_test.drop(columns=['청구금액_제휴연회비_B0M'], inplace=True)"
   ]
  },
  {
   "cell_type": "code",
   "execution_count": 14,
   "id": "22684261",
   "metadata": {},
   "outputs": [
    {
     "name": "stdout",
     "output_type": "stream",
     "text": [
      "값이 하나인 컬럼: ['이용카드수_체크_가족', '이용금액_R3M_체크_가족', '연회비할인카드수_B0M', '할인금액_기본연회비_B0M', '할인금액_제휴연회비_B0M', '상품관련면제카드수_B0M', '임직원면제카드수_B0M', '우수회원면제카드수_B0M', '기타면제카드수_B0M']\n"
     ]
    }
   ],
   "source": [
    "# 데이터프레임 df에서 값이 하나(즉, 모든 값이 동일)인 컬럼 찾기\n",
    "unique_one_cols = [col for col in df.columns if df[col].nunique() == 1]\n",
    "print(\"값이 하나인 컬럼:\", unique_one_cols)"
   ]
  },
  {
   "cell_type": "code",
   "execution_count": 15,
   "id": "7e95a8ca",
   "metadata": {},
   "outputs": [],
   "source": [
    "# 데이터 값이 하나인 컬럼 제거\n",
    "df.drop(columns=unique_one_cols, inplace=True)"
   ]
  },
  {
   "cell_type": "code",
   "execution_count": 38,
   "id": "1ebb3c5c",
   "metadata": {},
   "outputs": [],
   "source": [
    "df_test.drop(columns=unique_one_cols, inplace=True)"
   ]
  },
  {
   "cell_type": "code",
   "execution_count": 20,
   "id": "db21ac92",
   "metadata": {},
   "outputs": [],
   "source": [
    "df.drop(columns=['최종유효년월_신용_이용가능'], inplace=True)\n",
    "df.drop(columns=['최종유효년월_신용_이용'], inplace=True)\n",
    "df.drop(columns=['최종카드발급일자'], inplace=True)"
   ]
  },
  {
   "cell_type": "code",
   "execution_count": 39,
   "id": "8f3cab3a",
   "metadata": {},
   "outputs": [],
   "source": [
    "df_test.drop(columns=['최종유효년월_신용_이용가능'], inplace=True)\n",
    "df_test.drop(columns=['최종유효년월_신용_이용'], inplace=True)\n",
    "df_test.drop(columns=['최종카드발급일자'], inplace=True)"
   ]
  },
  {
   "cell_type": "markdown",
   "id": "b9fa5cb3",
   "metadata": {},
   "source": [
    "# 3️⃣데이터 처리\n"
   ]
  },
  {
   "cell_type": "code",
   "execution_count": 16,
   "id": "da37b294",
   "metadata": {},
   "outputs": [
    {
     "name": "stdout",
     "output_type": "stream",
     "text": [
      "결측치가 있는 컬럼:\n",
      "직장시도명             244969\n",
      "_1순위신용체크구분         27950\n",
      "_2순위신용체크구분        958115\n",
      "최종유효년월_신용_이용가능    210447\n",
      "최종유효년월_신용_이용      534231\n",
      "최종카드발급일자           41965\n",
      "dtype: int64\n"
     ]
    }
   ],
   "source": [
    "# 데이터프레임 df의 모든 컬럼에서 결측치 확인\n",
    "missing_values = df.isnull().sum()\n",
    "if missing_values.any():\n",
    "    print(\"결측치가 있는 컬럼:\")\n",
    "    print(missing_values[missing_values > 0])"
   ]
  },
  {
   "cell_type": "code",
   "execution_count": 40,
   "id": "16a0909f",
   "metadata": {},
   "outputs": [
    {
     "name": "stdout",
     "output_type": "stream",
     "text": [
      "결측치가 있는 컬럼:\n",
      "직장시도명          62233\n",
      "_1순위신용체크구분      7231\n",
      "_2순위신용체크구분    239888\n",
      "dtype: int64\n"
     ]
    }
   ],
   "source": [
    "# 데이터프레임 df의 모든 컬럼에서 결측치 확인\n",
    "missing_values = df_test.isnull().sum()\n",
    "if missing_values.any():\n",
    "    print(\"결측치가 있는 컬럼:\")\n",
    "    print(missing_values[missing_values > 0])"
   ]
  },
  {
   "cell_type": "code",
   "execution_count": 17,
   "id": "4742c840",
   "metadata": {},
   "outputs": [
    {
     "data": {
      "text/plain": [
       "직장시도명\n",
       "경기    598244\n",
       "서울    576618\n",
       "기타    244969\n",
       "인천    146944\n",
       "부산    131285\n",
       "대전    120697\n",
       "충북    103951\n",
       "경남     94527\n",
       "경북     82975\n",
       "대구     76605\n",
       "울산     66275\n",
       "전남     52849\n",
       "광주     34100\n",
       "충남     28361\n",
       "전북     20442\n",
       "강원     15485\n",
       "세종      3117\n",
       "제주      2556\n",
       "Name: count, dtype: int64"
      ]
     },
     "execution_count": 17,
     "metadata": {},
     "output_type": "execute_result"
    }
   ],
   "source": [
    "# 직장시도명 확인\n",
    "# df['직장시도명'].value_counts(dropna=False)\n",
    "\n",
    "# 결측치는 '기타'로 채움\n",
    "df['직장시도명'].fillna('기타', inplace=True)\n",
    "df['직장시도명'].value_counts()"
   ]
  },
  {
   "cell_type": "code",
   "execution_count": 41,
   "id": "a574d1fc",
   "metadata": {},
   "outputs": [
    {
     "data": {
      "text/plain": [
       "직장시도명\n",
       "경기    149122\n",
       "서울    144290\n",
       "기타     62233\n",
       "인천     36173\n",
       "부산     33477\n",
       "대전     30201\n",
       "충북     25862\n",
       "경남     23039\n",
       "경북     21206\n",
       "대구     18986\n",
       "울산     16182\n",
       "전남     13182\n",
       "광주      8709\n",
       "충남      6966\n",
       "전북      5160\n",
       "강원      3773\n",
       "세종       778\n",
       "제주       661\n",
       "Name: count, dtype: int64"
      ]
     },
     "execution_count": 41,
     "metadata": {},
     "output_type": "execute_result"
    }
   ],
   "source": [
    "df_test['직장시도명'].fillna('기타', inplace=True)\n",
    "df_test['직장시도명'].value_counts()"
   ]
  },
  {
   "cell_type": "markdown",
   "id": "10393e31",
   "metadata": {},
   "source": [
    "- 카드를 잘 사용하지 않는 사람인 경우?\n",
    "    - 기타로 결측치 처리\n",
    "    - 연령에 10대는 없음"
   ]
  },
  {
   "cell_type": "code",
   "execution_count": 18,
   "id": "fc51ff31",
   "metadata": {},
   "outputs": [
    {
     "data": {
      "text/plain": [
       "_1순위신용체크구분\n",
       "신용    2295461\n",
       "체크      76589\n",
       "기타      27950\n",
       "Name: count, dtype: int64"
      ]
     },
     "execution_count": 18,
     "metadata": {},
     "output_type": "execute_result"
    }
   ],
   "source": [
    "# _1순위신용체크구분 \n",
    "# df['_1순위신용체크구분'].value_counts(dropna=False)\n",
    "\n",
    "# 결측치는 '기타'로 채움\n",
    "df['_1순위신용체크구분'].fillna('기타', inplace=True)\n",
    "df['_1순위신용체크구분'].value_counts()"
   ]
  },
  {
   "cell_type": "code",
   "execution_count": 42,
   "id": "015d1a29",
   "metadata": {},
   "outputs": [],
   "source": [
    "df_test['_1순위신용체크구분'].fillna('기타', inplace=True)"
   ]
  },
  {
   "cell_type": "code",
   "execution_count": 19,
   "id": "334c63db",
   "metadata": {},
   "outputs": [
    {
     "data": {
      "text/plain": [
       "_2순위신용체크구분\n",
       "기타    958115\n",
       "신용    873447\n",
       "체크    568438\n",
       "Name: count, dtype: int64"
      ]
     },
     "execution_count": 19,
     "metadata": {},
     "output_type": "execute_result"
    }
   ],
   "source": [
    "# _2순위신용체크구분\n",
    "df['_2순위신용체크구분'].value_counts(dropna=False)\n",
    "\n",
    "# 결측치는 '기타'로 채움\n",
    "df['_2순위신용체크구분'].fillna('기타', inplace=True)\n",
    "df['_2순위신용체크구분'].value_counts()"
   ]
  },
  {
   "cell_type": "code",
   "execution_count": 43,
   "id": "21fe438f",
   "metadata": {},
   "outputs": [],
   "source": [
    "df_test['_2순위신용체크구분'].fillna('기타', inplace=True)"
   ]
  },
  {
   "cell_type": "code",
   "execution_count": 22,
   "id": "5519573c",
   "metadata": {},
   "outputs": [
    {
     "data": {
      "text/plain": [
       "57"
      ]
     },
     "execution_count": 22,
     "metadata": {},
     "output_type": "execute_result"
    }
   ],
   "source": [
    "len(df.columns)"
   ]
  },
  {
   "cell_type": "code",
   "execution_count": 44,
   "id": "c4378a34",
   "metadata": {},
   "outputs": [
    {
     "data": {
      "text/plain": [
       "56"
      ]
     },
     "execution_count": 44,
     "metadata": {},
     "output_type": "execute_result"
    }
   ],
   "source": [
    "len(df_test.columns)"
   ]
  },
  {
   "cell_type": "markdown",
   "id": "e18688bd",
   "metadata": {},
   "source": [
    "# 4️⃣데이터 저장"
   ]
  },
  {
   "cell_type": "code",
   "execution_count": 1,
   "id": "f4567074",
   "metadata": {},
   "outputs": [
    {
     "ename": "ZeroDivisionError",
     "evalue": "division by zero",
     "output_type": "error",
     "traceback": [
      "\u001b[1;31m---------------------------------------------------------------------------\u001b[0m",
      "\u001b[1;31mZeroDivisionError\u001b[0m                         Traceback (most recent call last)",
      "Cell \u001b[1;32mIn[1], line 1\u001b[0m\n\u001b[1;32m----> 1\u001b[0m \u001b[38;5;241;43m1001\u001b[39;49m\u001b[38;5;241;43m/\u001b[39;49m\u001b[38;5;241;43m0\u001b[39;49m\n",
      "\u001b[1;31mZeroDivisionError\u001b[0m: division by zero"
     ]
    }
   ],
   "source": [
    "1001/0"
   ]
  },
  {
   "cell_type": "code",
   "execution_count": null,
   "id": "a249bbaf",
   "metadata": {},
   "outputs": [],
   "source": [
    "# df_segment를 parquet파일로 저장\n",
    "df_segment.to_parquet('train_회원정보_segment.parquet', index=False)"
   ]
  },
  {
   "cell_type": "code",
   "execution_count": 45,
   "id": "e07ff3fa",
   "metadata": {},
   "outputs": [],
   "source": [
    "df_test.to_parquet('test_회원정보.parquet', index=False)"
   ]
  },
  {
   "cell_type": "code",
   "execution_count": null,
   "id": "350deb7f",
   "metadata": {},
   "outputs": [],
   "source": [
    "# df를 parquet파일로 저장 => segment 존재\n",
    "df.to_parquet('train_회원정보.parquet', index=False)"
   ]
  },
  {
   "cell_type": "code",
   "execution_count": null,
   "id": "c5cd6b41",
   "metadata": {},
   "outputs": [],
   "source": [
    "print(\"회원정보 데이터프레임을 parquet 파일로 저장 완료\")"
   ]
  }
 ],
 "metadata": {
  "kernelspec": {
   "display_name": "Python 3",
   "language": "python",
   "name": "python3"
  },
  "language_info": {
   "codemirror_mode": {
    "name": "ipython",
    "version": 3
   },
   "file_extension": ".py",
   "mimetype": "text/x-python",
   "name": "python",
   "nbconvert_exporter": "python",
   "pygments_lexer": "ipython3",
   "version": "3.10.11"
  }
 },
 "nbformat": 4,
 "nbformat_minor": 5
}
