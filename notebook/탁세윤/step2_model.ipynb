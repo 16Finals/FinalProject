{
  "cells": [
    {
      "cell_type": "code",
      "execution_count": null,
      "metadata": {
        "colab": {
          "base_uri": "https://localhost:8080/"
        },
        "id": "wRe1Als2u3vy",
        "outputId": "dfae2d76-929c-4e31-fc46-8e85b6bb4880"
      },
      "outputs": [],
      "source": [
        "# 기본 라이브러리\n",
        "import pandas as pd\n",
        "import numpy as np\n",
        "import optuna\n",
        "import matplotlib.pyplot as plt\n",
        "import seaborn as sns\n",
        "import gc\n",
        "\n",
        "from sklearn.model_selection import train_test_split\n",
        "from sklearn.preprocessing import LabelEncoder, StandardScaler\n",
        "from sklearn.metrics import classification_report, confusion_matrix, f1_score, log_loss, accuracy_score, roc_auc_score\n",
        "from sklearn.model_selection import train_test_split\n",
        "from sklearn.model_selection import StratifiedKFold, cross_val_score\n",
        "\n",
        "from catboost import CatBoostClassifier\n",
        "\n",
        "sns.set()\n",
        "\n",
        "# 그래프 기본 설정\n",
        "plt.rcParams['font.family'] = 'Malgun Gothic'\n",
        "plt.rcParams['figure.figsize'] = 12, 6\n",
        "plt.rcParams['font.size'] = 14\n",
        "plt.rcParams['axes.unicode_minus'] = False"
      ]
    },
    {
      "cell_type": "markdown",
      "metadata": {},
      "source": [
        "# 데이터 준비"
      ]
    },
    {
      "cell_type": "code",
      "execution_count": 46,
      "metadata": {
        "colab": {
          "base_uri": "https://localhost:8080/",
          "height": 482
        },
        "id": "e29orIE311aW",
        "outputId": "0ac0f1b3-75c1-482a-d3e2-958bcb1f4a25"
      },
      "outputs": [],
      "source": [
        "# 데이터 불러오기\n",
        "X_df = pd.read_parquet('train_all.parquet')\n",
        "y_df = pd.read_parquet('segment_12.parquet')"
      ]
    },
    {
      "cell_type": "code",
      "execution_count": 47,
      "metadata": {
        "id": "cRlpFD5S3Opj"
      },
      "outputs": [],
      "source": [
        "# 타겟 변수와 피처 나누기\n",
        "X = X_df.drop(columns=['기준년월','ID'])\n",
        "y = y_df['Segment']\n",
        "# 6배 복제\n",
        "y = pd.concat([y] * 6, ignore_index=True)"
      ]
    },
    {
      "cell_type": "code",
      "execution_count": 50,
      "metadata": {},
      "outputs": [
        {
          "data": {
            "text/plain": [
              "500"
            ]
          },
          "execution_count": 50,
          "metadata": {},
          "output_type": "execute_result"
        }
      ],
      "source": [
        "del X_df, y_df\n",
        "gc.collect()"
      ]
    },
    {
      "cell_type": "code",
      "execution_count": 51,
      "metadata": {},
      "outputs": [],
      "source": [
        "X = X.reset_index(drop=True)\n",
        "y = y.reset_index(drop=True)"
      ]
    },
    {
      "cell_type": "code",
      "execution_count": 52,
      "metadata": {},
      "outputs": [
        {
          "data": {
            "text/plain": [
              "0          False\n",
              "1           True\n",
              "2          False\n",
              "3          False\n",
              "4           True\n",
              "           ...  \n",
              "2399995     True\n",
              "2399996    False\n",
              "2399997    False\n",
              "2399998     True\n",
              "2399999     True\n",
              "Name: Segment, Length: 2400000, dtype: bool"
            ]
          },
          "execution_count": 52,
          "metadata": {},
          "output_type": "execute_result"
        }
      ],
      "source": [
        "# y가 'E'인 것의 인덱스\n",
        "e_indices = y == 'E'\n",
        "\n",
        "e_indices"
      ]
    },
    {
      "cell_type": "code",
      "execution_count": 53,
      "metadata": {},
      "outputs": [],
      "source": [
        "# 'E'를 제거한 나머지를 새로운 변수에 저장\n",
        "X = X[e_indices == False]\n",
        "y = y[e_indices == False]"
      ]
    },
    {
      "cell_type": "code",
      "execution_count": 56,
      "metadata": {
        "id": "ye9xmYRJ3RMe"
      },
      "outputs": [],
      "source": [
        "# Label Encoder\n",
        "from sklearn.preprocessing import LabelEncoder\n",
        "\n",
        "# 타겟 값 y 인코딩\n",
        "le_y = LabelEncoder()\n",
        "y = le_y.fit_transform(y)\n",
        "\n",
        "# 타겟 값 X 인코딩 => 이미 인코딩되어 있는 값이 아닌가?\n",
        "# cat_cols = X.select_dtypes(include='object').columns\n",
        "# le = LabelEncoder()\n",
        "# for col in cat_cols:\n",
        "#     X[col] = le.fit_transform(X[col].astype(str))"
      ]
    },
    {
      "cell_type": "code",
      "execution_count": 10,
      "metadata": {},
      "outputs": [],
      "source": [
        "# # 인코더 저장\n",
        "# import pickle\n",
        "\n",
        "# with open('d_encoder.dat', 'wb') as fp:\n",
        "#     pickle.dump(le_y, fp)\n"
      ]
    },
    {
      "cell_type": "code",
      "execution_count": 58,
      "metadata": {
        "id": "RaJsgokW3wt-"
      },
      "outputs": [],
      "source": [
        "# 데이터 분할\n",
        "X_train, X_val, y_train, y_val = train_test_split(X, y, test_size=0.2, stratify=y, random_state=42)\n",
        "\n",
        "# 스케일링\n",
        "scaler = StandardScaler()\n",
        "X_train_scaled = scaler.fit_transform(X_train)\n",
        "X_val_scaled = scaler.transform(X_val)"
      ]
    },
    {
      "cell_type": "code",
      "execution_count": 12,
      "metadata": {},
      "outputs": [],
      "source": [
        "# # 스케일러 저장\n",
        "# import pickle\n",
        "\n",
        "# with open('d_scaler.dat', 'wb') as fp:\n",
        "#     pickle.dump(scaler, fp)\n"
      ]
    },
    {
      "cell_type": "markdown",
      "metadata": {
        "id": "cDAZ0roNp-4o"
      },
      "source": [
        "|**변수**|**내용**|\n",
        "|---|---|\n",
        "|X, y|병합 및 인코딩된 전체 데이터셋|\n",
        "|le_y|y(LabelEncoder 객체)|\n",
        "|X_train_scaled, X_val_scaled, y_train, y_val|스케일링된 train/val 데이터셋|"
      ]
    },
    {
      "cell_type": "markdown",
      "metadata": {
        "id": "WO5jCqQ0q5vb"
      },
      "source": [
        "# E가 아닌 것 中 Segment 'D' vs 나머지"
      ]
    },
    {
      "cell_type": "code",
      "execution_count": 59,
      "metadata": {},
      "outputs": [],
      "source": [
        "y_train_d = np.where(y_train == 3, 1, 0)\n",
        "y_val_d = np.where(y_val == 3, 1, 0)"
      ]
    },
    {
      "cell_type": "code",
      "execution_count": 14,
      "metadata": {},
      "outputs": [],
      "source": [
        "# 교차검증 설정(kfold)\n",
        "skf2 = StratifiedKFold(n_splits=5, shuffle=True, random_state=42)"
      ]
    },
    {
      "cell_type": "markdown",
      "metadata": {},
      "source": [
        "- catboost"
      ]
    },
    {
      "cell_type": "code",
      "execution_count": null,
      "metadata": {},
      "outputs": [],
      "source": [
        "def objective_step2_c(trial):\n",
        "    params = {\n",
        "        'learning_rate': trial.suggest_float('learning_rate', 0.01, 0.3),\n",
        "        'depth': trial.suggest_int('depth', 3, 12),\n",
        "        'iterations': trial.suggest_int('iterations', 100, 800, step=100),\n",
        "        'subsample': trial.suggest_float('subsample', 0.5, 1.0),\n",
        "        'l2_leaf_reg': trial.suggest_float('l2_leaf_reg', 1.0, 10.0),\n",
        "        'bagging_temperature': trial.suggest_float('bagging_temperature', 0.0, 1.0),\n",
        "        'random_strength': trial.suggest_float('random_strength', 1e-9, 10.0, log=True),\n",
        "        'rsm': trial.suggest_float('rsm', 0.5, 1.0),\n",
        "        'leaf_estimation_iterations': trial.suggest_int('leaf_estimation_iterations', 1, 10),\n",
        "        'loss_function': 'Logloss',    \n",
        "        'verbose': 0,\n",
        "        'random_state': 42\n",
        "    }\n",
        "\n",
        "    model_cat = CatBoostClassifier(**params)\n",
        "    scores = cross_val_score(model_cat, X_train_scaled, y_train_d, cv=skf2, scoring='f1', error_score='raise')\n",
        "    return scores.mean()"
      ]
    },
    {
      "cell_type": "code",
      "execution_count": 16,
      "metadata": {},
      "outputs": [
        {
          "name": "stderr",
          "output_type": "stream",
          "text": [
            "[I 2025-07-11 11:43:02,394] A new study created in memory with name: no-name-79e146a9-2f9b-42a0-9edd-68fa29ed6ff6\n"
          ]
        },
        {
          "name": "stderr",
          "output_type": "stream",
          "text": [
            "[I 2025-07-11 11:44:36,917] Trial 0 finished with value: 0.8980676804895898 and parameters: {'learning_rate': 0.28314481687107873, 'depth': 5, 'iterations': 100, 'subsample': 0.8531344301565364, 'l2_leaf_reg': 7.48896621054211, 'bagging_temperature': 0.5537237759998361, 'random_strength': 9.763406531468368, 'rsm': 0.5894248857179345, 'leaf_estimation_iterations': 10}. Best is trial 0 with value: 0.8980676804895898.\n",
            "[I 2025-07-11 11:46:02,282] Trial 1 finished with value: 0.9007652561493685 and parameters: {'learning_rate': 0.12911163390660862, 'depth': 5, 'iterations': 200, 'subsample': 0.5916703187479357, 'l2_leaf_reg': 8.606491442618916, 'bagging_temperature': 0.6634754260522897, 'random_strength': 1.7434861923778218e-09, 'rsm': 0.6913624979360065, 'leaf_estimation_iterations': 4}. Best is trial 1 with value: 0.9007652561493685.\n",
            "[I 2025-07-11 11:57:57,994] Trial 2 finished with value: 0.8988283735445529 and parameters: {'learning_rate': 0.050396196745816614, 'depth': 10, 'iterations': 200, 'subsample': 0.6081809226679281, 'l2_leaf_reg': 6.210705189335701, 'bagging_temperature': 0.8782124594129731, 'random_strength': 5.499001387005643e-07, 'rsm': 0.8974987548536884, 'leaf_estimation_iterations': 3}. Best is trial 1 with value: 0.9007652561493685.\n",
            "[I 2025-07-11 12:18:33,832] Trial 3 finished with value: 0.9006180838391815 and parameters: {'learning_rate': 0.022117644864753955, 'depth': 9, 'iterations': 600, 'subsample': 0.9443281445953091, 'l2_leaf_reg': 3.52569506140848, 'bagging_temperature': 0.8227596769320593, 'random_strength': 7.987581704533433e-05, 'rsm': 0.9214569710716753, 'leaf_estimation_iterations': 8}. Best is trial 1 with value: 0.9007652561493685.\n",
            "[I 2025-07-11 13:25:22,296] Trial 4 finished with value: 0.9032415730642039 and parameters: {'learning_rate': 0.1654622146736732, 'depth': 11, 'iterations': 700, 'subsample': 0.9972016598198805, 'l2_leaf_reg': 1.3706537233332219, 'bagging_temperature': 0.979203223385474, 'random_strength': 7.359021191446252e-07, 'rsm': 0.6624928873290061, 'leaf_estimation_iterations': 6}. Best is trial 4 with value: 0.9032415730642039.\n",
            "[I 2025-07-11 13:38:41,617] Trial 5 finished with value: 0.9023851014746972 and parameters: {'learning_rate': 0.0838044749261179, 'depth': 10, 'iterations': 300, 'subsample': 0.5144894641652298, 'l2_leaf_reg': 5.4271314562954736, 'bagging_temperature': 0.629582007263934, 'random_strength': 1.2722600670786898e-08, 'rsm': 0.5410224028477826, 'leaf_estimation_iterations': 10}. Best is trial 4 with value: 0.9032415730642039.\n",
            "[I 2025-07-11 13:43:18,005] Trial 6 finished with value: 0.9062432003092182 and parameters: {'learning_rate': 0.21347386976493082, 'depth': 5, 'iterations': 500, 'subsample': 0.8766512160531936, 'l2_leaf_reg': 7.835716579582303, 'bagging_temperature': 0.9937825152511781, 'random_strength': 7.50462916711984e-08, 'rsm': 0.7967305528882438, 'leaf_estimation_iterations': 8}. Best is trial 6 with value: 0.9062432003092182.\n",
            "[I 2025-07-11 14:19:23,617] Trial 7 finished with value: 0.900373423507989 and parameters: {'learning_rate': 0.09498961028105571, 'depth': 12, 'iterations': 200, 'subsample': 0.8414685238269002, 'l2_leaf_reg': 3.0645607755921738, 'bagging_temperature': 0.19134860092595918, 'random_strength': 2.7174545112459826e-09, 'rsm': 0.7396713915366133, 'leaf_estimation_iterations': 5}. Best is trial 6 with value: 0.9062432003092182.\n",
            "[I 2025-07-11 14:36:04,795] Trial 8 finished with value: 0.8969386189545606 and parameters: {'learning_rate': 0.06515825853304959, 'depth': 12, 'iterations': 100, 'subsample': 0.8866553238246107, 'l2_leaf_reg': 4.477804262891375, 'bagging_temperature': 0.6007457281736548, 'random_strength': 0.004662880799413473, 'rsm': 0.6494197125070442, 'leaf_estimation_iterations': 9}. Best is trial 6 with value: 0.9062432003092182.\n",
            "[I 2025-07-11 14:38:35,316] Trial 9 finished with value: 0.9031440819576989 and parameters: {'learning_rate': 0.23633614236099032, 'depth': 3, 'iterations': 400, 'subsample': 0.8547426962100233, 'l2_leaf_reg': 7.219180324839359, 'bagging_temperature': 0.5973609090504471, 'random_strength': 8.869004451960726e-08, 'rsm': 0.8964083860317409, 'leaf_estimation_iterations': 10}. Best is trial 6 with value: 0.9062432003092182.\n"
          ]
        }
      ],
      "source": [
        "study_c = optuna.create_study(direction='maximize')\n",
        "study_c.optimize(objective_step2_c, n_trials=10)"
      ]
    },
    {
      "cell_type": "code",
      "execution_count": null,
      "metadata": {},
      "outputs": [],
      "source": [
        "# 최적 파라미터로 모델 학습\n",
        "best_params_cat = study_c.best_params\n",
        "model_cat_best = CatBoostClassifier(**best_params_cat,  random_state=42, verbose=100)\n",
        "model_cat_best.fit(X_train_scaled, y_train_d)"
      ]
    },
    {
      "cell_type": "code",
      "execution_count": 61,
      "metadata": {},
      "outputs": [],
      "source": [
        "# 예측\n",
        "pred_step2_c = model_cat_best.predict(X_val_scaled)"
      ]
    },
    {
      "cell_type": "code",
      "execution_count": 62,
      "metadata": {},
      "outputs": [
        {
          "name": "stdout",
          "output_type": "stream",
          "text": [
            "Accuracy: 0.8804372842347525\n",
            "F1 Score (macro): 0.8398704103007986\n",
            "Confusion Matrix:\n",
            "[[18024  7717]\n",
            " [ 3712 66137]]\n",
            "\n",
            "Classification Report:\n",
            "              precision    recall  f1-score   support\n",
            "\n",
            "           0       0.83      0.70      0.76     25741\n",
            "           1       0.90      0.95      0.92     69849\n",
            "\n",
            "    accuracy                           0.88     95590\n",
            "   macro avg       0.86      0.82      0.84     95590\n",
            "weighted avg       0.88      0.88      0.88     95590\n",
            "\n"
          ]
        }
      ],
      "source": [
        "# 정확도\n",
        "accc = accuracy_score(y_val_d, pred_step2_c)\n",
        "print(\"Accuracy:\", accc)\n",
        "\n",
        "# F1-score (macro 평균 사용: 클래스 불균형에 강함)\n",
        "f1c = f1_score(y_val_d, pred_step2_c, average='macro')\n",
        "print(\"F1 Score (macro):\", f1c)\n",
        "\n",
        "# Confusion matrix\n",
        "cmc = confusion_matrix(y_val_d, pred_step2_c)\n",
        "print(\"Confusion Matrix:\")\n",
        "print(cmc)\n",
        "\n",
        "# 상세 보고서\n",
        "print(\"\\nClassification Report:\")\n",
        "print(classification_report(y_val_d, pred_step2_c))"
      ]
    },
    {
      "cell_type": "code",
      "execution_count": null,
      "metadata": {},
      "outputs": [],
      "source": [
        "# import pickle\n",
        "# with open('step2_model.dat', 'wb') as fp:\n",
        "#     pickle.dump(model_cat_best, fp)"
      ]
    }
  ],
  "metadata": {
    "colab": {
      "provenance": []
    },
    "kernelspec": {
      "display_name": "Python 3",
      "name": "python3"
    },
    "language_info": {
      "codemirror_mode": {
        "name": "ipython",
        "version": 3
      },
      "file_extension": ".py",
      "mimetype": "text/x-python",
      "name": "python",
      "nbconvert_exporter": "python",
      "pygments_lexer": "ipython3",
      "version": "3.10.11"
    }
  },
  "nbformat": 4,
  "nbformat_minor": 0
}
