{
 "cells": [
  {
   "cell_type": "code",
   "execution_count": 1,
   "id": "765b8d9d",
   "metadata": {},
   "outputs": [],
   "source": [
    "# 기본 라이브러리\n",
    "import numpy as np\n",
    "import pandas as pd\n",
    "import matplotlib.pyplot as plt\n",
    "import seaborn as sns\n",
    "\n",
    "sns.set()\n",
    "\n",
    "# 그래프 기본 설정\n",
    "plt.rcParams['font.family'] = 'Malgun Gothic'\n",
    "plt.rcParams['figure.figsize'] = 12, 6\n",
    "plt.rcParams['font.size'] = 14\n",
    "plt.rcParams['axes.unicode_minus'] = False\n",
    "\n",
    "import gc"
   ]
  },
  {
   "cell_type": "markdown",
   "id": "6bcac72f",
   "metadata": {},
   "source": [
    "# 1️⃣data load\n"
   ]
  },
  {
   "cell_type": "markdown",
   "id": "7024daa8",
   "metadata": {},
   "source": [
    "- train"
   ]
  },
  {
   "cell_type": "code",
   "execution_count": 2,
   "id": "90f016ad",
   "metadata": {},
   "outputs": [
    {
     "name": "stdout",
     "output_type": "stream",
     "text": [
      "(2400000, 82)\n"
     ]
    }
   ],
   "source": [
    "# parquet 파일 데이터를 읽어온다.\n",
    "path = 'open/train/5.잔액정보/'\n",
    "\n",
    "# 201807부터 201812까지의 데이터 파일을 하나의 데이터프레임에 저장\n",
    "data_dict_train = {}\n",
    "for i in range(7, 13):\n",
    "    key = f'data{i:02d}'\n",
    "    file_path = f'{path}2018{i:02d}_train_잔액정보.parquet'\n",
    "    data_dict_train[key] = pd.read_parquet(file_path)\n",
    "# 데이터프레임을 하나로 합친다.\n",
    "df_train = pd.concat(data_dict_train.values(), ignore_index=True)\n",
    "# 메모리 해제\n",
    "gc.collect()\n",
    "# 데이터프레임 확인\n",
    "print(df_train.shape)"
   ]
  },
  {
   "cell_type": "markdown",
   "id": "abaedc0a",
   "metadata": {},
   "source": [
    "- test"
   ]
  },
  {
   "cell_type": "code",
   "execution_count": 3,
   "id": "79877ebd",
   "metadata": {},
   "outputs": [
    {
     "name": "stdout",
     "output_type": "stream",
     "text": [
      "(600000, 82)\n"
     ]
    }
   ],
   "source": [
    "# parquet 파일 데이터를 읽어온다.\n",
    "path = 'open/test/5.잔액정보/'\n",
    "\n",
    "# 201807부터 201812까지의 데이터 파일을 하나의 데이터프레임에 저장\n",
    "data_dict_test = {}\n",
    "for i in range(7, 13):\n",
    "    key = f'data{i:02d}'\n",
    "    file_path = f'{path}2018{i:02d}_test_잔액정보.parquet'\n",
    "    data_dict_test[key] = pd.read_parquet(file_path)\n",
    "# 데이터프레임을 하나로 합친다.\n",
    "df_test = pd.concat(data_dict_test.values(), ignore_index=True)\n",
    "# 메모리 해제\n",
    "gc.collect()\n",
    "# 데이터프레임 확인\n",
    "print(df_test.shape)"
   ]
  },
  {
   "cell_type": "code",
   "execution_count": 4,
   "id": "b3c2d23c",
   "metadata": {},
   "outputs": [
    {
     "data": {
      "text/html": [
       "<div>\n",
       "<style scoped>\n",
       "    .dataframe tbody tr th:only-of-type {\n",
       "        vertical-align: middle;\n",
       "    }\n",
       "\n",
       "    .dataframe tbody tr th {\n",
       "        vertical-align: top;\n",
       "    }\n",
       "\n",
       "    .dataframe thead th {\n",
       "        text-align: right;\n",
       "    }\n",
       "</style>\n",
       "<table border=\"1\" class=\"dataframe\">\n",
       "  <thead>\n",
       "    <tr style=\"text-align: right;\">\n",
       "      <th></th>\n",
       "      <th>기준년월</th>\n",
       "      <th>ID</th>\n",
       "      <th>잔액_일시불_B0M</th>\n",
       "      <th>잔액_할부_B0M</th>\n",
       "      <th>잔액_현금서비스_B0M</th>\n",
       "      <th>잔액_리볼빙일시불이월_B0M</th>\n",
       "      <th>잔액_리볼빙CA이월_B0M</th>\n",
       "      <th>잔액_카드론_B0M</th>\n",
       "      <th>월중평잔_일시불_B0M</th>\n",
       "      <th>월중평잔_할부_B0M</th>\n",
       "      <th>...</th>\n",
       "      <th>평잔_6M</th>\n",
       "      <th>평잔_일시불_6M</th>\n",
       "      <th>평잔_일시불_해외_6M</th>\n",
       "      <th>평잔_RV일시불_6M</th>\n",
       "      <th>평잔_RV일시불_해외_6M</th>\n",
       "      <th>평잔_할부_6M</th>\n",
       "      <th>평잔_할부_해외_6M</th>\n",
       "      <th>평잔_CA_6M</th>\n",
       "      <th>평잔_CA_해외_6M</th>\n",
       "      <th>평잔_카드론_6M</th>\n",
       "    </tr>\n",
       "  </thead>\n",
       "  <tbody>\n",
       "    <tr>\n",
       "      <th>0</th>\n",
       "      <td>201807</td>\n",
       "      <td>TRAIN_000000</td>\n",
       "      <td>998</td>\n",
       "      <td>962</td>\n",
       "      <td>22971</td>\n",
       "      <td>0</td>\n",
       "      <td>0</td>\n",
       "      <td>0</td>\n",
       "      <td>1084</td>\n",
       "      <td>547</td>\n",
       "      <td>...</td>\n",
       "      <td>15988</td>\n",
       "      <td>2440</td>\n",
       "      <td>0</td>\n",
       "      <td>0</td>\n",
       "      <td>0</td>\n",
       "      <td>572</td>\n",
       "      <td>0</td>\n",
       "      <td>17008</td>\n",
       "      <td>0</td>\n",
       "      <td>0</td>\n",
       "    </tr>\n",
       "    <tr>\n",
       "      <th>1</th>\n",
       "      <td>201807</td>\n",
       "      <td>TRAIN_000001</td>\n",
       "      <td>2565</td>\n",
       "      <td>2390</td>\n",
       "      <td>0</td>\n",
       "      <td>0</td>\n",
       "      <td>0</td>\n",
       "      <td>0</td>\n",
       "      <td>4090</td>\n",
       "      <td>2553</td>\n",
       "      <td>...</td>\n",
       "      <td>7045</td>\n",
       "      <td>2677</td>\n",
       "      <td>0</td>\n",
       "      <td>2830</td>\n",
       "      <td>0</td>\n",
       "      <td>2736</td>\n",
       "      <td>0</td>\n",
       "      <td>0</td>\n",
       "      <td>0</td>\n",
       "      <td>0</td>\n",
       "    </tr>\n",
       "    <tr>\n",
       "      <th>2</th>\n",
       "      <td>201807</td>\n",
       "      <td>TRAIN_000002</td>\n",
       "      <td>5312</td>\n",
       "      <td>5113</td>\n",
       "      <td>21531</td>\n",
       "      <td>6795</td>\n",
       "      <td>0</td>\n",
       "      <td>0</td>\n",
       "      <td>5006</td>\n",
       "      <td>8778</td>\n",
       "      <td>...</td>\n",
       "      <td>66549</td>\n",
       "      <td>9118</td>\n",
       "      <td>0</td>\n",
       "      <td>8870</td>\n",
       "      <td>0</td>\n",
       "      <td>4429</td>\n",
       "      <td>0</td>\n",
       "      <td>43351</td>\n",
       "      <td>0</td>\n",
       "      <td>0</td>\n",
       "    </tr>\n",
       "    <tr>\n",
       "      <th>3</th>\n",
       "      <td>201807</td>\n",
       "      <td>TRAIN_000003</td>\n",
       "      <td>730</td>\n",
       "      <td>5025</td>\n",
       "      <td>26284</td>\n",
       "      <td>0</td>\n",
       "      <td>0</td>\n",
       "      <td>0</td>\n",
       "      <td>487</td>\n",
       "      <td>5607</td>\n",
       "      <td>...</td>\n",
       "      <td>30139</td>\n",
       "      <td>884</td>\n",
       "      <td>0</td>\n",
       "      <td>0</td>\n",
       "      <td>0</td>\n",
       "      <td>5097</td>\n",
       "      <td>0</td>\n",
       "      <td>30697</td>\n",
       "      <td>0</td>\n",
       "      <td>0</td>\n",
       "    </tr>\n",
       "    <tr>\n",
       "      <th>4</th>\n",
       "      <td>201807</td>\n",
       "      <td>TRAIN_000004</td>\n",
       "      <td>0</td>\n",
       "      <td>0</td>\n",
       "      <td>0</td>\n",
       "      <td>0</td>\n",
       "      <td>0</td>\n",
       "      <td>0</td>\n",
       "      <td>0</td>\n",
       "      <td>0</td>\n",
       "      <td>...</td>\n",
       "      <td>28</td>\n",
       "      <td>21</td>\n",
       "      <td>0</td>\n",
       "      <td>0</td>\n",
       "      <td>0</td>\n",
       "      <td>0</td>\n",
       "      <td>0</td>\n",
       "      <td>0</td>\n",
       "      <td>0</td>\n",
       "      <td>0</td>\n",
       "    </tr>\n",
       "  </tbody>\n",
       "</table>\n",
       "<p>5 rows × 82 columns</p>\n",
       "</div>"
      ],
      "text/plain": [
       "     기준년월            ID  잔액_일시불_B0M  잔액_할부_B0M  잔액_현금서비스_B0M  잔액_리볼빙일시불이월_B0M  \\\n",
       "0  201807  TRAIN_000000         998        962         22971                0   \n",
       "1  201807  TRAIN_000001        2565       2390             0                0   \n",
       "2  201807  TRAIN_000002        5312       5113         21531             6795   \n",
       "3  201807  TRAIN_000003         730       5025         26284                0   \n",
       "4  201807  TRAIN_000004           0          0             0                0   \n",
       "\n",
       "   잔액_리볼빙CA이월_B0M  잔액_카드론_B0M  월중평잔_일시불_B0M  월중평잔_할부_B0M  ...  평잔_6M  \\\n",
       "0               0           0          1084          547  ...  15988   \n",
       "1               0           0          4090         2553  ...   7045   \n",
       "2               0           0          5006         8778  ...  66549   \n",
       "3               0           0           487         5607  ...  30139   \n",
       "4               0           0             0            0  ...     28   \n",
       "\n",
       "   평잔_일시불_6M  평잔_일시불_해외_6M  평잔_RV일시불_6M  평잔_RV일시불_해외_6M  평잔_할부_6M  \\\n",
       "0       2440             0            0               0       572   \n",
       "1       2677             0         2830               0      2736   \n",
       "2       9118             0         8870               0      4429   \n",
       "3        884             0            0               0      5097   \n",
       "4         21             0            0               0         0   \n",
       "\n",
       "   평잔_할부_해외_6M  평잔_CA_6M  평잔_CA_해외_6M  평잔_카드론_6M  \n",
       "0            0     17008            0          0  \n",
       "1            0         0            0          0  \n",
       "2            0     43351            0          0  \n",
       "3            0     30697            0          0  \n",
       "4            0         0            0          0  \n",
       "\n",
       "[5 rows x 82 columns]"
      ]
     },
     "execution_count": 4,
     "metadata": {},
     "output_type": "execute_result"
    }
   ],
   "source": [
    "df_train.head(5)"
   ]
  },
  {
   "cell_type": "markdown",
   "id": "821992f0",
   "metadata": {},
   "source": [
    "# 2️⃣data preprocessing\n",
    "### 💌notion\n",
    "1. 카드론잔액_최종경과월(12) 제거 : 전부 0인 값임\n",
    "2. 연체일자_B0M(13) 제거 : 거의 다 결측치임\n",
    "3. 잔액_카드론은 최장기, 최단기만 남기고 제거(23~25)\n",
    "4. RV_평균, 최대잔액은 최장기, 최단기만 남기고 제거(43,44)\n",
    "5. 평잔은 최장기, 최단기만 남기고 제거(63~72)"
   ]
  },
  {
   "cell_type": "markdown",
   "id": "da804231",
   "metadata": {},
   "source": [
    "- 결측치 확인"
   ]
  },
  {
   "cell_type": "code",
   "execution_count": null,
   "id": "3e5c1bbd",
   "metadata": {},
   "outputs": [
    {
     "name": "stdout",
     "output_type": "stream",
     "text": [
      "결측치가 있는 컬럼:\n",
      "연체일자_B0M    2394336\n",
      "dtype: int64\n"
     ]
    }
   ],
   "source": [
    "# 데이터프레임 모든 컬럼에서 결측치 확인\n",
    "# test에는 결측치 없음\n",
    "missing_values = df_train.isnull().sum()\n",
    "if missing_values.any():\n",
    "    print(\"결측치가 있는 컬럼:\")\n",
    "    print(missing_values[missing_values > 0])"
   ]
  },
  {
   "cell_type": "code",
   "execution_count": 6,
   "id": "68651f19",
   "metadata": {},
   "outputs": [],
   "source": [
    "# 연체일자_B0M 컬럼 제거; 거의 다 결측치\n",
    "df_train.drop(columns=['연체일자_B0M'], inplace=True)\n",
    "df_test.drop(columns=['연체일자_B0M'], inplace=True)"
   ]
  },
  {
   "cell_type": "markdown",
   "id": "47adef83",
   "metadata": {},
   "source": [
    "- 값이 하나인 경우"
   ]
  },
  {
   "cell_type": "code",
   "execution_count": 7,
   "id": "8e6896b4",
   "metadata": {},
   "outputs": [
    {
     "name": "stdout",
     "output_type": "stream",
     "text": [
      "값이 하나인 컬럼: ['카드론잔액_최종경과월', '최종연체개월수_R15M', 'RV잔액이월횟수_R6M', 'RV잔액이월횟수_R3M', '연체잔액_일시불_해외_B0M', '연체잔액_RV일시불_해외_B0M', '연체잔액_할부_해외_B0M', '연체잔액_CA_해외_B0M']\n"
     ]
    }
   ],
   "source": [
    "# 데이터프레임 df에서 값이 하나(즉, 모든 값이 동일)인 컬럼 찾기\n",
    "unique_one_cols = [col for col in df_train.columns if df_train[col].nunique() == 1]\n",
    "print(\"값이 하나인 컬럼:\", unique_one_cols)"
   ]
  },
  {
   "cell_type": "code",
   "execution_count": 8,
   "id": "dbbc6f79",
   "metadata": {},
   "outputs": [],
   "source": [
    "# 데이터 값이 하나인 컬럼 제거\n",
    "df_train.drop(columns=unique_one_cols, inplace=True)\n",
    "df_test.drop(columns=unique_one_cols, inplace=True)"
   ]
  },
  {
   "cell_type": "code",
   "execution_count": 9,
   "id": "bc4d2c22",
   "metadata": {},
   "outputs": [],
   "source": [
    "# 잔액카드론 2,3,4개월 제거\n",
    "df_train.drop(columns=['잔액_카드론_B2M', '잔액_카드론_B3M', '잔액_카드론_B4M'], inplace=True)\n",
    "df_test.drop(columns=['잔액_카드론_B2M', '잔액_카드론_B3M', '잔액_카드론_B4M'], inplace=True)"
   ]
  },
  {
   "cell_type": "code",
   "execution_count": 10,
   "id": "bc2403a0",
   "metadata": {},
   "outputs": [],
   "source": [
    "# RV_평균잔액_R6M, RV_최대잔액_R6M\n",
    "df_train.drop(columns=['RV_평균잔액_R6M', 'RV_최대잔액_R6M'], inplace=True)\n",
    "df_test.drop(columns=['RV_평균잔액_R6M', 'RV_최대잔액_R6M'], inplace=True)"
   ]
  },
  {
   "cell_type": "code",
   "execution_count": 11,
   "id": "afcec6b9",
   "metadata": {},
   "outputs": [],
   "source": [
    "# 평잔 3개월 모두 제거\n",
    "df_train.drop(columns=['평잔_3M', '평잔_일시불_3M', '평잔_일시불_해외_3M',\n",
    "                       '평잔_RV일시불_3M', '평잔_RV일시불_해외_3M',\n",
    "                       '평잔_할부_3M', '평잔_할부_해외_3M',\n",
    "                       '평잔_CA_3M', '평잔_CA_해외_3M',\n",
    "                       '평잔_카드론_3M'], inplace=True)\n",
    "df_test.drop(columns=['평잔_3M', '평잔_일시불_3M', '평잔_일시불_해외_3M',\n",
    "                     '평잔_RV일시불_3M', '평잔_RV일시불_해외_3M',\n",
    "                     '평잔_할부_3M', '평잔_할부_해외_3M',\n",
    "                     '평잔_CA_3M', '평잔_CA_해외_3M',\n",
    "                     '평잔_카드론_3M'], inplace=True)"
   ]
  },
  {
   "cell_type": "code",
   "execution_count": 12,
   "id": "4e9079d8",
   "metadata": {},
   "outputs": [
    {
     "data": {
      "text/plain": [
       "(58, 58)"
      ]
     },
     "execution_count": 12,
     "metadata": {},
     "output_type": "execute_result"
    }
   ],
   "source": [
    "len(df_train.columns), len(df_test.columns)"
   ]
  },
  {
   "cell_type": "markdown",
   "id": "8eac6bc7",
   "metadata": {},
   "source": [
    "# 3️⃣data store"
   ]
  },
  {
   "cell_type": "code",
   "execution_count": 13,
   "id": "f8b9e5d5",
   "metadata": {},
   "outputs": [
    {
     "ename": "ZeroDivisionError",
     "evalue": "division by zero",
     "output_type": "error",
     "traceback": [
      "\u001b[1;31m---------------------------------------------------------------------------\u001b[0m",
      "\u001b[1;31mZeroDivisionError\u001b[0m                         Traceback (most recent call last)",
      "Cell \u001b[1;32mIn[13], line 1\u001b[0m\n\u001b[1;32m----> 1\u001b[0m \u001b[38;5;241;43m100\u001b[39;49m\u001b[38;5;241;43m/\u001b[39;49m\u001b[38;5;241;43m0\u001b[39;49m\n",
      "\u001b[1;31mZeroDivisionError\u001b[0m: division by zero"
     ]
    }
   ],
   "source": [
    "100/0"
   ]
  },
  {
   "cell_type": "code",
   "execution_count": 14,
   "id": "4b4c211b",
   "metadata": {},
   "outputs": [],
   "source": [
    "# df_train을 parquet 파일로 저장\n",
    "df_train.to_parquet('train_잔액정보.parquet', index=False)"
   ]
  },
  {
   "cell_type": "code",
   "execution_count": 15,
   "id": "181773b8",
   "metadata": {},
   "outputs": [],
   "source": [
    "df_test.to_parquet('test_잔액정보.parquet', index=False)"
   ]
  }
 ],
 "metadata": {
  "kernelspec": {
   "display_name": "Python 3",
   "language": "python",
   "name": "python3"
  },
  "language_info": {
   "codemirror_mode": {
    "name": "ipython",
    "version": 3
   },
   "file_extension": ".py",
   "mimetype": "text/x-python",
   "name": "python",
   "nbconvert_exporter": "python",
   "pygments_lexer": "ipython3",
   "version": "3.10.11"
  }
 },
 "nbformat": 4,
 "nbformat_minor": 5
}
