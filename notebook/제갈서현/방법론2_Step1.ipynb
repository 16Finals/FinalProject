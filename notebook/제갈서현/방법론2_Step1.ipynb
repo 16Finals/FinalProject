{
  "cells": [
    {
      "cell_type": "code",
      "execution_count": null,
      "metadata": {
        "colab": {
          "base_uri": "https://localhost:8080/"
        },
        "id": "eDKyKvi7_VNs",
        "outputId": "c1e52ddf-e797-442e-95d3-4f4f7887c0fb"
      },
      "outputs": [
        {
          "output_type": "stream",
          "name": "stdout",
          "text": [
            "Drive already mounted at /content/drive; to attempt to forcibly remount, call drive.mount(\"/content/drive\", force_remount=True).\n"
          ]
        }
      ],
      "source": [
        "from google.colab import drive\n",
        "drive.mount('/content/drive')"
      ]
    },
    {
      "cell_type": "code",
      "execution_count": null,
      "metadata": {
        "id": "9l666cLu0vv6"
      },
      "outputs": [],
      "source": [
        "import matplotlib.pyplot as plt\n",
        "import seaborn as sns\n",
        "\n",
        "sns.set()\n",
        "\n",
        "# 그래프 기본 설정\n",
        "plt.rcParams['figure.figsize'] = 12, 6\n",
        "plt.rcParams['font.size'] = 14\n",
        "plt.rcParams['axes.unicode_minus'] = False\n",
        "import matplotlib as mpl\n",
        "import matplotlib.font_manager as fm\n",
        "\n",
        "# 폰트 파일 경로 지정\n",
        "font_path = '/content/drive/MyDrive/font/NanumGothic.ttf'\n",
        "\n",
        "# 폰트 등록 및 matplotlib 설정\n",
        "font_name = fm.FontProperties(fname=font_path).get_name()\n",
        "fm.fontManager.addfont(font_path)\n",
        "mpl.rc('font', family=font_name)"
      ]
    },
    {
      "cell_type": "code",
      "execution_count": null,
      "metadata": {
        "colab": {
          "base_uri": "https://localhost:8080/"
        },
        "id": "wRe1Als2u3vy",
        "outputId": "b90066f3-66d0-4192-c305-e2fecffeebb1"
      },
      "outputs": [
        {
          "output_type": "stream",
          "name": "stdout",
          "text": [
            "Drive already mounted at /content/drive; to attempt to forcibly remount, call drive.mount(\"/content/drive\", force_remount=True).\n"
          ]
        }
      ],
      "source": [
        "import pandas as pd\n",
        "from google.colab import drive, files\n",
        "\n",
        "# 1. Google Drive 마운트\n",
        "drive.mount('/content/drive')\n",
        "\n",
        "# 2. 파일 경로 설정 (사용자 지정 경로)\n",
        "data_root = '/content/drive/MyDrive/Colab Notebooks/final_project/final_sampling'\n",
        "file_path = f'{data_root}/train_12.parquet'\n",
        "\n",
        "# # 3. Parquet 파일 불러오기\n",
        "# df = pd.read_parquet(file_path)\n",
        "\n",
        "# # 4. CSV로 저장 (엑셀용 UTF-8-sig 인코딩)\n",
        "# csv_filename = 'train_12.csv'\n",
        "# df.to_csv(csv_filename, index=False, encoding='utf-8-sig')\n",
        "\n",
        "# # 5. 로컬로 다운로드\n",
        "# files.download(csv_filename)"
      ]
    },
    {
      "cell_type": "code",
      "execution_count": null,
      "metadata": {
        "id": "aiKuutHzzQbv"
      },
      "outputs": [],
      "source": [
        "import pandas as pd\n",
        "import numpy as np\n",
        "from sklearn.model_selection import train_test_split\n",
        "from sklearn.preprocessing import LabelEncoder, StandardScaler\n",
        "from sklearn.metrics import classification_report, confusion_matrix\n",
        "from xgboost import XGBClassifier\n",
        "import matplotlib.pyplot as plt\n",
        "import seaborn as sns"
      ]
    },
    {
      "cell_type": "code",
      "execution_count": null,
      "metadata": {
        "colab": {
          "base_uri": "https://localhost:8080/",
          "height": 482
        },
        "id": "e29orIE311aW",
        "outputId": "b0254849-1488-4b74-fb31-845306ea2295"
      },
      "outputs": [
        {
          "output_type": "stream",
          "name": "stdout",
          "text": [
            "(400000, 313)\n"
          ]
        },
        {
          "output_type": "execute_result",
          "data": {
            "text/plain": [
              "     기준년월            ID  이용금액_R3M_신용체크  입회경과개월수_신용  _1순위카드이용금액  회원여부_이용가능_카드론  \\\n",
              "0  201812  TRAIN_000000           -454          71        3027              0   \n",
              "1  201812  TRAIN_000001           7089          16        7259              1   \n",
              "2  201812  TRAIN_000002          27336         128       26968              0   \n",
              "3  201812  TRAIN_000003           4270          31        4807              0   \n",
              "4  201812  TRAIN_000004           9385           6        3989              1   \n",
              "\n",
              "   이용거절여부_카드론  최종카드발급경과월  이용금액_R3M_신용  _1순위카드이용건수  ...  변동률_잔액_CA_B1M  \\\n",
              "0           0         27         -454          25  ...       0.000000   \n",
              "1           0         23         7089          31  ...       0.000000   \n",
              "2           0         25        27336          52  ...      -0.115879   \n",
              "3           0         22         4270          27  ...       0.000000   \n",
              "4           0         20         7387          -2  ...       0.000000   \n",
              "\n",
              "   혜택수혜율_R3M  혜택수혜율_B0M  잔액_한도소진율  증감율_카드론_분기  증감율_일시불_분기  증감율_체크_분기  \\\n",
              "0   0.878859   1.398627  3.407027    0.143423   -0.609648   0.086480   \n",
              "1   0.000000   0.000000  5.196375    0.143423   -0.597498   0.086480   \n",
              "2   0.187467  -1.198788  4.332080    0.143423   -0.154887   0.086480   \n",
              "3   0.781401   1.282494  6.248569    0.143423    0.593422   0.086480   \n",
              "4   0.762016   0.986860 -2.056257    0.143423    4.964378  -0.654283   \n",
              "\n",
              "   증감율_카드론_전월  변동률_RV평잔  Segment  \n",
              "0    0.048726  0.321733        D  \n",
              "1    0.048726  0.214949        E  \n",
              "2    0.048726 -2.839702        C  \n",
              "3    0.048726  0.321733        D  \n",
              "4    0.048726  0.321733        E  \n",
              "\n",
              "[5 rows x 313 columns]"
            ],
            "text/html": [
              "\n",
              "  <div id=\"df-2aa4aa63-b378-4300-955c-243977f8451e\" class=\"colab-df-container\">\n",
              "    <div>\n",
              "<style scoped>\n",
              "    .dataframe tbody tr th:only-of-type {\n",
              "        vertical-align: middle;\n",
              "    }\n",
              "\n",
              "    .dataframe tbody tr th {\n",
              "        vertical-align: top;\n",
              "    }\n",
              "\n",
              "    .dataframe thead th {\n",
              "        text-align: right;\n",
              "    }\n",
              "</style>\n",
              "<table border=\"1\" class=\"dataframe\">\n",
              "  <thead>\n",
              "    <tr style=\"text-align: right;\">\n",
              "      <th></th>\n",
              "      <th>기준년월</th>\n",
              "      <th>ID</th>\n",
              "      <th>이용금액_R3M_신용체크</th>\n",
              "      <th>입회경과개월수_신용</th>\n",
              "      <th>_1순위카드이용금액</th>\n",
              "      <th>회원여부_이용가능_카드론</th>\n",
              "      <th>이용거절여부_카드론</th>\n",
              "      <th>최종카드발급경과월</th>\n",
              "      <th>이용금액_R3M_신용</th>\n",
              "      <th>_1순위카드이용건수</th>\n",
              "      <th>...</th>\n",
              "      <th>변동률_잔액_CA_B1M</th>\n",
              "      <th>혜택수혜율_R3M</th>\n",
              "      <th>혜택수혜율_B0M</th>\n",
              "      <th>잔액_한도소진율</th>\n",
              "      <th>증감율_카드론_분기</th>\n",
              "      <th>증감율_일시불_분기</th>\n",
              "      <th>증감율_체크_분기</th>\n",
              "      <th>증감율_카드론_전월</th>\n",
              "      <th>변동률_RV평잔</th>\n",
              "      <th>Segment</th>\n",
              "    </tr>\n",
              "  </thead>\n",
              "  <tbody>\n",
              "    <tr>\n",
              "      <th>0</th>\n",
              "      <td>201812</td>\n",
              "      <td>TRAIN_000000</td>\n",
              "      <td>-454</td>\n",
              "      <td>71</td>\n",
              "      <td>3027</td>\n",
              "      <td>0</td>\n",
              "      <td>0</td>\n",
              "      <td>27</td>\n",
              "      <td>-454</td>\n",
              "      <td>25</td>\n",
              "      <td>...</td>\n",
              "      <td>0.000000</td>\n",
              "      <td>0.878859</td>\n",
              "      <td>1.398627</td>\n",
              "      <td>3.407027</td>\n",
              "      <td>0.143423</td>\n",
              "      <td>-0.609648</td>\n",
              "      <td>0.086480</td>\n",
              "      <td>0.048726</td>\n",
              "      <td>0.321733</td>\n",
              "      <td>D</td>\n",
              "    </tr>\n",
              "    <tr>\n",
              "      <th>1</th>\n",
              "      <td>201812</td>\n",
              "      <td>TRAIN_000001</td>\n",
              "      <td>7089</td>\n",
              "      <td>16</td>\n",
              "      <td>7259</td>\n",
              "      <td>1</td>\n",
              "      <td>0</td>\n",
              "      <td>23</td>\n",
              "      <td>7089</td>\n",
              "      <td>31</td>\n",
              "      <td>...</td>\n",
              "      <td>0.000000</td>\n",
              "      <td>0.000000</td>\n",
              "      <td>0.000000</td>\n",
              "      <td>5.196375</td>\n",
              "      <td>0.143423</td>\n",
              "      <td>-0.597498</td>\n",
              "      <td>0.086480</td>\n",
              "      <td>0.048726</td>\n",
              "      <td>0.214949</td>\n",
              "      <td>E</td>\n",
              "    </tr>\n",
              "    <tr>\n",
              "      <th>2</th>\n",
              "      <td>201812</td>\n",
              "      <td>TRAIN_000002</td>\n",
              "      <td>27336</td>\n",
              "      <td>128</td>\n",
              "      <td>26968</td>\n",
              "      <td>0</td>\n",
              "      <td>0</td>\n",
              "      <td>25</td>\n",
              "      <td>27336</td>\n",
              "      <td>52</td>\n",
              "      <td>...</td>\n",
              "      <td>-0.115879</td>\n",
              "      <td>0.187467</td>\n",
              "      <td>-1.198788</td>\n",
              "      <td>4.332080</td>\n",
              "      <td>0.143423</td>\n",
              "      <td>-0.154887</td>\n",
              "      <td>0.086480</td>\n",
              "      <td>0.048726</td>\n",
              "      <td>-2.839702</td>\n",
              "      <td>C</td>\n",
              "    </tr>\n",
              "    <tr>\n",
              "      <th>3</th>\n",
              "      <td>201812</td>\n",
              "      <td>TRAIN_000003</td>\n",
              "      <td>4270</td>\n",
              "      <td>31</td>\n",
              "      <td>4807</td>\n",
              "      <td>0</td>\n",
              "      <td>0</td>\n",
              "      <td>22</td>\n",
              "      <td>4270</td>\n",
              "      <td>27</td>\n",
              "      <td>...</td>\n",
              "      <td>0.000000</td>\n",
              "      <td>0.781401</td>\n",
              "      <td>1.282494</td>\n",
              "      <td>6.248569</td>\n",
              "      <td>0.143423</td>\n",
              "      <td>0.593422</td>\n",
              "      <td>0.086480</td>\n",
              "      <td>0.048726</td>\n",
              "      <td>0.321733</td>\n",
              "      <td>D</td>\n",
              "    </tr>\n",
              "    <tr>\n",
              "      <th>4</th>\n",
              "      <td>201812</td>\n",
              "      <td>TRAIN_000004</td>\n",
              "      <td>9385</td>\n",
              "      <td>6</td>\n",
              "      <td>3989</td>\n",
              "      <td>1</td>\n",
              "      <td>0</td>\n",
              "      <td>20</td>\n",
              "      <td>7387</td>\n",
              "      <td>-2</td>\n",
              "      <td>...</td>\n",
              "      <td>0.000000</td>\n",
              "      <td>0.762016</td>\n",
              "      <td>0.986860</td>\n",
              "      <td>-2.056257</td>\n",
              "      <td>0.143423</td>\n",
              "      <td>4.964378</td>\n",
              "      <td>-0.654283</td>\n",
              "      <td>0.048726</td>\n",
              "      <td>0.321733</td>\n",
              "      <td>E</td>\n",
              "    </tr>\n",
              "  </tbody>\n",
              "</table>\n",
              "<p>5 rows × 313 columns</p>\n",
              "</div>\n",
              "    <div class=\"colab-df-buttons\">\n",
              "      \n",
              "  <div class=\"colab-df-container\">\n",
              "    <button class=\"colab-df-convert\" onclick=\"convertToInteractive('df-2aa4aa63-b378-4300-955c-243977f8451e')\"\n",
              "            title=\"Convert this dataframe to an interactive table.\"\n",
              "            style=\"display:none;\">\n",
              "      \n",
              "  <svg xmlns=\"http://www.w3.org/2000/svg\" height=\"24px\" viewBox=\"0 -960 960 960\">\n",
              "    <path d=\"M120-120v-720h720v720H120Zm60-500h600v-160H180v160Zm220 220h160v-160H400v160Zm0 220h160v-160H400v160ZM180-400h160v-160H180v160Zm440 0h160v-160H620v160ZM180-180h160v-160H180v160Zm440 0h160v-160H620v160Z\"/>\n",
              "  </svg>\n",
              "    </button>\n",
              "    \n",
              "  <style>\n",
              "    .colab-df-container {\n",
              "      display:flex;\n",
              "      gap: 12px;\n",
              "    }\n",
              "\n",
              "    .colab-df-convert {\n",
              "      background-color: #E8F0FE;\n",
              "      border: none;\n",
              "      border-radius: 50%;\n",
              "      cursor: pointer;\n",
              "      display: none;\n",
              "      fill: #1967D2;\n",
              "      height: 32px;\n",
              "      padding: 0 0 0 0;\n",
              "      width: 32px;\n",
              "    }\n",
              "\n",
              "    .colab-df-convert:hover {\n",
              "      background-color: #E2EBFA;\n",
              "      box-shadow: 0px 1px 2px rgba(60, 64, 67, 0.3), 0px 1px 3px 1px rgba(60, 64, 67, 0.15);\n",
              "      fill: #174EA6;\n",
              "    }\n",
              "\n",
              "    .colab-df-buttons div {\n",
              "      margin-bottom: 4px;\n",
              "    }\n",
              "\n",
              "    [theme=dark] .colab-df-convert {\n",
              "      background-color: #3B4455;\n",
              "      fill: #D2E3FC;\n",
              "    }\n",
              "\n",
              "    [theme=dark] .colab-df-convert:hover {\n",
              "      background-color: #434B5C;\n",
              "      box-shadow: 0px 1px 3px 1px rgba(0, 0, 0, 0.15);\n",
              "      filter: drop-shadow(0px 1px 2px rgba(0, 0, 0, 0.3));\n",
              "      fill: #FFFFFF;\n",
              "    }\n",
              "  </style>\n",
              "\n",
              "    <script>\n",
              "      const buttonEl =\n",
              "        document.querySelector('#df-2aa4aa63-b378-4300-955c-243977f8451e button.colab-df-convert');\n",
              "      buttonEl.style.display =\n",
              "        google.colab.kernel.accessAllowed ? 'block' : 'none';\n",
              "\n",
              "      async function convertToInteractive(key) {\n",
              "        const element = document.querySelector('#df-2aa4aa63-b378-4300-955c-243977f8451e');\n",
              "        const dataTable =\n",
              "          await google.colab.kernel.invokeFunction('convertToInteractive',\n",
              "                                                    [key], {});\n",
              "        if (!dataTable) return;\n",
              "\n",
              "        const docLinkHtml = 'Like what you see? Visit the ' +\n",
              "          '<a target=\"_blank\" href=https://colab.research.google.com/notebooks/data_table.ipynb>data table notebook</a>'\n",
              "          + ' to learn more about interactive tables.';\n",
              "        element.innerHTML = '';\n",
              "        dataTable['output_type'] = 'display_data';\n",
              "        await google.colab.output.renderOutput(dataTable, element);\n",
              "        const docLink = document.createElement('div');\n",
              "        docLink.innerHTML = docLinkHtml;\n",
              "        element.appendChild(docLink);\n",
              "      }\n",
              "    </script>\n",
              "  </div>\n",
              "  \n",
              "    </div>\n",
              "  </div>\n",
              "  "
            ]
          },
          "metadata": {},
          "execution_count": 5
        }
      ],
      "source": [
        "# 파일 경로 설정\n",
        "data_root = '/content/drive/MyDrive/Colab Notebooks/final_project/final_sampling'\n",
        "\n",
        "X_path = f'{data_root}/train_12.parquet'\n",
        "y_path = f'{data_root}/segment_12.parquet'\n",
        "\n",
        "# 데이터 불러오기\n",
        "X_df = pd.read_parquet(X_path)\n",
        "y_df = pd.read_parquet(y_path)\n",
        "\n",
        "# ID 기준으로 병합\n",
        "df = pd.merge(X_df, y_df, on='ID', how='inner')\n",
        "\n",
        "# 확인\n",
        "print(df.shape)\n",
        "df.head()"
      ]
    },
    {
      "cell_type": "code",
      "execution_count": null,
      "metadata": {
        "id": "cRlpFD5S3Opj"
      },
      "outputs": [],
      "source": [
        "# 타겟 변수와 피처 나누기\n",
        "df = df.drop(columns=['ID', '기준년월'])\n",
        "X = df.drop(columns=['Segment'])\n",
        "y = df['Segment']"
      ]
    },
    {
      "cell_type": "code",
      "execution_count": null,
      "metadata": {
        "id": "ye9xmYRJ3RMe"
      },
      "outputs": [],
      "source": [
        "# Label Encoder\n",
        "from sklearn.preprocessing import LabelEncoder\n",
        "\n",
        "# 타겟 값 y 인코딩\n",
        "le_y = LabelEncoder()\n",
        "y = le_y.fit_transform(y)"
      ]
    },
    {
      "cell_type": "code",
      "source": [],
      "metadata": {
        "id": "xjry7tQU-b5z"
      },
      "execution_count": null,
      "outputs": []
    },
    {
      "cell_type": "code",
      "source": [
        "import joblib\n",
        "\n",
        "# LabelEncoder 객체를 .dat 이름으로 저장 (실제로는 joblib 포맷)\n",
        "joblib.dump(le_y, \"label_encoder_segment.dat\")\n",
        "\n",
        "\n",
        "# from google.colab import files\n",
        "# files.download(\"label_encoder_segment.dat\")\n",
        "\n",
        "# # 불러올 때\n",
        "# le_loaded = joblib.load(\"label_encoder_segment.dat\")\n"
      ],
      "metadata": {
        "colab": {
          "base_uri": "https://localhost:8080/"
        },
        "id": "s9eWfTga8-Ws",
        "outputId": "d30896fa-17cf-412f-d644-ff7685ecc7d4"
      },
      "execution_count": null,
      "outputs": [
        {
          "output_type": "execute_result",
          "data": {
            "text/plain": [
              "['label_encoder_segment.dat']"
            ]
          },
          "metadata": {},
          "execution_count": 8
        }
      ]
    },
    {
      "cell_type": "code",
      "source": [],
      "metadata": {
        "id": "BcEBLnqN-bnz"
      },
      "execution_count": null,
      "outputs": []
    },
    {
      "cell_type": "markdown",
      "metadata": {
        "id": "e31Iq6xO_o7g"
      },
      "source": [
        "##변수명 test -> val !!!!!!!!!!! 추후 test 데이터 불러올 때 헷갈리니까"
      ]
    },
    {
      "cell_type": "code",
      "execution_count": null,
      "metadata": {
        "id": "RaJsgokW3wt-"
      },
      "outputs": [],
      "source": [
        "from sklearn.preprocessing import StandardScaler\n",
        "from sklearn.model_selection import train_test_split\n",
        "\n",
        "# 데이터 분할\n",
        "X_train, X_val, y_train, y_val = train_test_split(X, y, test_size=0.2, stratify=y, random_state=42)\n",
        "\n",
        "# 스케일링\n",
        "scaler = StandardScaler()\n",
        "X_train_scaled = scaler.fit_transform(X_train)\n",
        "X_val_scaled = scaler.transform(X_val)"
      ]
    },
    {
      "cell_type": "code",
      "source": [
        "# import joblib\n",
        "# # prompt: scaler 를 따로 저장해서 내 컴퓨터에 다운로드\n",
        "\n",
        "# # Scaler 저장\n",
        "# joblib.dump(scaler, \"standard_scaler.pkl\")\n",
        "\n",
        "# # Scaler 다운로드\n",
        "# files.download(\"standard_scaler.pkl\")"
      ],
      "metadata": {
        "id": "bUWswy9VGoS9"
      },
      "execution_count": null,
      "outputs": []
    },
    {
      "cell_type": "markdown",
      "metadata": {
        "id": "cDAZ0roNp-4o"
      },
      "source": [
        "전처리 완료 변수들\n",
        "- X, y: 병합 및 인코딩된 전체 데이터셋\n",
        "- le_y: y(LabelEncoder 객체)\n",
        "- X_train_scaled, X_val_scaled, y_train, y_val: 스케일링된 train/val 데이터셋\n",
        "\n",
        "# Segment 'E' vs 나머지 (XGBoost) - 제갈서현"
      ]
    },
    {
      "cell_type": "markdown",
      "source": [
        "E라고 예측한 게 너무 많아서.. 1단계에서 정확도를 좀 낮추자. E가 아닌 걸 더 잘 맞춰야 함.\n",
        "accuracy는 손해봐도 된다. 근데 올라가야 한다. 모델 다시 학습시켜야 한다. weighted"
      ],
      "metadata": {
        "id": "7zTNTkbzO9qP"
      }
    },
    {
      "cell_type": "code",
      "source": [
        "# Segment 'E' 분류용 이진 타겟 생성\n",
        "target_E = le_y.transform(['E'])[0]\n",
        "y_train_step1 = (y_train == target_E).astype(int)\n",
        "y_val_step1 = (y_val == target_E).astype(int)"
      ],
      "metadata": {
        "id": "P5BNkXkleAFr"
      },
      "execution_count": null,
      "outputs": []
    },
    {
      "cell_type": "code",
      "execution_count": null,
      "metadata": {
        "colab": {
          "base_uri": "https://localhost:8080/"
        },
        "id": "iyVsjLOhzYwl",
        "outputId": "b4ed9561-046a-41ce-c54c-42f1d6e6fdf7"
      },
      "outputs": [
        {
          "output_type": "stream",
          "name": "stderr",
          "text": [
            "/usr/local/lib/python3.11/dist-packages/xgboost/core.py:158: UserWarning: [07:38:23] WARNING: /workspace/src/learner.cc:740: \n",
            "Parameters: { \"use_label_encoder\" } are not used.\n",
            "\n",
            "  warnings.warn(smsg, UserWarning)\n"
          ]
        }
      ],
      "source": [
        "# from xgboost import XGBClassifier\n",
        "# import numpy as np\n",
        "\n",
        "# # Step 1: E vs Others 분류용 라벨 생성\n",
        "# y_train_step1 = (y_train == le_y.transform(['E'])[0]).astype(int)\n",
        "# y_val_step1 = (y_val == le_y.transform(['E'])[0]).astype(int)\n",
        "\n",
        "# model_step1 = XGBClassifier(random_state=42, use_label_encoder=False, eval_metric='mlogloss')\n",
        "# model_step1.fit(X_train_scaled, y_train_step1)\n",
        "\n",
        "# # 예측: 전체 test set에 대해 E 확률\n",
        "# prob_E = model_step1.predict_proba(X_val_scaled)[:, 1]"
      ]
    },
    {
      "cell_type": "markdown",
      "metadata": {
        "id": "0vwJnPw_DzvH"
      },
      "source": [
        "1. XGBoost, LGBM, CatBoost 각 돌려"
      ]
    },
    {
      "cell_type": "code",
      "execution_count": null,
      "metadata": {
        "colab": {
          "base_uri": "https://localhost:8080/"
        },
        "id": "dJ757awFDQeF",
        "outputId": "91e0cae3-bb4b-4546-a828-273db7f3bdda"
      },
      "outputs": [
        {
          "output_type": "stream",
          "name": "stdout",
          "text": [
            "Requirement already satisfied: lightgbm in /usr/local/lib/python3.11/dist-packages (4.5.0)\n",
            "Requirement already satisfied: numpy>=1.17.0 in /usr/local/lib/python3.11/dist-packages (from lightgbm) (2.0.2)\n",
            "Requirement already satisfied: scipy in /usr/local/lib/python3.11/dist-packages (from lightgbm) (1.15.3)\n"
          ]
        }
      ],
      "source": [
        "!pip install lightgbm"
      ]
    },
    {
      "cell_type": "code",
      "execution_count": null,
      "metadata": {
        "colab": {
          "base_uri": "https://localhost:8080/"
        },
        "id": "fRYnueNCEgOI",
        "outputId": "64c239e5-e0de-47d7-be5e-9ed9ab0180ce"
      },
      "outputs": [
        {
          "output_type": "stream",
          "name": "stdout",
          "text": [
            "Requirement already satisfied: catboost in /usr/local/lib/python3.11/dist-packages (1.2.8)\n",
            "Requirement already satisfied: graphviz in /usr/local/lib/python3.11/dist-packages (from catboost) (0.21)\n",
            "Requirement already satisfied: matplotlib in /usr/local/lib/python3.11/dist-packages (from catboost) (3.10.0)\n",
            "Requirement already satisfied: numpy<3.0,>=1.16.0 in /usr/local/lib/python3.11/dist-packages (from catboost) (2.0.2)\n",
            "Requirement already satisfied: pandas>=0.24 in /usr/local/lib/python3.11/dist-packages (from catboost) (2.2.2)\n",
            "Requirement already satisfied: scipy in /usr/local/lib/python3.11/dist-packages (from catboost) (1.15.3)\n",
            "Requirement already satisfied: plotly in /usr/local/lib/python3.11/dist-packages (from catboost) (5.24.1)\n",
            "Requirement already satisfied: six in /usr/local/lib/python3.11/dist-packages (from catboost) (1.17.0)\n",
            "Requirement already satisfied: python-dateutil>=2.8.2 in /usr/local/lib/python3.11/dist-packages (from pandas>=0.24->catboost) (2.9.0.post0)\n",
            "Requirement already satisfied: pytz>=2020.1 in /usr/local/lib/python3.11/dist-packages (from pandas>=0.24->catboost) (2025.2)\n",
            "Requirement already satisfied: tzdata>=2022.7 in /usr/local/lib/python3.11/dist-packages (from pandas>=0.24->catboost) (2025.2)\n",
            "Requirement already satisfied: contourpy>=1.0.1 in /usr/local/lib/python3.11/dist-packages (from matplotlib->catboost) (1.3.2)\n",
            "Requirement already satisfied: cycler>=0.10 in /usr/local/lib/python3.11/dist-packages (from matplotlib->catboost) (0.12.1)\n",
            "Requirement already satisfied: fonttools>=4.22.0 in /usr/local/lib/python3.11/dist-packages (from matplotlib->catboost) (4.58.5)\n",
            "Requirement already satisfied: kiwisolver>=1.3.1 in /usr/local/lib/python3.11/dist-packages (from matplotlib->catboost) (1.4.8)\n",
            "Requirement already satisfied: packaging>=20.0 in /usr/local/lib/python3.11/dist-packages (from matplotlib->catboost) (24.2)\n",
            "Requirement already satisfied: pillow>=8 in /usr/local/lib/python3.11/dist-packages (from matplotlib->catboost) (11.2.1)\n",
            "Requirement already satisfied: pyparsing>=2.3.1 in /usr/local/lib/python3.11/dist-packages (from matplotlib->catboost) (3.2.3)\n",
            "Requirement already satisfied: tenacity>=6.2.0 in /usr/local/lib/python3.11/dist-packages (from plotly->catboost) (8.5.0)\n"
          ]
        }
      ],
      "source": [
        "!pip install catboost"
      ]
    },
    {
      "cell_type": "code",
      "execution_count": null,
      "metadata": {
        "id": "VasZZw-_BxXX",
        "colab": {
          "base_uri": "https://localhost:8080/"
        },
        "outputId": "4d773668-f5f0-44fb-e496-392badee0dc7"
      },
      "outputs": [
        {
          "output_type": "execute_result",
          "data": {
            "text/plain": [
              "<catboost.core.CatBoostClassifier at 0x7b1c981fa210>"
            ]
          },
          "metadata": {},
          "execution_count": 18
        }
      ],
      "source": [
        "from lightgbm import LGBMClassifier\n",
        "from catboost import CatBoostClassifier\n",
        "from sklearn.metrics import accuracy_score, f1_score\n",
        "from xgboost import XGBClassifier\n",
        "\n",
        "import joblib  # 혹시 다른 모델도 저장하고 싶을 경우 대비\n",
        "\n",
        "# 모델 정의\n",
        "xgb = XGBClassifier(random_state=42, use_label_encoder=False, eval_metric='logloss')\n",
        "lgbm = LGBMClassifier(random_state=42)\n",
        "cat_model = CatBoostClassifier(verbose=0, random_state=42)  # 학습용 CatBoost 객체\n",
        "\n",
        "models = {'XGBoost': xgb, 'LightGBM': lgbm, 'CatBoost': cat_model}\n",
        "\n",
        "tuned_cat = CatBoostClassifier(\n",
        "    depth=6, learning_rate=5e-3,\n",
        "    early_stopping_rounds=20,\n",
        "    class_weights=[10, 1],\n",
        "    iterations=100,\n",
        "    random_state=42,\n",
        "    verbose=0\n",
        ")\n",
        "tuned_cat.fit(X_train_scaled, y_train_step1)\n",
        "\n"
      ]
    },
    {
      "cell_type": "code",
      "source": [
        "# 평가\n",
        "y_pred = tuned_cat.predict(X_val_scaled)\n",
        "print(\"Tuned CatBoost - F1:\", f1_score(y_val_step1, y_pred))\n",
        "\n",
        "# 저장\n",
        "tuned_cat.save_model(\"model_step1_catboost_tuned.dat\")"
      ],
      "metadata": {
        "colab": {
          "base_uri": "https://localhost:8080/"
        },
        "id": "bYkYLzSnesIo",
        "outputId": "b7ee5637-482c-4d38-cc45-f98f2bead026"
      },
      "execution_count": null,
      "outputs": [
        {
          "output_type": "stream",
          "name": "stdout",
          "text": [
            "Tuned CatBoost - F1: 0.8454088317574985\n"
          ]
        }
      ]
    },
    {
      "cell_type": "code",
      "source": [
        "from google.colab import files\n",
        "\n",
        "files.download(\"model_step1_catboost_tuned.dat\")\n"
      ],
      "metadata": {
        "colab": {
          "base_uri": "https://localhost:8080/",
          "height": 17
        },
        "id": "wGZqLnMufDTJ",
        "outputId": "c6bfced2-0a85-49f9-fe74-8ced6fb2bf37"
      },
      "execution_count": null,
      "outputs": [
        {
          "output_type": "display_data",
          "data": {
            "text/plain": [
              "<IPython.core.display.Javascript object>"
            ],
            "application/javascript": [
              "\n",
              "    async function download(id, filename, size) {\n",
              "      if (!google.colab.kernel.accessAllowed) {\n",
              "        return;\n",
              "      }\n",
              "      const div = document.createElement('div');\n",
              "      const label = document.createElement('label');\n",
              "      label.textContent = `Downloading \"${filename}\": `;\n",
              "      div.appendChild(label);\n",
              "      const progress = document.createElement('progress');\n",
              "      progress.max = size;\n",
              "      div.appendChild(progress);\n",
              "      document.body.appendChild(div);\n",
              "\n",
              "      const buffers = [];\n",
              "      let downloaded = 0;\n",
              "\n",
              "      const channel = await google.colab.kernel.comms.open(id);\n",
              "      // Send a message to notify the kernel that we're ready.\n",
              "      channel.send({})\n",
              "\n",
              "      for await (const message of channel.messages) {\n",
              "        // Send a message to notify the kernel that we're ready.\n",
              "        channel.send({})\n",
              "        if (message.buffers) {\n",
              "          for (const buffer of message.buffers) {\n",
              "            buffers.push(buffer);\n",
              "            downloaded += buffer.byteLength;\n",
              "            progress.value = downloaded;\n",
              "          }\n",
              "        }\n",
              "      }\n",
              "      const blob = new Blob(buffers, {type: 'application/binary'});\n",
              "      const a = document.createElement('a');\n",
              "      a.href = window.URL.createObjectURL(blob);\n",
              "      a.download = filename;\n",
              "      div.appendChild(a);\n",
              "      a.click();\n",
              "      div.remove();\n",
              "    }\n",
              "  "
            ]
          },
          "metadata": {}
        },
        {
          "output_type": "display_data",
          "data": {
            "text/plain": [
              "<IPython.core.display.Javascript object>"
            ],
            "application/javascript": [
              "download(\"download_96680ecc-d9fa-4afa-9af6-e724c900dc85\", \"model_step1_catboost_tuned.dat\", 126592)"
            ]
          },
          "metadata": {}
        }
      ]
    },
    {
      "cell_type": "markdown",
      "metadata": {
        "id": "qNxm8WAe1NgS"
      },
      "source": [
        "| 모델           | Accuracy   | F1 Score             |\n",
        "| ------------ | ---------- | -------------------- |\n",
        "| XGBoost      | 0.9370     | 0.9610               |\n",
        "| LightGBM     | 0.9290     | 0.9561               |\n",
        "| **CatBoost** | **0.9417** | **0.9639** ✅ (최고 성능) |\n"
      ]
    },
    {
      "cell_type": "code",
      "source": [
        "10/0"
      ],
      "metadata": {
        "id": "cbffpWdjTMwJ"
      },
      "execution_count": null,
      "outputs": []
    },
    {
      "cell_type": "markdown",
      "metadata": {
        "id": "DXgy0Inp1Xqy"
      },
      "source": [
        "2. Soft, Hard Voting 해보기(XGBoost, LGBM, CatBoost)"
      ]
    },
    {
      "cell_type": "code",
      "execution_count": null,
      "metadata": {
        "id": "z9BskFSY1NO6"
      },
      "outputs": [],
      "source": [
        "from sklearn.ensemble import VotingClassifier\n",
        "from sklearn.metrics import accuracy_score, f1_score\n",
        "\n",
        "# 모델 재정의 (훈련 이전 상태로 초기화)\n",
        "xgb = XGBClassifier(random_state=42, use_label_encoder=False, eval_metric='logloss')\n",
        "lgbm = LGBMClassifier(random_state=42)\n",
        "cat = CatBoostClassifier(verbose=0, random_state=42, allow_writing_files=False)\n",
        "\n",
        "# Hard Voting\n",
        "hard_voting = VotingClassifier(\n",
        "    estimators=[('xgb', xgb), ('lgbm', lgbm), ('cat', cat)],\n",
        "    voting='hard'\n",
        ")\n",
        "hard_voting.fit(X_train_scaled, y_train_step1)\n",
        "y_pred_hard = hard_voting.predict(X_val_scaled)\n",
        "\n",
        "# Soft Voting\n",
        "soft_voting = VotingClassifier(\n",
        "    estimators=[('xgb', xgb), ('lgbm', lgbm), ('cat', cat)],\n",
        "    voting='soft'\n",
        ")\n",
        "soft_voting.fit(X_train_scaled, y_train_step1)\n",
        "y_pred_soft = soft_voting.predict(X_val_scaled)\n",
        "\n",
        "# 성능 비교\n",
        "print(\"===== Hard Voting =====\")\n",
        "print(f\"Accuracy: {accuracy_score(y_val_step1, y_pred_hard):.4f}\")\n",
        "print(f\"F1 Score:  {f1_score(y_val_step1, y_pred_hard):.4f}\")\n",
        "\n",
        "print(\"\\n===== Soft Voting =====\")\n",
        "print(f\"Accuracy: {accuracy_score(y_val_step1, y_pred_soft):.4f}\")\n",
        "print(f\"F1 Score:  {f1_score(y_val_step1, y_pred_soft):.4f}\")"
      ]
    },
    {
      "cell_type": "markdown",
      "metadata": {
        "id": "m0Tf31wC6Swl"
      },
      "source": [
        "| 모델          | Accuracy   | F1 Score     |\n",
        "| ----------- | ---------- | ------------ |\n",
        "| XGBoost     | 0.9370     | 0.9610       |\n",
        "| LightGBM    | 0.9290     | 0.9561       |\n",
        "| **CatBoost**    | 0.9417     | **0.9639** ✅ |\n",
        "| Hard Voting | 0.9385     | 0.9620       |\n",
        "| Soft Voting | **0.9386** | 0.9620       |"
      ]
    },
    {
      "cell_type": "code",
      "execution_count": null,
      "metadata": {
        "id": "NYU6W54fDywy"
      },
      "outputs": [],
      "source": [
        "from catboost import CatBoostClassifier\n",
        "\n",
        "# 저장된 .dat 모델 로드\n",
        "cat_loaded = CatBoostClassifier()\n",
        "cat_loaded.load_model(\"model_step1_catboost.dat\")"
      ]
    },
    {
      "cell_type": "markdown",
      "metadata": {
        "id": "teZp3GNvEmaL"
      },
      "source": [
        "| 메서드               | 역할                   | 결과                         | 언제 쓰는지                   |\n",
        "| ----------------- | -------------------- | -------------------------- | ------------------------ |\n",
        "| `predict()`       | **최종 예측 클래스**를 반환    | `0`, `1` 또는 `A`, `B` 같은 라벨 | 분류 결과가 뭔지 알고 싶을 때        |\n",
        "| `predict_proba()` | **각 클래스에 속할 확률**을 반환 | `[0.2, 0.8]`처럼 확률 값        | 확률 기반 판단, threshold 조정 시 |\n"
      ]
    },
    {
      "cell_type": "markdown",
      "metadata": {
        "id": "ntsEd87BGqUw"
      },
      "source": [
        "3. CatBoost + Optuna (F1 최적화) - 쓰지마(우리 방법부터)"
      ]
    },
    {
      "cell_type": "code",
      "execution_count": null,
      "metadata": {
        "id": "QbrsuRkHG04H"
      },
      "outputs": [],
      "source": [
        "!pip install optuna"
      ]
    },
    {
      "cell_type": "code",
      "execution_count": null,
      "metadata": {
        "id": "eKnF-3yTDypU"
      },
      "outputs": [],
      "source": [
        "import optuna\n",
        "from catboost import CatBoostClassifier\n",
        "from sklearn.metrics import f1_score\n",
        "from sklearn.model_selection import train_test_split\n",
        "\n",
        "# Optuna 목적 함수 정의\n",
        "def objective(trial):\n",
        "    params = {\n",
        "        'depth': trial.suggest_int('depth', 4, 10),\n",
        "        'learning_rate': trial.suggest_float('learning_rate', 0.01, 0.3),\n",
        "        'l2_leaf_reg': trial.suggest_float('l2_leaf_reg', 1.0, 10.0),\n",
        "        'iterations': trial.suggest_int('iterations', 100),\n",
        "        'random_seed': 42,\n",
        "        'verbose': 0,\n",
        "        'task_type': 'CPU'\n",
        "    }\n",
        "\n",
        "    model = CatBoostClassifier(**params)\n",
        "    model.fit(X_train_scaled, y_train_step1)\n",
        "    y_pred = model.predict(X_val_scaled)\n",
        "    return f1_score(y_val_step1, y_pred)\n",
        "\n",
        "# 스터디 생성 및 튜닝 실행\n",
        "study = optuna.create_study(direction='maximize')\n",
        "study.optimize(objective, n_trials=20)  # n_trials 수 늘릴수록 더 정밀해짐\n",
        "\n",
        "# 최적 파라미터 확인\n",
        "print(\"Best trial:\")\n",
        "print(study.best_trial)"
      ]
    },
    {
      "cell_type": "code",
      "source": [],
      "metadata": {
        "id": "_rklwVSHSwER"
      },
      "execution_count": null,
      "outputs": []
    },
    {
      "cell_type": "code",
      "source": [],
      "metadata": {
        "id": "uMNtAahHSv8h"
      },
      "execution_count": null,
      "outputs": []
    },
    {
      "cell_type": "code",
      "source": [],
      "metadata": {
        "id": "RxVfbqrkSvyq"
      },
      "execution_count": null,
      "outputs": []
    },
    {
      "cell_type": "markdown",
      "source": [
        "4. 최적 파라미터로 CatBoost 학습 & 저장"
      ],
      "metadata": {
        "id": "_mBXf9GdXeTd"
      }
    },
    {
      "cell_type": "code",
      "execution_count": null,
      "metadata": {
        "id": "gY4x-LeNDQPZ"
      },
      "outputs": [],
      "source": [
        "from catboost import CatBoostClassifier\n",
        "from sklearn.metrics import accuracy_score, f1_score\n",
        "\n",
        "# 최적 파라미터로 모델 학습\n",
        "best_params = {\n",
        "    'depth': 7,\n",
        "    'learning_rate': 0.25350491503956507,\n",
        "    'l2_leaf_reg': 7.447977718157723,\n",
        "    'iterations': 409,\n",
        "    'random_seed': 42,\n",
        "    'verbose': 0\n",
        "}\n",
        "\n",
        "# 모델 학습\n",
        "cat_best = CatBoostClassifier(**best_params)\n",
        "cat_best.fit(X_train_scaled, y_train_step1)\n",
        "\n",
        "# 예측 및 성능 확인\n",
        "y_pred = cat_best.predict(X_val_scaled)\n",
        "print(\"최적 CatBoost 성능\")\n",
        "print(\"Accuracy:\", accuracy_score(y_val_step1, y_pred))\n",
        "print(\"F1 Score:\", f1_score(y_val_step1, y_pred))\n",
        "\n",
        "# 모델 저장 (.dat 형식)\n",
        "cat_best.save_model(\"model_step1_catboost_tuned.dat\")\n",
        "print(\"저장 완료: model_step1_catboost_tuned.dat\")"
      ]
    },
    {
      "cell_type": "code",
      "source": [],
      "metadata": {
        "id": "o5HeGw_2UNUO"
      },
      "execution_count": null,
      "outputs": []
    },
    {
      "cell_type": "code",
      "source": [],
      "metadata": {
        "id": "laOp1oBGUNJA"
      },
      "execution_count": null,
      "outputs": []
    },
    {
      "cell_type": "markdown",
      "source": [
        "confusion matrix"
      ],
      "metadata": {
        "id": "YpQCPomPgpNX"
      }
    },
    {
      "cell_type": "code",
      "execution_count": null,
      "metadata": {
        "id": "Dj-NeOzZDQMY"
      },
      "outputs": [],
      "source": [
        "from sklearn.metrics import confusion_matrix, ConfusionMatrixDisplay\n",
        "import matplotlib.pyplot as plt\n",
        "\n",
        "# 예측값 얻기\n",
        "y_pred = cat_best.predict(X_val_scaled)\n",
        "\n",
        "# Confusion Matrix 계산\n",
        "cm = confusion_matrix(y_val_step1, y_pred)\n",
        "\n",
        "# 시각화\n",
        "disp = ConfusionMatrixDisplay(confusion_matrix=cm, display_labels=[\"Not E\", \"E\"])\n",
        "disp.plot(cmap=plt.cm.Blues)\n",
        "plt.title(\"Confusion Matrix - Segment E vs Others\")\n",
        "plt.show()"
      ]
    },
    {
      "cell_type": "markdown",
      "source": [
        "  |               | 예측: Not E   | 예측: E       |\n",
        "| ------------- | ----------- | ----------- |\n",
        "| **실제: Not E** | 13,057 (TN) | 2,875 (FP)  |\n",
        "| **실제: E**     | 1,850 (FN)  | 62,218 (TP) |\n",
        "- E 고객을 굉장히 잘 맞추고 있음 (재현율 97.1%)\n",
        "\n",
        "- E가 아닌 고객을 E라고 착각한 경우도 조금 있음 (2,875명 → Precision 95.6%)"
      ],
      "metadata": {
        "id": "d0qlCA3_2HxB"
      }
    },
    {
      "cell_type": "code",
      "execution_count": null,
      "metadata": {
        "id": "nERUGo4uDQFL"
      },
      "outputs": [],
      "source": []
    },
    {
      "cell_type": "code",
      "execution_count": null,
      "metadata": {
        "id": "81zq7vg8DQAN"
      },
      "outputs": [],
      "source": []
    },
    {
      "cell_type": "code",
      "execution_count": null,
      "metadata": {
        "id": "urkp_tOuDP8v"
      },
      "outputs": [],
      "source": []
    }
  ],
  "metadata": {
    "colab": {
      "collapsed_sections": [
        "WO5jCqQ0q5vb",
        "aK730VGxH_4c",
        "hoBmW7oUurVw",
        "ecWBb0fR296e",
        "X16lZweuD1-O",
        "EE9uZIzopcpI"
      ],
      "provenance": []
    },
    "kernelspec": {
      "display_name": "Python 3",
      "name": "python3"
    },
    "language_info": {
      "name": "python"
    }
  },
  "nbformat": 4,
  "nbformat_minor": 0
}