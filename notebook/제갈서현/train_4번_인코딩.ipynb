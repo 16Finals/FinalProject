{
  "nbformat": 4,
  "nbformat_minor": 0,
  "metadata": {
    "colab": {
      "provenance": []
    },
    "kernelspec": {
      "name": "python3",
      "display_name": "Python 3"
    },
    "language_info": {
      "name": "python"
    }
  },
  "cells": [
    {
      "cell_type": "code",
      "source": [
        "# 필수 라이브러리 import\n",
        "import pandas as pd\n",
        "import numpy as np\n",
        "import matplotlib.pyplot as plt\n",
        "import seaborn as sns\n",
        "import missingno\n",
        "\n",
        "from sklearn.preprocessing import StandardScaler\n",
        "\n",
        "from sklearn.model_selection import train_test_split\n",
        "from sklearn.preprocessing import LabelEncoder\n",
        "from sklearn.ensemble import RandomForestClassifier\n",
        "from sklearn.metrics import classification_report\n",
        "from imblearn.over_sampling import SMOTE\n",
        "\n",
        "import gc"
      ],
      "metadata": {
        "id": "4ugH293JhWF-"
      },
      "execution_count": 21,
      "outputs": []
    },
    {
      "cell_type": "code",
      "source": [
        "from google.colab import drive\n",
        "drive.mount('/content/drive')\n",
        "\n",
        "data_root = '/content/drive/MyDrive/Colab Notebooks/final_project/data/'\n",
        "# data_path = data_root + 'train/'\n"
      ],
      "metadata": {
        "colab": {
          "base_uri": "https://localhost:8080/"
        },
        "id": "6iKLdc4wuDAK",
        "outputId": "5010b6bb-3e6b-418d-b218-0b147d3fa44b"
      },
      "execution_count": 22,
      "outputs": [
        {
          "output_type": "stream",
          "name": "stdout",
          "text": [
            "Drive already mounted at /content/drive; to attempt to forcibly remount, call drive.mount(\"/content/drive\", force_remount=True).\n"
          ]
        }
      ]
    },
    {
      "cell_type": "code",
      "source": [
        "# 파일 불러오기\n",
        "df4 = pd.read_parquet(\"/content/drive/MyDrive/Colab Notebooks/final_project/final_eda/train_4번eda.parquet\")\n",
        "\n",
        "# 범주형 컬럼 추출 (ID, Segment 제외)\n",
        "cat_cols = df4.select_dtypes(include='object').columns.drop(['ID', 'Segment'], errors='ignore')\n",
        "\n",
        "# 각 범주형 변수에 Label Encoding\n",
        "le_dict = {}\n",
        "for col in cat_cols:\n",
        "    le = LabelEncoder()\n",
        "    df4[col] = le.fit_transform(df4[col].astype(str))\n",
        "    le_dict[col] = le  # test에 동일하게 적용하려고 저장\n",
        "\n",
        "# 저장\n",
        "df4.to_parquet(\"train4_encoded.parquet\", index=False)\n",
        "print(\"인코딩 완료 및 저장: train4_encoded.parquet\")\n"
      ],
      "metadata": {
        "colab": {
          "base_uri": "https://localhost:8080/"
        },
        "id": "d-KbwzPGnJ0o",
        "outputId": "1ec78737-ccb3-4831-e37f-c3d65f4c34f2"
      },
      "execution_count": 23,
      "outputs": [
        {
          "output_type": "stream",
          "name": "stdout",
          "text": [
            "인코딩 완료 및 저장: train4_encoded.parquet\n"
          ]
        }
      ]
    },
    {
      "cell_type": "code",
      "source": [
        "# 파일 다운로드\n",
        "from google.colab import files\n",
        "files.download(\"train4_encoded.parquet\")"
      ],
      "metadata": {
        "id": "F4vUpFYf811d",
        "colab": {
          "base_uri": "https://localhost:8080/",
          "height": 17
        },
        "outputId": "4fb44063-a081-4364-94b9-074d6b26d512"
      },
      "execution_count": 24,
      "outputs": [
        {
          "output_type": "display_data",
          "data": {
            "text/plain": [
              "<IPython.core.display.Javascript object>"
            ],
            "application/javascript": [
              "\n",
              "    async function download(id, filename, size) {\n",
              "      if (!google.colab.kernel.accessAllowed) {\n",
              "        return;\n",
              "      }\n",
              "      const div = document.createElement('div');\n",
              "      const label = document.createElement('label');\n",
              "      label.textContent = `Downloading \"${filename}\": `;\n",
              "      div.appendChild(label);\n",
              "      const progress = document.createElement('progress');\n",
              "      progress.max = size;\n",
              "      div.appendChild(progress);\n",
              "      document.body.appendChild(div);\n",
              "\n",
              "      const buffers = [];\n",
              "      let downloaded = 0;\n",
              "\n",
              "      const channel = await google.colab.kernel.comms.open(id);\n",
              "      // Send a message to notify the kernel that we're ready.\n",
              "      channel.send({})\n",
              "\n",
              "      for await (const message of channel.messages) {\n",
              "        // Send a message to notify the kernel that we're ready.\n",
              "        channel.send({})\n",
              "        if (message.buffers) {\n",
              "          for (const buffer of message.buffers) {\n",
              "            buffers.push(buffer);\n",
              "            downloaded += buffer.byteLength;\n",
              "            progress.value = downloaded;\n",
              "          }\n",
              "        }\n",
              "      }\n",
              "      const blob = new Blob(buffers, {type: 'application/binary'});\n",
              "      const a = document.createElement('a');\n",
              "      a.href = window.URL.createObjectURL(blob);\n",
              "      a.download = filename;\n",
              "      div.appendChild(a);\n",
              "      a.click();\n",
              "      div.remove();\n",
              "    }\n",
              "  "
            ]
          },
          "metadata": {}
        },
        {
          "output_type": "display_data",
          "data": {
            "text/plain": [
              "<IPython.core.display.Javascript object>"
            ],
            "application/javascript": [
              "download(\"download_e0cfeccb-089f-4802-b4fe-34df0e407523\", \"train4_encoded.parquet\", 67194478)"
            ]
          },
          "metadata": {}
        }
      ]
    },
    {
      "cell_type": "code",
      "source": [],
      "metadata": {
        "id": "JfEowtmfnH5J"
      },
      "execution_count": null,
      "outputs": []
    },
    {
      "cell_type": "code",
      "source": [],
      "metadata": {
        "id": "3vcu4lc9sFgP"
      },
      "execution_count": null,
      "outputs": []
    },
    {
      "cell_type": "code",
      "source": [
        "# # parquet 파일 열기\n",
        "# df1 = pd.read_parquet(\"201807_train_청구정보.parquet\")\n",
        "\n",
        "# # csv로 저장\n",
        "# df1.to_csv(\"201807_train_청구정보.csv\", index=False)\n"
      ],
      "metadata": {
        "id": "94C9aKHbZSK5"
      },
      "execution_count": null,
      "outputs": []
    },
    {
      "cell_type": "code",
      "source": [],
      "metadata": {
        "id": "-NLiTu0zncqj"
      },
      "execution_count": null,
      "outputs": []
    },
    {
      "cell_type": "code",
      "source": [
        "# # CSV 파일 불러오기\n",
        "# df = pd.read_csv('df_all.csv', encoding='cp949') # 경로는 필요 시 수정\n",
        "\n",
        "# # Parquet 파일로 저장\n",
        "# df.to_parquet('df_all.parquet', index=False)"
      ],
      "metadata": {
        "id": "dRho1ShqnSnx"
      },
      "execution_count": null,
      "outputs": []
    }
  ]
}