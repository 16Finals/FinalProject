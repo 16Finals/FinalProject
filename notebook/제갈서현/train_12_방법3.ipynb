{
  "nbformat": 4,
  "nbformat_minor": 0,
  "metadata": {
    "colab": {
      "provenance": []
    },
    "kernelspec": {
      "name": "python3",
      "display_name": "Python 3"
    },
    "language_info": {
      "name": "python"
    }
  },
  "cells": [
    {
      "cell_type": "code",
      "source": [
        "import matplotlib.pyplot as plt\n",
        "import seaborn as sns\n",
        "\n",
        "sns.set()\n",
        "\n",
        "# 그래프 기본 설정\n",
        "plt.rcParams['figure.figsize'] = 12, 6\n",
        "plt.rcParams['font.size'] = 14\n",
        "plt.rcParams['axes.unicode_minus'] = False\n",
        "import matplotlib as mpl\n",
        "import matplotlib.font_manager as fm\n",
        "\n",
        "# 폰트 파일 경로 지정\n",
        "font_path = '/content/drive/MyDrive/font/NanumGothic.ttf'\n",
        "\n",
        "# 폰트 등록 및 matplotlib 설정\n",
        "font_name = fm.FontProperties(fname=font_path).get_name()\n",
        "fm.fontManager.addfont(font_path)\n",
        "mpl.rc('font', family=font_name)"
      ],
      "metadata": {
        "id": "9l666cLu0vv6"
      },
      "execution_count": null,
      "outputs": []
    },
    {
      "cell_type": "code",
      "execution_count": null,
      "metadata": {
        "colab": {
          "base_uri": "https://localhost:8080/"
        },
        "id": "wRe1Als2u3vy",
        "outputId": "dfae2d76-929c-4e31-fc46-8e85b6bb4880"
      },
      "outputs": [
        {
          "output_type": "stream",
          "name": "stdout",
          "text": [
            "Drive already mounted at /content/drive; to attempt to forcibly remount, call drive.mount(\"/content/drive\", force_remount=True).\n"
          ]
        }
      ],
      "source": [
        "import pandas as pd\n",
        "from google.colab import drive, files\n",
        "\n",
        "# 1. Google Drive 마운트\n",
        "drive.mount('/content/drive')\n",
        "\n",
        "# 2. 파일 경로 설정 (사용자 지정 경로)\n",
        "data_root = '/content/drive/MyDrive/Colab Notebooks/final_project/final_sampling'\n",
        "file_path = f'{data_root}/train_12.parquet'\n",
        "\n",
        "# # 3. Parquet 파일 불러오기\n",
        "# df = pd.read_parquet(file_path)\n",
        "\n",
        "# # 4. CSV로 저장 (엑셀용 UTF-8-sig 인코딩)\n",
        "# csv_filename = 'train_12.csv'\n",
        "# df.to_csv(csv_filename, index=False, encoding='utf-8-sig')\n",
        "\n",
        "# # 5. 로컬로 다운로드\n",
        "# files.download(csv_filename)"
      ]
    },
    {
      "cell_type": "code",
      "source": [
        "import pandas as pd\n",
        "import numpy as np\n",
        "from sklearn.model_selection import train_test_split\n",
        "from sklearn.preprocessing import LabelEncoder, StandardScaler\n",
        "from sklearn.metrics import classification_report, confusion_matrix\n",
        "from xgboost import XGBClassifier\n",
        "import matplotlib.pyplot as plt\n",
        "import seaborn as sns"
      ],
      "metadata": {
        "id": "aiKuutHzzQbv"
      },
      "execution_count": null,
      "outputs": []
    },
    {
      "cell_type": "code",
      "source": [
        "# 파일 경로 설정\n",
        "data_root = '/content/drive/MyDrive/Colab Notebooks/final_project/final_sampling'\n",
        "\n",
        "X_path = f'{data_root}/train_12.parquet'\n",
        "y_path = f'{data_root}/segment_12.parquet'\n",
        "\n",
        "# 데이터 불러오기\n",
        "X_df = pd.read_parquet(X_path)\n",
        "y_df = pd.read_parquet(y_path)\n",
        "\n",
        "# ID 기준으로 병합\n",
        "df = pd.merge(X_df, y_df, on='ID', how='inner')\n",
        "\n",
        "# 확인\n",
        "print(df.shape)\n",
        "df.head()"
      ],
      "metadata": {
        "colab": {
          "base_uri": "https://localhost:8080/",
          "height": 482
        },
        "id": "e29orIE311aW",
        "outputId": "0ac0f1b3-75c1-482a-d3e2-958bcb1f4a25"
      },
      "execution_count": null,
      "outputs": [
        {
          "output_type": "stream",
          "name": "stdout",
          "text": [
            "(400000, 313)\n"
          ]
        },
        {
          "output_type": "execute_result",
          "data": {
            "text/plain": [
              "     기준년월            ID  이용금액_R3M_신용체크  입회경과개월수_신용  _1순위카드이용금액  회원여부_이용가능_카드론  \\\n",
              "0  201812  TRAIN_000000           -454          71        3027              0   \n",
              "1  201812  TRAIN_000001           7089          16        7259              1   \n",
              "2  201812  TRAIN_000002          27336         128       26968              0   \n",
              "3  201812  TRAIN_000003           4270          31        4807              0   \n",
              "4  201812  TRAIN_000004           9385           6        3989              1   \n",
              "\n",
              "   이용거절여부_카드론  최종카드발급경과월  이용금액_R3M_신용  _1순위카드이용건수  ...  변동률_잔액_CA_B1M  \\\n",
              "0           0         27         -454          25  ...       0.000000   \n",
              "1           0         23         7089          31  ...       0.000000   \n",
              "2           0         25        27336          52  ...      -0.115879   \n",
              "3           0         22         4270          27  ...       0.000000   \n",
              "4           0         20         7387          -2  ...       0.000000   \n",
              "\n",
              "   혜택수혜율_R3M  혜택수혜율_B0M  잔액_한도소진율  증감율_카드론_분기  증감율_일시불_분기  증감율_체크_분기  \\\n",
              "0   0.878859   1.398627  3.407027    0.143423   -0.609648   0.086480   \n",
              "1   0.000000   0.000000  5.196375    0.143423   -0.597498   0.086480   \n",
              "2   0.187467  -1.198788  4.332080    0.143423   -0.154887   0.086480   \n",
              "3   0.781401   1.282494  6.248569    0.143423    0.593422   0.086480   \n",
              "4   0.762016   0.986860 -2.056257    0.143423    4.964378  -0.654283   \n",
              "\n",
              "   증감율_카드론_전월  변동률_RV평잔  Segment  \n",
              "0    0.048726  0.321733        D  \n",
              "1    0.048726  0.214949        E  \n",
              "2    0.048726 -2.839702        C  \n",
              "3    0.048726  0.321733        D  \n",
              "4    0.048726  0.321733        E  \n",
              "\n",
              "[5 rows x 313 columns]"
            ],
            "text/html": [
              "\n",
              "  <div id=\"df-1e90be24-eef4-4371-92aa-2b11a72652ce\" class=\"colab-df-container\">\n",
              "    <div>\n",
              "<style scoped>\n",
              "    .dataframe tbody tr th:only-of-type {\n",
              "        vertical-align: middle;\n",
              "    }\n",
              "\n",
              "    .dataframe tbody tr th {\n",
              "        vertical-align: top;\n",
              "    }\n",
              "\n",
              "    .dataframe thead th {\n",
              "        text-align: right;\n",
              "    }\n",
              "</style>\n",
              "<table border=\"1\" class=\"dataframe\">\n",
              "  <thead>\n",
              "    <tr style=\"text-align: right;\">\n",
              "      <th></th>\n",
              "      <th>기준년월</th>\n",
              "      <th>ID</th>\n",
              "      <th>이용금액_R3M_신용체크</th>\n",
              "      <th>입회경과개월수_신용</th>\n",
              "      <th>_1순위카드이용금액</th>\n",
              "      <th>회원여부_이용가능_카드론</th>\n",
              "      <th>이용거절여부_카드론</th>\n",
              "      <th>최종카드발급경과월</th>\n",
              "      <th>이용금액_R3M_신용</th>\n",
              "      <th>_1순위카드이용건수</th>\n",
              "      <th>...</th>\n",
              "      <th>변동률_잔액_CA_B1M</th>\n",
              "      <th>혜택수혜율_R3M</th>\n",
              "      <th>혜택수혜율_B0M</th>\n",
              "      <th>잔액_한도소진율</th>\n",
              "      <th>증감율_카드론_분기</th>\n",
              "      <th>증감율_일시불_분기</th>\n",
              "      <th>증감율_체크_분기</th>\n",
              "      <th>증감율_카드론_전월</th>\n",
              "      <th>변동률_RV평잔</th>\n",
              "      <th>Segment</th>\n",
              "    </tr>\n",
              "  </thead>\n",
              "  <tbody>\n",
              "    <tr>\n",
              "      <th>0</th>\n",
              "      <td>201812</td>\n",
              "      <td>TRAIN_000000</td>\n",
              "      <td>-454</td>\n",
              "      <td>71</td>\n",
              "      <td>3027</td>\n",
              "      <td>0</td>\n",
              "      <td>0</td>\n",
              "      <td>27</td>\n",
              "      <td>-454</td>\n",
              "      <td>25</td>\n",
              "      <td>...</td>\n",
              "      <td>0.000000</td>\n",
              "      <td>0.878859</td>\n",
              "      <td>1.398627</td>\n",
              "      <td>3.407027</td>\n",
              "      <td>0.143423</td>\n",
              "      <td>-0.609648</td>\n",
              "      <td>0.086480</td>\n",
              "      <td>0.048726</td>\n",
              "      <td>0.321733</td>\n",
              "      <td>D</td>\n",
              "    </tr>\n",
              "    <tr>\n",
              "      <th>1</th>\n",
              "      <td>201812</td>\n",
              "      <td>TRAIN_000001</td>\n",
              "      <td>7089</td>\n",
              "      <td>16</td>\n",
              "      <td>7259</td>\n",
              "      <td>1</td>\n",
              "      <td>0</td>\n",
              "      <td>23</td>\n",
              "      <td>7089</td>\n",
              "      <td>31</td>\n",
              "      <td>...</td>\n",
              "      <td>0.000000</td>\n",
              "      <td>0.000000</td>\n",
              "      <td>0.000000</td>\n",
              "      <td>5.196375</td>\n",
              "      <td>0.143423</td>\n",
              "      <td>-0.597498</td>\n",
              "      <td>0.086480</td>\n",
              "      <td>0.048726</td>\n",
              "      <td>0.214949</td>\n",
              "      <td>E</td>\n",
              "    </tr>\n",
              "    <tr>\n",
              "      <th>2</th>\n",
              "      <td>201812</td>\n",
              "      <td>TRAIN_000002</td>\n",
              "      <td>27336</td>\n",
              "      <td>128</td>\n",
              "      <td>26968</td>\n",
              "      <td>0</td>\n",
              "      <td>0</td>\n",
              "      <td>25</td>\n",
              "      <td>27336</td>\n",
              "      <td>52</td>\n",
              "      <td>...</td>\n",
              "      <td>-0.115879</td>\n",
              "      <td>0.187467</td>\n",
              "      <td>-1.198788</td>\n",
              "      <td>4.332080</td>\n",
              "      <td>0.143423</td>\n",
              "      <td>-0.154887</td>\n",
              "      <td>0.086480</td>\n",
              "      <td>0.048726</td>\n",
              "      <td>-2.839702</td>\n",
              "      <td>C</td>\n",
              "    </tr>\n",
              "    <tr>\n",
              "      <th>3</th>\n",
              "      <td>201812</td>\n",
              "      <td>TRAIN_000003</td>\n",
              "      <td>4270</td>\n",
              "      <td>31</td>\n",
              "      <td>4807</td>\n",
              "      <td>0</td>\n",
              "      <td>0</td>\n",
              "      <td>22</td>\n",
              "      <td>4270</td>\n",
              "      <td>27</td>\n",
              "      <td>...</td>\n",
              "      <td>0.000000</td>\n",
              "      <td>0.781401</td>\n",
              "      <td>1.282494</td>\n",
              "      <td>6.248569</td>\n",
              "      <td>0.143423</td>\n",
              "      <td>0.593422</td>\n",
              "      <td>0.086480</td>\n",
              "      <td>0.048726</td>\n",
              "      <td>0.321733</td>\n",
              "      <td>D</td>\n",
              "    </tr>\n",
              "    <tr>\n",
              "      <th>4</th>\n",
              "      <td>201812</td>\n",
              "      <td>TRAIN_000004</td>\n",
              "      <td>9385</td>\n",
              "      <td>6</td>\n",
              "      <td>3989</td>\n",
              "      <td>1</td>\n",
              "      <td>0</td>\n",
              "      <td>20</td>\n",
              "      <td>7387</td>\n",
              "      <td>-2</td>\n",
              "      <td>...</td>\n",
              "      <td>0.000000</td>\n",
              "      <td>0.762016</td>\n",
              "      <td>0.986860</td>\n",
              "      <td>-2.056257</td>\n",
              "      <td>0.143423</td>\n",
              "      <td>4.964378</td>\n",
              "      <td>-0.654283</td>\n",
              "      <td>0.048726</td>\n",
              "      <td>0.321733</td>\n",
              "      <td>E</td>\n",
              "    </tr>\n",
              "  </tbody>\n",
              "</table>\n",
              "<p>5 rows × 313 columns</p>\n",
              "</div>\n",
              "    <div class=\"colab-df-buttons\">\n",
              "\n",
              "  <div class=\"colab-df-container\">\n",
              "    <button class=\"colab-df-convert\" onclick=\"convertToInteractive('df-1e90be24-eef4-4371-92aa-2b11a72652ce')\"\n",
              "            title=\"Convert this dataframe to an interactive table.\"\n",
              "            style=\"display:none;\">\n",
              "\n",
              "  <svg xmlns=\"http://www.w3.org/2000/svg\" height=\"24px\" viewBox=\"0 -960 960 960\">\n",
              "    <path d=\"M120-120v-720h720v720H120Zm60-500h600v-160H180v160Zm220 220h160v-160H400v160Zm0 220h160v-160H400v160ZM180-400h160v-160H180v160Zm440 0h160v-160H620v160ZM180-180h160v-160H180v160Zm440 0h160v-160H620v160Z\"/>\n",
              "  </svg>\n",
              "    </button>\n",
              "\n",
              "  <style>\n",
              "    .colab-df-container {\n",
              "      display:flex;\n",
              "      gap: 12px;\n",
              "    }\n",
              "\n",
              "    .colab-df-convert {\n",
              "      background-color: #E8F0FE;\n",
              "      border: none;\n",
              "      border-radius: 50%;\n",
              "      cursor: pointer;\n",
              "      display: none;\n",
              "      fill: #1967D2;\n",
              "      height: 32px;\n",
              "      padding: 0 0 0 0;\n",
              "      width: 32px;\n",
              "    }\n",
              "\n",
              "    .colab-df-convert:hover {\n",
              "      background-color: #E2EBFA;\n",
              "      box-shadow: 0px 1px 2px rgba(60, 64, 67, 0.3), 0px 1px 3px 1px rgba(60, 64, 67, 0.15);\n",
              "      fill: #174EA6;\n",
              "    }\n",
              "\n",
              "    .colab-df-buttons div {\n",
              "      margin-bottom: 4px;\n",
              "    }\n",
              "\n",
              "    [theme=dark] .colab-df-convert {\n",
              "      background-color: #3B4455;\n",
              "      fill: #D2E3FC;\n",
              "    }\n",
              "\n",
              "    [theme=dark] .colab-df-convert:hover {\n",
              "      background-color: #434B5C;\n",
              "      box-shadow: 0px 1px 3px 1px rgba(0, 0, 0, 0.15);\n",
              "      filter: drop-shadow(0px 1px 2px rgba(0, 0, 0, 0.3));\n",
              "      fill: #FFFFFF;\n",
              "    }\n",
              "  </style>\n",
              "\n",
              "    <script>\n",
              "      const buttonEl =\n",
              "        document.querySelector('#df-1e90be24-eef4-4371-92aa-2b11a72652ce button.colab-df-convert');\n",
              "      buttonEl.style.display =\n",
              "        google.colab.kernel.accessAllowed ? 'block' : 'none';\n",
              "\n",
              "      async function convertToInteractive(key) {\n",
              "        const element = document.querySelector('#df-1e90be24-eef4-4371-92aa-2b11a72652ce');\n",
              "        const dataTable =\n",
              "          await google.colab.kernel.invokeFunction('convertToInteractive',\n",
              "                                                    [key], {});\n",
              "        if (!dataTable) return;\n",
              "\n",
              "        const docLinkHtml = 'Like what you see? Visit the ' +\n",
              "          '<a target=\"_blank\" href=https://colab.research.google.com/notebooks/data_table.ipynb>data table notebook</a>'\n",
              "          + ' to learn more about interactive tables.';\n",
              "        element.innerHTML = '';\n",
              "        dataTable['output_type'] = 'display_data';\n",
              "        await google.colab.output.renderOutput(dataTable, element);\n",
              "        const docLink = document.createElement('div');\n",
              "        docLink.innerHTML = docLinkHtml;\n",
              "        element.appendChild(docLink);\n",
              "      }\n",
              "    </script>\n",
              "  </div>\n",
              "\n",
              "\n",
              "    <div id=\"df-2bccf9f2-3061-4b18-b3d4-183afe757ad1\">\n",
              "      <button class=\"colab-df-quickchart\" onclick=\"quickchart('df-2bccf9f2-3061-4b18-b3d4-183afe757ad1')\"\n",
              "                title=\"Suggest charts\"\n",
              "                style=\"display:none;\">\n",
              "\n",
              "<svg xmlns=\"http://www.w3.org/2000/svg\" height=\"24px\"viewBox=\"0 0 24 24\"\n",
              "     width=\"24px\">\n",
              "    <g>\n",
              "        <path d=\"M19 3H5c-1.1 0-2 .9-2 2v14c0 1.1.9 2 2 2h14c1.1 0 2-.9 2-2V5c0-1.1-.9-2-2-2zM9 17H7v-7h2v7zm4 0h-2V7h2v10zm4 0h-2v-4h2v4z\"/>\n",
              "    </g>\n",
              "</svg>\n",
              "      </button>\n",
              "\n",
              "<style>\n",
              "  .colab-df-quickchart {\n",
              "      --bg-color: #E8F0FE;\n",
              "      --fill-color: #1967D2;\n",
              "      --hover-bg-color: #E2EBFA;\n",
              "      --hover-fill-color: #174EA6;\n",
              "      --disabled-fill-color: #AAA;\n",
              "      --disabled-bg-color: #DDD;\n",
              "  }\n",
              "\n",
              "  [theme=dark] .colab-df-quickchart {\n",
              "      --bg-color: #3B4455;\n",
              "      --fill-color: #D2E3FC;\n",
              "      --hover-bg-color: #434B5C;\n",
              "      --hover-fill-color: #FFFFFF;\n",
              "      --disabled-bg-color: #3B4455;\n",
              "      --disabled-fill-color: #666;\n",
              "  }\n",
              "\n",
              "  .colab-df-quickchart {\n",
              "    background-color: var(--bg-color);\n",
              "    border: none;\n",
              "    border-radius: 50%;\n",
              "    cursor: pointer;\n",
              "    display: none;\n",
              "    fill: var(--fill-color);\n",
              "    height: 32px;\n",
              "    padding: 0;\n",
              "    width: 32px;\n",
              "  }\n",
              "\n",
              "  .colab-df-quickchart:hover {\n",
              "    background-color: var(--hover-bg-color);\n",
              "    box-shadow: 0 1px 2px rgba(60, 64, 67, 0.3), 0 1px 3px 1px rgba(60, 64, 67, 0.15);\n",
              "    fill: var(--button-hover-fill-color);\n",
              "  }\n",
              "\n",
              "  .colab-df-quickchart-complete:disabled,\n",
              "  .colab-df-quickchart-complete:disabled:hover {\n",
              "    background-color: var(--disabled-bg-color);\n",
              "    fill: var(--disabled-fill-color);\n",
              "    box-shadow: none;\n",
              "  }\n",
              "\n",
              "  .colab-df-spinner {\n",
              "    border: 2px solid var(--fill-color);\n",
              "    border-color: transparent;\n",
              "    border-bottom-color: var(--fill-color);\n",
              "    animation:\n",
              "      spin 1s steps(1) infinite;\n",
              "  }\n",
              "\n",
              "  @keyframes spin {\n",
              "    0% {\n",
              "      border-color: transparent;\n",
              "      border-bottom-color: var(--fill-color);\n",
              "      border-left-color: var(--fill-color);\n",
              "    }\n",
              "    20% {\n",
              "      border-color: transparent;\n",
              "      border-left-color: var(--fill-color);\n",
              "      border-top-color: var(--fill-color);\n",
              "    }\n",
              "    30% {\n",
              "      border-color: transparent;\n",
              "      border-left-color: var(--fill-color);\n",
              "      border-top-color: var(--fill-color);\n",
              "      border-right-color: var(--fill-color);\n",
              "    }\n",
              "    40% {\n",
              "      border-color: transparent;\n",
              "      border-right-color: var(--fill-color);\n",
              "      border-top-color: var(--fill-color);\n",
              "    }\n",
              "    60% {\n",
              "      border-color: transparent;\n",
              "      border-right-color: var(--fill-color);\n",
              "    }\n",
              "    80% {\n",
              "      border-color: transparent;\n",
              "      border-right-color: var(--fill-color);\n",
              "      border-bottom-color: var(--fill-color);\n",
              "    }\n",
              "    90% {\n",
              "      border-color: transparent;\n",
              "      border-bottom-color: var(--fill-color);\n",
              "    }\n",
              "  }\n",
              "</style>\n",
              "\n",
              "      <script>\n",
              "        async function quickchart(key) {\n",
              "          const quickchartButtonEl =\n",
              "            document.querySelector('#' + key + ' button');\n",
              "          quickchartButtonEl.disabled = true;  // To prevent multiple clicks.\n",
              "          quickchartButtonEl.classList.add('colab-df-spinner');\n",
              "          try {\n",
              "            const charts = await google.colab.kernel.invokeFunction(\n",
              "                'suggestCharts', [key], {});\n",
              "          } catch (error) {\n",
              "            console.error('Error during call to suggestCharts:', error);\n",
              "          }\n",
              "          quickchartButtonEl.classList.remove('colab-df-spinner');\n",
              "          quickchartButtonEl.classList.add('colab-df-quickchart-complete');\n",
              "        }\n",
              "        (() => {\n",
              "          let quickchartButtonEl =\n",
              "            document.querySelector('#df-2bccf9f2-3061-4b18-b3d4-183afe757ad1 button');\n",
              "          quickchartButtonEl.style.display =\n",
              "            google.colab.kernel.accessAllowed ? 'block' : 'none';\n",
              "        })();\n",
              "      </script>\n",
              "    </div>\n",
              "\n",
              "    </div>\n",
              "  </div>\n"
            ],
            "application/vnd.google.colaboratory.intrinsic+json": {
              "type": "dataframe",
              "variable_name": "df"
            }
          },
          "metadata": {},
          "execution_count": 40
        }
      ]
    },
    {
      "cell_type": "code",
      "source": [
        "# 타겟 변수와 피처 나누기\n",
        "target_col = 'Segment'\n",
        "X = df.drop(columns=[target_col])\n",
        "y = df[target_col]"
      ],
      "metadata": {
        "id": "cRlpFD5S3Opj"
      },
      "execution_count": null,
      "outputs": []
    },
    {
      "cell_type": "code",
      "source": [
        "# Label Encoder\n",
        "from sklearn.preprocessing import LabelEncoder\n",
        "\n",
        "# 타겟 값 y 인코딩\n",
        "le_y = LabelEncoder()\n",
        "y = le_y.fit_transform(y)\n",
        "\n",
        "# 타겟 값 X 인코딩\n",
        "cat_cols = X.select_dtypes(include='object').columns\n",
        "le = LabelEncoder()\n",
        "for col in cat_cols:\n",
        "    X[col] = le.fit_transform(X[col].astype(str))"
      ],
      "metadata": {
        "id": "ye9xmYRJ3RMe"
      },
      "execution_count": null,
      "outputs": []
    },
    {
      "cell_type": "code",
      "source": [
        "from sklearn.preprocessing import StandardScaler\n",
        "from sklearn.model_selection import train_test_split\n",
        "\n",
        "# 데이터 분할\n",
        "X_train, X_test, y_train, y_test = train_test_split(X, y, test_size=0.2, stratify=y, random_state=42)\n",
        "\n",
        "# 스케일링\n",
        "scaler = StandardScaler()\n",
        "X_train_scaled = scaler.fit_transform(X_train)\n",
        "X_test_scaled = scaler.transform(X_test)"
      ],
      "metadata": {
        "id": "RaJsgokW3wt-"
      },
      "execution_count": null,
      "outputs": []
    },
    {
      "cell_type": "markdown",
      "source": [
        "전처리 완료 변수들\n",
        "X, y: 병합 및 인코딩된 전체 데이터셋\n",
        "le_y: y(LabelEncoder 객체)\n",
        "X_train_scaled, X_test_scaled, y_train, y_test: 스케일링된 train/test 데이터셋\n",
        "\n",
        "# Segment 'E' vs 나머지 (XGBoost)"
      ],
      "metadata": {
        "id": "cDAZ0roNp-4o"
      }
    },
    {
      "cell_type": "code",
      "source": [
        "from xgboost import XGBClassifier\n",
        "import numpy as np\n",
        "\n",
        "# Step 1: E vs Others 분류용 라벨 생성\n",
        "y_train_step1 = (y_train == le_y.transform(['E'])[0]).astype(int)\n",
        "y_test_step1 = (y_test == le_y.transform(['E'])[0]).astype(int)\n",
        "\n",
        "model_step1 = XGBClassifier(random_state=42, use_label_encoder=False, eval_metric='mlogloss')\n",
        "model_step1.fit(X_train_scaled, y_train_step1)\n",
        "\n",
        "# 예측: 전체 test set에 대해 E 확률\n",
        "prob_E = model_step1.predict_proba(X_test_scaled)[:, 1]"
      ],
      "metadata": {
        "id": "iyVsjLOhzYwl",
        "colab": {
          "base_uri": "https://localhost:8080/"
        },
        "outputId": "1396c671-f881-4e9f-b8b9-fc95096ac2dd"
      },
      "execution_count": null,
      "outputs": [
        {
          "output_type": "stream",
          "name": "stderr",
          "text": [
            "/usr/local/lib/python3.11/dist-packages/xgboost/core.py:158: UserWarning: [14:40:58] WARNING: /workspace/src/learner.cc:740: \n",
            "Parameters: { \"use_label_encoder\" } are not used.\n",
            "\n",
            "  warnings.warn(smsg, UserWarning)\n"
          ]
        }
      ]
    },
    {
      "cell_type": "markdown",
      "source": [
        "# Segment 'C' vs 'D' vs 나머지 (RandomForest)\n",
        "- 간단 분류라 랜덤포레스트. but 추후 성능 향상 가능할 것 같다면 XGBoost도 시도"
      ],
      "metadata": {
        "id": "WO5jCqQ0q5vb"
      }
    },
    {
      "cell_type": "code",
      "source": [
        "from sklearn.ensemble import RandomForestClassifier\n",
        "\n",
        "# Step 2 대상 추출: model1이 E가 아니라고 판단한 인덱스\n",
        "not_E_indices = prob_E < 0.5\n",
        "X_test_step2 = X_test_scaled[not_E_indices]\n",
        "y_test_not_E = y_test[not_E_indices]\n",
        "\n",
        "# Step 2 라벨: C=0, D=1, Others(A/B)=2\n",
        "y_train_step2 = np.where(\n",
        "    y_train == le_y.transform(['C'])[0], 0,\n",
        "    np.where(y_train == le_y.transform(['D'])[0], 1, 2)\n",
        ")\n",
        "y_test_step2 = np.where(\n",
        "    y_test_not_E == le_y.transform(['C'])[0], 0,\n",
        "    np.where(y_test_not_E == le_y.transform(['D'])[0], 1, 2)\n",
        ")\n",
        "\n",
        "model_step2 = RandomForestClassifier(random_state=42)\n",
        "model_step2.fit(X_train_scaled, y_train_step2)\n",
        "\n",
        "# 예측\n",
        "pred_step2 = model_step2.predict(X_test_step2)"
      ],
      "metadata": {
        "id": "y2eJe4eZoq9k"
      },
      "execution_count": null,
      "outputs": []
    },
    {
      "cell_type": "markdown",
      "source": [
        "# Segment 'A' vs 'B'(XGBoost)"
      ],
      "metadata": {
        "id": "hoBmW7oUurVw"
      }
    },
    {
      "cell_type": "code",
      "source": [
        "# Step 3 대상 추출: model2가 Others라고 판단한 인덱스\n",
        "from sklearn.utils import resample\n",
        "\n",
        "step2_is_ab = pred_step2 == 2\n",
        "X_test_step3 = X_test_step2[step2_is_ab]\n",
        "y_test_step3_true = y_test_not_E[step2_is_ab]\n",
        "\n",
        "# Step 3 학습 라벨: A=0, B=1 (학습 대상도 A/B만 뽑아야 함)\n",
        "ab_mask = np.isin(y_train, le_y.transform(['A', 'B']))\n",
        "X_train_ab = X_train_scaled[ab_mask]\n",
        "y_train_ab = np.where(y_train[ab_mask] == le_y.transform(['A'])[0], 0, 1)\n",
        "\n",
        "model_step3 = XGBClassifier(random_state=42, use_label_encoder=False, eval_metric='mlogloss')\n",
        "model_step3.fit(X_train_ab, y_train_ab)\n",
        "\n",
        "# 예측\n",
        "pred_step3 = model_step3.predict(X_test_step3)"
      ],
      "metadata": {
        "id": "s5DdCFHa618_",
        "colab": {
          "base_uri": "https://localhost:8080/"
        },
        "outputId": "afea2535-6684-4485-99fc-60ce5a7b65ca"
      },
      "execution_count": null,
      "outputs": [
        {
          "output_type": "stream",
          "name": "stderr",
          "text": [
            "/usr/local/lib/python3.11/dist-packages/xgboost/core.py:158: UserWarning: [14:49:37] WARNING: /workspace/src/learner.cc:740: \n",
            "Parameters: { \"use_label_encoder\" } are not used.\n",
            "\n",
            "  warnings.warn(smsg, UserWarning)\n"
          ]
        }
      ]
    },
    {
      "cell_type": "markdown",
      "source": [
        "# 최종 결과 결합"
      ],
      "metadata": {
        "id": "tJU1h0hSwTch"
      }
    },
    {
      "cell_type": "code",
      "source": [
        "# 기본값: 전부 E라고 초기화\n",
        "final_preds = np.full_like(y_test, fill_value=le_y.transform(['E'])[0])\n",
        "\n",
        "# Step 1에서 Not E로 분류된 인덱스 → Step 2 결과 대입\n",
        "final_preds[not_E_indices] = np.where(pred_step2 == 0, le_y.transform(['C'])[0],\n",
        "                              np.where(pred_step2 == 1, le_y.transform(['D'])[0], -1))\n",
        "\n",
        "# Step 2에서 A/B로 분류된 것만 Step 3 예측으로 대체\n",
        "final_preds_idx_step3 = np.where(not_E_indices)[0][step2_is_ab]\n",
        "final_preds[final_preds_idx_step3] = np.where(pred_step3 == 0, le_y.transform(['A'])[0], le_y.transform(['B'])[0])"
      ],
      "metadata": {
        "id": "ddaznol0DWK9"
      },
      "execution_count": null,
      "outputs": []
    },
    {
      "cell_type": "markdown",
      "source": [
        "#최종 평가"
      ],
      "metadata": {
        "id": "7gF6lKcYwi0R"
      }
    },
    {
      "cell_type": "code",
      "source": [
        "from sklearn.metrics import classification_report\n",
        "\n",
        "print(\"Final Classification Report:\\n\",\n",
        "      classification_report(y_test, final_preds, target_names=le_y.classes_))"
      ],
      "metadata": {
        "id": "hHvoJ4OdmFJl",
        "colab": {
          "base_uri": "https://localhost:8080/"
        },
        "outputId": "b86f12f6-6d2e-4085-d7cd-9f3cb0b7b8b5"
      },
      "execution_count": null,
      "outputs": [
        {
          "output_type": "stream",
          "name": "stdout",
          "text": [
            "Final Classification Report:\n",
            "               precision    recall  f1-score   support\n",
            "\n",
            "           A       0.00      0.03      0.00        32\n",
            "           B       0.00      0.00      0.00         5\n",
            "           C       0.71      0.51      0.59      4253\n",
            "           D       0.72      0.55      0.62     11642\n",
            "           E       0.95      0.97      0.96     64068\n",
            "\n",
            "    accuracy                           0.88     80000\n",
            "   macro avg       0.48      0.41      0.44     80000\n",
            "weighted avg       0.91      0.88      0.89     80000\n",
            "\n"
          ]
        }
      ]
    },
    {
      "cell_type": "markdown",
      "source": [
        "- A, B 클래스는 여전히 거의 예측 불가\n",
        "\n",
        "| Segment | Precision | Recall | F1-score | 해석                        |\n",
        "| ------- | --------- | ------ | -------- | ------------------------- |\n",
        "| **E**   | 0.95      | 0.97   | 0.96     | 거의 완벽하게 잘 맞춤 (데이터가 가장 많음) |\n",
        "| **D**   | 0.72      | 0.55   | 0.62     | 꽤 잘 예측하고 있음 (다음으로 많은 클래스) |\n",
        "| **C**   | 0.71      | 0.51   | 0.59     | 비교적 성능 양호함                |\n",
        "| **A**   | 0.00      | 0.03   | 0.00     | 완전 실패에 가까움 (소수 클래스)       |\n",
        "| **B**   | 0.00      | 0.00   | 0.00     | 예측 거의 안 됨                 |\n",
        "\n",
        "- 방법 3은 E, C, D 예측을 잘 다듬는 데는 효과적이나 데이터 구조적 한계 여전"
      ],
      "metadata": {
        "id": "5D4RMVMBzvKI"
      }
    },
    {
      "cell_type": "code",
      "source": [],
      "metadata": {
        "id": "bqgZ8It7mFpH"
      },
      "execution_count": null,
      "outputs": []
    },
    {
      "cell_type": "markdown",
      "source": [
        "#어카지 1. A, B 클래스 EDA를 다시\n",
        "<분석 목표>\n",
        "- A와 B 클래스는 어떤 특성이 있는가?\n",
        "- 다른 세그먼트 대비 구분 가능한 특징이 있는가?\n",
        "- 모델링 시 어떤 변수들이 도움이 될까?\n",
        "- SMOTE나 별도 모델링 대상이 될만한가?"
      ],
      "metadata": {
        "id": "ecWBb0fR296e"
      }
    },
    {
      "cell_type": "markdown",
      "source": [
        "<인사이트>\n",
        "- A/B가 심하게 적음 → SMOTE나 별도 모델 필수\n",
        "- 총이용건수/금액 등은 B가 거의 0에 가까운 반면, A는 넓게 퍼져 있음\n",
        "- 할부이용건수, 대중교통이용건수 등은 A에 비해 B에서 극단적으로 낮거나 아예 없음 -> A/B가 확연히 다른 컬럼"
      ],
      "metadata": {
        "id": "2LvOzjSvjunQ"
      }
    },
    {
      "cell_type": "markdown",
      "source": [
        "#어카지2. SMOTE + XGB/RdForest\n",
        "단일 모델 각 돌려보고 A/B 구분을 위한 전용 모델링"
      ],
      "metadata": {
        "id": "X16lZweuD1-O"
      }
    },
    {
      "cell_type": "code",
      "source": [
        "# 필요한 라이브러리\n",
        "from imblearn.over_sampling import SMOTE\n",
        "from sklearn.model_selection import train_test_split\n",
        "from sklearn.preprocessing import LabelEncoder, StandardScaler\n",
        "import pandas as pd\n",
        "import numpy as np\n",
        "\n",
        "# 데이터 불러오기\n",
        "X = pd.read_parquet('/content/drive/MyDrive/Colab Notebooks/final_project/final_sampling/train_12.parquet')\n",
        "y = pd.read_parquet('/content/drive/MyDrive/Colab Notebooks/final_project/final_sampling/segment_12.parquet')\n",
        "\n",
        "# 병합\n",
        "df = pd.merge(X, y, on='ID', how='inner')\n",
        "df['Segment'] = LabelEncoder().fit_transform(df['Segment'])\n",
        "\n",
        "# 피처/라벨 분리\n",
        "X = df.drop(columns=['Segment'])\n",
        "y = df['Segment']\n",
        "\n",
        "# 범주형 인코딩\n",
        "cat_cols = X.select_dtypes(include='object').columns\n",
        "for col in cat_cols:\n",
        "    X[col] = LabelEncoder().fit_transform(X[col].astype(str))\n",
        "\n",
        "# 데이터 분할\n",
        "X_train, X_test, y_train, y_test = train_test_split(\n",
        "    X, y, test_size=0.2, stratify=y, random_state=42\n",
        ")\n",
        "\n",
        "# 스케일링\n",
        "scaler = StandardScaler()\n",
        "X_train_scaled = scaler.fit_transform(X_train)\n",
        "X_test_scaled = scaler.transform(X_test)\n",
        "\n",
        "# SMOTE: A=0, B=1 → 각 2000개로 증강\n",
        "smote = SMOTE(sampling_strategy={0: 2000, 1: 2000}, random_state=42, k_neighbors=3)\n",
        "X_train_resampled, y_train_resampled = smote.fit_resample(X_train_scaled, y_train)\n",
        "\n",
        "# 클래스 분포 확인\n",
        "print(\"Before SMOTE:\", np.bincount(y_train))\n",
        "print(\"After SMOTE:\", np.bincount(y_train_resampled))"
      ],
      "metadata": {
        "colab": {
          "base_uri": "https://localhost:8080/"
        },
        "id": "ykVhOEwuzw1R",
        "outputId": "04646327-b91e-4400-925e-1b3ba1a1c7a8"
      },
      "execution_count": null,
      "outputs": [
        {
          "output_type": "stream",
          "name": "stdout",
          "text": [
            "Before SMOTE: [   130     19  17012  46565 256274]\n",
            "After SMOTE: [  2000   2000  17012  46565 256274]\n"
          ]
        }
      ]
    },
    {
      "cell_type": "code",
      "source": [
        "!pip install imbalanced-learn\n",
        "from imblearn.over_sampling import SMOTE"
      ],
      "metadata": {
        "colab": {
          "base_uri": "https://localhost:8080/"
        },
        "id": "YwJGY-0x3Epz",
        "outputId": "3c4577e0-9474-43a4-ff20-d5df3a983aff"
      },
      "execution_count": null,
      "outputs": [
        {
          "output_type": "stream",
          "name": "stdout",
          "text": [
            "Requirement already satisfied: imbalanced-learn in /usr/local/lib/python3.11/dist-packages (0.13.0)\n",
            "Requirement already satisfied: numpy<3,>=1.24.3 in /usr/local/lib/python3.11/dist-packages (from imbalanced-learn) (2.0.2)\n",
            "Requirement already satisfied: scipy<2,>=1.10.1 in /usr/local/lib/python3.11/dist-packages (from imbalanced-learn) (1.15.3)\n",
            "Requirement already satisfied: scikit-learn<2,>=1.3.2 in /usr/local/lib/python3.11/dist-packages (from imbalanced-learn) (1.6.1)\n",
            "Requirement already satisfied: sklearn-compat<1,>=0.1 in /usr/local/lib/python3.11/dist-packages (from imbalanced-learn) (0.1.3)\n",
            "Requirement already satisfied: joblib<2,>=1.1.1 in /usr/local/lib/python3.11/dist-packages (from imbalanced-learn) (1.5.1)\n",
            "Requirement already satisfied: threadpoolctl<4,>=2.0.0 in /usr/local/lib/python3.11/dist-packages (from imbalanced-learn) (3.6.0)\n"
          ]
        }
      ]
    },
    {
      "cell_type": "code",
      "source": [
        "from imblearn.over_sampling import SMOTE\n",
        "from sklearn.model_selection import train_test_split\n",
        "from sklearn.preprocessing import LabelEncoder, StandardScaler\n",
        "from xgboost import XGBClassifier\n",
        "from sklearn.ensemble import RandomForestClassifier\n",
        "from sklearn.metrics import classification_report, accuracy_score\n",
        "import pandas as pd\n",
        "import numpy as np\n",
        "\n",
        "# 1. 데이터 불러오기\n",
        "X_df = pd.read_parquet(\"/content/drive/MyDrive/Colab Notebooks/final_project/final_sampling/train_12.parquet\")\n",
        "y_df = pd.read_parquet(\"/content/drive/MyDrive/Colab Notebooks/final_project/final_sampling/segment_12.parquet\")\n",
        "df = pd.merge(X_df, y_df, on='ID', how='inner')\n",
        "\n",
        "# 2. 인코딩\n",
        "le_y = LabelEncoder()\n",
        "df['Segment'] = le_y.fit_transform(df['Segment'])\n",
        "X = df.drop(columns=['Segment'])\n",
        "y = df['Segment']\n",
        "\n",
        "cat_cols = X.select_dtypes(include='object').columns\n",
        "for col in cat_cols:\n",
        "    X[col] = LabelEncoder().fit_transform(X[col].astype(str))\n",
        "\n",
        "# 3. 분할 + 스케일링\n",
        "X_train, X_test, y_train, y_test = train_test_split(X, y, test_size=0.2, stratify=y, random_state=42)\n",
        "scaler = StandardScaler()\n",
        "X_train_scaled = scaler.fit_transform(X_train)\n",
        "X_test_scaled = scaler.transform(X_test)\n",
        "\n",
        "# 4. SMOTE (A=0, B=1만 증강)\n",
        "smote = SMOTE(sampling_strategy={0: 2000, 1: 2000}, random_state=42, k_neighbors=3)\n",
        "X_train_resampled, y_train_resampled = smote.fit_resample(X_train_scaled, y_train)\n",
        "\n",
        "# 5. XGBoost\n",
        "xgb = XGBClassifier(random_state=42, use_label_encoder=False, eval_metric='mlogloss')\n",
        "xgb.fit(X_train_resampled, y_train_resampled)\n",
        "y_pred_xgb = xgb.predict(X_test_scaled)\n",
        "\n",
        "# 6. RandomForest\n",
        "rf = RandomForestClassifier(random_state=42)\n",
        "rf.fit(X_train_resampled, y_train_resampled)\n",
        "y_pred_rf = rf.predict(X_test_scaled)\n",
        "\n",
        "# 7. 결과 출력\n",
        "print(\"XGBoost:\\n\", classification_report(y_test, y_pred_xgb, target_names=le_y.classes_))\n",
        "print(\"RandomForest:\\n\", classification_report(y_test, y_pred_rf, target_names=le_y.classes_))"
      ],
      "metadata": {
        "colab": {
          "base_uri": "https://localhost:8080/"
        },
        "id": "0lAluoF6Ildz",
        "outputId": "31a9f43d-2366-4f73-f326-574fc3c83c4d"
      },
      "execution_count": null,
      "outputs": [
        {
          "output_type": "stream",
          "name": "stderr",
          "text": [
            "/usr/local/lib/python3.11/dist-packages/xgboost/core.py:158: UserWarning: [14:50:27] WARNING: /workspace/src/learner.cc:740: \n",
            "Parameters: { \"use_label_encoder\" } are not used.\n",
            "\n",
            "  warnings.warn(smsg, UserWarning)\n"
          ]
        },
        {
          "output_type": "stream",
          "name": "stdout",
          "text": [
            "XGBoost:\n",
            "               precision    recall  f1-score   support\n",
            "\n",
            "           A       0.44      0.22      0.29        32\n",
            "           B       0.00      0.00      0.00         5\n",
            "           C       0.72      0.60      0.65      4253\n",
            "           D       0.74      0.69      0.71     11642\n",
            "           E       0.95      0.97      0.96     64068\n",
            "\n",
            "    accuracy                           0.91     80000\n",
            "   macro avg       0.57      0.50      0.52     80000\n",
            "weighted avg       0.91      0.91      0.91     80000\n",
            "\n",
            "RandomForest:\n",
            "               precision    recall  f1-score   support\n",
            "\n",
            "           A       0.62      0.16      0.25        32\n",
            "           B       0.00      0.00      0.00         5\n",
            "           C       0.71      0.51      0.59      4253\n",
            "           D       0.68      0.58      0.62     11642\n",
            "           E       0.93      0.97      0.95     64068\n",
            "\n",
            "    accuracy                           0.89     80000\n",
            "   macro avg       0.59      0.44      0.48     80000\n",
            "weighted avg       0.88      0.89      0.88     80000\n",
            "\n"
          ]
        },
        {
          "output_type": "stream",
          "name": "stderr",
          "text": [
            "/usr/local/lib/python3.11/dist-packages/sklearn/metrics/_classification.py:1565: UndefinedMetricWarning: Precision is ill-defined and being set to 0.0 in labels with no predicted samples. Use `zero_division` parameter to control this behavior.\n",
            "  _warn_prf(average, modifier, f\"{metric.capitalize()} is\", len(result))\n",
            "/usr/local/lib/python3.11/dist-packages/sklearn/metrics/_classification.py:1565: UndefinedMetricWarning: Precision is ill-defined and being set to 0.0 in labels with no predicted samples. Use `zero_division` parameter to control this behavior.\n",
            "  _warn_prf(average, modifier, f\"{metric.capitalize()} is\", len(result))\n",
            "/usr/local/lib/python3.11/dist-packages/sklearn/metrics/_classification.py:1565: UndefinedMetricWarning: Precision is ill-defined and being set to 0.0 in labels with no predicted samples. Use `zero_division` parameter to control this behavior.\n",
            "  _warn_prf(average, modifier, f\"{metric.capitalize()} is\", len(result))\n"
          ]
        }
      ]
    },
    {
      "cell_type": "markdown",
      "source": [
        "A, B 클래스 샘플 수 조정해서 다시"
      ],
      "metadata": {
        "id": "CGkEdwM4PkrM"
      }
    },
    {
      "cell_type": "code",
      "source": [
        "from imblearn.over_sampling import SMOTE\n",
        "from sklearn.model_selection import train_test_split\n",
        "from sklearn.preprocessing import LabelEncoder, StandardScaler\n",
        "from xgboost import XGBClassifier\n",
        "from sklearn.ensemble import RandomForestClassifier\n",
        "from sklearn.metrics import classification_report, accuracy_score\n",
        "import pandas as pd\n",
        "\n",
        "# 데이터 불러오기 및 병합\n",
        "X_df = pd.read_parquet(f'{data_root}/train_12.parquet')\n",
        "y_df = pd.read_parquet(f'{data_root}/segment_12.parquet')\n",
        "df = pd.merge(X_df, y_df, on='ID', how='inner')\n",
        "\n",
        "f'{data_root}/train_12.parquet'\n",
        "\n",
        "# 타겟 인코딩\n",
        "le_y = LabelEncoder()\n",
        "df['Segment'] = le_y.fit_transform(df['Segment'])\n",
        "X = df.drop(columns=['Segment'])\n",
        "y = df['Segment']\n",
        "\n",
        "# 범주형 인코딩\n",
        "cat_cols = X.select_dtypes(include='object').columns\n",
        "for col in cat_cols:\n",
        "    X[col] = LabelEncoder().fit_transform(X[col].astype(str))\n",
        "\n",
        "# 데이터 분할 및 스케일링\n",
        "X_train, X_test, y_train, y_test = train_test_split(\n",
        "    X, y, test_size=0.2, stratify=y, random_state=42\n",
        ")\n",
        "scaler = StandardScaler()\n",
        "X_train_scaled = scaler.fit_transform(X_train)\n",
        "X_test_scaled = scaler.transform(X_test)\n",
        "\n",
        "# SMOTE: A → 3000, B → 5000\n",
        "smote = SMOTE(sampling_strategy={0: 3000, 1: 5000}, random_state=42, k_neighbors=3)\n",
        "X_train_resampled, y_train_resampled = smote.fit_resample(X_train_scaled, y_train)\n",
        "\n",
        "# 모델 학습\n",
        "xgb = XGBClassifier(random_state=42, use_label_encoder=False, eval_metric='mlogloss')\n",
        "rf = RandomForestClassifier(random_state=42)\n",
        "\n",
        "xgb.fit(X_train_resampled, y_train_resampled)\n",
        "rf.fit(X_train_resampled, y_train_resampled)\n",
        "\n",
        "# 예측\n",
        "y_pred_xgb = xgb.predict(X_test_scaled)\n",
        "y_pred_rf = rf.predict(X_test_scaled)\n",
        "\n",
        "# 평가 출력\n",
        "print(\"XGBoost Classification Report:\\n\", classification_report(y_test, y_pred_xgb, target_names=le_y.classes_))\n",
        "print(\"\\nRandomForest Classification Report:\\n\", classification_report(y_test, y_pred_rf, target_names=le_y.classes_))\n"
      ],
      "metadata": {
        "colab": {
          "base_uri": "https://localhost:8080/"
        },
        "id": "X18KxwAQLGwg",
        "outputId": "e80c08d3-5698-4186-db3d-5e2b757c2071"
      },
      "execution_count": null,
      "outputs": [
        {
          "output_type": "stream",
          "name": "stderr",
          "text": [
            "/usr/local/lib/python3.11/dist-packages/xgboost/core.py:158: UserWarning: [15:02:39] WARNING: /workspace/src/learner.cc:740: \n",
            "Parameters: { \"use_label_encoder\" } are not used.\n",
            "\n",
            "  warnings.warn(smsg, UserWarning)\n"
          ]
        },
        {
          "output_type": "stream",
          "name": "stdout",
          "text": [
            "XGBoost Classification Report:\n",
            "               precision    recall  f1-score   support\n",
            "\n",
            "           A       0.39      0.28      0.33        32\n",
            "           B       0.00      0.00      0.00         5\n",
            "           C       0.72      0.59      0.65      4253\n",
            "           D       0.74      0.69      0.71     11642\n",
            "           E       0.95      0.97      0.96     64068\n",
            "\n",
            "    accuracy                           0.91     80000\n",
            "   macro avg       0.56      0.51      0.53     80000\n",
            "weighted avg       0.91      0.91      0.91     80000\n",
            "\n",
            "\n",
            "RandomForest Classification Report:\n",
            "               precision    recall  f1-score   support\n",
            "\n",
            "           A       0.33      0.09      0.15        32\n",
            "           B       0.00      0.00      0.00         5\n",
            "           C       0.70      0.51      0.59      4253\n",
            "           D       0.68      0.58      0.62     11642\n",
            "           E       0.93      0.97      0.95     64068\n",
            "\n",
            "    accuracy                           0.89     80000\n",
            "   macro avg       0.53      0.43      0.46     80000\n",
            "weighted avg       0.88      0.89      0.88     80000\n",
            "\n"
          ]
        },
        {
          "output_type": "stream",
          "name": "stderr",
          "text": [
            "/usr/local/lib/python3.11/dist-packages/sklearn/metrics/_classification.py:1565: UndefinedMetricWarning: Precision is ill-defined and being set to 0.0 in labels with no predicted samples. Use `zero_division` parameter to control this behavior.\n",
            "  _warn_prf(average, modifier, f\"{metric.capitalize()} is\", len(result))\n",
            "/usr/local/lib/python3.11/dist-packages/sklearn/metrics/_classification.py:1565: UndefinedMetricWarning: Precision is ill-defined and being set to 0.0 in labels with no predicted samples. Use `zero_division` parameter to control this behavior.\n",
            "  _warn_prf(average, modifier, f\"{metric.capitalize()} is\", len(result))\n",
            "/usr/local/lib/python3.11/dist-packages/sklearn/metrics/_classification.py:1565: UndefinedMetricWarning: Precision is ill-defined and being set to 0.0 in labels with no predicted samples. Use `zero_division` parameter to control this behavior.\n",
            "  _warn_prf(average, modifier, f\"{metric.capitalize()} is\", len(result))\n"
          ]
        }
      ]
    },
    {
      "cell_type": "markdown",
      "source": [
        "#어카지3. A vs B 분류 다시 (XGBoost + SMOTE 1000:2000)"
      ],
      "metadata": {
        "id": "EE9uZIzopcpI"
      }
    },
    {
      "cell_type": "code",
      "source": [
        "import pandas as pd\n",
        "from sklearn.model_selection import train_test_split\n",
        "from sklearn.preprocessing import LabelEncoder, StandardScaler\n",
        "from sklearn.metrics import classification_report\n",
        "from imblearn.over_sampling import SMOTE\n",
        "from xgboost import XGBClassifier\n",
        "\n",
        "# 1. 데이터 불러오기 (A/B만 포함된 CSV 파일)\n",
        "ab_df = pd.read_csv(\"/content/drive/MyDrive/Colab Notebooks/final_project/final_sampling/segment_ab.csv\")\n",
        "\n",
        "# 2. 피처/타겟 분리\n",
        "X_ab = ab_df.drop(columns=[\"ID\", \"Segment\"])\n",
        "y_ab = ab_df[\"Segment\"]\n",
        "\n",
        "# 3. 타겟 라벨 인코딩 (A → 0, B → 1)\n",
        "le_ab = LabelEncoder()\n",
        "y_encoded = le_ab.fit_transform(y_ab)\n",
        "\n",
        "# 4. 스케일링\n",
        "scaler = StandardScaler()\n",
        "X_scaled = scaler.fit_transform(X_ab)\n",
        "\n",
        "# 5. 데이터 분할\n",
        "X_train, X_test, y_train, y_test = train_test_split(\n",
        "    X_scaled, y_encoded, test_size=0.2, stratify=y_encoded, random_state=42\n",
        ")\n",
        "\n",
        "# 6. SMOTE 적용 (A: 1000, B: 2000 샘플로 증강)\n",
        "smote = SMOTE(sampling_strategy={0: 1000, 1: 2000}, random_state=42)\n",
        "X_train_res, y_train_res = smote.fit_resample(X_train, y_train)\n",
        "\n",
        "# 7. XGBoost 모델 학습\n",
        "model = XGBClassifier(random_state=42, eval_metric=\"mlogloss\")\n",
        "model.fit(X_train_res, y_train_res)\n",
        "\n",
        "# 8. 예측 및 평가\n",
        "y_pred = model.predict(X_test)\n",
        "target_names = le_ab.classes_  # ['A', 'B']\n",
        "print(\"Classification Report:\\n\")\n",
        "print(classification_report(y_test, y_pred, target_names=target_names))"
      ],
      "metadata": {
        "id": "iaAVsxDzPvVZ",
        "colab": {
          "base_uri": "https://localhost:8080/"
        },
        "outputId": "08790db3-3907-4f90-f96b-f041c05ff8f7"
      },
      "execution_count": null,
      "outputs": [
        {
          "output_type": "stream",
          "name": "stdout",
          "text": [
            "Classification Report:\n",
            "\n",
            "              precision    recall  f1-score   support\n",
            "\n",
            "           A       0.91      0.94      0.93        33\n",
            "           B       0.50      0.40      0.44         5\n",
            "\n",
            "    accuracy                           0.87        38\n",
            "   macro avg       0.71      0.67      0.68        38\n",
            "weighted avg       0.86      0.87      0.86        38\n",
            "\n"
          ]
        }
      ]
    },
    {
      "cell_type": "markdown",
      "source": [
        "- 클래스 A 안정적 분류, B는 여전히 낮지만 이전보다 개선됨\n",
        "- 이 A/B 분류기는 최종 분류에서 A/B 구간으로 분류된 샘플에만 적용 => 전체 모델 파이프라인에서 마지막 미세조정 역할이기 때문에,\n",
        "현재 수준의 성능이면 충분히 도입할 수 있음\n"
      ],
      "metadata": {
        "id": "xIxm_vwQz7s6"
      }
    },
    {
      "cell_type": "markdown",
      "source": [
        "#어카지4. A vs B Voting / Stacking Classifier\n",
        "어떤 모델이 A/B 분류에 최적일지"
      ],
      "metadata": {
        "id": "UBKQnUeb0VQh"
      }
    },
    {
      "cell_type": "code",
      "source": [
        "from sklearn.ensemble import VotingClassifier, StackingClassifier\n",
        "from sklearn.linear_model import LogisticRegression\n",
        "from sklearn.ensemble import RandomForestClassifier\n",
        "from xgboost import XGBClassifier\n",
        "from sklearn.metrics import classification_report\n",
        "\n",
        "# 1. 기본 분류기들 정의\n",
        "clf1 = XGBClassifier(random_state=42, eval_metric=\"mlogloss\")\n",
        "clf2 = RandomForestClassifier(random_state=42)\n",
        "clf3 = LogisticRegression(max_iter=1000)\n",
        "\n",
        "# 2. VotingClassifier (하드 보팅)\n",
        "voting_clf = VotingClassifier(estimators=[\n",
        "    ('xgb', clf1),\n",
        "    ('rf', clf2),\n",
        "    ('lr', clf3)\n",
        "], voting='hard')\n",
        "\n",
        "voting_clf.fit(X_train_res, y_train_res)\n",
        "y_pred_vote = voting_clf.predict(X_test)\n",
        "\n",
        "print(\"Voting Classifier Report:\")\n",
        "print(classification_report(y_test, y_pred_vote, target_names=le_ab.classes_))\n",
        "\n",
        "\n",
        "# 3. StackingClassifier\n",
        "stacking_clf = StackingClassifier(\n",
        "    estimators=[\n",
        "        ('xgb', clf1),\n",
        "        ('rf', clf2),\n",
        "        ('lr', clf3)\n",
        "    ],\n",
        "    final_estimator=LogisticRegression(max_iter=1000),\n",
        "    passthrough=False\n",
        ")\n",
        "\n",
        "stacking_clf.fit(X_train_res, y_train_res)\n",
        "y_pred_stack = stacking_clf.predict(X_test)\n",
        "\n",
        "print(\"\\nStacking Classifier Report:\")\n",
        "print(classification_report(y_test, y_pred_stack, target_names=le_ab.classes_))"
      ],
      "metadata": {
        "id": "mtPGL7AOC1oZ",
        "colab": {
          "base_uri": "https://localhost:8080/"
        },
        "outputId": "19e1ea45-a48b-4ec8-8c07-dfb3f83e2792"
      },
      "execution_count": null,
      "outputs": [
        {
          "output_type": "stream",
          "name": "stdout",
          "text": [
            "Voting Classifier Report:\n",
            "              precision    recall  f1-score   support\n",
            "\n",
            "           A       0.91      0.97      0.94        33\n",
            "           B       0.67      0.40      0.50         5\n",
            "\n",
            "    accuracy                           0.89        38\n",
            "   macro avg       0.79      0.68      0.72        38\n",
            "weighted avg       0.88      0.89      0.88        38\n",
            "\n",
            "\n",
            "Stacking Classifier Report:\n",
            "              precision    recall  f1-score   support\n",
            "\n",
            "           A       0.91      0.97      0.94        33\n",
            "           B       0.67      0.40      0.50         5\n",
            "\n",
            "    accuracy                           0.89        38\n",
            "   macro avg       0.79      0.68      0.72        38\n",
            "weighted avg       0.88      0.89      0.88        38\n",
            "\n"
          ]
        }
      ]
    },
    {
      "cell_type": "markdown",
      "source": [
        "- 클래스 A 성능: Precision/Recall/F1 모두 거의 0.94 이상으로 안정적. A는 대부분 잘 분류되고 있음.\n",
        "- 클래스 B 성능: Recall 0.40 → 5개 중 2개 맞춤\n",
        "- 이전 SMOTE + 단일모델(XGBoost, RF)보다 정확도, F1 모두 소폭 향상\n",
        "\n",
        "- Voting vs Stacking 결과가 동일한 이유: A/B 데이터에서 모델 수가 3개이고, 예측 대상이 2개 뿐 → 각 모델의 예측이 서로 비슷하게 나오면 Stacking도 큰 차이 없이 따라감\n",
        "- 특히 Stacking에서 사용하는 LogisticRegression은\n",
        "다수 모델이 명확한 우세를 보일 때 Voting과 유사하게 행동할 수 있음"
      ],
      "metadata": {
        "id": "uU8BoMtD2c6y"
      }
    },
    {
      "cell_type": "markdown",
      "source": [
        "#어카지5. 파이프라인에 적용\n",
        "++ Soft Voting도 비교해볼까? test 데이터 수 적어서 cross_val_score 기반 평가?"
      ],
      "metadata": {
        "id": "dci1tjaZ3VsW"
      }
    },
    {
      "cell_type": "code",
      "source": [
        "import numpy as np\n",
        "from sklearn.metrics import classification_report\n",
        "\n",
        "# [전제]\n",
        "# - model1: E vs Not E (XGBoost)\n",
        "# - model2: C/D vs Not C/D (XGBoost or RF)\n",
        "# - model3: A vs B (VotingClassifier) ← 지금 우리가 만든 최종 모델!\n",
        "\n",
        "# Step 1: E 여부 예측\n",
        "pred_step1 = model1.predict(X_test)\n",
        "is_E = pred_step1 == 1  # 1이면 E\n",
        "\n",
        "# Step 2: C/D vs A/B 여부 예측 (Step1에서 E가 아닌 샘플만 예측)\n",
        "X_step2 = X_test[~is_E]\n",
        "pred_step2 = model2.predict(X_step2)\n",
        "# pred_step2: 0 = C, 1 = D, 2 = A/B\n",
        "\n",
        "# Step 3: A/B 모델로 재예측할 인덱스 찾기\n",
        "step2_is_ab = pred_step2 == 2\n",
        "X_step3 = X_step2[step2_is_ab]\n",
        "pred_step3 = model3.predict(X_step3)  # 최종 VotingClassifier\n",
        "\n",
        "# 최종 결과 조립 (모두 E로 초기화)\n",
        "final_preds = np.full_like(pred_step1, fill_value=le_y.transform(['E'])[0])\n",
        "\n",
        "# Step 2: C/D 예측 대입\n",
        "not_E_indices = np.where(~is_E)[0]\n",
        "final_preds[not_E_indices] = np.where(pred_step2 == 0, le_y.transform(['C'])[0],\n",
        "                              np.where(pred_step2 == 1, le_y.transform(['D'])[0], -1))\n",
        "\n",
        "# Step 3: A/B 예측 대입\n",
        "final_preds_idx_step3 = not_E_indices[step2_is_ab]\n",
        "final_preds[final_preds_idx_step3] = np.where(pred_step3 == 0, le_y.transform(['A'])[0], le_y.transform(['B'])[0])\n",
        "\n",
        "# 최종 평가\n",
        "print(\"✅ Final Classification Report:\")\n",
        "print(classification_report(y_test, final_preds, target_names=le_y.classes_))\n"
      ],
      "metadata": {
        "id": "a9nkOLam1cul"
      },
      "execution_count": null,
      "outputs": []
    },
    {
      "cell_type": "code",
      "source": [],
      "metadata": {
        "id": "Za4Bc-nU6gyj"
      },
      "execution_count": null,
      "outputs": []
    }
  ]
}