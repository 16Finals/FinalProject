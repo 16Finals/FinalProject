{
  "nbformat": 4,
  "nbformat_minor": 0,
  "metadata": {
    "colab": {
      "provenance": []
    },
    "kernelspec": {
      "name": "python3",
      "display_name": "Python 3"
    },
    "language_info": {
      "name": "python"
    }
  },
  "cells": [
    {
      "cell_type": "code",
      "source": [
<<<<<<< HEAD
        "!pip install pyarrow"
      ],
      "metadata": {
        "colab": {
          "base_uri": "https://localhost:8080/"
        },
        "id": "YTaJHMxHhRxI",
        "outputId": "505b1554-1ede-45f5-8d97-126c1cc352a1"
      },
      "execution_count": null,
      "outputs": [
        {
          "output_type": "stream",
          "name": "stdout",
          "text": [
            "Requirement already satisfied: pyarrow in /usr/local/lib/python3.11/dist-packages (18.1.0)\n"
          ]
        }
      ]
    },
    {
      "cell_type": "code",
      "source": [
        "!pip install catboost"
      ],
      "metadata": {
        "colab": {
          "base_uri": "https://localhost:8080/"
        },
        "id": "JxGV6pJ4hi11",
        "outputId": "2c63b1e0-c54b-4105-8149-7aa321d93a1e"
      },
      "execution_count": null,
      "outputs": [
        {
          "output_type": "stream",
          "name": "stdout",
          "text": [
            "Requirement already satisfied: catboost in /usr/local/lib/python3.11/dist-packages (1.2.8)\n",
            "Requirement already satisfied: graphviz in /usr/local/lib/python3.11/dist-packages (from catboost) (0.21)\n",
            "Requirement already satisfied: matplotlib in /usr/local/lib/python3.11/dist-packages (from catboost) (3.10.0)\n",
            "Requirement already satisfied: numpy<3.0,>=1.16.0 in /usr/local/lib/python3.11/dist-packages (from catboost) (2.0.2)\n",
            "Requirement already satisfied: pandas>=0.24 in /usr/local/lib/python3.11/dist-packages (from catboost) (2.2.2)\n",
            "Requirement already satisfied: scipy in /usr/local/lib/python3.11/dist-packages (from catboost) (1.15.3)\n",
            "Requirement already satisfied: plotly in /usr/local/lib/python3.11/dist-packages (from catboost) (5.24.1)\n",
            "Requirement already satisfied: six in /usr/local/lib/python3.11/dist-packages (from catboost) (1.17.0)\n",
            "Requirement already satisfied: python-dateutil>=2.8.2 in /usr/local/lib/python3.11/dist-packages (from pandas>=0.24->catboost) (2.9.0.post0)\n",
            "Requirement already satisfied: pytz>=2020.1 in /usr/local/lib/python3.11/dist-packages (from pandas>=0.24->catboost) (2025.2)\n",
            "Requirement already satisfied: tzdata>=2022.7 in /usr/local/lib/python3.11/dist-packages (from pandas>=0.24->catboost) (2025.2)\n",
            "Requirement already satisfied: contourpy>=1.0.1 in /usr/local/lib/python3.11/dist-packages (from matplotlib->catboost) (1.3.2)\n",
            "Requirement already satisfied: cycler>=0.10 in /usr/local/lib/python3.11/dist-packages (from matplotlib->catboost) (0.12.1)\n",
            "Requirement already satisfied: fonttools>=4.22.0 in /usr/local/lib/python3.11/dist-packages (from matplotlib->catboost) (4.58.4)\n",
            "Requirement already satisfied: kiwisolver>=1.3.1 in /usr/local/lib/python3.11/dist-packages (from matplotlib->catboost) (1.4.8)\n",
            "Requirement already satisfied: packaging>=20.0 in /usr/local/lib/python3.11/dist-packages (from matplotlib->catboost) (24.2)\n",
            "Requirement already satisfied: pillow>=8 in /usr/local/lib/python3.11/dist-packages (from matplotlib->catboost) (11.2.1)\n",
            "Requirement already satisfied: pyparsing>=2.3.1 in /usr/local/lib/python3.11/dist-packages (from matplotlib->catboost) (3.2.3)\n",
            "Requirement already satisfied: tenacity>=6.2.0 in /usr/local/lib/python3.11/dist-packages (from plotly->catboost) (8.5.0)\n"
          ]
        }
      ]
    },
    {
      "cell_type": "code",
      "source": [
=======
>>>>>>> origin/main
        "# 필수 라이브러리 import\n",
        "import pandas as pd\n",
        "import numpy as np\n",
        "import matplotlib.pyplot as plt\n",
        "import seaborn as sns\n",
        "import missingno\n",
<<<<<<< HEAD
        "from sklearn.preprocessing import StandardScaler\n",
        "\n",
        "import gc"
=======
        "from sklearn.preprocessing import StandardScaler"
>>>>>>> origin/main
      ],
      "metadata": {
        "id": "4ugH293JhWF-"
      },
<<<<<<< HEAD
      "execution_count": null,
=======
      "execution_count": 135,
>>>>>>> origin/main
      "outputs": []
    },
    {
      "cell_type": "code",
      "source": [
        "from google.colab import drive\n",
<<<<<<< HEAD
        "drive.mount('/content/drive')\n",
        "\n",
        "data_root = '/content/drive/MyDrive/Colab Notebooks/final_project/data/'\n",
        "# data_path = data_root + 'train/'"
=======
        "drive.mount('/content/drive')"
>>>>>>> origin/main
      ],
      "metadata": {
        "colab": {
          "base_uri": "https://localhost:8080/"
        },
        "id": "6iKLdc4wuDAK",
<<<<<<< HEAD
        "outputId": "476a64c0-e899-4f39-a4c0-0902147db473"
      },
      "execution_count": null,
=======
        "outputId": "9c5681c8-72d3-4217-d128-87a4c5e15e92"
      },
      "execution_count": 136,
>>>>>>> origin/main
      "outputs": [
        {
          "output_type": "stream",
          "name": "stdout",
          "text": [
            "Drive already mounted at /content/drive; to attempt to forcibly remount, call drive.mount(\"/content/drive\", force_remount=True).\n"
          ]
        }
      ]
    },
    {
      "cell_type": "code",
      "source": [
<<<<<<< HEAD
        "import matplotlib.pyplot as plt\n",
        "import seaborn as sns\n",
        "\n",
        "sns.set()\n",
        "\n",
        "# 그래프 기본 설정\n",
        "plt.rcParams['figure.figsize'] = 12, 6\n",
        "plt.rcParams['font.size'] = 14\n",
        "plt.rcParams['axes.unicode_minus'] = False\n",
        "import matplotlib as mpl\n",
        "import matplotlib.font_manager as fm\n",
        "\n",
        "# 폰트 파일 경로 지정\n",
        "font_path = '/content/drive/MyDrive/font/NanumGothic.ttf'\n",
        "\n",
        "# 폰트 등록 및 matplotlib 설정\n",
        "font_name = fm.FontProperties(fname=font_path).get_name()\n",
        "fm.fontManager.addfont(font_path)\n",
        "mpl.rc('font', family=font_name)"
      ],
      "metadata": {
        "id": "-DA4gwr9h0PM"
      },
      "execution_count": null,
=======
        "# save_path = '/content/drive/MyDrive/Colab Notebooks/EDA_데이터/'"
      ],
      "metadata": {
        "id": "x5NZLJSxuJTx"
      },
      "execution_count": 137,
      "outputs": []
    },
    {
      "cell_type": "code",
      "source": [
        "# df_all.to_csv(save_path + 'df_all.csv', index=False, encoding='utf-8-sig')\n",
        "\n",
        "# df_all.to_parquet(save_path + 'df_all.parquet', index=False)"
      ],
      "metadata": {
        "id": "kpX8ojkMuJLm"
      },
      "execution_count": 138,
      "outputs": []
    },
    {
      "cell_type": "code",
      "source": [
        "# cp -r /content/drive/MyDrive/Colab\\ Notebooks/final_project/data /content"
      ],
      "metadata": {
        "id": "0ldqkjsTzgYA"
      },
      "execution_count": 139,
      "outputs": []
    },
    {
      "cell_type": "code",
      "source": [
        "# 파일 현재 위치\n",
        "!pwd"
      ],
      "metadata": {
        "id": "q5pHMJEOuYQj",
        "colab": {
          "base_uri": "https://localhost:8080/"
        },
        "outputId": "d332d5d2-193e-43df-d56e-e4b076698520"
      },
      "execution_count": 140,
      "outputs": [
        {
          "output_type": "stream",
          "name": "stdout",
          "text": [
            "/content\n"
          ]
        }
      ]
    },
    {
      "cell_type": "code",
      "source": [
        "cp -r /content/drive/MyDrive/Colab\\ Notebooks/final_project/data /content"
      ],
      "metadata": {
        "id": "uIOz6frir-Eq"
      },
      "execution_count": 141,
      "outputs": []
    },
    {
      "cell_type": "code",
      "source": [
        "# !sudo apt-get install -y fonts-nanum\n",
        "# !sudo fc-cache -fv\n",
        "# !rm ~/.cache/matplotlib -rf"
      ],
      "metadata": {
        "id": "9Q7OXz80v1pe"
      },
      "execution_count": 142,
      "outputs": []
    },
    {
      "cell_type": "code",
      "source": [
        "import matplotlib.pyplot as plt\n",
        "\n",
        "plt.rc('font', family='NanumBarunGothic')"
      ],
      "metadata": {
        "id": "l5F-i9wIv1aN"
      },
      "execution_count": 143,
>>>>>>> origin/main
      "outputs": []
    },
    {
      "cell_type": "code",
      "source": [
        "# pyarrow 설치 (parquet 파일 읽기용)\n",
        "!pip install pyarrow\n",
        "\n",
        "# 경고 뜨지 않게 설정\n",
        "import warnings\n",
        "warnings.filterwarnings('ignore')"
      ],
      "metadata": {
        "colab": {
          "base_uri": "https://localhost:8080/"
        },
        "id": "wxiMha7ih9qu",
<<<<<<< HEAD
        "outputId": "28be671c-cb8c-4696-ee83-823be397c575"
      },
      "execution_count": null,
=======
        "outputId": "38ea6d2c-d220-4aa2-d110-f365f96b7f99"
      },
      "execution_count": 144,
>>>>>>> origin/main
      "outputs": [
        {
          "output_type": "stream",
          "name": "stdout",
          "text": [
            "Requirement already satisfied: pyarrow in /usr/local/lib/python3.11/dist-packages (18.1.0)\n"
          ]
        }
      ]
    },
    {
      "cell_type": "code",
      "source": [
<<<<<<< HEAD
        "# 데이터 로드: 6개월 신용정보 parquet 파일 병합\n",
        "df21 = pd.read_parquet(data_root + 'train/2.신용정보/201807_train_신용정보.parquet')\n",
        "df22 = pd.read_parquet(data_root + 'train/2.신용정보/201808_train_신용정보.parquet')\n",
        "df23 = pd.read_parquet(data_root + 'train/2.신용정보/201809_train_신용정보.parquet')\n",
        "df24 = pd.read_parquet(data_root + 'train/2.신용정보/201810_train_신용정보.parquet')\n",
        "df25 = pd.read_parquet(data_root + 'train/2.신용정보/201811_train_신용정보.parquet')\n",
        "df26 = pd.read_parquet(data_root + 'train/2.신용정보/201812_train_신용정보.parquet')"
=======
        "import os\n",
        "\n",
        "# 현재 디렉토리의 모든 파일 확인\n",
        "print(os.listdir())"
      ],
      "metadata": {
        "colab": {
          "base_uri": "https://localhost:8080/"
        },
        "id": "4UBWMuA0rVGE",
        "outputId": "8c6d4af9-a5a1-43da-fbcc-06551e201832"
      },
      "execution_count": 145,
      "outputs": [
        {
          "output_type": "stream",
          "name": "stdout",
          "text": [
            "['.config', 'sample_data', 'drive', 'data']\n"
          ]
        }
      ]
    },
    {
      "cell_type": "code",
      "source": [
        "import pyarrow.parquet as pq\n",
        "\n",
        "# 의심되는 파일이 실제 parquet인지 확인\n",
        "pq.ParquetFile('data/train/2.신용정보/201807_train_신용정보.parquet')"
      ],
      "metadata": {
        "colab": {
          "base_uri": "https://localhost:8080/"
        },
        "id": "W2dc4Lh_rmKl",
        "outputId": "af73abe1-65c7-408a-96d7-dacc6272bb70"
      },
      "execution_count": 146,
      "outputs": [
        {
          "output_type": "execute_result",
          "data": {
            "text/plain": [
              "<pyarrow.parquet.core.ParquetFile at 0x7c6cc22cfb10>"
            ]
          },
          "metadata": {},
          "execution_count": 146
        }
      ]
    },
    {
      "cell_type": "code",
      "source": [
        "path = 'data/train/2.신용정보/'\n"
>>>>>>> origin/main
      ],
      "metadata": {
        "id": "KaRtLU4pEkA_"
      },
<<<<<<< HEAD
      "execution_count": null,
=======
      "execution_count": 147,
>>>>>>> origin/main
      "outputs": []
    },
    {
      "cell_type": "code",
      "source": [
<<<<<<< HEAD
        "df2 = pd.concat([df21, df22, df23, df24, df25, df26])\n",
        "print(\"병합 완료: \", df2.shape)"
=======
        "# 데이터 로드: 6개월 신용정보 parquet 파일 병합\n",
        "file_list = [\n",
        "    '201807_train_신용정보.parquet',\n",
        "    '201808_train_신용정보.parquet',\n",
        "    '201809_train_신용정보.parquet',\n",
        "    '201810_train_신용정보.parquet',\n",
        "    '201811_train_신용정보.parquet',\n",
        "    '201812_train_신용정보.parquet'\n",
        "]\n",
        "\n",
        "df_all = pd.concat([pd.read_parquet(path + f) for f in file_list], ignore_index=True)\n",
        "print(\"병합 완료: \", df_all.shape)"
>>>>>>> origin/main
      ],
      "metadata": {
        "colab": {
          "base_uri": "https://localhost:8080/"
        },
        "id": "ktjWILaVh9nc",
<<<<<<< HEAD
        "outputId": "a5d73d94-2356-49c7-d8e5-71be81cb584e"
      },
      "execution_count": null,
=======
        "outputId": "c814d362-768c-41a5-d28b-46609fa98f69"
      },
      "execution_count": 148,
>>>>>>> origin/main
      "outputs": [
        {
          "output_type": "stream",
          "name": "stdout",
          "text": [
            "병합 완료:  (2400000, 42)\n"
          ]
        }
      ]
    },
    {
      "cell_type": "code",
<<<<<<< HEAD
      "source": [
        "# Segment 컬럼 가져오기\n",
        "# parquet 파일 열기\n",
        "df01 = pd.read_parquet(data_root + \"train/1.회원정보/201807_train_회원정보.parquet\")"
      ],
      "metadata": {
        "id": "Wqk9iStvpshU"
      },
      "execution_count": null,
=======
      "source": [],
      "metadata": {
        "id": "Z20hM6nvt_7k"
      },
      "execution_count": 148,
>>>>>>> origin/main
      "outputs": []
    },
    {
      "cell_type": "code",
      "source": [
<<<<<<< HEAD
        "df2 = df2.merge(df01[['ID', 'Segment']], on='ID', how='left')\n",
        "df2"
=======
        "# 불필요한 컬럼 제거\n",
        "cols_to_drop = ['자발한도감액후경과월', '강제한도감액후경과월', '한도증액후경과월', '카드론동의여부', '한도심사요청후경과월', '한도심사거절후경과월']\n",
        "df_all.drop(columns=cols_to_drop, inplace=True, errors='ignore')\n",
        "print(\"컬럼 제거 완료\")"
      ],
      "metadata": {
        "colab": {
          "base_uri": "https://localhost:8080/"
        },
        "id": "eRY1jvLyh9j7",
        "outputId": "244a6969-8ac5-4f16-d807-a5f414b85f28"
      },
      "execution_count": 149,
      "outputs": [
        {
          "output_type": "stream",
          "name": "stdout",
          "text": [
            "컬럼 제거 완료\n"
          ]
        }
      ]
    },
    {
      "cell_type": "code",
      "source": [
        "# 데이터 개요 확인\n",
        "df_all.info()"
      ],
      "metadata": {
        "colab": {
          "base_uri": "https://localhost:8080/"
        },
        "id": "rmeIQcSsIwmX",
        "outputId": "9a305535-1be9-4ef0-9456-e71b81d4fe28"
      },
      "execution_count": 150,
      "outputs": [
        {
          "output_type": "stream",
          "name": "stdout",
          "text": [
            "<class 'pandas.core.frame.DataFrame'>\n",
            "RangeIndex: 2400000 entries, 0 to 2399999\n",
            "Data columns (total 36 columns):\n",
            " #   Column          Dtype  \n",
            "---  ------          -----  \n",
            " 0   기준년월            int64  \n",
            " 1   ID              object \n",
            " 2   최초한도금액          int64  \n",
            " 3   카드이용한도금액        int64  \n",
            " 4   CA한도금액          int64  \n",
            " 5   일시상환론한도금액       int64  \n",
            " 6   월상환론한도금액        int64  \n",
            " 7   CA이자율_할인전       float64\n",
            " 8   CL이자율_할인전       float64\n",
            " 9   RV일시불이자율_할인전    float64\n",
            " 10  RV현금서비스이자율_할인전  float64\n",
            " 11  RV신청일자          float64\n",
            " 12  RV약정청구율         float64\n",
            " 13  RV최소결제비율        float64\n",
            " 14  자발한도감액횟수_R12M   object \n",
            " 15  자발한도감액금액_R12M   int64  \n",
            " 16  강제한도감액횟수_R12M   int64  \n",
            " 17  강제한도감액금액_R12M   int64  \n",
            " 18  한도증액횟수_R12M     object \n",
            " 19  한도증액금액_R12M     int64  \n",
            " 20  상향가능한도금액        int64  \n",
            " 21  상향가능CA한도금액      int64  \n",
            " 22  월상환론상향가능한도금액    int64  \n",
            " 23  RV전환가능여부        object \n",
            " 24  일시불ONLY전환가능여부   int64  \n",
            " 25  카드이용한도금액_B1M    int64  \n",
            " 26  카드이용한도금액_B2M    int64  \n",
            " 27  특별한도보유여부_R3M    int64  \n",
            " 28  연체감액여부_R3M      int64  \n",
            " 29  한도심사요청건수        object \n",
            " 30  한도요청거절건수        int64  \n",
            " 31  시장단기연체여부_R6M    int64  \n",
            " 32  시장단기연체여부_R3M    int64  \n",
            " 33  시장연체상환여부_R6M    int64  \n",
            " 34  시장연체상환여부_R3M    int64  \n",
            " 35  rv최초시작후경과일      int64  \n",
            "dtypes: float64(7), int64(24), object(5)\n",
            "memory usage: 659.2+ MB\n"
          ]
        }
      ]
    },
    {
      "cell_type": "code",
      "source": [
        "# 결측치 수\n",
        "missing_count = df_all.isnull().sum()\n",
        "missing_count"
      ],
      "metadata": {
        "colab": {
          "base_uri": "https://localhost:8080/",
          "height": 1000
        },
        "id": "NRDT-_NPJ5d4",
        "outputId": "086c8ed8-f05a-4f67-f26d-744f6a883ecb"
      },
      "execution_count": 151,
      "outputs": [
        {
          "output_type": "execute_result",
          "data": {
            "text/plain": [
              "기준년월                    0\n",
              "ID                      0\n",
              "최초한도금액                  0\n",
              "카드이용한도금액                0\n",
              "CA한도금액                  0\n",
              "일시상환론한도금액               0\n",
              "월상환론한도금액                0\n",
              "CA이자율_할인전               0\n",
              "CL이자율_할인전               0\n",
              "RV일시불이자율_할인전            0\n",
              "RV현금서비스이자율_할인전          0\n",
              "RV신청일자            1951236\n",
              "RV약정청구율                 0\n",
              "RV최소결제비율                0\n",
              "자발한도감액횟수_R12M           0\n",
              "자발한도감액금액_R12M           0\n",
              "강제한도감액횟수_R12M           0\n",
              "강제한도감액금액_R12M           0\n",
              "한도증액횟수_R12M             0\n",
              "한도증액금액_R12M             0\n",
              "상향가능한도금액                0\n",
              "상향가능CA한도금액              0\n",
              "월상환론상향가능한도금액            0\n",
              "RV전환가능여부            29473\n",
              "일시불ONLY전환가능여부           0\n",
              "카드이용한도금액_B1M            0\n",
              "카드이용한도금액_B2M            0\n",
              "특별한도보유여부_R3M            0\n",
              "연체감액여부_R3M              0\n",
              "한도심사요청건수                0\n",
              "한도요청거절건수                0\n",
              "시장단기연체여부_R6M            0\n",
              "시장단기연체여부_R3M            0\n",
              "시장연체상환여부_R6M            0\n",
              "시장연체상환여부_R3M            0\n",
              "rv최초시작후경과일              0\n",
              "dtype: int64"
            ],
            "text/html": [
              "<div>\n",
              "<style scoped>\n",
              "    .dataframe tbody tr th:only-of-type {\n",
              "        vertical-align: middle;\n",
              "    }\n",
              "\n",
              "    .dataframe tbody tr th {\n",
              "        vertical-align: top;\n",
              "    }\n",
              "\n",
              "    .dataframe thead th {\n",
              "        text-align: right;\n",
              "    }\n",
              "</style>\n",
              "<table border=\"1\" class=\"dataframe\">\n",
              "  <thead>\n",
              "    <tr style=\"text-align: right;\">\n",
              "      <th></th>\n",
              "      <th>0</th>\n",
              "    </tr>\n",
              "  </thead>\n",
              "  <tbody>\n",
              "    <tr>\n",
              "      <th>기준년월</th>\n",
              "      <td>0</td>\n",
              "    </tr>\n",
              "    <tr>\n",
              "      <th>ID</th>\n",
              "      <td>0</td>\n",
              "    </tr>\n",
              "    <tr>\n",
              "      <th>최초한도금액</th>\n",
              "      <td>0</td>\n",
              "    </tr>\n",
              "    <tr>\n",
              "      <th>카드이용한도금액</th>\n",
              "      <td>0</td>\n",
              "    </tr>\n",
              "    <tr>\n",
              "      <th>CA한도금액</th>\n",
              "      <td>0</td>\n",
              "    </tr>\n",
              "    <tr>\n",
              "      <th>일시상환론한도금액</th>\n",
              "      <td>0</td>\n",
              "    </tr>\n",
              "    <tr>\n",
              "      <th>월상환론한도금액</th>\n",
              "      <td>0</td>\n",
              "    </tr>\n",
              "    <tr>\n",
              "      <th>CA이자율_할인전</th>\n",
              "      <td>0</td>\n",
              "    </tr>\n",
              "    <tr>\n",
              "      <th>CL이자율_할인전</th>\n",
              "      <td>0</td>\n",
              "    </tr>\n",
              "    <tr>\n",
              "      <th>RV일시불이자율_할인전</th>\n",
              "      <td>0</td>\n",
              "    </tr>\n",
              "    <tr>\n",
              "      <th>RV현금서비스이자율_할인전</th>\n",
              "      <td>0</td>\n",
              "    </tr>\n",
              "    <tr>\n",
              "      <th>RV신청일자</th>\n",
              "      <td>1951236</td>\n",
              "    </tr>\n",
              "    <tr>\n",
              "      <th>RV약정청구율</th>\n",
              "      <td>0</td>\n",
              "    </tr>\n",
              "    <tr>\n",
              "      <th>RV최소결제비율</th>\n",
              "      <td>0</td>\n",
              "    </tr>\n",
              "    <tr>\n",
              "      <th>자발한도감액횟수_R12M</th>\n",
              "      <td>0</td>\n",
              "    </tr>\n",
              "    <tr>\n",
              "      <th>자발한도감액금액_R12M</th>\n",
              "      <td>0</td>\n",
              "    </tr>\n",
              "    <tr>\n",
              "      <th>강제한도감액횟수_R12M</th>\n",
              "      <td>0</td>\n",
              "    </tr>\n",
              "    <tr>\n",
              "      <th>강제한도감액금액_R12M</th>\n",
              "      <td>0</td>\n",
              "    </tr>\n",
              "    <tr>\n",
              "      <th>한도증액횟수_R12M</th>\n",
              "      <td>0</td>\n",
              "    </tr>\n",
              "    <tr>\n",
              "      <th>한도증액금액_R12M</th>\n",
              "      <td>0</td>\n",
              "    </tr>\n",
              "    <tr>\n",
              "      <th>상향가능한도금액</th>\n",
              "      <td>0</td>\n",
              "    </tr>\n",
              "    <tr>\n",
              "      <th>상향가능CA한도금액</th>\n",
              "      <td>0</td>\n",
              "    </tr>\n",
              "    <tr>\n",
              "      <th>월상환론상향가능한도금액</th>\n",
              "      <td>0</td>\n",
              "    </tr>\n",
              "    <tr>\n",
              "      <th>RV전환가능여부</th>\n",
              "      <td>29473</td>\n",
              "    </tr>\n",
              "    <tr>\n",
              "      <th>일시불ONLY전환가능여부</th>\n",
              "      <td>0</td>\n",
              "    </tr>\n",
              "    <tr>\n",
              "      <th>카드이용한도금액_B1M</th>\n",
              "      <td>0</td>\n",
              "    </tr>\n",
              "    <tr>\n",
              "      <th>카드이용한도금액_B2M</th>\n",
              "      <td>0</td>\n",
              "    </tr>\n",
              "    <tr>\n",
              "      <th>특별한도보유여부_R3M</th>\n",
              "      <td>0</td>\n",
              "    </tr>\n",
              "    <tr>\n",
              "      <th>연체감액여부_R3M</th>\n",
              "      <td>0</td>\n",
              "    </tr>\n",
              "    <tr>\n",
              "      <th>한도심사요청건수</th>\n",
              "      <td>0</td>\n",
              "    </tr>\n",
              "    <tr>\n",
              "      <th>한도요청거절건수</th>\n",
              "      <td>0</td>\n",
              "    </tr>\n",
              "    <tr>\n",
              "      <th>시장단기연체여부_R6M</th>\n",
              "      <td>0</td>\n",
              "    </tr>\n",
              "    <tr>\n",
              "      <th>시장단기연체여부_R3M</th>\n",
              "      <td>0</td>\n",
              "    </tr>\n",
              "    <tr>\n",
              "      <th>시장연체상환여부_R6M</th>\n",
              "      <td>0</td>\n",
              "    </tr>\n",
              "    <tr>\n",
              "      <th>시장연체상환여부_R3M</th>\n",
              "      <td>0</td>\n",
              "    </tr>\n",
              "    <tr>\n",
              "      <th>rv최초시작후경과일</th>\n",
              "      <td>0</td>\n",
              "    </tr>\n",
              "  </tbody>\n",
              "</table>\n",
              "</div><br><label><b>dtype:</b> int64</label>"
            ]
          },
          "metadata": {},
          "execution_count": 151
        }
      ]
    },
    {
      "cell_type": "code",
      "source": [
        "# 결측치 있는 컬럼만 보기(RV신청일자, RV전환가능여부)\n",
        "missing_df = pd.DataFrame({\n",
        "    '결측치 수': missing_count,\n",
        "    '결측치 비율(%)': missing_ratio\n",
        "}).query('`결측치 수` > 0').sort_values(by='결측치 수', ascending=False)\n",
        "\n",
        "missing_df"
      ],
      "metadata": {
        "colab": {
          "base_uri": "https://localhost:8080/",
          "height": 125
        },
        "id": "OlInFrMrJ5Yj",
        "outputId": "eb5b49f4-fc99-4313-ef5b-7b2e0b5d9013"
      },
      "execution_count": 152,
      "outputs": [
        {
          "output_type": "execute_result",
          "data": {
            "text/plain": [
              "            결측치 수  결측치 비율(%)\n",
              "RV신청일자    1951236  81.301500\n",
              "RV전환가능여부    29473   1.228042"
            ],
            "text/html": [
              "\n",
              "  <div id=\"df-c9c1ab46-07d4-4038-b288-2bcdacbe6b90\" class=\"colab-df-container\">\n",
              "    <div>\n",
              "<style scoped>\n",
              "    .dataframe tbody tr th:only-of-type {\n",
              "        vertical-align: middle;\n",
              "    }\n",
              "\n",
              "    .dataframe tbody tr th {\n",
              "        vertical-align: top;\n",
              "    }\n",
              "\n",
              "    .dataframe thead th {\n",
              "        text-align: right;\n",
              "    }\n",
              "</style>\n",
              "<table border=\"1\" class=\"dataframe\">\n",
              "  <thead>\n",
              "    <tr style=\"text-align: right;\">\n",
              "      <th></th>\n",
              "      <th>결측치 수</th>\n",
              "      <th>결측치 비율(%)</th>\n",
              "    </tr>\n",
              "  </thead>\n",
              "  <tbody>\n",
              "    <tr>\n",
              "      <th>RV신청일자</th>\n",
              "      <td>1951236</td>\n",
              "      <td>81.301500</td>\n",
              "    </tr>\n",
              "    <tr>\n",
              "      <th>RV전환가능여부</th>\n",
              "      <td>29473</td>\n",
              "      <td>1.228042</td>\n",
              "    </tr>\n",
              "  </tbody>\n",
              "</table>\n",
              "</div>\n",
              "    <div class=\"colab-df-buttons\">\n",
              "\n",
              "  <div class=\"colab-df-container\">\n",
              "    <button class=\"colab-df-convert\" onclick=\"convertToInteractive('df-c9c1ab46-07d4-4038-b288-2bcdacbe6b90')\"\n",
              "            title=\"Convert this dataframe to an interactive table.\"\n",
              "            style=\"display:none;\">\n",
              "\n",
              "  <svg xmlns=\"http://www.w3.org/2000/svg\" height=\"24px\" viewBox=\"0 -960 960 960\">\n",
              "    <path d=\"M120-120v-720h720v720H120Zm60-500h600v-160H180v160Zm220 220h160v-160H400v160Zm0 220h160v-160H400v160ZM180-400h160v-160H180v160Zm440 0h160v-160H620v160ZM180-180h160v-160H180v160Zm440 0h160v-160H620v160Z\"/>\n",
              "  </svg>\n",
              "    </button>\n",
              "\n",
              "  <style>\n",
              "    .colab-df-container {\n",
              "      display:flex;\n",
              "      gap: 12px;\n",
              "    }\n",
              "\n",
              "    .colab-df-convert {\n",
              "      background-color: #E8F0FE;\n",
              "      border: none;\n",
              "      border-radius: 50%;\n",
              "      cursor: pointer;\n",
              "      display: none;\n",
              "      fill: #1967D2;\n",
              "      height: 32px;\n",
              "      padding: 0 0 0 0;\n",
              "      width: 32px;\n",
              "    }\n",
              "\n",
              "    .colab-df-convert:hover {\n",
              "      background-color: #E2EBFA;\n",
              "      box-shadow: 0px 1px 2px rgba(60, 64, 67, 0.3), 0px 1px 3px 1px rgba(60, 64, 67, 0.15);\n",
              "      fill: #174EA6;\n",
              "    }\n",
              "\n",
              "    .colab-df-buttons div {\n",
              "      margin-bottom: 4px;\n",
              "    }\n",
              "\n",
              "    [theme=dark] .colab-df-convert {\n",
              "      background-color: #3B4455;\n",
              "      fill: #D2E3FC;\n",
              "    }\n",
              "\n",
              "    [theme=dark] .colab-df-convert:hover {\n",
              "      background-color: #434B5C;\n",
              "      box-shadow: 0px 1px 3px 1px rgba(0, 0, 0, 0.15);\n",
              "      filter: drop-shadow(0px 1px 2px rgba(0, 0, 0, 0.3));\n",
              "      fill: #FFFFFF;\n",
              "    }\n",
              "  </style>\n",
              "\n",
              "    <script>\n",
              "      const buttonEl =\n",
              "        document.querySelector('#df-c9c1ab46-07d4-4038-b288-2bcdacbe6b90 button.colab-df-convert');\n",
              "      buttonEl.style.display =\n",
              "        google.colab.kernel.accessAllowed ? 'block' : 'none';\n",
              "\n",
              "      async function convertToInteractive(key) {\n",
              "        const element = document.querySelector('#df-c9c1ab46-07d4-4038-b288-2bcdacbe6b90');\n",
              "        const dataTable =\n",
              "          await google.colab.kernel.invokeFunction('convertToInteractive',\n",
              "                                                    [key], {});\n",
              "        if (!dataTable) return;\n",
              "\n",
              "        const docLinkHtml = 'Like what you see? Visit the ' +\n",
              "          '<a target=\"_blank\" href=https://colab.research.google.com/notebooks/data_table.ipynb>data table notebook</a>'\n",
              "          + ' to learn more about interactive tables.';\n",
              "        element.innerHTML = '';\n",
              "        dataTable['output_type'] = 'display_data';\n",
              "        await google.colab.output.renderOutput(dataTable, element);\n",
              "        const docLink = document.createElement('div');\n",
              "        docLink.innerHTML = docLinkHtml;\n",
              "        element.appendChild(docLink);\n",
              "      }\n",
              "    </script>\n",
              "  </div>\n",
              "\n",
              "\n",
              "    <div id=\"df-98b20a67-6e7f-4137-a2dc-7d475de713e2\">\n",
              "      <button class=\"colab-df-quickchart\" onclick=\"quickchart('df-98b20a67-6e7f-4137-a2dc-7d475de713e2')\"\n",
              "                title=\"Suggest charts\"\n",
              "                style=\"display:none;\">\n",
              "\n",
              "<svg xmlns=\"http://www.w3.org/2000/svg\" height=\"24px\"viewBox=\"0 0 24 24\"\n",
              "     width=\"24px\">\n",
              "    <g>\n",
              "        <path d=\"M19 3H5c-1.1 0-2 .9-2 2v14c0 1.1.9 2 2 2h14c1.1 0 2-.9 2-2V5c0-1.1-.9-2-2-2zM9 17H7v-7h2v7zm4 0h-2V7h2v10zm4 0h-2v-4h2v4z\"/>\n",
              "    </g>\n",
              "</svg>\n",
              "      </button>\n",
              "\n",
              "<style>\n",
              "  .colab-df-quickchart {\n",
              "      --bg-color: #E8F0FE;\n",
              "      --fill-color: #1967D2;\n",
              "      --hover-bg-color: #E2EBFA;\n",
              "      --hover-fill-color: #174EA6;\n",
              "      --disabled-fill-color: #AAA;\n",
              "      --disabled-bg-color: #DDD;\n",
              "  }\n",
              "\n",
              "  [theme=dark] .colab-df-quickchart {\n",
              "      --bg-color: #3B4455;\n",
              "      --fill-color: #D2E3FC;\n",
              "      --hover-bg-color: #434B5C;\n",
              "      --hover-fill-color: #FFFFFF;\n",
              "      --disabled-bg-color: #3B4455;\n",
              "      --disabled-fill-color: #666;\n",
              "  }\n",
              "\n",
              "  .colab-df-quickchart {\n",
              "    background-color: var(--bg-color);\n",
              "    border: none;\n",
              "    border-radius: 50%;\n",
              "    cursor: pointer;\n",
              "    display: none;\n",
              "    fill: var(--fill-color);\n",
              "    height: 32px;\n",
              "    padding: 0;\n",
              "    width: 32px;\n",
              "  }\n",
              "\n",
              "  .colab-df-quickchart:hover {\n",
              "    background-color: var(--hover-bg-color);\n",
              "    box-shadow: 0 1px 2px rgba(60, 64, 67, 0.3), 0 1px 3px 1px rgba(60, 64, 67, 0.15);\n",
              "    fill: var(--button-hover-fill-color);\n",
              "  }\n",
              "\n",
              "  .colab-df-quickchart-complete:disabled,\n",
              "  .colab-df-quickchart-complete:disabled:hover {\n",
              "    background-color: var(--disabled-bg-color);\n",
              "    fill: var(--disabled-fill-color);\n",
              "    box-shadow: none;\n",
              "  }\n",
              "\n",
              "  .colab-df-spinner {\n",
              "    border: 2px solid var(--fill-color);\n",
              "    border-color: transparent;\n",
              "    border-bottom-color: var(--fill-color);\n",
              "    animation:\n",
              "      spin 1s steps(1) infinite;\n",
              "  }\n",
              "\n",
              "  @keyframes spin {\n",
              "    0% {\n",
              "      border-color: transparent;\n",
              "      border-bottom-color: var(--fill-color);\n",
              "      border-left-color: var(--fill-color);\n",
              "    }\n",
              "    20% {\n",
              "      border-color: transparent;\n",
              "      border-left-color: var(--fill-color);\n",
              "      border-top-color: var(--fill-color);\n",
              "    }\n",
              "    30% {\n",
              "      border-color: transparent;\n",
              "      border-left-color: var(--fill-color);\n",
              "      border-top-color: var(--fill-color);\n",
              "      border-right-color: var(--fill-color);\n",
              "    }\n",
              "    40% {\n",
              "      border-color: transparent;\n",
              "      border-right-color: var(--fill-color);\n",
              "      border-top-color: var(--fill-color);\n",
              "    }\n",
              "    60% {\n",
              "      border-color: transparent;\n",
              "      border-right-color: var(--fill-color);\n",
              "    }\n",
              "    80% {\n",
              "      border-color: transparent;\n",
              "      border-right-color: var(--fill-color);\n",
              "      border-bottom-color: var(--fill-color);\n",
              "    }\n",
              "    90% {\n",
              "      border-color: transparent;\n",
              "      border-bottom-color: var(--fill-color);\n",
              "    }\n",
              "  }\n",
              "</style>\n",
              "\n",
              "      <script>\n",
              "        async function quickchart(key) {\n",
              "          const quickchartButtonEl =\n",
              "            document.querySelector('#' + key + ' button');\n",
              "          quickchartButtonEl.disabled = true;  // To prevent multiple clicks.\n",
              "          quickchartButtonEl.classList.add('colab-df-spinner');\n",
              "          try {\n",
              "            const charts = await google.colab.kernel.invokeFunction(\n",
              "                'suggestCharts', [key], {});\n",
              "          } catch (error) {\n",
              "            console.error('Error during call to suggestCharts:', error);\n",
              "          }\n",
              "          quickchartButtonEl.classList.remove('colab-df-spinner');\n",
              "          quickchartButtonEl.classList.add('colab-df-quickchart-complete');\n",
              "        }\n",
              "        (() => {\n",
              "          let quickchartButtonEl =\n",
              "            document.querySelector('#df-98b20a67-6e7f-4137-a2dc-7d475de713e2 button');\n",
              "          quickchartButtonEl.style.display =\n",
              "            google.colab.kernel.accessAllowed ? 'block' : 'none';\n",
              "        })();\n",
              "      </script>\n",
              "    </div>\n",
              "\n",
              "  <div id=\"id_0eb3d66e-a443-4ac8-b029-24a87bd9a646\">\n",
              "    <style>\n",
              "      .colab-df-generate {\n",
              "        background-color: #E8F0FE;\n",
              "        border: none;\n",
              "        border-radius: 50%;\n",
              "        cursor: pointer;\n",
              "        display: none;\n",
              "        fill: #1967D2;\n",
              "        height: 32px;\n",
              "        padding: 0 0 0 0;\n",
              "        width: 32px;\n",
              "      }\n",
              "\n",
              "      .colab-df-generate:hover {\n",
              "        background-color: #E2EBFA;\n",
              "        box-shadow: 0px 1px 2px rgba(60, 64, 67, 0.3), 0px 1px 3px 1px rgba(60, 64, 67, 0.15);\n",
              "        fill: #174EA6;\n",
              "      }\n",
              "\n",
              "      [theme=dark] .colab-df-generate {\n",
              "        background-color: #3B4455;\n",
              "        fill: #D2E3FC;\n",
              "      }\n",
              "\n",
              "      [theme=dark] .colab-df-generate:hover {\n",
              "        background-color: #434B5C;\n",
              "        box-shadow: 0px 1px 3px 1px rgba(0, 0, 0, 0.15);\n",
              "        filter: drop-shadow(0px 1px 2px rgba(0, 0, 0, 0.3));\n",
              "        fill: #FFFFFF;\n",
              "      }\n",
              "    </style>\n",
              "    <button class=\"colab-df-generate\" onclick=\"generateWithVariable('missing_df')\"\n",
              "            title=\"Generate code using this dataframe.\"\n",
              "            style=\"display:none;\">\n",
              "\n",
              "  <svg xmlns=\"http://www.w3.org/2000/svg\" height=\"24px\"viewBox=\"0 0 24 24\"\n",
              "       width=\"24px\">\n",
              "    <path d=\"M7,19H8.4L18.45,9,17,7.55,7,17.6ZM5,21V16.75L18.45,3.32a2,2,0,0,1,2.83,0l1.4,1.43a1.91,1.91,0,0,1,.58,1.4,1.91,1.91,0,0,1-.58,1.4L9.25,21ZM18.45,9,17,7.55Zm-12,3A5.31,5.31,0,0,0,4.9,8.1,5.31,5.31,0,0,0,1,6.5,5.31,5.31,0,0,0,4.9,4.9,5.31,5.31,0,0,0,6.5,1,5.31,5.31,0,0,0,8.1,4.9,5.31,5.31,0,0,0,12,6.5,5.46,5.46,0,0,0,6.5,12Z\"/>\n",
              "  </svg>\n",
              "    </button>\n",
              "    <script>\n",
              "      (() => {\n",
              "      const buttonEl =\n",
              "        document.querySelector('#id_0eb3d66e-a443-4ac8-b029-24a87bd9a646 button.colab-df-generate');\n",
              "      buttonEl.style.display =\n",
              "        google.colab.kernel.accessAllowed ? 'block' : 'none';\n",
              "\n",
              "      buttonEl.onclick = () => {\n",
              "        google.colab.notebook.generateWithVariable('missing_df');\n",
              "      }\n",
              "      })();\n",
              "    </script>\n",
              "  </div>\n",
              "\n",
              "    </div>\n",
              "  </div>\n"
            ],
            "application/vnd.google.colaboratory.intrinsic+json": {
              "type": "dataframe",
              "variable_name": "missing_df",
              "summary": "{\n  \"name\": \"missing_df\",\n  \"rows\": 2,\n  \"fields\": [\n    {\n      \"column\": \"\\uacb0\\uce21\\uce58 \\uc218\",\n      \"properties\": {\n        \"dtype\": \"number\",\n        \"std\": 1358891,\n        \"min\": 29473,\n        \"max\": 1951236,\n        \"num_unique_values\": 2,\n        \"samples\": [\n          29473,\n          1951236\n        ],\n        \"semantic_type\": \"\",\n        \"description\": \"\"\n      }\n    },\n    {\n      \"column\": \"\\uacb0\\uce21\\uce58 \\ube44\\uc728(%)\",\n      \"properties\": {\n        \"dtype\": \"number\",\n        \"std\": 56.62048538055846,\n        \"min\": 1.2280416666666667,\n        \"max\": 81.3015,\n        \"num_unique_values\": 2,\n        \"samples\": [\n          1.2280416666666667,\n          81.3015\n        ],\n        \"semantic_type\": \"\",\n        \"description\": \"\"\n      }\n    }\n  ]\n}"
            }
          },
          "metadata": {},
          "execution_count": 152
        }
      ]
    },
    {
      "cell_type": "code",
      "source": [
        "import missingno as msno\n",
        "msno.bar(df_all)"
      ],
      "metadata": {
        "colab": {
          "base_uri": "https://localhost:8080/",
          "height": 361
        },
        "id": "W2iejKUmJ5UB",
        "outputId": "d3094c74-ee00-4060-8620-f3b1364a0c7e"
      },
      "execution_count": 153,
      "outputs": [
        {
          "output_type": "execute_result",
          "data": {
            "text/plain": [
              "<Axes: >"
            ]
          },
          "metadata": {},
          "execution_count": 153
        },
        {
          "output_type": "display_data",
          "data": {
            "text/plain": [
              "<Figure size 2500x1000 with 3 Axes>"
            ],
            "image/png": "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\n"
          },
          "metadata": {}
        }
      ]
    },
    {
      "cell_type": "code",
      "source": [
        "# 결측치 비율 너무 높아서(81%) RV신청일자 컬럼 삭제\n",
        "cols_to_drop = ['RV신청일자']\n",
        "df_all.drop(columns=cols_to_drop, inplace=True, errors='ignore')\n",
        "print(\"컬럼 제거 완료\")"
      ],
      "metadata": {
        "colab": {
          "base_uri": "https://localhost:8080/"
        },
        "id": "bUIuCoyNlzds",
        "outputId": "251e3b71-8bf3-4f05-a67e-4a2658d3b24c"
      },
      "execution_count": 154,
      "outputs": [
        {
          "output_type": "stream",
          "name": "stdout",
          "text": [
            "컬럼 제거 완료\n"
          ]
        }
      ]
    },
    {
      "cell_type": "code",
      "source": [
        "df_all.info()"
      ],
      "metadata": {
        "colab": {
          "base_uri": "https://localhost:8080/"
        },
        "id": "utrEN_YVmDs4",
        "outputId": "5da43818-9d7a-4251-b9dc-749e07c64076"
      },
      "execution_count": 155,
      "outputs": [
        {
          "output_type": "stream",
          "name": "stdout",
          "text": [
            "<class 'pandas.core.frame.DataFrame'>\n",
            "RangeIndex: 2400000 entries, 0 to 2399999\n",
            "Data columns (total 35 columns):\n",
            " #   Column          Dtype  \n",
            "---  ------          -----  \n",
            " 0   기준년월            int64  \n",
            " 1   ID              object \n",
            " 2   최초한도금액          int64  \n",
            " 3   카드이용한도금액        int64  \n",
            " 4   CA한도금액          int64  \n",
            " 5   일시상환론한도금액       int64  \n",
            " 6   월상환론한도금액        int64  \n",
            " 7   CA이자율_할인전       float64\n",
            " 8   CL이자율_할인전       float64\n",
            " 9   RV일시불이자율_할인전    float64\n",
            " 10  RV현금서비스이자율_할인전  float64\n",
            " 11  RV약정청구율         float64\n",
            " 12  RV최소결제비율        float64\n",
            " 13  자발한도감액횟수_R12M   object \n",
            " 14  자발한도감액금액_R12M   int64  \n",
            " 15  강제한도감액횟수_R12M   int64  \n",
            " 16  강제한도감액금액_R12M   int64  \n",
            " 17  한도증액횟수_R12M     object \n",
            " 18  한도증액금액_R12M     int64  \n",
            " 19  상향가능한도금액        int64  \n",
            " 20  상향가능CA한도금액      int64  \n",
            " 21  월상환론상향가능한도금액    int64  \n",
            " 22  RV전환가능여부        object \n",
            " 23  일시불ONLY전환가능여부   int64  \n",
            " 24  카드이용한도금액_B1M    int64  \n",
            " 25  카드이용한도금액_B2M    int64  \n",
            " 26  특별한도보유여부_R3M    int64  \n",
            " 27  연체감액여부_R3M      int64  \n",
            " 28  한도심사요청건수        object \n",
            " 29  한도요청거절건수        int64  \n",
            " 30  시장단기연체여부_R6M    int64  \n",
            " 31  시장단기연체여부_R3M    int64  \n",
            " 32  시장연체상환여부_R6M    int64  \n",
            " 33  시장연체상환여부_R3M    int64  \n",
            " 34  rv최초시작후경과일      int64  \n",
            "dtypes: float64(6), int64(24), object(5)\n",
            "memory usage: 640.9+ MB\n"
          ]
        }
      ]
    },
    {
      "cell_type": "code",
      "source": [
        "# Segment 컬럼 가져오기\n",
        "# parquet 파일 열기\n",
        "df01 = pd.read_parquet(\"/content/data/train/1.회원정보/201807_train_회원정보.parquet\")"
      ],
      "metadata": {
        "id": "Wqk9iStvpshU"
      },
      "execution_count": 156,
      "outputs": []
    },
    {
      "cell_type": "code",
      "source": [
        "df_all = df_all.merge(df01[['ID', 'Segment']], on='ID', how='left')\n",
        "df_all"
>>>>>>> origin/main
      ],
      "metadata": {
        "colab": {
          "base_uri": "https://localhost:8080/",
          "height": 738
        },
        "id": "Sh4aQ3Iave6R",
<<<<<<< HEAD
        "outputId": "416368b7-fb6e-43d2-eb0f-25e110eb3807"
      },
      "execution_count": null,
=======
        "outputId": "716415bd-17df-4117-eb42-a9388a414698"
      },
      "execution_count": 157,
>>>>>>> origin/main
      "outputs": [
        {
          "output_type": "execute_result",
          "data": {
            "text/plain": [
              "           기준년월            ID  최초한도금액  카드이용한도금액  CA한도금액  일시상환론한도금액  월상환론한도금액  \\\n",
              "0        201807  TRAIN_000000       0     19354    7270          0         0   \n",
              "1        201807  TRAIN_000001       0      9996    5718      41996     90611   \n",
              "2        201807  TRAIN_000002       0     88193   35207          0         0   \n",
              "3        201807  TRAIN_000003       0     19062    6531          0         0   \n",
              "4        201807  TRAIN_000004       0    177222   47149      48000    155020   \n",
              "...         ...           ...     ...       ...     ...        ...       ...   \n",
              "2399995  201812  TRAIN_399995       0     20070   10167          0     54445   \n",
              "2399996  201812  TRAIN_399996       0     84217   31159          0    156800   \n",
              "2399997  201812  TRAIN_399997       0     52612   19429          0         0   \n",
              "2399998  201812  TRAIN_399998       0     10002    4228      90004    180906   \n",
              "2399999  201812  TRAIN_399999       0     86094   25133          0         0   \n",
              "\n",
              "         CA이자율_할인전  CL이자율_할인전  RV일시불이자율_할인전  ...  특별한도보유여부_R3M  연체감액여부_R3M  \\\n",
              "0        22.995207  18.254978     17.264967  ...             0           0   \n",
              "1        14.793821  14.834873     10.622446  ...             0           0   \n",
              "2        22.014276  17.875321     17.155829  ...             0           0   \n",
              "3        22.998014  22.999453     19.293674  ...             0           0   \n",
              "4        14.661948  10.897410     10.654587  ...             0           0   \n",
              "...            ...        ...           ...  ...           ...         ...   \n",
              "2399995  15.243670  11.900516     10.545876  ...             0           0   \n",
              "2399996  14.843464  15.652063     11.102726  ...             0           0   \n",
              "2399997  17.038599  17.966213     13.278475  ...             0           0   \n",
              "2399998  15.182880  11.901089     10.594124  ...             0           0   \n",
              "2399999  14.841102  15.287120     11.406823  ...             0           0   \n",
              "\n",
              "         한도심사요청건수 한도요청거절건수  시장단기연체여부_R6M  시장단기연체여부_R3M  시장연체상환여부_R6M  \\\n",
              "0              0회        0             0             0             0   \n",
              "1              0회        0             0             0             0   \n",
              "2              0회        0             0             0             0   \n",
              "3              0회        0             0             0             0   \n",
              "4              0회        0             0             0             0   \n",
              "...           ...      ...           ...           ...           ...   \n",
              "2399995        0회        0             0             0             0   \n",
              "2399996        0회        0             0             0             0   \n",
              "2399997        0회        0             0             0             0   \n",
              "2399998        0회        0             0             0             0   \n",
              "2399999        0회        0             0             0             0   \n",
              "\n",
              "        시장연체상환여부_R3M  rv최초시작후경과일  Segment  \n",
              "0                  0    99999999        D  \n",
              "1                  0         322        E  \n",
              "2                  0        2378        C  \n",
              "3                  0    99999999        D  \n",
              "4                  0    99999999        E  \n",
              "...              ...         ...      ...  \n",
              "2399995            0    99999999        E  \n",
              "2399996            0    99999999        D  \n",
              "2399997            0    99999999        C  \n",
              "2399998            0    99999999        E  \n",
              "2399999            0    99999999        E  \n",
              "\n",
              "[2400000 rows x 36 columns]"
            ],
            "text/html": [
              "\n",
<<<<<<< HEAD
              "  <div id=\"df-f7c78c66-3702-40e4-bd03-da2180d30c94\" class=\"colab-df-container\">\n",
=======
              "  <div id=\"df-45c6fe10-1d7b-44db-88fa-c59c859df13d\" class=\"colab-df-container\">\n",
>>>>>>> origin/main
              "    <div>\n",
              "<style scoped>\n",
              "    .dataframe tbody tr th:only-of-type {\n",
              "        vertical-align: middle;\n",
              "    }\n",
              "\n",
              "    .dataframe tbody tr th {\n",
              "        vertical-align: top;\n",
              "    }\n",
              "\n",
              "    .dataframe thead th {\n",
              "        text-align: right;\n",
              "    }\n",
              "</style>\n",
              "<table border=\"1\" class=\"dataframe\">\n",
              "  <thead>\n",
              "    <tr style=\"text-align: right;\">\n",
              "      <th></th>\n",
              "      <th>기준년월</th>\n",
              "      <th>ID</th>\n",
              "      <th>최초한도금액</th>\n",
              "      <th>카드이용한도금액</th>\n",
              "      <th>CA한도금액</th>\n",
              "      <th>일시상환론한도금액</th>\n",
              "      <th>월상환론한도금액</th>\n",
              "      <th>CA이자율_할인전</th>\n",
              "      <th>CL이자율_할인전</th>\n",
              "      <th>RV일시불이자율_할인전</th>\n",
              "      <th>...</th>\n",
              "      <th>특별한도보유여부_R3M</th>\n",
              "      <th>연체감액여부_R3M</th>\n",
              "      <th>한도심사요청건수</th>\n",
              "      <th>한도요청거절건수</th>\n",
              "      <th>시장단기연체여부_R6M</th>\n",
              "      <th>시장단기연체여부_R3M</th>\n",
              "      <th>시장연체상환여부_R6M</th>\n",
              "      <th>시장연체상환여부_R3M</th>\n",
              "      <th>rv최초시작후경과일</th>\n",
              "      <th>Segment</th>\n",
              "    </tr>\n",
              "  </thead>\n",
              "  <tbody>\n",
              "    <tr>\n",
              "      <th>0</th>\n",
              "      <td>201807</td>\n",
              "      <td>TRAIN_000000</td>\n",
              "      <td>0</td>\n",
              "      <td>19354</td>\n",
              "      <td>7270</td>\n",
              "      <td>0</td>\n",
              "      <td>0</td>\n",
              "      <td>22.995207</td>\n",
              "      <td>18.254978</td>\n",
              "      <td>17.264967</td>\n",
              "      <td>...</td>\n",
              "      <td>0</td>\n",
              "      <td>0</td>\n",
              "      <td>0회</td>\n",
              "      <td>0</td>\n",
              "      <td>0</td>\n",
              "      <td>0</td>\n",
              "      <td>0</td>\n",
              "      <td>0</td>\n",
              "      <td>99999999</td>\n",
              "      <td>D</td>\n",
              "    </tr>\n",
              "    <tr>\n",
              "      <th>1</th>\n",
              "      <td>201807</td>\n",
              "      <td>TRAIN_000001</td>\n",
              "      <td>0</td>\n",
              "      <td>9996</td>\n",
              "      <td>5718</td>\n",
              "      <td>41996</td>\n",
              "      <td>90611</td>\n",
              "      <td>14.793821</td>\n",
              "      <td>14.834873</td>\n",
              "      <td>10.622446</td>\n",
              "      <td>...</td>\n",
              "      <td>0</td>\n",
              "      <td>0</td>\n",
              "      <td>0회</td>\n",
              "      <td>0</td>\n",
              "      <td>0</td>\n",
              "      <td>0</td>\n",
              "      <td>0</td>\n",
              "      <td>0</td>\n",
              "      <td>322</td>\n",
              "      <td>E</td>\n",
              "    </tr>\n",
              "    <tr>\n",
              "      <th>2</th>\n",
              "      <td>201807</td>\n",
              "      <td>TRAIN_000002</td>\n",
              "      <td>0</td>\n",
              "      <td>88193</td>\n",
              "      <td>35207</td>\n",
              "      <td>0</td>\n",
              "      <td>0</td>\n",
              "      <td>22.014276</td>\n",
              "      <td>17.875321</td>\n",
              "      <td>17.155829</td>\n",
              "      <td>...</td>\n",
              "      <td>0</td>\n",
              "      <td>0</td>\n",
              "      <td>0회</td>\n",
              "      <td>0</td>\n",
              "      <td>0</td>\n",
              "      <td>0</td>\n",
              "      <td>0</td>\n",
              "      <td>0</td>\n",
              "      <td>2378</td>\n",
              "      <td>C</td>\n",
              "    </tr>\n",
              "    <tr>\n",
              "      <th>3</th>\n",
              "      <td>201807</td>\n",
              "      <td>TRAIN_000003</td>\n",
              "      <td>0</td>\n",
              "      <td>19062</td>\n",
              "      <td>6531</td>\n",
              "      <td>0</td>\n",
              "      <td>0</td>\n",
              "      <td>22.998014</td>\n",
              "      <td>22.999453</td>\n",
              "      <td>19.293674</td>\n",
              "      <td>...</td>\n",
              "      <td>0</td>\n",
              "      <td>0</td>\n",
              "      <td>0회</td>\n",
              "      <td>0</td>\n",
              "      <td>0</td>\n",
              "      <td>0</td>\n",
              "      <td>0</td>\n",
              "      <td>0</td>\n",
              "      <td>99999999</td>\n",
              "      <td>D</td>\n",
              "    </tr>\n",
              "    <tr>\n",
              "      <th>4</th>\n",
              "      <td>201807</td>\n",
              "      <td>TRAIN_000004</td>\n",
              "      <td>0</td>\n",
              "      <td>177222</td>\n",
              "      <td>47149</td>\n",
              "      <td>48000</td>\n",
              "      <td>155020</td>\n",
              "      <td>14.661948</td>\n",
              "      <td>10.897410</td>\n",
              "      <td>10.654587</td>\n",
              "      <td>...</td>\n",
              "      <td>0</td>\n",
              "      <td>0</td>\n",
              "      <td>0회</td>\n",
              "      <td>0</td>\n",
              "      <td>0</td>\n",
              "      <td>0</td>\n",
              "      <td>0</td>\n",
              "      <td>0</td>\n",
              "      <td>99999999</td>\n",
              "      <td>E</td>\n",
              "    </tr>\n",
              "    <tr>\n",
              "      <th>...</th>\n",
              "      <td>...</td>\n",
              "      <td>...</td>\n",
              "      <td>...</td>\n",
              "      <td>...</td>\n",
              "      <td>...</td>\n",
              "      <td>...</td>\n",
              "      <td>...</td>\n",
              "      <td>...</td>\n",
              "      <td>...</td>\n",
              "      <td>...</td>\n",
              "      <td>...</td>\n",
              "      <td>...</td>\n",
              "      <td>...</td>\n",
              "      <td>...</td>\n",
              "      <td>...</td>\n",
              "      <td>...</td>\n",
              "      <td>...</td>\n",
              "      <td>...</td>\n",
              "      <td>...</td>\n",
              "      <td>...</td>\n",
              "      <td>...</td>\n",
              "    </tr>\n",
              "    <tr>\n",
              "      <th>2399995</th>\n",
              "      <td>201812</td>\n",
              "      <td>TRAIN_399995</td>\n",
              "      <td>0</td>\n",
              "      <td>20070</td>\n",
              "      <td>10167</td>\n",
              "      <td>0</td>\n",
              "      <td>54445</td>\n",
              "      <td>15.243670</td>\n",
              "      <td>11.900516</td>\n",
              "      <td>10.545876</td>\n",
              "      <td>...</td>\n",
              "      <td>0</td>\n",
              "      <td>0</td>\n",
              "      <td>0회</td>\n",
              "      <td>0</td>\n",
              "      <td>0</td>\n",
              "      <td>0</td>\n",
              "      <td>0</td>\n",
              "      <td>0</td>\n",
              "      <td>99999999</td>\n",
              "      <td>E</td>\n",
              "    </tr>\n",
              "    <tr>\n",
              "      <th>2399996</th>\n",
              "      <td>201812</td>\n",
              "      <td>TRAIN_399996</td>\n",
              "      <td>0</td>\n",
              "      <td>84217</td>\n",
              "      <td>31159</td>\n",
              "      <td>0</td>\n",
              "      <td>156800</td>\n",
              "      <td>14.843464</td>\n",
              "      <td>15.652063</td>\n",
              "      <td>11.102726</td>\n",
              "      <td>...</td>\n",
              "      <td>0</td>\n",
              "      <td>0</td>\n",
              "      <td>0회</td>\n",
              "      <td>0</td>\n",
              "      <td>0</td>\n",
              "      <td>0</td>\n",
              "      <td>0</td>\n",
              "      <td>0</td>\n",
              "      <td>99999999</td>\n",
              "      <td>D</td>\n",
              "    </tr>\n",
              "    <tr>\n",
              "      <th>2399997</th>\n",
              "      <td>201812</td>\n",
              "      <td>TRAIN_399997</td>\n",
              "      <td>0</td>\n",
              "      <td>52612</td>\n",
              "      <td>19429</td>\n",
              "      <td>0</td>\n",
              "      <td>0</td>\n",
              "      <td>17.038599</td>\n",
              "      <td>17.966213</td>\n",
              "      <td>13.278475</td>\n",
              "      <td>...</td>\n",
              "      <td>0</td>\n",
              "      <td>0</td>\n",
              "      <td>0회</td>\n",
              "      <td>0</td>\n",
              "      <td>0</td>\n",
              "      <td>0</td>\n",
              "      <td>0</td>\n",
              "      <td>0</td>\n",
              "      <td>99999999</td>\n",
              "      <td>C</td>\n",
              "    </tr>\n",
              "    <tr>\n",
              "      <th>2399998</th>\n",
              "      <td>201812</td>\n",
              "      <td>TRAIN_399998</td>\n",
              "      <td>0</td>\n",
              "      <td>10002</td>\n",
              "      <td>4228</td>\n",
              "      <td>90004</td>\n",
              "      <td>180906</td>\n",
              "      <td>15.182880</td>\n",
              "      <td>11.901089</td>\n",
              "      <td>10.594124</td>\n",
              "      <td>...</td>\n",
              "      <td>0</td>\n",
              "      <td>0</td>\n",
              "      <td>0회</td>\n",
              "      <td>0</td>\n",
              "      <td>0</td>\n",
              "      <td>0</td>\n",
              "      <td>0</td>\n",
              "      <td>0</td>\n",
              "      <td>99999999</td>\n",
              "      <td>E</td>\n",
              "    </tr>\n",
              "    <tr>\n",
              "      <th>2399999</th>\n",
              "      <td>201812</td>\n",
              "      <td>TRAIN_399999</td>\n",
              "      <td>0</td>\n",
              "      <td>86094</td>\n",
              "      <td>25133</td>\n",
              "      <td>0</td>\n",
              "      <td>0</td>\n",
              "      <td>14.841102</td>\n",
              "      <td>15.287120</td>\n",
              "      <td>11.406823</td>\n",
              "      <td>...</td>\n",
              "      <td>0</td>\n",
              "      <td>0</td>\n",
              "      <td>0회</td>\n",
              "      <td>0</td>\n",
              "      <td>0</td>\n",
              "      <td>0</td>\n",
              "      <td>0</td>\n",
              "      <td>0</td>\n",
              "      <td>99999999</td>\n",
              "      <td>E</td>\n",
              "    </tr>\n",
              "  </tbody>\n",
              "</table>\n",
              "<p>2400000 rows × 36 columns</p>\n",
              "</div>\n",
              "    <div class=\"colab-df-buttons\">\n",
              "\n",
              "  <div class=\"colab-df-container\">\n",
<<<<<<< HEAD
              "    <button class=\"colab-df-convert\" onclick=\"convertToInteractive('df-f7c78c66-3702-40e4-bd03-da2180d30c94')\"\n",
=======
              "    <button class=\"colab-df-convert\" onclick=\"convertToInteractive('df-45c6fe10-1d7b-44db-88fa-c59c859df13d')\"\n",
>>>>>>> origin/main
              "            title=\"Convert this dataframe to an interactive table.\"\n",
              "            style=\"display:none;\">\n",
              "\n",
              "  <svg xmlns=\"http://www.w3.org/2000/svg\" height=\"24px\" viewBox=\"0 -960 960 960\">\n",
              "    <path d=\"M120-120v-720h720v720H120Zm60-500h600v-160H180v160Zm220 220h160v-160H400v160Zm0 220h160v-160H400v160ZM180-400h160v-160H180v160Zm440 0h160v-160H620v160ZM180-180h160v-160H180v160Zm440 0h160v-160H620v160Z\"/>\n",
              "  </svg>\n",
              "    </button>\n",
              "\n",
              "  <style>\n",
              "    .colab-df-container {\n",
              "      display:flex;\n",
              "      gap: 12px;\n",
              "    }\n",
              "\n",
              "    .colab-df-convert {\n",
              "      background-color: #E8F0FE;\n",
              "      border: none;\n",
              "      border-radius: 50%;\n",
              "      cursor: pointer;\n",
              "      display: none;\n",
              "      fill: #1967D2;\n",
              "      height: 32px;\n",
              "      padding: 0 0 0 0;\n",
              "      width: 32px;\n",
              "    }\n",
              "\n",
              "    .colab-df-convert:hover {\n",
              "      background-color: #E2EBFA;\n",
              "      box-shadow: 0px 1px 2px rgba(60, 64, 67, 0.3), 0px 1px 3px 1px rgba(60, 64, 67, 0.15);\n",
              "      fill: #174EA6;\n",
              "    }\n",
              "\n",
              "    .colab-df-buttons div {\n",
              "      margin-bottom: 4px;\n",
              "    }\n",
              "\n",
              "    [theme=dark] .colab-df-convert {\n",
              "      background-color: #3B4455;\n",
              "      fill: #D2E3FC;\n",
              "    }\n",
              "\n",
              "    [theme=dark] .colab-df-convert:hover {\n",
              "      background-color: #434B5C;\n",
              "      box-shadow: 0px 1px 3px 1px rgba(0, 0, 0, 0.15);\n",
              "      filter: drop-shadow(0px 1px 2px rgba(0, 0, 0, 0.3));\n",
              "      fill: #FFFFFF;\n",
              "    }\n",
              "  </style>\n",
              "\n",
              "    <script>\n",
              "      const buttonEl =\n",
<<<<<<< HEAD
              "        document.querySelector('#df-f7c78c66-3702-40e4-bd03-da2180d30c94 button.colab-df-convert');\n",
=======
              "        document.querySelector('#df-45c6fe10-1d7b-44db-88fa-c59c859df13d button.colab-df-convert');\n",
>>>>>>> origin/main
              "      buttonEl.style.display =\n",
              "        google.colab.kernel.accessAllowed ? 'block' : 'none';\n",
              "\n",
              "      async function convertToInteractive(key) {\n",
<<<<<<< HEAD
              "        const element = document.querySelector('#df-f7c78c66-3702-40e4-bd03-da2180d30c94');\n",
=======
              "        const element = document.querySelector('#df-45c6fe10-1d7b-44db-88fa-c59c859df13d');\n",
>>>>>>> origin/main
              "        const dataTable =\n",
              "          await google.colab.kernel.invokeFunction('convertToInteractive',\n",
              "                                                    [key], {});\n",
              "        if (!dataTable) return;\n",
              "\n",
              "        const docLinkHtml = 'Like what you see? Visit the ' +\n",
              "          '<a target=\"_blank\" href=https://colab.research.google.com/notebooks/data_table.ipynb>data table notebook</a>'\n",
              "          + ' to learn more about interactive tables.';\n",
              "        element.innerHTML = '';\n",
              "        dataTable['output_type'] = 'display_data';\n",
              "        await google.colab.output.renderOutput(dataTable, element);\n",
              "        const docLink = document.createElement('div');\n",
              "        docLink.innerHTML = docLinkHtml;\n",
              "        element.appendChild(docLink);\n",
              "      }\n",
              "    </script>\n",
              "  </div>\n",
              "\n",
              "\n",
<<<<<<< HEAD
              "    <div id=\"df-381f07b1-591e-4d22-bba9-be30832034db\">\n",
              "      <button class=\"colab-df-quickchart\" onclick=\"quickchart('df-381f07b1-591e-4d22-bba9-be30832034db')\"\n",
=======
              "    <div id=\"df-dd5bda70-4bbe-4523-8fc2-5ecfc564d26f\">\n",
              "      <button class=\"colab-df-quickchart\" onclick=\"quickchart('df-dd5bda70-4bbe-4523-8fc2-5ecfc564d26f')\"\n",
>>>>>>> origin/main
              "                title=\"Suggest charts\"\n",
              "                style=\"display:none;\">\n",
              "\n",
              "<svg xmlns=\"http://www.w3.org/2000/svg\" height=\"24px\"viewBox=\"0 0 24 24\"\n",
              "     width=\"24px\">\n",
              "    <g>\n",
              "        <path d=\"M19 3H5c-1.1 0-2 .9-2 2v14c0 1.1.9 2 2 2h14c1.1 0 2-.9 2-2V5c0-1.1-.9-2-2-2zM9 17H7v-7h2v7zm4 0h-2V7h2v10zm4 0h-2v-4h2v4z\"/>\n",
              "    </g>\n",
              "</svg>\n",
              "      </button>\n",
              "\n",
              "<style>\n",
              "  .colab-df-quickchart {\n",
              "      --bg-color: #E8F0FE;\n",
              "      --fill-color: #1967D2;\n",
              "      --hover-bg-color: #E2EBFA;\n",
              "      --hover-fill-color: #174EA6;\n",
              "      --disabled-fill-color: #AAA;\n",
              "      --disabled-bg-color: #DDD;\n",
              "  }\n",
              "\n",
              "  [theme=dark] .colab-df-quickchart {\n",
              "      --bg-color: #3B4455;\n",
              "      --fill-color: #D2E3FC;\n",
              "      --hover-bg-color: #434B5C;\n",
              "      --hover-fill-color: #FFFFFF;\n",
              "      --disabled-bg-color: #3B4455;\n",
              "      --disabled-fill-color: #666;\n",
              "  }\n",
              "\n",
              "  .colab-df-quickchart {\n",
              "    background-color: var(--bg-color);\n",
              "    border: none;\n",
              "    border-radius: 50%;\n",
              "    cursor: pointer;\n",
              "    display: none;\n",
              "    fill: var(--fill-color);\n",
              "    height: 32px;\n",
              "    padding: 0;\n",
              "    width: 32px;\n",
              "  }\n",
              "\n",
              "  .colab-df-quickchart:hover {\n",
              "    background-color: var(--hover-bg-color);\n",
              "    box-shadow: 0 1px 2px rgba(60, 64, 67, 0.3), 0 1px 3px 1px rgba(60, 64, 67, 0.15);\n",
              "    fill: var(--button-hover-fill-color);\n",
              "  }\n",
              "\n",
              "  .colab-df-quickchart-complete:disabled,\n",
              "  .colab-df-quickchart-complete:disabled:hover {\n",
              "    background-color: var(--disabled-bg-color);\n",
              "    fill: var(--disabled-fill-color);\n",
              "    box-shadow: none;\n",
              "  }\n",
              "\n",
              "  .colab-df-spinner {\n",
              "    border: 2px solid var(--fill-color);\n",
              "    border-color: transparent;\n",
              "    border-bottom-color: var(--fill-color);\n",
              "    animation:\n",
              "      spin 1s steps(1) infinite;\n",
              "  }\n",
              "\n",
              "  @keyframes spin {\n",
              "    0% {\n",
              "      border-color: transparent;\n",
              "      border-bottom-color: var(--fill-color);\n",
              "      border-left-color: var(--fill-color);\n",
              "    }\n",
              "    20% {\n",
              "      border-color: transparent;\n",
              "      border-left-color: var(--fill-color);\n",
              "      border-top-color: var(--fill-color);\n",
              "    }\n",
              "    30% {\n",
              "      border-color: transparent;\n",
              "      border-left-color: var(--fill-color);\n",
              "      border-top-color: var(--fill-color);\n",
              "      border-right-color: var(--fill-color);\n",
              "    }\n",
              "    40% {\n",
              "      border-color: transparent;\n",
              "      border-right-color: var(--fill-color);\n",
              "      border-top-color: var(--fill-color);\n",
              "    }\n",
              "    60% {\n",
              "      border-color: transparent;\n",
              "      border-right-color: var(--fill-color);\n",
              "    }\n",
              "    80% {\n",
              "      border-color: transparent;\n",
              "      border-right-color: var(--fill-color);\n",
              "      border-bottom-color: var(--fill-color);\n",
              "    }\n",
              "    90% {\n",
              "      border-color: transparent;\n",
              "      border-bottom-color: var(--fill-color);\n",
              "    }\n",
              "  }\n",
              "</style>\n",
              "\n",
              "      <script>\n",
              "        async function quickchart(key) {\n",
              "          const quickchartButtonEl =\n",
              "            document.querySelector('#' + key + ' button');\n",
              "          quickchartButtonEl.disabled = true;  // To prevent multiple clicks.\n",
              "          quickchartButtonEl.classList.add('colab-df-spinner');\n",
              "          try {\n",
              "            const charts = await google.colab.kernel.invokeFunction(\n",
              "                'suggestCharts', [key], {});\n",
              "          } catch (error) {\n",
              "            console.error('Error during call to suggestCharts:', error);\n",
              "          }\n",
              "          quickchartButtonEl.classList.remove('colab-df-spinner');\n",
              "          quickchartButtonEl.classList.add('colab-df-quickchart-complete');\n",
              "        }\n",
              "        (() => {\n",
              "          let quickchartButtonEl =\n",
<<<<<<< HEAD
              "            document.querySelector('#df-381f07b1-591e-4d22-bba9-be30832034db button');\n",
=======
              "            document.querySelector('#df-dd5bda70-4bbe-4523-8fc2-5ecfc564d26f button');\n",
>>>>>>> origin/main
              "          quickchartButtonEl.style.display =\n",
              "            google.colab.kernel.accessAllowed ? 'block' : 'none';\n",
              "        })();\n",
              "      </script>\n",
              "    </div>\n",
              "\n",
<<<<<<< HEAD
              "  <div id=\"id_2959a9b0-0151-46c2-b12e-0f7361a1f282\">\n",
=======
              "  <div id=\"id_6723a47d-973e-4ccf-b25d-ad02ffc0c033\">\n",
>>>>>>> origin/main
              "    <style>\n",
              "      .colab-df-generate {\n",
              "        background-color: #E8F0FE;\n",
              "        border: none;\n",
              "        border-radius: 50%;\n",
              "        cursor: pointer;\n",
              "        display: none;\n",
              "        fill: #1967D2;\n",
              "        height: 32px;\n",
              "        padding: 0 0 0 0;\n",
              "        width: 32px;\n",
              "      }\n",
              "\n",
              "      .colab-df-generate:hover {\n",
              "        background-color: #E2EBFA;\n",
              "        box-shadow: 0px 1px 2px rgba(60, 64, 67, 0.3), 0px 1px 3px 1px rgba(60, 64, 67, 0.15);\n",
              "        fill: #174EA6;\n",
              "      }\n",
              "\n",
              "      [theme=dark] .colab-df-generate {\n",
              "        background-color: #3B4455;\n",
              "        fill: #D2E3FC;\n",
              "      }\n",
              "\n",
              "      [theme=dark] .colab-df-generate:hover {\n",
              "        background-color: #434B5C;\n",
              "        box-shadow: 0px 1px 3px 1px rgba(0, 0, 0, 0.15);\n",
              "        filter: drop-shadow(0px 1px 2px rgba(0, 0, 0, 0.3));\n",
              "        fill: #FFFFFF;\n",
              "      }\n",
              "    </style>\n",
<<<<<<< HEAD
              "    <button class=\"colab-df-generate\" onclick=\"generateWithVariable('df2')\"\n",
=======
              "    <button class=\"colab-df-generate\" onclick=\"generateWithVariable('df_all')\"\n",
>>>>>>> origin/main
              "            title=\"Generate code using this dataframe.\"\n",
              "            style=\"display:none;\">\n",
              "\n",
              "  <svg xmlns=\"http://www.w3.org/2000/svg\" height=\"24px\"viewBox=\"0 0 24 24\"\n",
              "       width=\"24px\">\n",
              "    <path d=\"M7,19H8.4L18.45,9,17,7.55,7,17.6ZM5,21V16.75L18.45,3.32a2,2,0,0,1,2.83,0l1.4,1.43a1.91,1.91,0,0,1,.58,1.4,1.91,1.91,0,0,1-.58,1.4L9.25,21ZM18.45,9,17,7.55Zm-12,3A5.31,5.31,0,0,0,4.9,8.1,5.31,5.31,0,0,0,1,6.5,5.31,5.31,0,0,0,4.9,4.9,5.31,5.31,0,0,0,6.5,1,5.31,5.31,0,0,0,8.1,4.9,5.31,5.31,0,0,0,12,6.5,5.46,5.46,0,0,0,6.5,12Z\"/>\n",
              "  </svg>\n",
              "    </button>\n",
              "    <script>\n",
              "      (() => {\n",
              "      const buttonEl =\n",
<<<<<<< HEAD
              "        document.querySelector('#id_2959a9b0-0151-46c2-b12e-0f7361a1f282 button.colab-df-generate');\n",
=======
              "        document.querySelector('#id_6723a47d-973e-4ccf-b25d-ad02ffc0c033 button.colab-df-generate');\n",
>>>>>>> origin/main
              "      buttonEl.style.display =\n",
              "        google.colab.kernel.accessAllowed ? 'block' : 'none';\n",
              "\n",
              "      buttonEl.onclick = () => {\n",
<<<<<<< HEAD
              "        google.colab.notebook.generateWithVariable('df2');\n",
=======
              "        google.colab.notebook.generateWithVariable('df_all');\n",
>>>>>>> origin/main
              "      }\n",
              "      })();\n",
              "    </script>\n",
              "  </div>\n",
              "\n",
              "    </div>\n",
              "  </div>\n"
            ],
            "application/vnd.google.colaboratory.intrinsic+json": {
              "type": "dataframe",
<<<<<<< HEAD
              "variable_name": "df2"
            }
          },
          "metadata": {},
          "execution_count": 47
        }
      ]
    },
    {
      "cell_type": "markdown",
      "source": [
        "Backward Method(원본에서 불필요한 컬럼 제거)"
      ],
      "metadata": {
        "id": "Jn45hB0mFnq-"
      }
    },
    {
      "cell_type": "code",
      "source": [
        "# 불필요한 컬럼 제거\n",
        "cols_to_drop = ['자발한도감액후경과월', '강제한도감액후경과월', '한도증액후경과월', '카드론동의여부', '한도심사요청후경과월', '한도심사거절후경과월']\n",
        "df2.drop(columns=cols_to_drop, inplace=True, errors='ignore')\n",
        "print(\"컬럼 제거 완료\")"
      ],
      "metadata": {
        "colab": {
          "base_uri": "https://localhost:8080/"
        },
        "id": "eRY1jvLyh9j7",
        "outputId": "1805c654-7083-440b-9511-fa38b0ab8ead"
      },
      "execution_count": null,
      "outputs": [
        {
          "output_type": "stream",
          "name": "stdout",
          "text": [
            "컬럼 제거 완료\n"
          ]
=======
              "variable_name": "df_all"
            }
          },
          "metadata": {},
          "execution_count": 157
>>>>>>> origin/main
        }
      ]
    },
    {
      "cell_type": "code",
      "source": [
<<<<<<< HEAD
        "# 데이터 개요 확인\n",
        "df2.info()"
      ],
      "metadata": {
        "colab": {
          "base_uri": "https://localhost:8080/"
        },
        "id": "rmeIQcSsIwmX",
        "outputId": "cc563a2a-9619-43e5-cd57-cd9ef15668e6"
      },
      "execution_count": null,
      "outputs": [
        {
          "output_type": "stream",
          "name": "stdout",
          "text": [
            "<class 'pandas.core.frame.DataFrame'>\n",
            "Index: 2400000 entries, 0 to 399999\n",
            "Data columns (total 36 columns):\n",
            " #   Column          Dtype  \n",
            "---  ------          -----  \n",
            " 0   기준년월            int64  \n",
            " 1   ID              object \n",
            " 2   최초한도금액          int64  \n",
            " 3   카드이용한도금액        int64  \n",
            " 4   CA한도금액          int64  \n",
            " 5   일시상환론한도금액       int64  \n",
            " 6   월상환론한도금액        int64  \n",
            " 7   CA이자율_할인전       float64\n",
            " 8   CL이자율_할인전       float64\n",
            " 9   RV일시불이자율_할인전    float64\n",
            " 10  RV현금서비스이자율_할인전  float64\n",
            " 11  RV신청일자          float64\n",
            " 12  RV약정청구율         float64\n",
            " 13  RV최소결제비율        float64\n",
            " 14  자발한도감액횟수_R12M   object \n",
            " 15  자발한도감액금액_R12M   int64  \n",
            " 16  강제한도감액횟수_R12M   int64  \n",
            " 17  강제한도감액금액_R12M   int64  \n",
            " 18  한도증액횟수_R12M     object \n",
            " 19  한도증액금액_R12M     int64  \n",
            " 20  상향가능한도금액        int64  \n",
            " 21  상향가능CA한도금액      int64  \n",
            " 22  월상환론상향가능한도금액    int64  \n",
            " 23  RV전환가능여부        object \n",
            " 24  일시불ONLY전환가능여부   int64  \n",
            " 25  카드이용한도금액_B1M    int64  \n",
            " 26  카드이용한도금액_B2M    int64  \n",
            " 27  특별한도보유여부_R3M    int64  \n",
            " 28  연체감액여부_R3M      int64  \n",
            " 29  한도심사요청건수        object \n",
            " 30  한도요청거절건수        int64  \n",
            " 31  시장단기연체여부_R6M    int64  \n",
            " 32  시장단기연체여부_R3M    int64  \n",
            " 33  시장연체상환여부_R6M    int64  \n",
            " 34  시장연체상환여부_R3M    int64  \n",
            " 35  rv최초시작후경과일      int64  \n",
            "dtypes: float64(7), int64(24), object(5)\n",
            "memory usage: 677.5+ MB\n"
          ]
        }
      ]
    },
    {
      "cell_type": "code",
      "source": [
        "# 결측치 확인\n",
        "missing_cols = df2.columns[df2.isnull().any()]\n",
        "missing_cols"
      ],
      "metadata": {
        "id": "Z20hM6nvt_7k",
        "colab": {
          "base_uri": "https://localhost:8080/"
        },
        "outputId": "02ed3538-162e-43b7-9860-0677b1dd4f0f"
      },
      "execution_count": null,
      "outputs": [
        {
          "output_type": "execute_result",
          "data": {
            "text/plain": [
              "Index(['RV신청일자', 'RV전환가능여부'], dtype='object')"
            ]
          },
          "metadata": {},
          "execution_count": 38
        }
      ]
    },
    {
      "cell_type": "code",
      "source": [
        "# 결측치 수\n",
        "missing_count = df2.isnull().sum()\n",
        "missing_count"
=======
        "# RV신청일자 컬럼 삭제되었으니, RV약정청구율은 그대로 둔다\n",
        "# RV전환가능여부 컬럼 결측치 -> N 값(0)으로 처리\n",
        "df_all['RV전환가능여부'].value_counts(dropna=False)"
>>>>>>> origin/main
      ],
      "metadata": {
        "colab": {
          "base_uri": "https://localhost:8080/",
<<<<<<< HEAD
          "height": 1212
        },
        "id": "NRDT-_NPJ5d4",
        "outputId": "5c4be3be-e0ec-4368-fdd2-9c77b36b21ac"
      },
      "execution_count": null,
=======
          "height": 209
        },
        "id": "kJp5dCzMJUFg",
        "outputId": "764653a4-50a8-4ce8-daf2-843eded543f1"
      },
      "execution_count": 158,
>>>>>>> origin/main
      "outputs": [
        {
          "output_type": "execute_result",
          "data": {
            "text/plain": [
<<<<<<< HEAD
              "기준년월                    0\n",
              "ID                      0\n",
              "최초한도금액                  0\n",
              "카드이용한도금액                0\n",
              "CA한도금액                  0\n",
              "일시상환론한도금액               0\n",
              "월상환론한도금액                0\n",
              "CA이자율_할인전               0\n",
              "CL이자율_할인전               0\n",
              "RV일시불이자율_할인전            0\n",
              "RV현금서비스이자율_할인전          0\n",
              "RV신청일자            1951236\n",
              "RV약정청구율                 0\n",
              "RV최소결제비율                0\n",
              "자발한도감액횟수_R12M           0\n",
              "자발한도감액금액_R12M           0\n",
              "강제한도감액횟수_R12M           0\n",
              "강제한도감액금액_R12M           0\n",
              "한도증액횟수_R12M             0\n",
              "한도증액금액_R12M             0\n",
              "상향가능한도금액                0\n",
              "상향가능CA한도금액              0\n",
              "월상환론상향가능한도금액            0\n",
              "RV전환가능여부            29473\n",
              "일시불ONLY전환가능여부           0\n",
              "카드이용한도금액_B1M            0\n",
              "카드이용한도금액_B2M            0\n",
              "특별한도보유여부_R3M            0\n",
              "연체감액여부_R3M              0\n",
              "한도심사요청건수                0\n",
              "한도요청거절건수                0\n",
              "시장단기연체여부_R6M            0\n",
              "시장단기연체여부_R3M            0\n",
              "시장연체상환여부_R6M            0\n",
              "시장연체상환여부_R3M            0\n",
              "rv최초시작후경과일              0\n",
              "dtype: int64"
=======
              "RV전환가능여부\n",
              "Z       1964098\n",
              "N        406429\n",
              "None      29473\n",
              "Name: count, dtype: int64"
>>>>>>> origin/main
            ],
            "text/html": [
              "<div>\n",
              "<style scoped>\n",
              "    .dataframe tbody tr th:only-of-type {\n",
              "        vertical-align: middle;\n",
              "    }\n",
              "\n",
              "    .dataframe tbody tr th {\n",
              "        vertical-align: top;\n",
              "    }\n",
              "\n",
              "    .dataframe thead th {\n",
              "        text-align: right;\n",
              "    }\n",
              "</style>\n",
              "<table border=\"1\" class=\"dataframe\">\n",
              "  <thead>\n",
              "    <tr style=\"text-align: right;\">\n",
              "      <th></th>\n",
<<<<<<< HEAD
              "      <th>0</th>\n",
=======
              "      <th>count</th>\n",
              "    </tr>\n",
              "    <tr>\n",
              "      <th>RV전환가능여부</th>\n",
              "      <th></th>\n",
>>>>>>> origin/main
              "    </tr>\n",
              "  </thead>\n",
              "  <tbody>\n",
              "    <tr>\n",
<<<<<<< HEAD
              "      <th>기준년월</th>\n",
              "      <td>0</td>\n",
              "    </tr>\n",
              "    <tr>\n",
              "      <th>ID</th>\n",
              "      <td>0</td>\n",
              "    </tr>\n",
              "    <tr>\n",
              "      <th>최초한도금액</th>\n",
              "      <td>0</td>\n",
              "    </tr>\n",
              "    <tr>\n",
              "      <th>카드이용한도금액</th>\n",
              "      <td>0</td>\n",
              "    </tr>\n",
              "    <tr>\n",
              "      <th>CA한도금액</th>\n",
              "      <td>0</td>\n",
              "    </tr>\n",
              "    <tr>\n",
              "      <th>일시상환론한도금액</th>\n",
              "      <td>0</td>\n",
              "    </tr>\n",
              "    <tr>\n",
              "      <th>월상환론한도금액</th>\n",
              "      <td>0</td>\n",
              "    </tr>\n",
              "    <tr>\n",
              "      <th>CA이자율_할인전</th>\n",
              "      <td>0</td>\n",
              "    </tr>\n",
              "    <tr>\n",
              "      <th>CL이자율_할인전</th>\n",
              "      <td>0</td>\n",
              "    </tr>\n",
              "    <tr>\n",
              "      <th>RV일시불이자율_할인전</th>\n",
              "      <td>0</td>\n",
              "    </tr>\n",
              "    <tr>\n",
              "      <th>RV현금서비스이자율_할인전</th>\n",
              "      <td>0</td>\n",
              "    </tr>\n",
              "    <tr>\n",
              "      <th>RV신청일자</th>\n",
              "      <td>1951236</td>\n",
              "    </tr>\n",
              "    <tr>\n",
              "      <th>RV약정청구율</th>\n",
              "      <td>0</td>\n",
              "    </tr>\n",
              "    <tr>\n",
              "      <th>RV최소결제비율</th>\n",
              "      <td>0</td>\n",
              "    </tr>\n",
              "    <tr>\n",
              "      <th>자발한도감액횟수_R12M</th>\n",
              "      <td>0</td>\n",
              "    </tr>\n",
              "    <tr>\n",
              "      <th>자발한도감액금액_R12M</th>\n",
              "      <td>0</td>\n",
              "    </tr>\n",
              "    <tr>\n",
              "      <th>강제한도감액횟수_R12M</th>\n",
              "      <td>0</td>\n",
              "    </tr>\n",
              "    <tr>\n",
              "      <th>강제한도감액금액_R12M</th>\n",
              "      <td>0</td>\n",
              "    </tr>\n",
              "    <tr>\n",
              "      <th>한도증액횟수_R12M</th>\n",
              "      <td>0</td>\n",
              "    </tr>\n",
              "    <tr>\n",
              "      <th>한도증액금액_R12M</th>\n",
              "      <td>0</td>\n",
              "    </tr>\n",
              "    <tr>\n",
              "      <th>상향가능한도금액</th>\n",
              "      <td>0</td>\n",
              "    </tr>\n",
              "    <tr>\n",
              "      <th>상향가능CA한도금액</th>\n",
              "      <td>0</td>\n",
              "    </tr>\n",
              "    <tr>\n",
              "      <th>월상환론상향가능한도금액</th>\n",
              "      <td>0</td>\n",
              "    </tr>\n",
              "    <tr>\n",
              "      <th>RV전환가능여부</th>\n",
              "      <td>29473</td>\n",
              "    </tr>\n",
              "    <tr>\n",
              "      <th>일시불ONLY전환가능여부</th>\n",
              "      <td>0</td>\n",
              "    </tr>\n",
              "    <tr>\n",
              "      <th>카드이용한도금액_B1M</th>\n",
              "      <td>0</td>\n",
              "    </tr>\n",
              "    <tr>\n",
              "      <th>카드이용한도금액_B2M</th>\n",
              "      <td>0</td>\n",
              "    </tr>\n",
              "    <tr>\n",
              "      <th>특별한도보유여부_R3M</th>\n",
              "      <td>0</td>\n",
              "    </tr>\n",
              "    <tr>\n",
              "      <th>연체감액여부_R3M</th>\n",
              "      <td>0</td>\n",
              "    </tr>\n",
              "    <tr>\n",
              "      <th>한도심사요청건수</th>\n",
              "      <td>0</td>\n",
              "    </tr>\n",
              "    <tr>\n",
              "      <th>한도요청거절건수</th>\n",
              "      <td>0</td>\n",
              "    </tr>\n",
              "    <tr>\n",
              "      <th>시장단기연체여부_R6M</th>\n",
              "      <td>0</td>\n",
              "    </tr>\n",
              "    <tr>\n",
              "      <th>시장단기연체여부_R3M</th>\n",
              "      <td>0</td>\n",
              "    </tr>\n",
              "    <tr>\n",
              "      <th>시장연체상환여부_R6M</th>\n",
              "      <td>0</td>\n",
              "    </tr>\n",
              "    <tr>\n",
              "      <th>시장연체상환여부_R3M</th>\n",
              "      <td>0</td>\n",
              "    </tr>\n",
              "    <tr>\n",
              "      <th>rv최초시작후경과일</th>\n",
              "      <td>0</td>\n",
              "    </tr>\n",
=======
              "      <th>Z</th>\n",
              "      <td>1964098</td>\n",
              "    </tr>\n",
              "    <tr>\n",
              "      <th>N</th>\n",
              "      <td>406429</td>\n",
              "    </tr>\n",
              "    <tr>\n",
              "      <th>None</th>\n",
              "      <td>29473</td>\n",
              "    </tr>\n",
>>>>>>> origin/main
              "  </tbody>\n",
              "</table>\n",
              "</div><br><label><b>dtype:</b> int64</label>"
            ]
          },
          "metadata": {},
<<<<<<< HEAD
          "execution_count": 39
=======
          "execution_count": 158
>>>>>>> origin/main
        }
      ]
    },
    {
      "cell_type": "code",
<<<<<<< HEAD
      "source": [
        "import missingno as msno\n",
        "msno.bar(df2)"
      ],
      "metadata": {
        "colab": {
          "base_uri": "https://localhost:8080/",
          "height": 372
        },
        "id": "W2iejKUmJ5UB",
        "outputId": "3ff07b00-90fc-4f38-bd5c-af274bb893ab"
      },
      "execution_count": null,
      "outputs": [
        {
          "output_type": "execute_result",
          "data": {
            "text/plain": [
              "<Axes: >"
            ]
          },
          "metadata": {},
          "execution_count": 40
        },
        {
          "output_type": "display_data",
          "data": {
            "text/plain": [
              "<Figure size 2500x1000 with 3 Axes>"
            ],
            "image/png": "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\n"
          },
          "metadata": {}
        }
      ]
    },
    {
      "cell_type": "markdown",
      "source": [
        "- 'RV신청일자' 결측치 약 81% -> 제거"
      ],
      "metadata": {
        "id": "q7PYqgf3lDrp"
      }
    },
    {
      "cell_type": "code",
      "source": [
        "# 결측치 비율 너무 높아서(81%) RV신청일자 컬럼 삭제\n",
        "cols_to_drop = ['RV신청일자']\n",
        "df2.drop(columns=cols_to_drop, inplace=True, errors='ignore')\n",
        "print(\"컬럼 제거 완료\")"
      ],
      "metadata": {
        "colab": {
          "base_uri": "https://localhost:8080/"
        },
        "id": "bUIuCoyNlzds",
        "outputId": "3b0d23b6-f3cf-4602-dfda-334e9940cb86"
      },
      "execution_count": null,
      "outputs": [
        {
          "output_type": "stream",
          "name": "stdout",
          "text": [
            "컬럼 제거 완료\n"
          ]
        }
      ]
    },
    {
      "cell_type": "markdown",
      "source": [
        "- 'RV전환가능여부' 결측치 약 1.2% -> 최빈값 'Z'로 대체"
      ],
      "metadata": {
        "id": "alMkfgYVlS78"
      }
    },
    {
      "cell_type": "code",
      "source": [
        "print(df2['RV전환가능여부'].value_counts(dropna=False))"
      ],
      "metadata": {
        "colab": {
          "base_uri": "https://localhost:8080/"
        },
        "id": "MEEoNSF7kqgD",
        "outputId": "6d4f6db8-2ba8-4326-df5e-2137a304490a"
      },
      "execution_count": null,
      "outputs": [
        {
          "output_type": "stream",
          "name": "stdout",
          "text": [
            "RV전환가능여부\n",
            "Z       1964098\n",
            "N        406429\n",
            "None      29473\n",
            "Name: count, dtype: int64\n"
          ]
        }
      ]
    },
    {
      "cell_type": "code",
      "source": [
        "# RV전환가능여부 결측치를 최빈값 'Z'로 대체\n",
        "df2['RV전환가능여부'] = df2['RV전환가능여부'].fillna('Z')"
      ],
      "metadata": {
        "id": "z6DRaquzkqVK"
      },
      "execution_count": null,
=======
      "source": [],
      "metadata": {
        "id": "flgZHBXn0jPh"
      },
      "execution_count": 158,
>>>>>>> origin/main
      "outputs": []
    },
    {
      "cell_type": "code",
      "source": [
<<<<<<< HEAD
        "print(df2['RV전환가능여부'].value_counts(dropna=False))"
      ],
      "metadata": {
        "colab": {
          "base_uri": "https://localhost:8080/"
        },
        "id": "RqrscAgmljtU",
        "outputId": "14bd5d1e-6904-4e6a-c40a-85e0e3974673"
      },
      "execution_count": null,
      "outputs": [
        {
          "output_type": "stream",
          "name": "stdout",
          "text": [
            "RV전환가능여부\n",
            "Z    1993571\n",
            "N     406429\n",
            "Name: count, dtype: int64\n"
          ]
        }
      ]
    },
    {
      "cell_type": "code",
      "source": [
        "df2.info()"
      ],
      "metadata": {
        "colab": {
          "base_uri": "https://localhost:8080/"
        },
        "id": "utrEN_YVmDs4",
        "outputId": "5f7d778f-2df7-4526-95c0-79e453b99518"
      },
      "execution_count": null,
      "outputs": [
        {
          "output_type": "stream",
          "name": "stdout",
          "text": [
            "<class 'pandas.core.frame.DataFrame'>\n",
            "Index: 2400000 entries, 0 to 399999\n",
            "Data columns (total 35 columns):\n",
            " #   Column          Dtype  \n",
            "---  ------          -----  \n",
            " 0   기준년월            int64  \n",
            " 1   ID              object \n",
            " 2   최초한도금액          int64  \n",
            " 3   카드이용한도금액        int64  \n",
            " 4   CA한도금액          int64  \n",
            " 5   일시상환론한도금액       int64  \n",
            " 6   월상환론한도금액        int64  \n",
            " 7   CA이자율_할인전       float64\n",
            " 8   CL이자율_할인전       float64\n",
            " 9   RV일시불이자율_할인전    float64\n",
            " 10  RV현금서비스이자율_할인전  float64\n",
            " 11  RV약정청구율         float64\n",
            " 12  RV최소결제비율        float64\n",
            " 13  자발한도감액횟수_R12M   object \n",
            " 14  자발한도감액금액_R12M   int64  \n",
            " 15  강제한도감액횟수_R12M   int64  \n",
            " 16  강제한도감액금액_R12M   int64  \n",
            " 17  한도증액횟수_R12M     object \n",
            " 18  한도증액금액_R12M     int64  \n",
            " 19  상향가능한도금액        int64  \n",
            " 20  상향가능CA한도금액      int64  \n",
            " 21  월상환론상향가능한도금액    int64  \n",
            " 22  RV전환가능여부        object \n",
            " 23  일시불ONLY전환가능여부   int64  \n",
            " 24  카드이용한도금액_B1M    int64  \n",
            " 25  카드이용한도금액_B2M    int64  \n",
            " 26  특별한도보유여부_R3M    int64  \n",
            " 27  연체감액여부_R3M      int64  \n",
            " 28  한도심사요청건수        object \n",
            " 29  한도요청거절건수        int64  \n",
            " 30  시장단기연체여부_R6M    int64  \n",
            " 31  시장단기연체여부_R3M    int64  \n",
            " 32  시장연체상환여부_R6M    int64  \n",
            " 33  시장연체상환여부_R3M    int64  \n",
            " 34  rv최초시작후경과일      int64  \n",
            "dtypes: float64(6), int64(24), object(5)\n",
            "memory usage: 659.2+ MB\n"
          ]
        }
      ]
    },
    {
      "cell_type": "code",
      "source": [
        "print(df2['RV전환가능여부'].value_counts(dropna=False))\n"
      ],
      "metadata": {
        "colab": {
          "base_uri": "https://localhost:8080/"
        },
        "id": "bhKQOhfuoPpd",
        "outputId": "1af23b1b-ef0e-46d5-d8f5-f8820a583e96"
      },
      "execution_count": null,
      "outputs": [
        {
          "output_type": "stream",
          "name": "stdout",
          "text": [
            "RV전환가능여부\n",
            "Z    1993571\n",
            "N     406429\n",
            "Name: count, dtype: int64\n"
          ]
        }
      ]
=======
        "# 전환 가능 여부 인코딩 및 결측치 처리\n",
        "df_all['RV전환가능여부'] = df_all['RV전환가능여부'].map({'Z': 1, 'N': 0})\n",
        "df_all['RV전환가능여부'] = df_all['RV전환가능여부'].fillna(0).astype(int)"
      ],
      "metadata": {
        "id": "efcWUyNBoKJi"
      },
      "execution_count": 159,
      "outputs": []
>>>>>>> origin/main
    },
    {
      "cell_type": "code",
      "source": [
        "import seaborn as sns\n",
        "import matplotlib.pyplot as plt\n",
        "\n",
        "plt.figure(figsize=(8, 5))\n",
<<<<<<< HEAD
        "sns.countplot(data=df2, x='Segment', hue='RV전환가능여부', order=sorted(df2['Segment'].unique()))\n",
        "plt.title(\"Segment별 RV전환가능여부 분포\")\n",
        "plt.xlabel(\"Segment\")\n",
        "plt.ylabel(\"고객 수\")\n",
        "plt.legend(title=\"RV전환가능여부 (Z: 가능, N: 불가)\")\n",
=======
        "sns.countplot(data=df_all, x='Segment', hue='RV전환가능여부')\n",
        "plt.title(\"Segment별 RV전환가능여부 분포\")\n",
        "plt.xlabel(\"Segment\")\n",
        "plt.ylabel(\"고객 수\")\n",
        "plt.legend(title=\"RV전환가능여부 (0=불가, 1=가능)\")\n",
>>>>>>> origin/main
        "plt.show()"
      ],
      "metadata": {
        "colab": {
          "base_uri": "https://localhost:8080/",
<<<<<<< HEAD
          "height": 457
        },
        "id": "GOiY6NDa0Mjr",
        "outputId": "e75b8068-f2d9-4874-f03a-2c932762fb78"
      },
      "execution_count": null,
=======
          "height": 446
        },
        "id": "GOiY6NDa0Mjr",
        "outputId": "653ea0a8-b03c-4711-f6ba-9e5344c9336a"
      },
      "execution_count": 160,
>>>>>>> origin/main
      "outputs": [
        {
          "output_type": "display_data",
          "data": {
            "text/plain": [
              "<Figure size 800x500 with 1 Axes>"
            ],
<<<<<<< HEAD
            "image/png": "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\n"
=======
            "image/png": "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\n"
>>>>>>> origin/main
          },
          "metadata": {}
        }
      ]
    },
    {
<<<<<<< HEAD
      "cell_type": "markdown",
      "source": [
        "- Segment별 RV 전환 가능성 분포가 다르므로, RV전환가능여부는 Segment 분류에 기여할 가능성이 높음\n",
        "- 카이제곱 검정 필요"
      ],
      "metadata": {
        "id": "vcJ9-kZ1D-NQ"
      }
    },
    {
      "cell_type": "code",
      "source": [
        "100/0"
      ],
      "metadata": {
        "id": "NcvSq8S_0KyN",
        "colab": {
          "base_uri": "https://localhost:8080/",
          "height": 146
        },
        "outputId": "3071db02-672f-4640-866d-efccae753a94"
      },
      "execution_count": null,
      "outputs": [
        {
          "output_type": "error",
          "ename": "ZeroDivisionError",
          "evalue": "division by zero",
          "traceback": [
            "\u001b[0;31m---------------------------------------------------------------------------\u001b[0m",
            "\u001b[0;31mZeroDivisionError\u001b[0m                         Traceback (most recent call last)",
            "\u001b[0;32m/tmp/ipython-input-50-621970991.py\u001b[0m in \u001b[0;36m<cell line: 0>\u001b[0;34m()\u001b[0m\n\u001b[0;32m----> 1\u001b[0;31m \u001b[0;36m100\u001b[0m\u001b[0;34m/\u001b[0m\u001b[0;36m0\u001b[0m\u001b[0;34m\u001b[0m\u001b[0;34m\u001b[0m\u001b[0m\n\u001b[0m",
            "\u001b[0;31mZeroDivisionError\u001b[0m: division by zero"
          ]
        }
      ]
=======
      "cell_type": "code",
      "source": [],
      "metadata": {
        "id": "NcvSq8S_0KyN"
      },
      "execution_count": null,
      "outputs": []
    },
    {
      "cell_type": "code",
      "source": [],
      "metadata": {
        "id": "742wQHuloKe0"
      },
      "execution_count": null,
      "outputs": []
    },
    {
      "cell_type": "code",
      "source": [],
      "metadata": {
        "id": "1BTGU_udJT9X"
      },
      "execution_count": null,
      "outputs": []
>>>>>>> origin/main
    },
    {
      "cell_type": "code",
      "source": [
        "# 결측치 재확인\n",
<<<<<<< HEAD
        "missing_cols = df2.columns[df2.isnull().any()]\n",
=======
        "missing_cols = df_all.columns[df_all.isnull().any()]\n",
>>>>>>> origin/main
        "missing_cols"
      ],
      "metadata": {
        "colab": {
          "base_uri": "https://localhost:8080/"
        },
        "id": "7WykT4B6h9bP",
<<<<<<< HEAD
        "outputId": "7bfa8b7e-8c9d-4b06-b1f3-280dedabebf6"
      },
      "execution_count": null,
=======
        "outputId": "0bb9574a-437f-4408-dc12-8edf46b13b1b"
      },
      "execution_count": 161,
>>>>>>> origin/main
      "outputs": [
        {
          "output_type": "execute_result",
          "data": {
            "text/plain": [
              "Index([], dtype='object')"
            ]
          },
          "metadata": {},
<<<<<<< HEAD
          "execution_count": 52
=======
          "execution_count": 161
>>>>>>> origin/main
        }
      ]
    },
    {
<<<<<<< HEAD
      "cell_type": "markdown",
      "source": [
        "1. VIF (다중공선성) 기준 피처 제거 코드 추가"
      ],
      "metadata": {
        "id": "eCKdjzQxFgrh"
      }
    },
    {
      "cell_type": "code",
      "source": [
        "from statsmodels.stats.outliers_influence import variance_inflation_factor\n",
        "import statsmodels.api as sm\n",
        "\n",
        "# 수치형 컬럼만 선택\n",
        "numeric_cols = df2.select_dtypes(include=['float64', 'int64']).columns.tolist()\n",
        "X_vif = df2[numeric_cols].dropna()\n",
        "\n",
        "# VIF 계산\n",
        "vif_data = pd.DataFrame()\n",
        "vif_data[\"Feature\"] = X_vif.columns\n",
        "vif_data[\"VIF\"] = [variance_inflation_factor(X_vif.values, i) for i in range(X_vif.shape[1])]\n",
        "\n",
        "# VIF가 10 이상인 피처 확인\n",
        "high_vif_features = vif_data[vif_data[\"VIF\"] > 10][\"Feature\"].tolist()\n",
        "print(\"VIF > 10:\", high_vif_features)"
      ],
      "metadata": {
        "colab": {
          "base_uri": "https://localhost:8080/"
        },
        "id": "oSc2zSzFFf9g",
        "outputId": "280d95ba-837e-43db-93b1-c0af2daced89"
      },
      "execution_count": null,
      "outputs": [
        {
          "output_type": "stream",
          "name": "stdout",
          "text": [
            "VIF > 10: ['기준년월', '카드이용한도금액', 'RV일시불이자율_할인전', 'RV약정청구율', '상향가능한도금액', '상향가능CA한도금액', '카드이용한도금액_B1M', '카드이용한도금액_B2M', 'rv최초시작후경과일']\n"
          ]
        }
      ]
    },
    {
      "cell_type": "code",
      "source": [
        "# 1. 기준년월 컬럼을 제외한 VIF 10 이상 컬럼만 제거 대상에 포함\n",
        "features_to_drop = [col for col in high_vif_features if col != '기준년월']\n",
        "\n",
        "# 2. 컬럼 제거\n",
        "df2 = df2.drop(columns=features_to_drop)\n",
        "print(\"제거된 컬럼 목록:\", features_to_drop)"
      ],
      "metadata": {
        "colab": {
          "base_uri": "https://localhost:8080/"
        },
        "id": "dLCUsey8G03K",
        "outputId": "c4fd2974-74ec-44fb-8254-9ccd26347f51"
      },
      "execution_count": null,
      "outputs": [
        {
          "output_type": "stream",
          "name": "stdout",
          "text": [
            "제거된 컬럼 목록: ['카드이용한도금액', 'RV일시불이자율_할인전', 'RV약정청구율', '상향가능한도금액', '상향가능CA한도금액', '카드이용한도금액_B1M', '카드이용한도금액_B2M', 'rv최초시작후경과일']\n"
          ]
        }
      ]
    },
    {
      "cell_type": "code",
      "source": [
        "# 기준년월이 여전히 남아있는지 확인\n",
        "print(\"'기준년월' in df2.columns:\", '기준년월' in df2.columns)"
      ],
      "metadata": {
        "colab": {
          "base_uri": "https://localhost:8080/"
        },
        "id": "S_2tnnouG0bE",
        "outputId": "b23af018-0e57-4696-d82d-5282c77ce5a9"
      },
      "execution_count": null,
      "outputs": [
        {
          "output_type": "stream",
          "name": "stdout",
          "text": [
            "'기준년월' in df2.columns: True\n"
          ]
        }
      ]
    },
    {
      "cell_type": "code",
      "source": [
        "df2.info()"
      ],
      "metadata": {
        "colab": {
          "base_uri": "https://localhost:8080/"
        },
        "id": "HZgS651PGvvE",
        "outputId": "657ca346-605e-4640-c15d-2af986611f28"
      },
      "execution_count": null,
      "outputs": [
        {
          "output_type": "stream",
          "name": "stdout",
          "text": [
            "<class 'pandas.core.frame.DataFrame'>\n",
            "RangeIndex: 2400000 entries, 0 to 2399999\n",
            "Data columns (total 28 columns):\n",
            " #   Column          Dtype  \n",
            "---  ------          -----  \n",
            " 0   기준년월            int64  \n",
            " 1   ID              object \n",
            " 2   최초한도금액          int64  \n",
            " 3   CA한도금액          int64  \n",
            " 4   일시상환론한도금액       int64  \n",
            " 5   월상환론한도금액        int64  \n",
            " 6   CA이자율_할인전       float64\n",
            " 7   CL이자율_할인전       float64\n",
            " 8   RV현금서비스이자율_할인전  float64\n",
            " 9   RV최소결제비율        float64\n",
            " 10  자발한도감액횟수_R12M   object \n",
            " 11  자발한도감액금액_R12M   int64  \n",
            " 12  강제한도감액횟수_R12M   int64  \n",
            " 13  강제한도감액금액_R12M   int64  \n",
            " 14  한도증액횟수_R12M     object \n",
            " 15  한도증액금액_R12M     int64  \n",
            " 16  월상환론상향가능한도금액    int64  \n",
            " 17  RV전환가능여부        object \n",
            " 18  일시불ONLY전환가능여부   int64  \n",
            " 19  특별한도보유여부_R3M    int64  \n",
            " 20  연체감액여부_R3M      int64  \n",
            " 21  한도심사요청건수        object \n",
            " 22  한도요청거절건수        int64  \n",
            " 23  시장단기연체여부_R6M    int64  \n",
            " 24  시장단기연체여부_R3M    int64  \n",
            " 25  시장연체상환여부_R6M    int64  \n",
            " 26  시장연체상환여부_R3M    int64  \n",
            " 27  Segment         object \n",
            "dtypes: float64(4), int64(18), object(6)\n",
            "memory usage: 512.7+ MB\n"
          ]
        }
      ]
    },
    {
      "cell_type": "code",
      "source": [
        "# Parquet 저장(세그먼트 포함)\n",
        "df2.to_parquet(\"train_2번eda_withSegment.parquet\", index=False)\n",
        "\n",
        "# 파일 다운로드\n",
        "from google.colab import files\n",
        "files.download(\"train_2번eda_withSegment.parquet\")"
      ],
      "metadata": {
        "id": "742wQHuloKe0",
        "colab": {
          "base_uri": "https://localhost:8080/",
          "height": 17
        },
        "outputId": "852e8abc-4a70-49fa-ca2c-03ce7d144268"
      },
      "execution_count": null,
      "outputs": [
        {
          "output_type": "display_data",
          "data": {
            "text/plain": [
              "<IPython.core.display.Javascript object>"
            ],
            "application/javascript": [
              "\n",
              "    async function download(id, filename, size) {\n",
              "      if (!google.colab.kernel.accessAllowed) {\n",
              "        return;\n",
              "      }\n",
              "      const div = document.createElement('div');\n",
              "      const label = document.createElement('label');\n",
              "      label.textContent = `Downloading \"${filename}\": `;\n",
              "      div.appendChild(label);\n",
              "      const progress = document.createElement('progress');\n",
              "      progress.max = size;\n",
              "      div.appendChild(progress);\n",
              "      document.body.appendChild(div);\n",
              "\n",
              "      const buffers = [];\n",
              "      let downloaded = 0;\n",
              "\n",
              "      const channel = await google.colab.kernel.comms.open(id);\n",
              "      // Send a message to notify the kernel that we're ready.\n",
              "      channel.send({})\n",
              "\n",
              "      for await (const message of channel.messages) {\n",
              "        // Send a message to notify the kernel that we're ready.\n",
              "        channel.send({})\n",
              "        if (message.buffers) {\n",
              "          for (const buffer of message.buffers) {\n",
              "            buffers.push(buffer);\n",
              "            downloaded += buffer.byteLength;\n",
              "            progress.value = downloaded;\n",
              "          }\n",
              "        }\n",
              "      }\n",
              "      const blob = new Blob(buffers, {type: 'application/binary'});\n",
              "      const a = document.createElement('a');\n",
              "      a.href = window.URL.createObjectURL(blob);\n",
              "      a.download = filename;\n",
              "      div.appendChild(a);\n",
              "      a.click();\n",
              "      div.remove();\n",
              "    }\n",
              "  "
            ]
          },
          "metadata": {}
        },
        {
          "output_type": "display_data",
          "data": {
            "text/plain": [
              "<IPython.core.display.Javascript object>"
            ],
            "application/javascript": [
              "download(\"download_696c0506-7e64-4518-b714-d8f32fe5e180\", \"train_2\\ubc88eda_withSegment.parquet\", 89942086)"
            ]
          },
          "metadata": {}
        }
      ]
    },
    {
      "cell_type": "code",
      "source": [],
      "metadata": {
        "id": "c1cS58JvR4lD"
      },
      "execution_count": null,
      "outputs": []
    },
    {
      "cell_type": "code",
      "source": [
        "# Segment 컬럼 분리\n",
        "df2_segment = df2['Segment']\n",
        "\n",
        "# df2에서 Segment 컬럼 제거\n",
        "df22 = df2.drop(columns=['Segment'])\n",
        "\n",
        "print(\"df2에서 Segment 컬럼 제거\")\n",
        "print(\"\\n분리된 Segment 데이터프레임:\")\n",
        "print(df2_segment.head())\n",
        "print(\"\\nSegment 제거 후 df2:\")\n",
        "print(df22.head())"
      ],
      "metadata": {
        "colab": {
          "base_uri": "https://localhost:8080/"
        },
        "id": "d8ZTDTQMFadB",
        "outputId": "6b639a9a-06cd-4316-ef13-106d8439ed0f"
      },
      "execution_count": null,
      "outputs": [
        {
          "output_type": "stream",
          "name": "stdout",
          "text": [
            "df2에서 Segment 컬럼 제거\n",
            "\n",
            "분리된 Segment 데이터프레임:\n",
            "0    D\n",
            "1    E\n",
            "2    C\n",
            "3    D\n",
            "4    E\n",
            "Name: Segment, dtype: object\n",
            "\n",
            "Segment 제거 후 df2:\n",
            "     기준년월            ID  최초한도금액  CA한도금액  일시상환론한도금액  월상환론한도금액  CA이자율_할인전  \\\n",
            "0  201807  TRAIN_000000       0    7270          0         0  22.995207   \n",
            "1  201807  TRAIN_000001       0    5718      41996     90611  14.793821   \n",
            "2  201807  TRAIN_000002       0   35207          0         0  22.014276   \n",
            "3  201807  TRAIN_000003       0    6531          0         0  22.998014   \n",
            "4  201807  TRAIN_000004       0   47149      48000    155020  14.661948   \n",
            "\n",
            "   CL이자율_할인전  RV현금서비스이자율_할인전  RV최소결제비율  ... RV전환가능여부  일시불ONLY전환가능여부  \\\n",
            "0  18.254978       21.234252  19.99996  ...        N              0   \n",
            "1  14.834873       13.636594   9.99998  ...        Z              1   \n",
            "2  17.875321       21.226879  19.99996  ...        N              0   \n",
            "3  22.999453       22.999954  19.99996  ...        N              0   \n",
            "4  10.897410       10.504785   9.99998  ...        Z              1   \n",
            "\n",
            "   특별한도보유여부_R3M  연체감액여부_R3M 한도심사요청건수  한도요청거절건수  시장단기연체여부_R6M 시장단기연체여부_R3M  \\\n",
            "0             0           0       0회         0             0            0   \n",
            "1             0           0       0회         0             0            0   \n",
            "2             0           0       0회         0             0            0   \n",
            "3             0           0       0회         0             0            0   \n",
            "4             0           0       0회         0             0            0   \n",
            "\n",
            "   시장연체상환여부_R6M  시장연체상환여부_R3M  \n",
            "0             0             0  \n",
            "1             0             0  \n",
            "2             0             0  \n",
            "3             0             0  \n",
            "4             0             0  \n",
            "\n",
            "[5 rows x 27 columns]\n"
          ]
        }
      ]
    },
    {
      "cell_type": "markdown",
      "source": [
        "Parquet 저장 및 다운로드"
      ],
      "metadata": {
        "id": "o8FrQ-0ZHs-c"
      }
    },
    {
      "cell_type": "code",
      "source": [
        "# Parquet 저장\n",
        "df22.to_parquet(\"train_2번eda.parquet\", index=False)\n",
        "\n",
        "# 파일 다운로드\n",
        "from google.colab import files\n",
        "files.download(\"train_2번eda.parquet\")"
      ],
      "metadata": {
        "colab": {
          "base_uri": "https://localhost:8080/",
          "height": 17
        },
        "id": "FfrygsTmHtz_",
        "outputId": "d81169a2-66a5-4462-d196-7511d10b3466"
      },
      "execution_count": null,
      "outputs": [
        {
          "output_type": "display_data",
          "data": {
            "text/plain": [
              "<IPython.core.display.Javascript object>"
            ],
            "application/javascript": [
              "\n",
              "    async function download(id, filename, size) {\n",
              "      if (!google.colab.kernel.accessAllowed) {\n",
              "        return;\n",
              "      }\n",
              "      const div = document.createElement('div');\n",
              "      const label = document.createElement('label');\n",
              "      label.textContent = `Downloading \"${filename}\": `;\n",
              "      div.appendChild(label);\n",
              "      const progress = document.createElement('progress');\n",
              "      progress.max = size;\n",
              "      div.appendChild(progress);\n",
              "      document.body.appendChild(div);\n",
              "\n",
              "      const buffers = [];\n",
              "      let downloaded = 0;\n",
              "\n",
              "      const channel = await google.colab.kernel.comms.open(id);\n",
              "      // Send a message to notify the kernel that we're ready.\n",
              "      channel.send({})\n",
              "\n",
              "      for await (const message of channel.messages) {\n",
              "        // Send a message to notify the kernel that we're ready.\n",
              "        channel.send({})\n",
              "        if (message.buffers) {\n",
              "          for (const buffer of message.buffers) {\n",
              "            buffers.push(buffer);\n",
              "            downloaded += buffer.byteLength;\n",
              "            progress.value = downloaded;\n",
              "          }\n",
              "        }\n",
              "      }\n",
              "      const blob = new Blob(buffers, {type: 'application/binary'});\n",
              "      const a = document.createElement('a');\n",
              "      a.href = window.URL.createObjectURL(blob);\n",
              "      a.download = filename;\n",
              "      div.appendChild(a);\n",
              "      a.click();\n",
              "      div.remove();\n",
              "    }\n",
              "  "
            ]
          },
          "metadata": {}
        },
        {
          "output_type": "display_data",
          "data": {
            "text/plain": [
              "<IPython.core.display.Javascript object>"
            ],
            "application/javascript": [
              "download(\"download_e0aea4d8-1575-4ce5-b663-2922263d4423\", \"train_2\\ubc88eda.parquet\", 89303833)"
            ]
          },
          "metadata": {}
        }
      ]
    },
    {
      "cell_type": "markdown",
      "source": [
        "인코딩"
      ],
      "metadata": {
        "id": "hf1VlYpGHzkp"
      }
    },
    {
      "cell_type": "code",
      "source": [
        "from sklearn.preprocessing import LabelEncoder\n",
        "\n",
        "# 범주형 컬럼 확인 및 인코딩\n",
        "categorical_cols = df22.select_dtypes(include=['object', 'category']).columns\n",
        "\n",
        "# Label Encoding 수행\n",
        "for col in categorical_cols:\n",
        "    le = LabelEncoder()\n",
        "    df22[col] = le.fit_transform(df22[col].astype(str)) # 결측치 등을 문자열 'nan'으로 처리하여 인코딩\n",
        "\n",
        "print(\"범주형 컬럼 인코딩 완료\")\n",
        "\n",
        "# Parquet 저장\n",
        "df22.to_parquet(\"train_2번eda_encoded.parquet\", index=False)\n",
        "\n",
        "# 파일 다운로드\n",
        "from google.colab import files\n",
        "files.download(\"train_2번eda_encoded.parquet\")"
      ],
      "metadata": {
        "colab": {
          "base_uri": "https://localhost:8080/",
          "height": 35
        },
        "id": "uy37w4OcH0r5",
        "outputId": "b324fa88-5757-423d-d2d3-52ffa1caf201"
      },
      "execution_count": null,
      "outputs": [
        {
          "output_type": "stream",
          "name": "stdout",
          "text": [
            "범주형 컬럼 인코딩 완료\n"
          ]
        },
        {
          "output_type": "display_data",
          "data": {
            "text/plain": [
              "<IPython.core.display.Javascript object>"
            ],
            "application/javascript": [
              "\n",
              "    async function download(id, filename, size) {\n",
              "      if (!google.colab.kernel.accessAllowed) {\n",
              "        return;\n",
              "      }\n",
              "      const div = document.createElement('div');\n",
              "      const label = document.createElement('label');\n",
              "      label.textContent = `Downloading \"${filename}\": `;\n",
              "      div.appendChild(label);\n",
              "      const progress = document.createElement('progress');\n",
              "      progress.max = size;\n",
              "      div.appendChild(progress);\n",
              "      document.body.appendChild(div);\n",
              "\n",
              "      const buffers = [];\n",
              "      let downloaded = 0;\n",
              "\n",
              "      const channel = await google.colab.kernel.comms.open(id);\n",
              "      // Send a message to notify the kernel that we're ready.\n",
              "      channel.send({})\n",
              "\n",
              "      for await (const message of channel.messages) {\n",
              "        // Send a message to notify the kernel that we're ready.\n",
              "        channel.send({})\n",
              "        if (message.buffers) {\n",
              "          for (const buffer of message.buffers) {\n",
              "            buffers.push(buffer);\n",
              "            downloaded += buffer.byteLength;\n",
              "            progress.value = downloaded;\n",
              "          }\n",
              "        }\n",
              "      }\n",
              "      const blob = new Blob(buffers, {type: 'application/binary'});\n",
              "      const a = document.createElement('a');\n",
              "      a.href = window.URL.createObjectURL(blob);\n",
              "      a.download = filename;\n",
              "      div.appendChild(a);\n",
              "      a.click();\n",
              "      div.remove();\n",
              "    }\n",
              "  "
            ]
          },
          "metadata": {}
        },
        {
          "output_type": "display_data",
          "data": {
            "text/plain": [
              "<IPython.core.display.Javascript object>"
            ],
            "application/javascript": [
              "download(\"download_2a99fada-4b40-40be-af8c-d4fdc1dac162\", \"train_2\\ubc88eda_encoded.parquet\", 87522756)"
            ]
          },
          "metadata": {}
        }
      ]
    },
    {
      "cell_type": "code",
      "source": [],
      "metadata": {
        "id": "84m9evQ1Quvy"
      },
      "execution_count": null,
      "outputs": []
    },
    {
      "cell_type": "markdown",
      "source": [
        "1. 수치형 변수 간 상관관계 히트맵"
      ],
      "metadata": {
        "id": "0V86fIhHEvNc"
      }
    },
    {
      "cell_type": "code",
      "source": [
        "# 데이터 불러오기\n",
        "df = pd.read_parquet(\"/content/drive/MyDrive/Colab Notebooks/final_project/train_2번eda_withSegment.parquet\")\n",
        "\n",
        "# 수치형 변수만 선택\n",
        "numeric_df = df.select_dtypes(include=['int64', 'float64'])\n",
        "\n",
        "# 상관계수 행렬 계산\n",
        "corr_matrix = numeric_df.corr()\n",
        "\n",
        "# 히트맵 시각화\n",
        "plt.figure(figsize=(18, 15))\n",
        "sns.heatmap(corr_matrix, cmap='coolwarm', annot=False, fmt=\".2f\", linewidths=0.3)\n",
        "plt.title(\"수치형 변수 간 상관관계 히트맵\", fontsize=16)\n",
        "plt.show()"
      ],
      "metadata": {
        "id": "1BTGU_udJT9X",
        "colab": {
          "base_uri": "https://localhost:8080/",
          "height": 616
        },
        "outputId": "22b26037-3502-4861-a2bb-29ccb9013278"
      },
      "execution_count": null,
      "outputs": [
        {
          "output_type": "display_data",
          "data": {
            "text/plain": [
              "<Figure size 1800x1500 with 2 Axes>"
            ],
            "image/png": "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\n"
          },
          "metadata": {}
        }
      ]
    },
    {
      "cell_type": "markdown",
      "source": [
        "# 상관관계가 높은 주요 변수 쌍\n",
        "1. CA이자율_할인전 & CL이자율_할인전\n",
        "\n",
        "상관계수 매우 높음 (약 0.9 이상)\n",
        "\n",
        "둘 다 카드론/현금서비스 이자율로, 유사한 정보 담고 있음\n",
        "→ 하나만 선택하거나 차원 축소 고려\n",
        "\n",
        "2. 강제한도감액금액_R12M & 한도종합감액금액\n",
        "\n",
        "거의 완전히 일치 (상관계수 0.98 이상 추정)\n",
        "\n",
        "감액 금액의 세부/총합 관계로 보임\n",
        "→ 둘 중 하나만 유지?\n",
        "\n",
        "3. 시장단기연체여부_R6M & 시장단기연체여부_R3M\n",
        "\n",
        "4. 시장연체상환여부_R6M & 시장연체상환여부_R3M\n",
        "\n",
        "시간 기준만 다르고, 연체 여부의 지속성 정보\n",
        "→ 둘 중 하나만 선택하거나, 결합 또는 통계적 변환 고려\n",
        "\n",
        "# 상관관계가 낮거나 중립적인 변수\n",
        "- RV최소결제비율, 임시한도사용가능한도금액, 최초한도금액 등은 대부분 다른 변수와 상관관계가 낮음 => 독립적인 정보일 수 있음 → 피처 선택에 있어 보존할 가치 있음"
      ],
      "metadata": {
        "id": "Xmx-NQgZgJwl"
      }
    },
    {
=======
>>>>>>> origin/main
      "cell_type": "code",
      "source": [],
      "metadata": {
        "id": "Muev0I4DIHwM"
      },
      "execution_count": null,
      "outputs": []
    },
    {
      "cell_type": "code",
      "source": [
<<<<<<< HEAD
        "# 상관계수 테이블 확인\n",
        "corr_matrix = df.select_dtypes(include=['float64', 'int64']).corr()\n",
        "\n",
        "# 절대 상관관계가 0.7 이상인 컬럼 쌍 필터링\n",
        "high_corr = corr_matrix.abs().unstack().sort_values(ascending=False)\n",
        "high_corr = high_corr[high_corr < 1.0]  # 자기 자신 제외\n",
        "high_corr = high_corr[high_corr > 0.7].drop_duplicates()\n",
        "\n",
        "print(\"상관계수 0.7 초과 컬럼 쌍:\")\n",
        "display(high_corr)"
      ],
      "metadata": {
        "colab": {
          "base_uri": "https://localhost:8080/",
          "height": 227
        },
        "id": "VYyOawxzKrnw",
        "outputId": "1a5c1d85-94c2-4d9b-ce02-3976c33dddc2"
      },
      "execution_count": null,
      "outputs": [
        {
          "output_type": "stream",
          "name": "stdout",
          "text": [
            "상관계수 0.7 초과 컬럼 쌍:\n"
          ]
        },
        {
          "output_type": "display_data",
          "data": {
            "text/plain": [
              "RV현금서비스이자율_할인전  CA이자율_할인전         0.923218\n",
              "CA이자율_할인전       CL이자율_할인전         0.764988\n",
              "CL이자율_할인전       RV현금서비스이자율_할인전    0.753750\n",
              "RV현금서비스이자율_할인전  RV최소결제비율          0.702993\n",
              "dtype: float64"
            ],
            "text/html": [
              "<div>\n",
              "<style scoped>\n",
              "    .dataframe tbody tr th:only-of-type {\n",
              "        vertical-align: middle;\n",
              "    }\n",
              "\n",
              "    .dataframe tbody tr th {\n",
              "        vertical-align: top;\n",
              "    }\n",
              "\n",
              "    .dataframe thead th {\n",
              "        text-align: right;\n",
              "    }\n",
              "</style>\n",
              "<table border=\"1\" class=\"dataframe\">\n",
              "  <thead>\n",
              "    <tr style=\"text-align: right;\">\n",
              "      <th></th>\n",
              "      <th></th>\n",
              "      <th>0</th>\n",
              "    </tr>\n",
              "  </thead>\n",
              "  <tbody>\n",
              "    <tr>\n",
              "      <th>RV현금서비스이자율_할인전</th>\n",
              "      <th>CA이자율_할인전</th>\n",
              "      <td>0.923218</td>\n",
              "    </tr>\n",
              "    <tr>\n",
              "      <th>CA이자율_할인전</th>\n",
              "      <th>CL이자율_할인전</th>\n",
              "      <td>0.764988</td>\n",
              "    </tr>\n",
              "    <tr>\n",
              "      <th>CL이자율_할인전</th>\n",
              "      <th>RV현금서비스이자율_할인전</th>\n",
              "      <td>0.753750</td>\n",
              "    </tr>\n",
              "    <tr>\n",
              "      <th>RV현금서비스이자율_할인전</th>\n",
              "      <th>RV최소결제비율</th>\n",
              "      <td>0.702993</td>\n",
              "    </tr>\n",
              "  </tbody>\n",
              "</table>\n",
              "</div><br><label><b>dtype:</b> float64</label>"
            ]
          },
          "metadata": {}
        }
      ]
    },
    {
      "cell_type": "markdown",
      "source": [
        "Segment와 관련 있는지 확인"
      ],
      "metadata": {
        "id": "xExIkH89ol-R"
      }
    },
    {
      "cell_type": "code",
      "source": [
        "#1. ANOVA\n",
        "from scipy.stats import f_oneway\n",
        "\n",
        "# Segment별 그룹 나누기\n",
        "groups = df2.groupby('Segment')\n",
        "\n",
        "# 테스트할 변수 리스트\n",
        "vars_to_test = ['CA이자율_할인전', 'CL이자율_할인전', 'RV현금서비스이자율_할인전']\n",
        "\n",
        "# 결과 저장\n",
        "anova_results = {}\n",
        "\n",
        "for var in vars_to_test:\n",
        "    # 각 세그먼트 그룹에서 해당 변수 추출\n",
        "    samples = [group[var].dropna().values for name, group in groups]\n",
        "\n",
        "    # ANOVA 수행\n",
        "    f_val, p_val = f_oneway(*samples)\n",
        "    anova_results[var] = {'F-value': f_val, 'p-value': p_val}\n",
        "\n",
        "# 결과 출력\n",
        "import pandas as pd\n",
        "anova_df = pd.DataFrame(anova_results).T\n",
        "print(\"ANOVA 결과 (Segment별 차이 유의성 검정)\")\n",
        "display(anova_df)\n"
      ],
      "metadata": {
        "colab": {
          "base_uri": "https://localhost:8080/",
          "height": 161
        },
        "id": "4oEoh5lyqOxs",
        "outputId": "1ea2ffa3-a31b-4317-b915-a9db26321646"
      },
      "execution_count": null,
      "outputs": [
        {
          "output_type": "stream",
          "name": "stdout",
          "text": [
            "ANOVA 결과 (Segment별 차이 유의성 검정)\n"
          ]
        },
        {
          "output_type": "display_data",
          "data": {
            "text/plain": [
              "                    F-value  p-value\n",
              "CA이자율_할인전       8568.299690      0.0\n",
              "CL이자율_할인전        856.630177      0.0\n",
              "RV현금서비스이자율_할인전  5851.603613      0.0"
            ],
            "text/html": [
              "\n",
              "  <div id=\"df-afe0ec3d-b713-43c5-81a7-6146ac18f0b9\" class=\"colab-df-container\">\n",
              "    <div>\n",
              "<style scoped>\n",
              "    .dataframe tbody tr th:only-of-type {\n",
              "        vertical-align: middle;\n",
              "    }\n",
              "\n",
              "    .dataframe tbody tr th {\n",
              "        vertical-align: top;\n",
              "    }\n",
              "\n",
              "    .dataframe thead th {\n",
              "        text-align: right;\n",
              "    }\n",
              "</style>\n",
              "<table border=\"1\" class=\"dataframe\">\n",
              "  <thead>\n",
              "    <tr style=\"text-align: right;\">\n",
              "      <th></th>\n",
              "      <th>F-value</th>\n",
              "      <th>p-value</th>\n",
              "    </tr>\n",
              "  </thead>\n",
              "  <tbody>\n",
              "    <tr>\n",
              "      <th>CA이자율_할인전</th>\n",
              "      <td>8568.299690</td>\n",
              "      <td>0.0</td>\n",
              "    </tr>\n",
              "    <tr>\n",
              "      <th>CL이자율_할인전</th>\n",
              "      <td>856.630177</td>\n",
              "      <td>0.0</td>\n",
              "    </tr>\n",
              "    <tr>\n",
              "      <th>RV현금서비스이자율_할인전</th>\n",
              "      <td>5851.603613</td>\n",
              "      <td>0.0</td>\n",
              "    </tr>\n",
              "  </tbody>\n",
              "</table>\n",
              "</div>\n",
              "    <div class=\"colab-df-buttons\">\n",
              "\n",
              "  <div class=\"colab-df-container\">\n",
              "    <button class=\"colab-df-convert\" onclick=\"convertToInteractive('df-afe0ec3d-b713-43c5-81a7-6146ac18f0b9')\"\n",
              "            title=\"Convert this dataframe to an interactive table.\"\n",
              "            style=\"display:none;\">\n",
              "\n",
              "  <svg xmlns=\"http://www.w3.org/2000/svg\" height=\"24px\" viewBox=\"0 -960 960 960\">\n",
              "    <path d=\"M120-120v-720h720v720H120Zm60-500h600v-160H180v160Zm220 220h160v-160H400v160Zm0 220h160v-160H400v160ZM180-400h160v-160H180v160Zm440 0h160v-160H620v160ZM180-180h160v-160H180v160Zm440 0h160v-160H620v160Z\"/>\n",
              "  </svg>\n",
              "    </button>\n",
              "\n",
              "  <style>\n",
              "    .colab-df-container {\n",
              "      display:flex;\n",
              "      gap: 12px;\n",
              "    }\n",
              "\n",
              "    .colab-df-convert {\n",
              "      background-color: #E8F0FE;\n",
              "      border: none;\n",
              "      border-radius: 50%;\n",
              "      cursor: pointer;\n",
              "      display: none;\n",
              "      fill: #1967D2;\n",
              "      height: 32px;\n",
              "      padding: 0 0 0 0;\n",
              "      width: 32px;\n",
              "    }\n",
              "\n",
              "    .colab-df-convert:hover {\n",
              "      background-color: #E2EBFA;\n",
              "      box-shadow: 0px 1px 2px rgba(60, 64, 67, 0.3), 0px 1px 3px 1px rgba(60, 64, 67, 0.15);\n",
              "      fill: #174EA6;\n",
              "    }\n",
              "\n",
              "    .colab-df-buttons div {\n",
              "      margin-bottom: 4px;\n",
              "    }\n",
              "\n",
              "    [theme=dark] .colab-df-convert {\n",
              "      background-color: #3B4455;\n",
              "      fill: #D2E3FC;\n",
              "    }\n",
              "\n",
              "    [theme=dark] .colab-df-convert:hover {\n",
              "      background-color: #434B5C;\n",
              "      box-shadow: 0px 1px 3px 1px rgba(0, 0, 0, 0.15);\n",
              "      filter: drop-shadow(0px 1px 2px rgba(0, 0, 0, 0.3));\n",
              "      fill: #FFFFFF;\n",
              "    }\n",
              "  </style>\n",
              "\n",
              "    <script>\n",
              "      const buttonEl =\n",
              "        document.querySelector('#df-afe0ec3d-b713-43c5-81a7-6146ac18f0b9 button.colab-df-convert');\n",
              "      buttonEl.style.display =\n",
              "        google.colab.kernel.accessAllowed ? 'block' : 'none';\n",
              "\n",
              "      async function convertToInteractive(key) {\n",
              "        const element = document.querySelector('#df-afe0ec3d-b713-43c5-81a7-6146ac18f0b9');\n",
              "        const dataTable =\n",
              "          await google.colab.kernel.invokeFunction('convertToInteractive',\n",
              "                                                    [key], {});\n",
              "        if (!dataTable) return;\n",
              "\n",
              "        const docLinkHtml = 'Like what you see? Visit the ' +\n",
              "          '<a target=\"_blank\" href=https://colab.research.google.com/notebooks/data_table.ipynb>data table notebook</a>'\n",
              "          + ' to learn more about interactive tables.';\n",
              "        element.innerHTML = '';\n",
              "        dataTable['output_type'] = 'display_data';\n",
              "        await google.colab.output.renderOutput(dataTable, element);\n",
              "        const docLink = document.createElement('div');\n",
              "        docLink.innerHTML = docLinkHtml;\n",
              "        element.appendChild(docLink);\n",
              "      }\n",
              "    </script>\n",
              "  </div>\n",
              "\n",
              "\n",
              "    <div id=\"df-29b91928-efcc-4d5c-b621-97ef3aa9dd37\">\n",
              "      <button class=\"colab-df-quickchart\" onclick=\"quickchart('df-29b91928-efcc-4d5c-b621-97ef3aa9dd37')\"\n",
              "                title=\"Suggest charts\"\n",
              "                style=\"display:none;\">\n",
              "\n",
              "<svg xmlns=\"http://www.w3.org/2000/svg\" height=\"24px\"viewBox=\"0 0 24 24\"\n",
              "     width=\"24px\">\n",
              "    <g>\n",
              "        <path d=\"M19 3H5c-1.1 0-2 .9-2 2v14c0 1.1.9 2 2 2h14c1.1 0 2-.9 2-2V5c0-1.1-.9-2-2-2zM9 17H7v-7h2v7zm4 0h-2V7h2v10zm4 0h-2v-4h2v4z\"/>\n",
              "    </g>\n",
              "</svg>\n",
              "      </button>\n",
              "\n",
              "<style>\n",
              "  .colab-df-quickchart {\n",
              "      --bg-color: #E8F0FE;\n",
              "      --fill-color: #1967D2;\n",
              "      --hover-bg-color: #E2EBFA;\n",
              "      --hover-fill-color: #174EA6;\n",
              "      --disabled-fill-color: #AAA;\n",
              "      --disabled-bg-color: #DDD;\n",
              "  }\n",
              "\n",
              "  [theme=dark] .colab-df-quickchart {\n",
              "      --bg-color: #3B4455;\n",
              "      --fill-color: #D2E3FC;\n",
              "      --hover-bg-color: #434B5C;\n",
              "      --hover-fill-color: #FFFFFF;\n",
              "      --disabled-bg-color: #3B4455;\n",
              "      --disabled-fill-color: #666;\n",
              "  }\n",
              "\n",
              "  .colab-df-quickchart {\n",
              "    background-color: var(--bg-color);\n",
              "    border: none;\n",
              "    border-radius: 50%;\n",
              "    cursor: pointer;\n",
              "    display: none;\n",
              "    fill: var(--fill-color);\n",
              "    height: 32px;\n",
              "    padding: 0;\n",
              "    width: 32px;\n",
              "  }\n",
              "\n",
              "  .colab-df-quickchart:hover {\n",
              "    background-color: var(--hover-bg-color);\n",
              "    box-shadow: 0 1px 2px rgba(60, 64, 67, 0.3), 0 1px 3px 1px rgba(60, 64, 67, 0.15);\n",
              "    fill: var(--button-hover-fill-color);\n",
              "  }\n",
              "\n",
              "  .colab-df-quickchart-complete:disabled,\n",
              "  .colab-df-quickchart-complete:disabled:hover {\n",
              "    background-color: var(--disabled-bg-color);\n",
              "    fill: var(--disabled-fill-color);\n",
              "    box-shadow: none;\n",
              "  }\n",
              "\n",
              "  .colab-df-spinner {\n",
              "    border: 2px solid var(--fill-color);\n",
              "    border-color: transparent;\n",
              "    border-bottom-color: var(--fill-color);\n",
              "    animation:\n",
              "      spin 1s steps(1) infinite;\n",
              "  }\n",
              "\n",
              "  @keyframes spin {\n",
              "    0% {\n",
              "      border-color: transparent;\n",
              "      border-bottom-color: var(--fill-color);\n",
              "      border-left-color: var(--fill-color);\n",
              "    }\n",
              "    20% {\n",
              "      border-color: transparent;\n",
              "      border-left-color: var(--fill-color);\n",
              "      border-top-color: var(--fill-color);\n",
              "    }\n",
              "    30% {\n",
              "      border-color: transparent;\n",
              "      border-left-color: var(--fill-color);\n",
              "      border-top-color: var(--fill-color);\n",
              "      border-right-color: var(--fill-color);\n",
              "    }\n",
              "    40% {\n",
              "      border-color: transparent;\n",
              "      border-right-color: var(--fill-color);\n",
              "      border-top-color: var(--fill-color);\n",
              "    }\n",
              "    60% {\n",
              "      border-color: transparent;\n",
              "      border-right-color: var(--fill-color);\n",
              "    }\n",
              "    80% {\n",
              "      border-color: transparent;\n",
              "      border-right-color: var(--fill-color);\n",
              "      border-bottom-color: var(--fill-color);\n",
              "    }\n",
              "    90% {\n",
              "      border-color: transparent;\n",
              "      border-bottom-color: var(--fill-color);\n",
              "    }\n",
              "  }\n",
              "</style>\n",
              "\n",
              "      <script>\n",
              "        async function quickchart(key) {\n",
              "          const quickchartButtonEl =\n",
              "            document.querySelector('#' + key + ' button');\n",
              "          quickchartButtonEl.disabled = true;  // To prevent multiple clicks.\n",
              "          quickchartButtonEl.classList.add('colab-df-spinner');\n",
              "          try {\n",
              "            const charts = await google.colab.kernel.invokeFunction(\n",
              "                'suggestCharts', [key], {});\n",
              "          } catch (error) {\n",
              "            console.error('Error during call to suggestCharts:', error);\n",
              "          }\n",
              "          quickchartButtonEl.classList.remove('colab-df-spinner');\n",
              "          quickchartButtonEl.classList.add('colab-df-quickchart-complete');\n",
              "        }\n",
              "        (() => {\n",
              "          let quickchartButtonEl =\n",
              "            document.querySelector('#df-29b91928-efcc-4d5c-b621-97ef3aa9dd37 button');\n",
              "          quickchartButtonEl.style.display =\n",
              "            google.colab.kernel.accessAllowed ? 'block' : 'none';\n",
              "        })();\n",
              "      </script>\n",
              "    </div>\n",
              "\n",
              "  <div id=\"id_4d373844-ff89-48e4-8a6d-eedb16aedc18\">\n",
              "    <style>\n",
              "      .colab-df-generate {\n",
              "        background-color: #E8F0FE;\n",
              "        border: none;\n",
              "        border-radius: 50%;\n",
              "        cursor: pointer;\n",
              "        display: none;\n",
              "        fill: #1967D2;\n",
              "        height: 32px;\n",
              "        padding: 0 0 0 0;\n",
              "        width: 32px;\n",
              "      }\n",
              "\n",
              "      .colab-df-generate:hover {\n",
              "        background-color: #E2EBFA;\n",
              "        box-shadow: 0px 1px 2px rgba(60, 64, 67, 0.3), 0px 1px 3px 1px rgba(60, 64, 67, 0.15);\n",
              "        fill: #174EA6;\n",
              "      }\n",
              "\n",
              "      [theme=dark] .colab-df-generate {\n",
              "        background-color: #3B4455;\n",
              "        fill: #D2E3FC;\n",
              "      }\n",
              "\n",
              "      [theme=dark] .colab-df-generate:hover {\n",
              "        background-color: #434B5C;\n",
              "        box-shadow: 0px 1px 3px 1px rgba(0, 0, 0, 0.15);\n",
              "        filter: drop-shadow(0px 1px 2px rgba(0, 0, 0, 0.3));\n",
              "        fill: #FFFFFF;\n",
              "      }\n",
              "    </style>\n",
              "    <button class=\"colab-df-generate\" onclick=\"generateWithVariable('anova_df')\"\n",
              "            title=\"Generate code using this dataframe.\"\n",
              "            style=\"display:none;\">\n",
              "\n",
              "  <svg xmlns=\"http://www.w3.org/2000/svg\" height=\"24px\"viewBox=\"0 0 24 24\"\n",
              "       width=\"24px\">\n",
              "    <path d=\"M7,19H8.4L18.45,9,17,7.55,7,17.6ZM5,21V16.75L18.45,3.32a2,2,0,0,1,2.83,0l1.4,1.43a1.91,1.91,0,0,1,.58,1.4,1.91,1.91,0,0,1-.58,1.4L9.25,21ZM18.45,9,17,7.55Zm-12,3A5.31,5.31,0,0,0,4.9,8.1,5.31,5.31,0,0,0,1,6.5,5.31,5.31,0,0,0,4.9,4.9,5.31,5.31,0,0,0,6.5,1,5.31,5.31,0,0,0,8.1,4.9,5.31,5.31,0,0,0,12,6.5,5.46,5.46,0,0,0,6.5,12Z\"/>\n",
              "  </svg>\n",
              "    </button>\n",
              "    <script>\n",
              "      (() => {\n",
              "      const buttonEl =\n",
              "        document.querySelector('#id_4d373844-ff89-48e4-8a6d-eedb16aedc18 button.colab-df-generate');\n",
              "      buttonEl.style.display =\n",
              "        google.colab.kernel.accessAllowed ? 'block' : 'none';\n",
              "\n",
              "      buttonEl.onclick = () => {\n",
              "        google.colab.notebook.generateWithVariable('anova_df');\n",
              "      }\n",
              "      })();\n",
              "    </script>\n",
              "  </div>\n",
              "\n",
              "    </div>\n",
              "  </div>\n"
            ],
            "application/vnd.google.colaboratory.intrinsic+json": {
              "type": "dataframe",
              "variable_name": "anova_df",
              "summary": "{\n  \"name\": \"anova_df\",\n  \"rows\": 3,\n  \"fields\": [\n    {\n      \"column\": \"F-value\",\n      \"properties\": {\n        \"dtype\": \"number\",\n        \"std\": 3911.52237761918,\n        \"min\": 856.6301772356403,\n        \"max\": 8568.29968963318,\n        \"num_unique_values\": 3,\n        \"samples\": [\n          8568.29968963318,\n          856.6301772356403,\n          5851.60361266338\n        ],\n        \"semantic_type\": \"\",\n        \"description\": \"\"\n      }\n    },\n    {\n      \"column\": \"p-value\",\n      \"properties\": {\n        \"dtype\": \"number\",\n        \"std\": 0.0,\n        \"min\": 0.0,\n        \"max\": 0.0,\n        \"num_unique_values\": 1,\n        \"samples\": [\n          0.0\n        ],\n        \"semantic_type\": \"\",\n        \"description\": \"\"\n      }\n    }\n  ]\n}"
            }
          },
          "metadata": {}
        }
      ]
    },
    {
      "cell_type": "code",
      "source": [],
      "metadata": {
        "id": "a7A_w5j-rAJP"
=======
        "# # 고유값 확인\n",
        "# df_all['ㅋ'].unique()"
      ],
      "metadata": {
        "id": "ra5xuG6Ck-XU"
>>>>>>> origin/main
      },
      "execution_count": null,
      "outputs": []
    },
    {
      "cell_type": "code",
      "source": [
<<<<<<< HEAD
        "#2. Feature Importance에서 상위권인가\n"
      ],
      "metadata": {
        "id": "6KQDP6v2KrZM"
=======
        "# df_all['Segment'].value_counts()"
      ],
      "metadata": {
        "id": "kGEVzkmYjStt"
>>>>>>> origin/main
      },
      "execution_count": null,
      "outputs": []
    },
    {
<<<<<<< HEAD
      "cell_type": "markdown",
      "source": [
        "2. 카이제곱 검정(Segment vs 범주형 변수)"
      ],
      "metadata": {
        "id": "9mwU--7fK0zD"
      }
=======
      "cell_type": "code",
      "source": [
        "# from sklearn.preprocessing import LabelEncoder\n",
        "\n",
        "# le = LabelEncoder()\n",
        "# df_all['Segment'] = le.fit_transform(df_all['Segment'])  # A~E → 0~4"
      ],
      "metadata": {
        "id": "Mf8Y6TUE49P-"
      },
      "execution_count": null,
      "outputs": []
>>>>>>> origin/main
    },
    {
      "cell_type": "code",
      "source": [
<<<<<<< HEAD
        "from scipy.stats import chi2_contingency\n",
        "\n",
        "# 범주형 컬럼만 추출 (Segment 제외)\n",
        "categorical_cols = df2.select_dtypes(include=['object', 'category', 'bool']).columns.tolist()\n",
        "categorical_cols = [col for col in categorical_cols if col != 'Segment']\n",
        "\n",
        "chi2_results = []\n",
        "\n",
        "for col in categorical_cols:\n",
        "    # 교차표 생성\n",
        "    contingency = pd.crosstab(df2[col], df2['Segment'])\n",
        "\n",
        "    # 카이제곱 검정 수행\n",
        "    chi2, p, dof, expected = chi2_contingency(contingency)\n",
        "\n",
        "    chi2_results.append({\n",
        "        'Feature': col,\n",
        "        'Chi2': chi2,\n",
        "        'p-value': p\n",
        "    })\n",
        "\n",
        "# 결과 정리\n",
        "chi2_df = pd.DataFrame(chi2_results).sort_values(by='p-value')\n",
        "import seaborn as sns\n",
        "import matplotlib.pyplot as plt\n",
        "\n",
        "# 시각화\n",
        "plt.figure(figsize=(10,6))\n",
        "sns.barplot(data=chi2_df, x='p-value', y='Feature', palette='coolwarm')\n",
        "plt.title('카이제곱 검정 결과 (Segment vs 범주형 변수)')\n",
        "plt.xlabel('p-value (작을수록 유의)')\n",
        "plt.show()\n",
        "\n",
        "# 유의한 변수 확인 (p < 0.05 기준)\n",
        "print(\"\\n 유의미한 범주형 변수 목록 (p < 0.05)\")\n",
        "print(chi2_df[chi2_df['p-value'] < 0.05])\n"
      ],
      "metadata": {
        "id": "M7O2C7Wp2h1_"
=======
        "# # 수치형 변수만 선택 (Segment 포함)\n",
        "# numeric_cols = df_all.select_dtypes(include=[np.number]).columns\n",
        "\n",
        "# # Segment와의 상관계수 계산\n",
        "# corr_with_segment = df_all[numeric_cols].corr()['Segment'].drop('Segment')"
      ],
      "metadata": {
        "id": "P6htGT6niQed"
      },
      "execution_count": null,
      "outputs": []
    },
    {
      "cell_type": "code",
      "source": [
        "# # 절대값 기준으로 정렬해서 보기 (가장 상관 약한 것부터)\n",
        "# corr_sorted = corr_with_segment.abs().sort_values()\n",
        "# print(corr_sorted.head(10))"
      ],
      "metadata": {
        "id": "2SwL-prA389j"
      },
      "execution_count": null,
      "outputs": []
    },
    {
      "cell_type": "code",
      "source": [
        "# from sklearn.model_selection import train_test_split\n",
        "\n",
        "# # Segment가 예측 대상\n",
        "# X = df_all.drop(columns=['Segment'])  # 또는 'Segment_code' 등\n",
        "# y = df_all['Segment']\n",
        "\n",
        "# # 학습용/검증용 데이터 분리\n",
        "# X_train, X_test, y_train, y_test = train_test_split(X, y, test_size=0.2, random_state=42, stratify=y)\n"
      ],
      "metadata": {
        "id": "Eb2Bc3du5emt"
>>>>>>> origin/main
      },
      "execution_count": null,
      "outputs": []
    },
    {
      "cell_type": "code",
      "source": [],
      "metadata": {
<<<<<<< HEAD
        "id": "Q6yOqJeTLMFm"
=======
        "id": "M4W3ogcB6cTq"
>>>>>>> origin/main
      },
      "execution_count": null,
      "outputs": []
    },
    {
      "cell_type": "code",
<<<<<<< HEAD
      "source": [],
      "metadata": {
        "id": "3cVXkBszLL_3"
      },
      "execution_count": null,
      "outputs": []
    },
    {
      "cell_type": "markdown",
      "source": [
        "eda 및 피처 선택 이어서(주성분/아노바...)"
      ],
      "metadata": {
        "id": "unbn-Wkd2mTL"
      }
=======
      "source": [
        "# 세그먼트별 평균값 (수치형만 보기 좋게 요약)\n",
        "cluster_summary = df_all.groupby('Segment').mean(numeric_only=True).round(2)\n",
        "cluster_summary.T  # 전치로 보기 편하게\n"
      ],
      "metadata": {
        "id": "em_q9AqPnSU6"
      },
      "execution_count": null,
      "outputs": []
>>>>>>> origin/main
    },
    {
      "cell_type": "code",
      "source": [
<<<<<<< HEAD
        "# 수치형 변수만 선택\n",
        "num_cols = df2.select_dtypes(include='number').drop(columns=['ID'], errors='ignore').columns\n",
        "\n",
        "# Segment를 숫자로 인코딩\n",
        "from sklearn.preprocessing import LabelEncoder\n",
        "le = LabelEncoder()\n",
        "df2['Segment_code'] = le.fit_transform(df2['Segment'])\n",
        "\n",
        "# 상관계수 계산 (Segment vs 각 수치형 변수)\n",
        "correlations = df2[num_cols].corrwith(df2['Segment_code']).sort_values(key=abs, ascending=False)\n",
        "\n",
        "# 상관계수 시각화\n",
        "correlations.plot(kind='barh', figsize=(10, 8))\n",
        "plt.title('Segment와 수치형 변수 간 상관관계')\n",
        "plt.axvline(x=0, color='gray', linestyle='--')\n",
        "plt.show()"
      ],
      "metadata": {
        "id": "pzMwy9O92zOz"
=======
        "# 변수 간 상관관계 확인\n",
        "\n",
        "# 수치형 변수만 선택\n",
        "num_df = df_all.select_dtypes(include='number')\n",
        "\n",
        "# 상관계수 히트맵\n",
        "plt.figure(figsize=(14, 10))\n",
        "sns.heatmap(num_df.corr(), annot=False, cmap='coolwarm')\n",
        "plt.title(\"수치형 변수 간 상관관계 Heatmap\")\n",
        "plt.show()"
      ],
      "metadata": {
        "id": "h6C2Tw_r4SQD"
      },
      "execution_count": null,
      "outputs": []
    },
    {
      "cell_type": "code",
      "source": [
        "# 데이터 개요 확인\n",
        "df_all.info()"
      ],
      "metadata": {
        "id": "Gkb4ioDJ1jgt"
      },
      "execution_count": null,
      "outputs": []
    },
    {
      "cell_type": "code",
      "source": [],
      "metadata": {
        "id": "Q5NXuQK59fyS"
>>>>>>> origin/main
      },
      "execution_count": null,
      "outputs": []
    },
    {
      "cell_type": "code",
      "source": [
        "from scipy.stats import chi2_contingency\n",
        "import pandas as pd\n",
        "\n",
        "# 범주형 변수 목록 추출 (ID, segment 제외)\n",
<<<<<<< HEAD
        "cat_cols = df2.select_dtypes(include='object').columns.drop(['ID', 'Segment'], errors='ignore')\n",
=======
        "cat_cols = df_all.select_dtypes(include='object').columns.drop(['ID', 'Segment'], errors='ignore')\n",
>>>>>>> origin/main
        "\n",
        "# 카이제곱 결과 저장 리스트\n",
        "chi2_results = []\n",
        "\n",
        "# 각 범주형 변수에 대해 segment와의 카이제곱 검정 수행\n",
        "for col in cat_cols:\n",
<<<<<<< HEAD
        "    contingency_table = pd.crosstab(df2[col], df2['Segment'])  # 교차표\n",
=======
        "    contingency_table = pd.crosstab(df_all[col], df_all['Segment'])  # 교차표\n",
>>>>>>> origin/main
        "    try:\n",
        "        chi2, p, dof, expected = chi2_contingency(contingency_table)\n",
        "        chi2_results.append({\n",
        "            '변수명': col,\n",
        "            '카이제곱값': chi2,\n",
        "            'p-value': p,\n",
        "            '자유도': dof\n",
        "        })\n",
        "    except:\n",
        "        pass  # 희소한 범주로 오류 발생 시 건너뜀\n",
        "\n",
        "# 결과를 데이터프레임으로 정리\n",
        "chi2_df = pd.DataFrame(chi2_results).sort_values(by='p-value')\n",
        "\n",
        "# 상위 항목 확인\n",
        "chi2_df.head(10)"
      ],
      "metadata": {
        "id": "WfwJB7NYuRCB"
      },
      "execution_count": null,
      "outputs": []
    },
    {
      "cell_type": "code",
      "source": [],
      "metadata": {
        "id": "qg-uul3Qvgcw"
      },
      "execution_count": null,
      "outputs": []
    },
    {
      "cell_type": "code",
      "source": [
        "from sklearn.decomposition import PCA\n",
        "from sklearn.preprocessing import StandardScaler\n",
        "import matplotlib.pyplot as plt\n",
        "import seaborn as sns\n",
        "\n",
        "# 수치형 컬럼만 추출 (ID, segment 제외)\n",
<<<<<<< HEAD
        "features = df2.select_dtypes(include='number').drop(columns=['ID'], errors='ignore')\n",
=======
        "features = df_all.select_dtypes(include='number').drop(columns=['ID'], errors='ignore')\n",
>>>>>>> origin/main
        "\n",
        "# 스케일링\n",
        "scaler = StandardScaler()\n",
        "X_scaled = scaler.fit_transform(features)\n",
        "\n",
        "# PCA 2차원 축소\n",
        "pca = PCA(n_components=2)\n",
        "X_pca = pca.fit_transform(X_scaled)\n",
        "\n",
        "# PCA 결과를 데이터프레임으로 저장\n",
        "df_pca = pd.DataFrame(X_pca, columns=['PC1', 'PC2'])\n",
<<<<<<< HEAD
        "df_pca['Segment'] = df2['Segment'].values\n",
=======
        "df_pca['Segment'] = df_all['Segment'].values\n",
>>>>>>> origin/main
        "\n",
        "# 시각화\n",
        "plt.figure(figsize=(10, 6))\n",
        "sns.scatterplot(data=df_pca, x='PC1', y='PC2', hue='Segment', palette='Set2', alpha=0.7)\n",
        "plt.title(\"PCA 기반 Segment 분포 (2차원 축소)\")\n",
        "plt.xlabel(\"주성분 1 (PC1)\")\n",
        "plt.ylabel(\"주성분 2 (PC2)\")\n",
        "plt.legend(title='Segment')\n",
        "plt.grid(True)\n",
        "plt.show()\n"
      ],
      "metadata": {
        "id": "Q8gdrpiCKxD2"
      },
      "execution_count": null,
      "outputs": []
    },
    {
      "cell_type": "code",
      "source": [],
      "metadata": {
        "id": "xOqeU48Wieul"
      },
      "execution_count": null,
      "outputs": []
    },
    {
      "cell_type": "code",
<<<<<<< HEAD
=======
      "source": [
        "# # 데이터 샘플 추출\n",
        "# # 1. (선택) 데이터 샘플링: df_all에서 500개 샘플 추출\n",
        "# df_all_sample = df_all.sample(n=500, random_state=42)  # 또는 head(n)\n",
        "\n",
        "# # 2. CSV 파일로 저장 (인코딩은 Excel 호환 위해 cp949 사용)\n",
        "# df_all_sample.to_csv('df_all_sample.csv', index=False, encoding='cp949')\n",
        "\n",
        "# # 3. 로컬로 다운로드\n",
        "# from google.colab import files\n",
        "# files.download('df_all_sample.csv')"
      ],
      "metadata": {
        "id": "U8VzP54Q505z"
      },
      "execution_count": null,
      "outputs": []
    },
    {
      "cell_type": "code",
      "source": [
        "# # 1. 컬럼명 확인\n",
        "# print(df_all_sample.columns.tolist())\n",
        "\n",
        "# # 2. 데이터 미리보기\n",
        "# print(df_all_sample.head(3))"
      ],
      "metadata": {
        "id": "RBbJ6B-rJcBA"
      },
      "execution_count": null,
      "outputs": []
    },
    {
      "cell_type": "code",
      "source": [
        "# from statsmodels.stats.outliers_influence import variance_inflation_factor\n",
        "# from statsmodels.tools.tools import add_constant\n",
        "\n",
        "# def calculate_vif(X):\n",
        "#     X = add_constant(X)  # 상수항 추가 (intercept)\n",
        "#     vif_data = pd.DataFrame()\n",
        "#     vif_data[\"feature\"] = X.columns\n",
        "#     vif_data[\"VIF\"] = [variance_inflation_factor(X.values, i) for i in range(X.shape[1])]\n",
        "#     return vif_data"
      ],
      "metadata": {
        "id": "90wU1CDz_L0x"
      },
      "execution_count": null,
      "outputs": []
    },
    {
      "cell_type": "code",
      "source": [
        "# # 수치형 데이터만 다중공선성(VIF)계산\n",
        "# numeric_cols = df_all.select_dtypes(include='number')\n",
        "# vif_result = calculate_vif(numeric_cols)\n",
        "# print(vif_result)"
      ],
      "metadata": {
        "id": "U59vOFTAuRMY"
      },
      "execution_count": null,
      "outputs": []
    },
    {
      "cell_type": "code",
      "source": [],
      "metadata": {
        "id": "TiBBiLHxdzRW"
      },
      "execution_count": null,
      "outputs": []
    },
    {
      "cell_type": "code",
>>>>>>> origin/main
      "source": [],
      "metadata": {
        "id": "oO_dxJAoK5sj"
      },
      "execution_count": null,
      "outputs": []
    },
    {
      "cell_type": "code",
<<<<<<< HEAD
=======
      "source": [
        "# # parquet 파일 열기\n",
        "# df1 = pd.read_parquet(\"201807_train_청구정보.parquet\")\n",
        "\n",
        "# # csv로 저장\n",
        "# df1.to_csv(\"201807_train_청구정보.csv\", index=False)\n"
      ],
      "metadata": {
        "id": "94C9aKHbZSK5"
      },
      "execution_count": null,
      "outputs": []
    },
    {
      "cell_type": "code",
      "source": [
        "# # parquet 파일 열고 csv로 저장\n",
        "# df2 = pd.read_parquet(\"201807_train_청구정보.parquet\")\n",
        "# df2.to_csv(\"201807_train_청구정보.csv\", index=False)\n",
        "\n",
        "# df3 = pd.read_parquet(\"201807_train_청구정보.parquet\")\n",
        "# df3.to_csv(\"201807_train_청구정보.csv\", index=False)\n",
        "\n",
        "# df4 = pd.read_parquet(\"201807_train_청구정보.parquet\")\n",
        "# df4.to_csv(\"201807_train_청구정보.csv\", index=False)\n",
        "\n",
        "# df5 = pd.read_parquet(\"201807_train_청구정보.parquet\")\n",
        "# df5.to_csv(\"201807_train_청구정보.csv\", index=False)\n",
        "\n",
        "# df6 = pd.read_parquet(\"201807_train_청구정보.parquet\")\n",
        "# df6.to_csv(\"201807_train_청구정보.csv\", index=False)"
      ],
      "metadata": {
        "id": "wyQz8YNjjaE4"
      },
      "execution_count": null,
      "outputs": []
    },
    {
      "cell_type": "code",
      "source": [
        "df_all"
      ],
      "metadata": {
        "id": "-NLiTu0zncqj",
        "colab": {
          "base_uri": "https://localhost:8080/",
          "height": 738
        },
        "outputId": "75a470b0-f3a9-4b79-93bc-7ae842bfc9c2"
      },
      "execution_count": 162,
      "outputs": [
        {
          "output_type": "execute_result",
          "data": {
            "text/plain": [
              "           기준년월            ID  최초한도금액  카드이용한도금액  CA한도금액  일시상환론한도금액  월상환론한도금액  \\\n",
              "0        201807  TRAIN_000000       0     19354    7270          0         0   \n",
              "1        201807  TRAIN_000001       0      9996    5718      41996     90611   \n",
              "2        201807  TRAIN_000002       0     88193   35207          0         0   \n",
              "3        201807  TRAIN_000003       0     19062    6531          0         0   \n",
              "4        201807  TRAIN_000004       0    177222   47149      48000    155020   \n",
              "...         ...           ...     ...       ...     ...        ...       ...   \n",
              "2399995  201812  TRAIN_399995       0     20070   10167          0     54445   \n",
              "2399996  201812  TRAIN_399996       0     84217   31159          0    156800   \n",
              "2399997  201812  TRAIN_399997       0     52612   19429          0         0   \n",
              "2399998  201812  TRAIN_399998       0     10002    4228      90004    180906   \n",
              "2399999  201812  TRAIN_399999       0     86094   25133          0         0   \n",
              "\n",
              "         CA이자율_할인전  CL이자율_할인전  RV일시불이자율_할인전  ...  특별한도보유여부_R3M  연체감액여부_R3M  \\\n",
              "0        22.995207  18.254978     17.264967  ...             0           0   \n",
              "1        14.793821  14.834873     10.622446  ...             0           0   \n",
              "2        22.014276  17.875321     17.155829  ...             0           0   \n",
              "3        22.998014  22.999453     19.293674  ...             0           0   \n",
              "4        14.661948  10.897410     10.654587  ...             0           0   \n",
              "...            ...        ...           ...  ...           ...         ...   \n",
              "2399995  15.243670  11.900516     10.545876  ...             0           0   \n",
              "2399996  14.843464  15.652063     11.102726  ...             0           0   \n",
              "2399997  17.038599  17.966213     13.278475  ...             0           0   \n",
              "2399998  15.182880  11.901089     10.594124  ...             0           0   \n",
              "2399999  14.841102  15.287120     11.406823  ...             0           0   \n",
              "\n",
              "         한도심사요청건수 한도요청거절건수  시장단기연체여부_R6M  시장단기연체여부_R3M  시장연체상환여부_R6M  \\\n",
              "0              0회        0             0             0             0   \n",
              "1              0회        0             0             0             0   \n",
              "2              0회        0             0             0             0   \n",
              "3              0회        0             0             0             0   \n",
              "4              0회        0             0             0             0   \n",
              "...           ...      ...           ...           ...           ...   \n",
              "2399995        0회        0             0             0             0   \n",
              "2399996        0회        0             0             0             0   \n",
              "2399997        0회        0             0             0             0   \n",
              "2399998        0회        0             0             0             0   \n",
              "2399999        0회        0             0             0             0   \n",
              "\n",
              "        시장연체상환여부_R3M  rv최초시작후경과일  Segment  \n",
              "0                  0    99999999        D  \n",
              "1                  0         322        E  \n",
              "2                  0        2378        C  \n",
              "3                  0    99999999        D  \n",
              "4                  0    99999999        E  \n",
              "...              ...         ...      ...  \n",
              "2399995            0    99999999        E  \n",
              "2399996            0    99999999        D  \n",
              "2399997            0    99999999        C  \n",
              "2399998            0    99999999        E  \n",
              "2399999            0    99999999        E  \n",
              "\n",
              "[2400000 rows x 36 columns]"
            ],
            "text/html": [
              "\n",
              "  <div id=\"df-620d1275-a008-4ce8-a950-b0be4d5a5df3\" class=\"colab-df-container\">\n",
              "    <div>\n",
              "<style scoped>\n",
              "    .dataframe tbody tr th:only-of-type {\n",
              "        vertical-align: middle;\n",
              "    }\n",
              "\n",
              "    .dataframe tbody tr th {\n",
              "        vertical-align: top;\n",
              "    }\n",
              "\n",
              "    .dataframe thead th {\n",
              "        text-align: right;\n",
              "    }\n",
              "</style>\n",
              "<table border=\"1\" class=\"dataframe\">\n",
              "  <thead>\n",
              "    <tr style=\"text-align: right;\">\n",
              "      <th></th>\n",
              "      <th>기준년월</th>\n",
              "      <th>ID</th>\n",
              "      <th>최초한도금액</th>\n",
              "      <th>카드이용한도금액</th>\n",
              "      <th>CA한도금액</th>\n",
              "      <th>일시상환론한도금액</th>\n",
              "      <th>월상환론한도금액</th>\n",
              "      <th>CA이자율_할인전</th>\n",
              "      <th>CL이자율_할인전</th>\n",
              "      <th>RV일시불이자율_할인전</th>\n",
              "      <th>...</th>\n",
              "      <th>특별한도보유여부_R3M</th>\n",
              "      <th>연체감액여부_R3M</th>\n",
              "      <th>한도심사요청건수</th>\n",
              "      <th>한도요청거절건수</th>\n",
              "      <th>시장단기연체여부_R6M</th>\n",
              "      <th>시장단기연체여부_R3M</th>\n",
              "      <th>시장연체상환여부_R6M</th>\n",
              "      <th>시장연체상환여부_R3M</th>\n",
              "      <th>rv최초시작후경과일</th>\n",
              "      <th>Segment</th>\n",
              "    </tr>\n",
              "  </thead>\n",
              "  <tbody>\n",
              "    <tr>\n",
              "      <th>0</th>\n",
              "      <td>201807</td>\n",
              "      <td>TRAIN_000000</td>\n",
              "      <td>0</td>\n",
              "      <td>19354</td>\n",
              "      <td>7270</td>\n",
              "      <td>0</td>\n",
              "      <td>0</td>\n",
              "      <td>22.995207</td>\n",
              "      <td>18.254978</td>\n",
              "      <td>17.264967</td>\n",
              "      <td>...</td>\n",
              "      <td>0</td>\n",
              "      <td>0</td>\n",
              "      <td>0회</td>\n",
              "      <td>0</td>\n",
              "      <td>0</td>\n",
              "      <td>0</td>\n",
              "      <td>0</td>\n",
              "      <td>0</td>\n",
              "      <td>99999999</td>\n",
              "      <td>D</td>\n",
              "    </tr>\n",
              "    <tr>\n",
              "      <th>1</th>\n",
              "      <td>201807</td>\n",
              "      <td>TRAIN_000001</td>\n",
              "      <td>0</td>\n",
              "      <td>9996</td>\n",
              "      <td>5718</td>\n",
              "      <td>41996</td>\n",
              "      <td>90611</td>\n",
              "      <td>14.793821</td>\n",
              "      <td>14.834873</td>\n",
              "      <td>10.622446</td>\n",
              "      <td>...</td>\n",
              "      <td>0</td>\n",
              "      <td>0</td>\n",
              "      <td>0회</td>\n",
              "      <td>0</td>\n",
              "      <td>0</td>\n",
              "      <td>0</td>\n",
              "      <td>0</td>\n",
              "      <td>0</td>\n",
              "      <td>322</td>\n",
              "      <td>E</td>\n",
              "    </tr>\n",
              "    <tr>\n",
              "      <th>2</th>\n",
              "      <td>201807</td>\n",
              "      <td>TRAIN_000002</td>\n",
              "      <td>0</td>\n",
              "      <td>88193</td>\n",
              "      <td>35207</td>\n",
              "      <td>0</td>\n",
              "      <td>0</td>\n",
              "      <td>22.014276</td>\n",
              "      <td>17.875321</td>\n",
              "      <td>17.155829</td>\n",
              "      <td>...</td>\n",
              "      <td>0</td>\n",
              "      <td>0</td>\n",
              "      <td>0회</td>\n",
              "      <td>0</td>\n",
              "      <td>0</td>\n",
              "      <td>0</td>\n",
              "      <td>0</td>\n",
              "      <td>0</td>\n",
              "      <td>2378</td>\n",
              "      <td>C</td>\n",
              "    </tr>\n",
              "    <tr>\n",
              "      <th>3</th>\n",
              "      <td>201807</td>\n",
              "      <td>TRAIN_000003</td>\n",
              "      <td>0</td>\n",
              "      <td>19062</td>\n",
              "      <td>6531</td>\n",
              "      <td>0</td>\n",
              "      <td>0</td>\n",
              "      <td>22.998014</td>\n",
              "      <td>22.999453</td>\n",
              "      <td>19.293674</td>\n",
              "      <td>...</td>\n",
              "      <td>0</td>\n",
              "      <td>0</td>\n",
              "      <td>0회</td>\n",
              "      <td>0</td>\n",
              "      <td>0</td>\n",
              "      <td>0</td>\n",
              "      <td>0</td>\n",
              "      <td>0</td>\n",
              "      <td>99999999</td>\n",
              "      <td>D</td>\n",
              "    </tr>\n",
              "    <tr>\n",
              "      <th>4</th>\n",
              "      <td>201807</td>\n",
              "      <td>TRAIN_000004</td>\n",
              "      <td>0</td>\n",
              "      <td>177222</td>\n",
              "      <td>47149</td>\n",
              "      <td>48000</td>\n",
              "      <td>155020</td>\n",
              "      <td>14.661948</td>\n",
              "      <td>10.897410</td>\n",
              "      <td>10.654587</td>\n",
              "      <td>...</td>\n",
              "      <td>0</td>\n",
              "      <td>0</td>\n",
              "      <td>0회</td>\n",
              "      <td>0</td>\n",
              "      <td>0</td>\n",
              "      <td>0</td>\n",
              "      <td>0</td>\n",
              "      <td>0</td>\n",
              "      <td>99999999</td>\n",
              "      <td>E</td>\n",
              "    </tr>\n",
              "    <tr>\n",
              "      <th>...</th>\n",
              "      <td>...</td>\n",
              "      <td>...</td>\n",
              "      <td>...</td>\n",
              "      <td>...</td>\n",
              "      <td>...</td>\n",
              "      <td>...</td>\n",
              "      <td>...</td>\n",
              "      <td>...</td>\n",
              "      <td>...</td>\n",
              "      <td>...</td>\n",
              "      <td>...</td>\n",
              "      <td>...</td>\n",
              "      <td>...</td>\n",
              "      <td>...</td>\n",
              "      <td>...</td>\n",
              "      <td>...</td>\n",
              "      <td>...</td>\n",
              "      <td>...</td>\n",
              "      <td>...</td>\n",
              "      <td>...</td>\n",
              "      <td>...</td>\n",
              "    </tr>\n",
              "    <tr>\n",
              "      <th>2399995</th>\n",
              "      <td>201812</td>\n",
              "      <td>TRAIN_399995</td>\n",
              "      <td>0</td>\n",
              "      <td>20070</td>\n",
              "      <td>10167</td>\n",
              "      <td>0</td>\n",
              "      <td>54445</td>\n",
              "      <td>15.243670</td>\n",
              "      <td>11.900516</td>\n",
              "      <td>10.545876</td>\n",
              "      <td>...</td>\n",
              "      <td>0</td>\n",
              "      <td>0</td>\n",
              "      <td>0회</td>\n",
              "      <td>0</td>\n",
              "      <td>0</td>\n",
              "      <td>0</td>\n",
              "      <td>0</td>\n",
              "      <td>0</td>\n",
              "      <td>99999999</td>\n",
              "      <td>E</td>\n",
              "    </tr>\n",
              "    <tr>\n",
              "      <th>2399996</th>\n",
              "      <td>201812</td>\n",
              "      <td>TRAIN_399996</td>\n",
              "      <td>0</td>\n",
              "      <td>84217</td>\n",
              "      <td>31159</td>\n",
              "      <td>0</td>\n",
              "      <td>156800</td>\n",
              "      <td>14.843464</td>\n",
              "      <td>15.652063</td>\n",
              "      <td>11.102726</td>\n",
              "      <td>...</td>\n",
              "      <td>0</td>\n",
              "      <td>0</td>\n",
              "      <td>0회</td>\n",
              "      <td>0</td>\n",
              "      <td>0</td>\n",
              "      <td>0</td>\n",
              "      <td>0</td>\n",
              "      <td>0</td>\n",
              "      <td>99999999</td>\n",
              "      <td>D</td>\n",
              "    </tr>\n",
              "    <tr>\n",
              "      <th>2399997</th>\n",
              "      <td>201812</td>\n",
              "      <td>TRAIN_399997</td>\n",
              "      <td>0</td>\n",
              "      <td>52612</td>\n",
              "      <td>19429</td>\n",
              "      <td>0</td>\n",
              "      <td>0</td>\n",
              "      <td>17.038599</td>\n",
              "      <td>17.966213</td>\n",
              "      <td>13.278475</td>\n",
              "      <td>...</td>\n",
              "      <td>0</td>\n",
              "      <td>0</td>\n",
              "      <td>0회</td>\n",
              "      <td>0</td>\n",
              "      <td>0</td>\n",
              "      <td>0</td>\n",
              "      <td>0</td>\n",
              "      <td>0</td>\n",
              "      <td>99999999</td>\n",
              "      <td>C</td>\n",
              "    </tr>\n",
              "    <tr>\n",
              "      <th>2399998</th>\n",
              "      <td>201812</td>\n",
              "      <td>TRAIN_399998</td>\n",
              "      <td>0</td>\n",
              "      <td>10002</td>\n",
              "      <td>4228</td>\n",
              "      <td>90004</td>\n",
              "      <td>180906</td>\n",
              "      <td>15.182880</td>\n",
              "      <td>11.901089</td>\n",
              "      <td>10.594124</td>\n",
              "      <td>...</td>\n",
              "      <td>0</td>\n",
              "      <td>0</td>\n",
              "      <td>0회</td>\n",
              "      <td>0</td>\n",
              "      <td>0</td>\n",
              "      <td>0</td>\n",
              "      <td>0</td>\n",
              "      <td>0</td>\n",
              "      <td>99999999</td>\n",
              "      <td>E</td>\n",
              "    </tr>\n",
              "    <tr>\n",
              "      <th>2399999</th>\n",
              "      <td>201812</td>\n",
              "      <td>TRAIN_399999</td>\n",
              "      <td>0</td>\n",
              "      <td>86094</td>\n",
              "      <td>25133</td>\n",
              "      <td>0</td>\n",
              "      <td>0</td>\n",
              "      <td>14.841102</td>\n",
              "      <td>15.287120</td>\n",
              "      <td>11.406823</td>\n",
              "      <td>...</td>\n",
              "      <td>0</td>\n",
              "      <td>0</td>\n",
              "      <td>0회</td>\n",
              "      <td>0</td>\n",
              "      <td>0</td>\n",
              "      <td>0</td>\n",
              "      <td>0</td>\n",
              "      <td>0</td>\n",
              "      <td>99999999</td>\n",
              "      <td>E</td>\n",
              "    </tr>\n",
              "  </tbody>\n",
              "</table>\n",
              "<p>2400000 rows × 36 columns</p>\n",
              "</div>\n",
              "    <div class=\"colab-df-buttons\">\n",
              "\n",
              "  <div class=\"colab-df-container\">\n",
              "    <button class=\"colab-df-convert\" onclick=\"convertToInteractive('df-620d1275-a008-4ce8-a950-b0be4d5a5df3')\"\n",
              "            title=\"Convert this dataframe to an interactive table.\"\n",
              "            style=\"display:none;\">\n",
              "\n",
              "  <svg xmlns=\"http://www.w3.org/2000/svg\" height=\"24px\" viewBox=\"0 -960 960 960\">\n",
              "    <path d=\"M120-120v-720h720v720H120Zm60-500h600v-160H180v160Zm220 220h160v-160H400v160Zm0 220h160v-160H400v160ZM180-400h160v-160H180v160Zm440 0h160v-160H620v160ZM180-180h160v-160H180v160Zm440 0h160v-160H620v160Z\"/>\n",
              "  </svg>\n",
              "    </button>\n",
              "\n",
              "  <style>\n",
              "    .colab-df-container {\n",
              "      display:flex;\n",
              "      gap: 12px;\n",
              "    }\n",
              "\n",
              "    .colab-df-convert {\n",
              "      background-color: #E8F0FE;\n",
              "      border: none;\n",
              "      border-radius: 50%;\n",
              "      cursor: pointer;\n",
              "      display: none;\n",
              "      fill: #1967D2;\n",
              "      height: 32px;\n",
              "      padding: 0 0 0 0;\n",
              "      width: 32px;\n",
              "    }\n",
              "\n",
              "    .colab-df-convert:hover {\n",
              "      background-color: #E2EBFA;\n",
              "      box-shadow: 0px 1px 2px rgba(60, 64, 67, 0.3), 0px 1px 3px 1px rgba(60, 64, 67, 0.15);\n",
              "      fill: #174EA6;\n",
              "    }\n",
              "\n",
              "    .colab-df-buttons div {\n",
              "      margin-bottom: 4px;\n",
              "    }\n",
              "\n",
              "    [theme=dark] .colab-df-convert {\n",
              "      background-color: #3B4455;\n",
              "      fill: #D2E3FC;\n",
              "    }\n",
              "\n",
              "    [theme=dark] .colab-df-convert:hover {\n",
              "      background-color: #434B5C;\n",
              "      box-shadow: 0px 1px 3px 1px rgba(0, 0, 0, 0.15);\n",
              "      filter: drop-shadow(0px 1px 2px rgba(0, 0, 0, 0.3));\n",
              "      fill: #FFFFFF;\n",
              "    }\n",
              "  </style>\n",
              "\n",
              "    <script>\n",
              "      const buttonEl =\n",
              "        document.querySelector('#df-620d1275-a008-4ce8-a950-b0be4d5a5df3 button.colab-df-convert');\n",
              "      buttonEl.style.display =\n",
              "        google.colab.kernel.accessAllowed ? 'block' : 'none';\n",
              "\n",
              "      async function convertToInteractive(key) {\n",
              "        const element = document.querySelector('#df-620d1275-a008-4ce8-a950-b0be4d5a5df3');\n",
              "        const dataTable =\n",
              "          await google.colab.kernel.invokeFunction('convertToInteractive',\n",
              "                                                    [key], {});\n",
              "        if (!dataTable) return;\n",
              "\n",
              "        const docLinkHtml = 'Like what you see? Visit the ' +\n",
              "          '<a target=\"_blank\" href=https://colab.research.google.com/notebooks/data_table.ipynb>data table notebook</a>'\n",
              "          + ' to learn more about interactive tables.';\n",
              "        element.innerHTML = '';\n",
              "        dataTable['output_type'] = 'display_data';\n",
              "        await google.colab.output.renderOutput(dataTable, element);\n",
              "        const docLink = document.createElement('div');\n",
              "        docLink.innerHTML = docLinkHtml;\n",
              "        element.appendChild(docLink);\n",
              "      }\n",
              "    </script>\n",
              "  </div>\n",
              "\n",
              "\n",
              "    <div id=\"df-fd5b109d-7902-47f5-b62b-7d6926266d47\">\n",
              "      <button class=\"colab-df-quickchart\" onclick=\"quickchart('df-fd5b109d-7902-47f5-b62b-7d6926266d47')\"\n",
              "                title=\"Suggest charts\"\n",
              "                style=\"display:none;\">\n",
              "\n",
              "<svg xmlns=\"http://www.w3.org/2000/svg\" height=\"24px\"viewBox=\"0 0 24 24\"\n",
              "     width=\"24px\">\n",
              "    <g>\n",
              "        <path d=\"M19 3H5c-1.1 0-2 .9-2 2v14c0 1.1.9 2 2 2h14c1.1 0 2-.9 2-2V5c0-1.1-.9-2-2-2zM9 17H7v-7h2v7zm4 0h-2V7h2v10zm4 0h-2v-4h2v4z\"/>\n",
              "    </g>\n",
              "</svg>\n",
              "      </button>\n",
              "\n",
              "<style>\n",
              "  .colab-df-quickchart {\n",
              "      --bg-color: #E8F0FE;\n",
              "      --fill-color: #1967D2;\n",
              "      --hover-bg-color: #E2EBFA;\n",
              "      --hover-fill-color: #174EA6;\n",
              "      --disabled-fill-color: #AAA;\n",
              "      --disabled-bg-color: #DDD;\n",
              "  }\n",
              "\n",
              "  [theme=dark] .colab-df-quickchart {\n",
              "      --bg-color: #3B4455;\n",
              "      --fill-color: #D2E3FC;\n",
              "      --hover-bg-color: #434B5C;\n",
              "      --hover-fill-color: #FFFFFF;\n",
              "      --disabled-bg-color: #3B4455;\n",
              "      --disabled-fill-color: #666;\n",
              "  }\n",
              "\n",
              "  .colab-df-quickchart {\n",
              "    background-color: var(--bg-color);\n",
              "    border: none;\n",
              "    border-radius: 50%;\n",
              "    cursor: pointer;\n",
              "    display: none;\n",
              "    fill: var(--fill-color);\n",
              "    height: 32px;\n",
              "    padding: 0;\n",
              "    width: 32px;\n",
              "  }\n",
              "\n",
              "  .colab-df-quickchart:hover {\n",
              "    background-color: var(--hover-bg-color);\n",
              "    box-shadow: 0 1px 2px rgba(60, 64, 67, 0.3), 0 1px 3px 1px rgba(60, 64, 67, 0.15);\n",
              "    fill: var(--button-hover-fill-color);\n",
              "  }\n",
              "\n",
              "  .colab-df-quickchart-complete:disabled,\n",
              "  .colab-df-quickchart-complete:disabled:hover {\n",
              "    background-color: var(--disabled-bg-color);\n",
              "    fill: var(--disabled-fill-color);\n",
              "    box-shadow: none;\n",
              "  }\n",
              "\n",
              "  .colab-df-spinner {\n",
              "    border: 2px solid var(--fill-color);\n",
              "    border-color: transparent;\n",
              "    border-bottom-color: var(--fill-color);\n",
              "    animation:\n",
              "      spin 1s steps(1) infinite;\n",
              "  }\n",
              "\n",
              "  @keyframes spin {\n",
              "    0% {\n",
              "      border-color: transparent;\n",
              "      border-bottom-color: var(--fill-color);\n",
              "      border-left-color: var(--fill-color);\n",
              "    }\n",
              "    20% {\n",
              "      border-color: transparent;\n",
              "      border-left-color: var(--fill-color);\n",
              "      border-top-color: var(--fill-color);\n",
              "    }\n",
              "    30% {\n",
              "      border-color: transparent;\n",
              "      border-left-color: var(--fill-color);\n",
              "      border-top-color: var(--fill-color);\n",
              "      border-right-color: var(--fill-color);\n",
              "    }\n",
              "    40% {\n",
              "      border-color: transparent;\n",
              "      border-right-color: var(--fill-color);\n",
              "      border-top-color: var(--fill-color);\n",
              "    }\n",
              "    60% {\n",
              "      border-color: transparent;\n",
              "      border-right-color: var(--fill-color);\n",
              "    }\n",
              "    80% {\n",
              "      border-color: transparent;\n",
              "      border-right-color: var(--fill-color);\n",
              "      border-bottom-color: var(--fill-color);\n",
              "    }\n",
              "    90% {\n",
              "      border-color: transparent;\n",
              "      border-bottom-color: var(--fill-color);\n",
              "    }\n",
              "  }\n",
              "</style>\n",
              "\n",
              "      <script>\n",
              "        async function quickchart(key) {\n",
              "          const quickchartButtonEl =\n",
              "            document.querySelector('#' + key + ' button');\n",
              "          quickchartButtonEl.disabled = true;  // To prevent multiple clicks.\n",
              "          quickchartButtonEl.classList.add('colab-df-spinner');\n",
              "          try {\n",
              "            const charts = await google.colab.kernel.invokeFunction(\n",
              "                'suggestCharts', [key], {});\n",
              "          } catch (error) {\n",
              "            console.error('Error during call to suggestCharts:', error);\n",
              "          }\n",
              "          quickchartButtonEl.classList.remove('colab-df-spinner');\n",
              "          quickchartButtonEl.classList.add('colab-df-quickchart-complete');\n",
              "        }\n",
              "        (() => {\n",
              "          let quickchartButtonEl =\n",
              "            document.querySelector('#df-fd5b109d-7902-47f5-b62b-7d6926266d47 button');\n",
              "          quickchartButtonEl.style.display =\n",
              "            google.colab.kernel.accessAllowed ? 'block' : 'none';\n",
              "        })();\n",
              "      </script>\n",
              "    </div>\n",
              "\n",
              "  <div id=\"id_21c63ae7-6a3c-4fe1-9c86-d184d1b70255\">\n",
              "    <style>\n",
              "      .colab-df-generate {\n",
              "        background-color: #E8F0FE;\n",
              "        border: none;\n",
              "        border-radius: 50%;\n",
              "        cursor: pointer;\n",
              "        display: none;\n",
              "        fill: #1967D2;\n",
              "        height: 32px;\n",
              "        padding: 0 0 0 0;\n",
              "        width: 32px;\n",
              "      }\n",
              "\n",
              "      .colab-df-generate:hover {\n",
              "        background-color: #E2EBFA;\n",
              "        box-shadow: 0px 1px 2px rgba(60, 64, 67, 0.3), 0px 1px 3px 1px rgba(60, 64, 67, 0.15);\n",
              "        fill: #174EA6;\n",
              "      }\n",
              "\n",
              "      [theme=dark] .colab-df-generate {\n",
              "        background-color: #3B4455;\n",
              "        fill: #D2E3FC;\n",
              "      }\n",
              "\n",
              "      [theme=dark] .colab-df-generate:hover {\n",
              "        background-color: #434B5C;\n",
              "        box-shadow: 0px 1px 3px 1px rgba(0, 0, 0, 0.15);\n",
              "        filter: drop-shadow(0px 1px 2px rgba(0, 0, 0, 0.3));\n",
              "        fill: #FFFFFF;\n",
              "      }\n",
              "    </style>\n",
              "    <button class=\"colab-df-generate\" onclick=\"generateWithVariable('df_all')\"\n",
              "            title=\"Generate code using this dataframe.\"\n",
              "            style=\"display:none;\">\n",
              "\n",
              "  <svg xmlns=\"http://www.w3.org/2000/svg\" height=\"24px\"viewBox=\"0 0 24 24\"\n",
              "       width=\"24px\">\n",
              "    <path d=\"M7,19H8.4L18.45,9,17,7.55,7,17.6ZM5,21V16.75L18.45,3.32a2,2,0,0,1,2.83,0l1.4,1.43a1.91,1.91,0,0,1,.58,1.4,1.91,1.91,0,0,1-.58,1.4L9.25,21ZM18.45,9,17,7.55Zm-12,3A5.31,5.31,0,0,0,4.9,8.1,5.31,5.31,0,0,0,1,6.5,5.31,5.31,0,0,0,4.9,4.9,5.31,5.31,0,0,0,6.5,1,5.31,5.31,0,0,0,8.1,4.9,5.31,5.31,0,0,0,12,6.5,5.46,5.46,0,0,0,6.5,12Z\"/>\n",
              "  </svg>\n",
              "    </button>\n",
              "    <script>\n",
              "      (() => {\n",
              "      const buttonEl =\n",
              "        document.querySelector('#id_21c63ae7-6a3c-4fe1-9c86-d184d1b70255 button.colab-df-generate');\n",
              "      buttonEl.style.display =\n",
              "        google.colab.kernel.accessAllowed ? 'block' : 'none';\n",
              "\n",
              "      buttonEl.onclick = () => {\n",
              "        google.colab.notebook.generateWithVariable('df_all');\n",
              "      }\n",
              "      })();\n",
              "    </script>\n",
              "  </div>\n",
              "\n",
              "    </div>\n",
              "  </div>\n"
            ],
            "application/vnd.google.colaboratory.intrinsic+json": {
              "type": "dataframe",
              "variable_name": "df_all"
            }
          },
          "metadata": {},
          "execution_count": 162
        }
      ]
    },
    {
      "cell_type": "code",
      "source": [
        "# # CSV 파일 불러오기\n",
        "# df = pd.read_csv('df_all.csv', encoding='cp949') # 경로는 필요 시 수정\n",
        "\n",
        "# # Parquet 파일로 저장\n",
        "# df.to_parquet('df_all.parquet', index=False)"
      ],
      "metadata": {
        "id": "dRho1ShqnSnx"
      },
      "execution_count": null,
      "outputs": []
    },
    {
      "cell_type": "code",
      "source": [
        "# Parquet로 저장\n",
        "df_all.to_parquet(\"train_2번eda.parquet\", index=False)\n",
        "\n",
        "# 파일 다운로드\n",
        "from google.colab import files\n",
        "files.download(\"train_2번eda.parquet\")"
      ],
      "metadata": {
        "colab": {
          "base_uri": "https://localhost:8080/",
          "height": 17
        },
        "id": "F4vUpFYf811d",
        "outputId": "ab21e785-4ee8-4d45-c9db-398823c6e1a5"
      },
      "execution_count": 164,
      "outputs": [
        {
          "output_type": "display_data",
          "data": {
            "text/plain": [
              "<IPython.core.display.Javascript object>"
            ],
            "application/javascript": [
              "\n",
              "    async function download(id, filename, size) {\n",
              "      if (!google.colab.kernel.accessAllowed) {\n",
              "        return;\n",
              "      }\n",
              "      const div = document.createElement('div');\n",
              "      const label = document.createElement('label');\n",
              "      label.textContent = `Downloading \"${filename}\": `;\n",
              "      div.appendChild(label);\n",
              "      const progress = document.createElement('progress');\n",
              "      progress.max = size;\n",
              "      div.appendChild(progress);\n",
              "      document.body.appendChild(div);\n",
              "\n",
              "      const buffers = [];\n",
              "      let downloaded = 0;\n",
              "\n",
              "      const channel = await google.colab.kernel.comms.open(id);\n",
              "      // Send a message to notify the kernel that we're ready.\n",
              "      channel.send({})\n",
              "\n",
              "      for await (const message of channel.messages) {\n",
              "        // Send a message to notify the kernel that we're ready.\n",
              "        channel.send({})\n",
              "        if (message.buffers) {\n",
              "          for (const buffer of message.buffers) {\n",
              "            buffers.push(buffer);\n",
              "            downloaded += buffer.byteLength;\n",
              "            progress.value = downloaded;\n",
              "          }\n",
              "        }\n",
              "      }\n",
              "      const blob = new Blob(buffers, {type: 'application/binary'});\n",
              "      const a = document.createElement('a');\n",
              "      a.href = window.URL.createObjectURL(blob);\n",
              "      a.download = filename;\n",
              "      div.appendChild(a);\n",
              "      a.click();\n",
              "      div.remove();\n",
              "    }\n",
              "  "
            ]
          },
          "metadata": {}
        },
        {
          "output_type": "display_data",
          "data": {
            "text/plain": [
              "<IPython.core.display.Javascript object>"
            ],
            "application/javascript": [
              "download(\"download_80ad68f9-f8e5-47d2-beb7-102dfd395b54\", \"train_2\\ubc88eda.parquet\", 131117119)"
            ]
          },
          "metadata": {}
        }
      ]
    },
    {
      "cell_type": "code",
>>>>>>> origin/main
      "source": [],
      "metadata": {
        "id": "fqBCbrXb9SOg"
      },
      "execution_count": null,
      "outputs": []
    }
  ]
}