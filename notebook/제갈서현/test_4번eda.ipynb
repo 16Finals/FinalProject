{
  "nbformat": 4,
  "nbformat_minor": 0,
  "metadata": {
    "colab": {
      "provenance": []
    },
    "kernelspec": {
      "name": "python3",
      "display_name": "Python 3"
    },
    "language_info": {
      "name": "python"
    }
  },
  "cells": [
    {
      "cell_type": "code",
      "source": [
        "# 필수 라이브러리 import\n",
        "import pandas as pd\n",
        "import numpy as np\n",
        "import matplotlib.pyplot as plt\n",
        "import seaborn as sns\n",
        "import missingno\n",
        "from sklearn.preprocessing import StandardScaler\n",
        "\n",
        "import gc"
      ],
      "metadata": {
        "id": "4ugH293JhWF-"
      },
      "execution_count": 1,
      "outputs": []
    },
    {
      "cell_type": "code",
      "source": [
        "from google.colab import drive\n",
        "drive.mount('/content/drive')\n",
        "\n",
        "data_root = '/content/drive/MyDrive/Colab Notebooks/final_project/data/'\n",
        "# data_path = data_root + 'train/'"
      ],
      "metadata": {
        "colab": {
          "base_uri": "https://localhost:8080/"
        },
        "id": "6iKLdc4wuDAK",
        "outputId": "b870c815-2c98-4cc5-ff40-9482b3e97852"
      },
      "execution_count": 2,
      "outputs": [
        {
          "output_type": "stream",
          "name": "stdout",
          "text": [
            "Drive already mounted at /content/drive; to attempt to forcibly remount, call drive.mount(\"/content/drive\", force_remount=True).\n"
          ]
        }
      ]
    },
    {
      "cell_type": "code",
      "source": [
        "# pyarrow 설치 (parquet 파일 읽기용)\n",
        "!pip install pyarrow\n",
        "\n",
        "# 경고 뜨지 않게 설정\n",
        "import warnings\n",
        "warnings.filterwarnings('ignore')"
      ],
      "metadata": {
        "colab": {
          "base_uri": "https://localhost:8080/"
        },
        "id": "wxiMha7ih9qu",
        "outputId": "f800e3dc-87ab-4f4a-9466-ded5cde779e7"
      },
      "execution_count": 3,
      "outputs": [
        {
          "output_type": "stream",
          "name": "stdout",
          "text": [
            "Requirement already satisfied: pyarrow in /usr/local/lib/python3.11/dist-packages (18.1.0)\n"
          ]
        }
      ]
    },
    {
      "cell_type": "code",
      "source": [
        "# 데이터 로드: 6개월 청구정보 parquet 파일 병합\n",
        "df41 = pd.read_parquet(data_root + 'test/4.청구입금정보/201807_test_청구정보.parquet')\n",
        "df42 = pd.read_parquet(data_root + 'test/4.청구입금정보/201808_test_청구정보.parquet')\n",
        "df43 = pd.read_parquet(data_root + 'test/4.청구입금정보/201809_test_청구정보.parquet')\n",
        "df44 = pd.read_parquet(data_root + 'test/4.청구입금정보/201810_test_청구정보.parquet')\n",
        "df45 = pd.read_parquet(data_root + 'test/4.청구입금정보/201811_test_청구정보.parquet')\n",
        "df46 = pd.read_parquet(data_root + 'test/4.청구입금정보/201812_test_청구정보.parquet')"
      ],
      "metadata": {
        "id": "QDVtnAYewiwc"
      },
      "execution_count": 4,
      "outputs": []
    },
    {
      "cell_type": "code",
      "source": [
        "df4 = pd.concat([df41, df42, df43, df44, df45, df46])\n",
        "print(\"병합 완료: \", df4.shape)"
      ],
      "metadata": {
        "colab": {
          "base_uri": "https://localhost:8080/"
        },
        "id": "qQe9Pk4awwDb",
        "outputId": "00aa3c22-eef8-4178-d0b6-31f76ee22c14"
      },
      "execution_count": 5,
      "outputs": [
        {
          "output_type": "stream",
          "name": "stdout",
          "text": [
            "병합 완료:  (600000, 46)\n"
          ]
        }
      ]
    },
    {
      "cell_type": "code",
      "source": [],
      "metadata": {
        "id": "PiClMkoAw1XJ"
      },
      "execution_count": 5,
      "outputs": []
    },
    {
      "cell_type": "code",
      "source": [
        "# 불필요한 컬럼 제거\n",
        "cols_to_drop = ['대표결제방법코드', '청구서발송여부_R3M', '청구금액_R3M', '포인트_마일리지_환산_B0M']\n",
        "df4.drop(columns=cols_to_drop, inplace=True, errors='ignore')\n",
        "print(\"컬럼 제거 완료\")"
      ],
      "metadata": {
        "id": "eRY1jvLyh9j7",
        "colab": {
          "base_uri": "https://localhost:8080/"
        },
        "outputId": "9bb33250-5a05-47a9-8e52-39405d1082b2"
      },
      "execution_count": 6,
      "outputs": [
        {
          "output_type": "stream",
          "name": "stdout",
          "text": [
            "컬럼 제거 완료\n"
          ]
        }
      ]
    },
    {
      "cell_type": "code",
      "source": [
        "# '대표청구지고객주소구분코드' 컬럼 제거\n",
        "df4.drop(columns=['대표청구지고객주소구분코드'], inplace=True, errors='ignore')"
      ],
      "metadata": {
        "id": "QKc8ZF0T2Idt"
      },
      "execution_count": 7,
      "outputs": []
    },
    {
      "cell_type": "code",
      "source": [
        "from statsmodels.stats.outliers_influence import variance_inflation_factor\n",
        "import statsmodels.api as sm\n",
        "\n",
        "# 수치형 컬럼만 선택\n",
        "numeric_cols = df4.select_dtypes(include=['float64', 'int64']).columns.tolist()\n",
        "X_vif = df4[numeric_cols].dropna()\n",
        "\n",
        "# VIF 계산\n",
        "vif_data = pd.DataFrame()\n",
        "vif_data[\"Feature\"] = X_vif.columns\n",
        "vif_data[\"VIF\"] = [variance_inflation_factor(X_vif.values, i) for i in range(X_vif.shape[1])]\n",
        "\n",
        "# VIF가 10 이상인 피처 확인\n",
        "high_vif_features = vif_data[vif_data[\"VIF\"] > 10][\"Feature\"].tolist()\n",
        "print(\"VIF > 10:\", high_vif_features)"
      ],
      "metadata": {
        "colab": {
          "base_uri": "https://localhost:8080/"
        },
        "id": "Cx1mJluJxrUy",
        "outputId": "d252291b-d2a3-4e46-bdb6-68b60a0bf3a4"
      },
      "execution_count": 10,
      "outputs": [
        {
          "output_type": "stream",
          "name": "stdout",
          "text": [
            "VIF > 10: ['기준년월', '포인트_마일리지_건별_B0M', '포인트_마일리지_건별_R3M', '포인트_포인트_건별_B0M', '포인트_포인트_건별_R3M', '포인트_마일리지_월적립_B0M', '포인트_마일리지_월적립_R3M', '포인트_적립포인트_R3M', '포인트_이용포인트_R3M', '마일_적립포인트_R12M', '마일_적립포인트_R3M', '마일_이용포인트_R12M', '마일_이용포인트_R3M', '할인금액_R3M', '할인금액_B0M', '할인금액_청구서_R3M', '할인금액_청구서_B0M', '상환개월수_결제일_R6M', '상환개월수_결제일_R3M', '혜택수혜금액_R3M', '혜택수혜금액']\n"
          ]
        }
      ]
    },
    {
      "cell_type": "code",
      "source": [
        "# 1. 기준년월 컬럼을 제외한 VIF 10 이상 컬럼만 제거 대상에 포함\n",
        "features_to_drop = [col for col in high_vif_features if col != '기준년월']\n",
        "\n",
        "# 2. 컬럼 제거\n",
        "df4 = df4.drop(columns=features_to_drop)\n",
        "print(\"제거된 컬럼 목록:\", features_to_drop)"
      ],
      "metadata": {
        "colab": {
          "base_uri": "https://localhost:8080/"
        },
        "id": "l8YhlRT3xrRm",
        "outputId": "32021be3-c979-4bfe-86e7-3aecd515d888"
      },
      "execution_count": 11,
      "outputs": [
        {
          "output_type": "stream",
          "name": "stdout",
          "text": [
            "제거된 컬럼 목록: ['포인트_마일리지_건별_B0M', '포인트_마일리지_건별_R3M', '포인트_포인트_건별_B0M', '포인트_포인트_건별_R3M', '포인트_마일리지_월적립_B0M', '포인트_마일리지_월적립_R3M', '포인트_적립포인트_R3M', '포인트_이용포인트_R3M', '마일_적립포인트_R12M', '마일_적립포인트_R3M', '마일_이용포인트_R12M', '마일_이용포인트_R3M', '할인금액_R3M', '할인금액_B0M', '할인금액_청구서_R3M', '할인금액_청구서_B0M', '상환개월수_결제일_R6M', '상환개월수_결제일_R3M', '혜택수혜금액_R3M', '혜택수혜금액']\n"
          ]
        }
      ]
    },
    {
      "cell_type": "code",
      "source": [
        "# 기준년월이 여전히 남아있는지 확인\n",
        "print(\"'기준년월' in df4.columns:\", '기준년월' in df4.columns)"
      ],
      "metadata": {
        "colab": {
          "base_uri": "https://localhost:8080/"
        },
        "id": "hE7B9mizd2ay",
        "outputId": "1e125c13-ab8b-414a-cc5e-2728fe2dd02f"
      },
      "execution_count": 12,
      "outputs": [
        {
          "output_type": "stream",
          "name": "stdout",
          "text": [
            "'기준년월' in df4.columns: True\n"
          ]
        }
      ]
    },
    {
      "cell_type": "code",
      "source": [],
      "metadata": {
        "id": "ODKFKKFCd2Nj"
      },
      "execution_count": null,
      "outputs": []
    },
    {
      "cell_type": "code",
      "source": [
        "from sklearn.preprocessing import LabelEncoder\n",
        "\n",
        "# 범주형 컬럼 확인 및 인코딩\n",
        "categorical_cols = df4.select_dtypes(include=['object', 'category']).columns\n",
        "\n",
        "# Label Encoding 수행\n",
        "for col in categorical_cols:\n",
        "    le = LabelEncoder()\n",
        "    df4[col] = le.fit_transform(df4[col].astype(str)) # 결측치 등을 문자열 'nan'으로 처리하여 인코딩\n",
        "\n",
        "print(\"범주형 컬럼 인코딩 완료\")"
      ],
      "metadata": {
        "id": "Xw5azAU056bi",
        "colab": {
          "base_uri": "https://localhost:8080/"
        },
        "outputId": "e46ffef2-c3aa-4e05-8a81-98f0347dfc8d"
      },
      "execution_count": 13,
      "outputs": [
        {
          "output_type": "stream",
          "name": "stdout",
          "text": [
            "범주형 컬럼 인코딩 완료\n"
          ]
        }
      ]
    },
    {
      "cell_type": "code",
      "source": [
        "# Parquet 저장\n",
        "df4.to_parquet(\"test_4번eda_encoded.parquet\", index=False)\n",
        "\n",
        "# 파일 다운로드\n",
        "from google.colab import files\n",
        "files.download(\"test_4번eda_encoded.parquet\")"
      ],
      "metadata": {
        "id": "-NLiTu0zncqj",
        "colab": {
          "base_uri": "https://localhost:8080/",
          "height": 17
        },
        "outputId": "7d9a82de-5ba9-4d9b-dcf3-23d6a0a64247"
      },
      "execution_count": 14,
      "outputs": [
        {
          "output_type": "display_data",
          "data": {
            "text/plain": [
              "<IPython.core.display.Javascript object>"
            ],
            "application/javascript": [
              "\n",
              "    async function download(id, filename, size) {\n",
              "      if (!google.colab.kernel.accessAllowed) {\n",
              "        return;\n",
              "      }\n",
              "      const div = document.createElement('div');\n",
              "      const label = document.createElement('label');\n",
              "      label.textContent = `Downloading \"${filename}\": `;\n",
              "      div.appendChild(label);\n",
              "      const progress = document.createElement('progress');\n",
              "      progress.max = size;\n",
              "      div.appendChild(progress);\n",
              "      document.body.appendChild(div);\n",
              "\n",
              "      const buffers = [];\n",
              "      let downloaded = 0;\n",
              "\n",
              "      const channel = await google.colab.kernel.comms.open(id);\n",
              "      // Send a message to notify the kernel that we're ready.\n",
              "      channel.send({})\n",
              "\n",
              "      for await (const message of channel.messages) {\n",
              "        // Send a message to notify the kernel that we're ready.\n",
              "        channel.send({})\n",
              "        if (message.buffers) {\n",
              "          for (const buffer of message.buffers) {\n",
              "            buffers.push(buffer);\n",
              "            downloaded += buffer.byteLength;\n",
              "            progress.value = downloaded;\n",
              "          }\n",
              "        }\n",
              "      }\n",
              "      const blob = new Blob(buffers, {type: 'application/binary'});\n",
              "      const a = document.createElement('a');\n",
              "      a.href = window.URL.createObjectURL(blob);\n",
              "      a.download = filename;\n",
              "      div.appendChild(a);\n",
              "      a.click();\n",
              "      div.remove();\n",
              "    }\n",
              "  "
            ]
          },
          "metadata": {}
        },
        {
          "output_type": "display_data",
          "data": {
            "text/plain": [
              "<IPython.core.display.Javascript object>"
            ],
            "application/javascript": [
              "download(\"download_f1f3de63-8ec3-4756-8698-ca395d193810\", \"test_4\\ubc88eda_encoded.parquet\", 8538013)"
            ]
          },
          "metadata": {}
        }
      ]
    },
    {
      "cell_type": "code",
      "source": [],
      "metadata": {
        "id": "sKkPZksmezoT"
      },
      "execution_count": null,
      "outputs": []
    }
  ]
}