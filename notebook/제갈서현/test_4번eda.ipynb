{
  "nbformat": 4,
  "nbformat_minor": 0,
  "metadata": {
    "colab": {
      "provenance": []
    },
    "kernelspec": {
      "name": "python3",
      "display_name": "Python 3"
    },
    "language_info": {
      "name": "python"
    }
  },
  "cells": [
    {
      "cell_type": "code",
      "source": [
        "# 필수 라이브러리 import\n",
        "import pandas as pd\n",
        "import numpy as np\n",
        "import matplotlib.pyplot as plt\n",
        "import seaborn as sns\n",
        "import missingno\n",
<<<<<<< HEAD
        "from sklearn.preprocessing import StandardScaler\n",
        "\n",
        "import gc"
=======
        "from sklearn.preprocessing import StandardScaler"
>>>>>>> origin/main
      ],
      "metadata": {
        "id": "4ugH293JhWF-"
      },
<<<<<<< HEAD
      "execution_count": 1,
=======
      "execution_count": 24,
>>>>>>> origin/main
      "outputs": []
    },
    {
      "cell_type": "code",
      "source": [
        "from google.colab import drive\n",
<<<<<<< HEAD
        "drive.mount('/content/drive')\n",
        "\n",
        "data_root = '/content/drive/MyDrive/Colab Notebooks/final_project/data/'\n",
        "# data_path = data_root + 'train/'"
=======
        "drive.mount('/content/drive')"
>>>>>>> origin/main
      ],
      "metadata": {
        "colab": {
          "base_uri": "https://localhost:8080/"
        },
        "id": "6iKLdc4wuDAK",
<<<<<<< HEAD
        "outputId": "b870c815-2c98-4cc5-ff40-9482b3e97852"
      },
      "execution_count": 2,
=======
        "outputId": "85cc2805-415d-407e-967d-e5dfa8bd524a"
      },
      "execution_count": 25,
>>>>>>> origin/main
      "outputs": [
        {
          "output_type": "stream",
          "name": "stdout",
          "text": [
            "Drive already mounted at /content/drive; to attempt to forcibly remount, call drive.mount(\"/content/drive\", force_remount=True).\n"
          ]
        }
      ]
    },
    {
      "cell_type": "code",
      "source": [
<<<<<<< HEAD
=======
        "cp -r /content/drive/MyDrive/Colab\\ Notebooks/final_project/data /content"
      ],
      "metadata": {
        "id": "uIOz6frir-Eq"
      },
      "execution_count": 26,
      "outputs": []
    },
    {
      "cell_type": "code",
      "source": [
        "!sudo apt-get install -y fonts-nanum\n",
        "!sudo fc-cache -fv\n",
        "!rm ~/.cache/matplotlib -rf"
      ],
      "metadata": {
        "colab": {
          "base_uri": "https://localhost:8080/"
        },
        "id": "9Q7OXz80v1pe",
        "outputId": "78cc286f-06ee-4c85-b9e9-962b0d81462e"
      },
      "execution_count": 7,
      "outputs": [
        {
          "output_type": "stream",
          "name": "stdout",
          "text": [
            "Reading package lists... Done\n",
            "Building dependency tree... Done\n",
            "Reading state information... Done\n",
            "The following NEW packages will be installed:\n",
            "  fonts-nanum\n",
            "0 upgraded, 1 newly installed, 0 to remove and 35 not upgraded.\n",
            "Need to get 10.3 MB of archives.\n",
            "After this operation, 34.1 MB of additional disk space will be used.\n",
            "Get:1 http://archive.ubuntu.com/ubuntu jammy/universe amd64 fonts-nanum all 20200506-1 [10.3 MB]\n",
            "Fetched 10.3 MB in 1s (8,854 kB/s)\n",
            "debconf: unable to initialize frontend: Dialog\n",
            "debconf: (No usable dialog-like program is installed, so the dialog based frontend cannot be used. at /usr/share/perl5/Debconf/FrontEnd/Dialog.pm line 78, <> line 1.)\n",
            "debconf: falling back to frontend: Readline\n",
            "debconf: unable to initialize frontend: Readline\n",
            "debconf: (This frontend requires a controlling tty.)\n",
            "debconf: falling back to frontend: Teletype\n",
            "dpkg-preconfigure: unable to re-open stdin: \n",
            "Selecting previously unselected package fonts-nanum.\n",
            "(Reading database ... 126308 files and directories currently installed.)\n",
            "Preparing to unpack .../fonts-nanum_20200506-1_all.deb ...\n",
            "Unpacking fonts-nanum (20200506-1) ...\n",
            "Setting up fonts-nanum (20200506-1) ...\n",
            "Processing triggers for fontconfig (2.13.1-4.2ubuntu5) ...\n",
            "/usr/share/fonts: caching, new cache contents: 0 fonts, 1 dirs\n",
            "/usr/share/fonts/truetype: caching, new cache contents: 0 fonts, 3 dirs\n",
            "/usr/share/fonts/truetype/humor-sans: caching, new cache contents: 1 fonts, 0 dirs\n",
            "/usr/share/fonts/truetype/liberation: caching, new cache contents: 16 fonts, 0 dirs\n",
            "/usr/share/fonts/truetype/nanum: caching, new cache contents: 12 fonts, 0 dirs\n",
            "/usr/local/share/fonts: caching, new cache contents: 0 fonts, 0 dirs\n",
            "/root/.local/share/fonts: skipping, no such directory\n",
            "/root/.fonts: skipping, no such directory\n",
            "/usr/share/fonts/truetype: skipping, looped directory detected\n",
            "/usr/share/fonts/truetype/humor-sans: skipping, looped directory detected\n",
            "/usr/share/fonts/truetype/liberation: skipping, looped directory detected\n",
            "/usr/share/fonts/truetype/nanum: skipping, looped directory detected\n",
            "/var/cache/fontconfig: cleaning cache directory\n",
            "/root/.cache/fontconfig: not cleaning non-existent cache directory\n",
            "/root/.fontconfig: not cleaning non-existent cache directory\n",
            "fc-cache: succeeded\n"
          ]
        }
      ]
    },
    {
      "cell_type": "code",
      "source": [
        "import matplotlib.pyplot as plt\n",
        "\n",
        "plt.rc('font', family='NanumBarunGothic')"
      ],
      "metadata": {
        "id": "l5F-i9wIv1aN"
      },
      "execution_count": 27,
      "outputs": []
    },
    {
      "cell_type": "code",
      "source": [
>>>>>>> origin/main
        "# pyarrow 설치 (parquet 파일 읽기용)\n",
        "!pip install pyarrow\n",
        "\n",
        "# 경고 뜨지 않게 설정\n",
        "import warnings\n",
        "warnings.filterwarnings('ignore')"
      ],
      "metadata": {
        "colab": {
          "base_uri": "https://localhost:8080/"
        },
        "id": "wxiMha7ih9qu",
<<<<<<< HEAD
        "outputId": "f800e3dc-87ab-4f4a-9466-ded5cde779e7"
      },
      "execution_count": 3,
=======
        "outputId": "f73a5577-a1be-4736-e6a7-b9d404fce6f9"
      },
      "execution_count": 28,
>>>>>>> origin/main
      "outputs": [
        {
          "output_type": "stream",
          "name": "stdout",
          "text": [
            "Requirement already satisfied: pyarrow in /usr/local/lib/python3.11/dist-packages (18.1.0)\n"
          ]
        }
      ]
    },
    {
      "cell_type": "code",
      "source": [
<<<<<<< HEAD
        "# 데이터 로드: 6개월 청구정보 parquet 파일 병합\n",
        "df41 = pd.read_parquet(data_root + 'test/4.청구입금정보/201807_test_청구정보.parquet')\n",
        "df42 = pd.read_parquet(data_root + 'test/4.청구입금정보/201808_test_청구정보.parquet')\n",
        "df43 = pd.read_parquet(data_root + 'test/4.청구입금정보/201809_test_청구정보.parquet')\n",
        "df44 = pd.read_parquet(data_root + 'test/4.청구입금정보/201810_test_청구정보.parquet')\n",
        "df45 = pd.read_parquet(data_root + 'test/4.청구입금정보/201811_test_청구정보.parquet')\n",
        "df46 = pd.read_parquet(data_root + 'test/4.청구입금정보/201812_test_청구정보.parquet')"
      ],
      "metadata": {
        "id": "QDVtnAYewiwc"
      },
      "execution_count": 4,
      "outputs": []
    },
    {
      "cell_type": "code",
      "source": [
        "df4 = pd.concat([df41, df42, df43, df44, df45, df46])\n",
        "print(\"병합 완료: \", df4.shape)"
=======
        "import os\n",
        "\n",
        "# 현재 디렉토리의 모든 파일 확인\n",
        "print(os.listdir())"
>>>>>>> origin/main
      ],
      "metadata": {
        "colab": {
          "base_uri": "https://localhost:8080/"
        },
<<<<<<< HEAD
        "id": "qQe9Pk4awwDb",
        "outputId": "00aa3c22-eef8-4178-d0b6-31f76ee22c14"
      },
      "execution_count": 5,
=======
        "id": "4UBWMuA0rVGE",
        "outputId": "0792f38b-4d37-449d-e86a-8d2776da3ba3"
      },
      "execution_count": 29,
      "outputs": [
        {
          "output_type": "stream",
          "name": "stdout",
          "text": [
            "['.config', '201809_test_청구정보.parquet', 'sample_data', '201811_test_청구정보.parquet', '201812_test_청구정보.parquet', '201807_test_회원정보.parquet', 'drive', '201808_test_청구정보.parquet', '201810_test_청구정보.parquet', 'data', '201807_test_청구정보.parquet']\n"
          ]
        }
      ]
    },
    {
      "cell_type": "code",
      "source": [
        "import pyarrow.parquet as pq\n",
        "\n",
        "# 의심되는 파일이 실제 parquet인지 확인\n",
        "pq.ParquetFile('201807_test_청구정보.parquet')"
      ],
      "metadata": {
        "colab": {
          "base_uri": "https://localhost:8080/"
        },
        "id": "W2dc4Lh_rmKl",
        "outputId": "c8bff283-9b8d-40b8-895b-ad8c15d97f6b"
      },
      "execution_count": 30,
      "outputs": [
        {
          "output_type": "execute_result",
          "data": {
            "text/plain": [
              "<pyarrow.parquet.core.ParquetFile at 0x7f28fc96ca50>"
            ]
          },
          "metadata": {},
          "execution_count": 30
        }
      ]
    },
    {
      "cell_type": "code",
      "source": [
        "# 데이터 로드: 6개월 청구정보 parquet 파일 병합\n",
        "file_list = [\n",
        "    '201807_test_청구정보.parquet',\n",
        "    '201808_test_청구정보.parquet',\n",
        "    '201809_test_청구정보.parquet',\n",
        "    '201810_test_청구정보.parquet',\n",
        "    '201811_test_청구정보.parquet',\n",
        "    '201812_test_청구정보.parquet'\n",
        "]\n",
        "\n",
        "df_all = pd.concat([pd.read_parquet(f) for f in file_list], ignore_index=True)\n",
        "print(\"병합 완료: \", df_all.shape)"
      ],
      "metadata": {
        "colab": {
          "base_uri": "https://localhost:8080/"
        },
        "id": "ktjWILaVh9nc",
        "outputId": "a5edfbf9-2e34-4039-ddc1-9024c14ca5ad"
      },
      "execution_count": 31,
>>>>>>> origin/main
      "outputs": [
        {
          "output_type": "stream",
          "name": "stdout",
          "text": [
            "병합 완료:  (600000, 46)\n"
          ]
        }
      ]
    },
    {
      "cell_type": "code",
      "source": [],
      "metadata": {
<<<<<<< HEAD
        "id": "PiClMkoAw1XJ"
      },
      "execution_count": 5,
=======
        "id": "Z20hM6nvt_7k"
      },
      "execution_count": null,
>>>>>>> origin/main
      "outputs": []
    },
    {
      "cell_type": "code",
      "source": [
<<<<<<< HEAD
        "# 불필요한 컬럼 제거\n",
        "cols_to_drop = ['대표결제방법코드', '청구서발송여부_R3M', '청구금액_R3M', '포인트_마일리지_환산_B0M']\n",
        "df4.drop(columns=cols_to_drop, inplace=True, errors='ignore')\n",
        "print(\"컬럼 제거 완료\")"
      ],
      "metadata": {
        "id": "eRY1jvLyh9j7",
        "colab": {
          "base_uri": "https://localhost:8080/"
        },
        "outputId": "9bb33250-5a05-47a9-8e52-39405d1082b2"
      },
      "execution_count": 6,
=======
        "# 결측치 처리\n",
        "missing_cols = df_all.columns[df_all.isnull().any()]\n",
        "missing_cols"
      ],
      "metadata": {
        "colab": {
          "base_uri": "https://localhost:8080/"
        },
        "id": "7WykT4B6h9bP",
        "outputId": "8dbf81c2-c9bb-48cb-d786-7261bd084016"
      },
      "execution_count": 32,
      "outputs": [
        {
          "output_type": "execute_result",
          "data": {
            "text/plain": [
              "Index([], dtype='object')"
            ]
          },
          "metadata": {},
          "execution_count": 32
        }
      ]
    },
    {
      "cell_type": "code",
      "source": [
        "# 불필요한 컬럼 제거\n",
        "cols_to_drop = ['대표결제방법코드', '청구서발송여부_R3M', '청구금액_R3M', '포인트_마일리지_환산_B0M']\n",
        "df_all.drop(columns=cols_to_drop, inplace=True, errors='ignore')\n",
        "print(\"컬럼 제거 완료\")"
      ],
      "metadata": {
        "colab": {
          "base_uri": "https://localhost:8080/"
        },
        "id": "eRY1jvLyh9j7",
        "outputId": "abe1a6f8-ffcf-4817-cfd3-42391d5de0b2"
      },
      "execution_count": 33,
>>>>>>> origin/main
      "outputs": [
        {
          "output_type": "stream",
          "name": "stdout",
          "text": [
            "컬럼 제거 완료\n"
          ]
        }
      ]
    },
    {
      "cell_type": "code",
      "source": [
<<<<<<< HEAD
        "# '대표청구지고객주소구분코드' 컬럼 제거\n",
        "df4.drop(columns=['대표청구지고객주소구분코드'], inplace=True, errors='ignore')"
      ],
      "metadata": {
        "id": "QKc8ZF0T2Idt"
      },
      "execution_count": 7,
=======
        "# # Segment 컬럼 가져오기\n",
        "# # parquet 파일 열기\n",
        "# df01 = pd.read_parquet(\"/content/data/test/1.회원정보/201807_test_회원정보.parquet\")\n",
        "#     # \"/content/data/test/1.회원정보/201807_test_회원정보.parquet\")/content/201807_test_회원정보.parquet\n",
        "# df01"
      ],
      "metadata": {
        "id": "Wqk9iStvpshU"
      },
      "execution_count": 20,
>>>>>>> origin/main
      "outputs": []
    },
    {
      "cell_type": "code",
      "source": [
<<<<<<< HEAD
        "from statsmodels.stats.outliers_influence import variance_inflation_factor\n",
        "import statsmodels.api as sm\n",
        "\n",
        "# 수치형 컬럼만 선택\n",
        "numeric_cols = df4.select_dtypes(include=['float64', 'int64']).columns.tolist()\n",
        "X_vif = df4[numeric_cols].dropna()\n",
        "\n",
        "# VIF 계산\n",
        "vif_data = pd.DataFrame()\n",
        "vif_data[\"Feature\"] = X_vif.columns\n",
        "vif_data[\"VIF\"] = [variance_inflation_factor(X_vif.values, i) for i in range(X_vif.shape[1])]\n",
        "\n",
        "# VIF가 10 이상인 피처 확인\n",
        "high_vif_features = vif_data[vif_data[\"VIF\"] > 10][\"Feature\"].tolist()\n",
        "print(\"VIF > 10:\", high_vif_features)"
      ],
      "metadata": {
        "colab": {
          "base_uri": "https://localhost:8080/"
        },
        "id": "Cx1mJluJxrUy",
        "outputId": "d252291b-d2a3-4e46-bdb6-68b60a0bf3a4"
      },
      "execution_count": 10,
      "outputs": [
        {
          "output_type": "stream",
          "name": "stdout",
          "text": [
            "VIF > 10: ['기준년월', '포인트_마일리지_건별_B0M', '포인트_마일리지_건별_R3M', '포인트_포인트_건별_B0M', '포인트_포인트_건별_R3M', '포인트_마일리지_월적립_B0M', '포인트_마일리지_월적립_R3M', '포인트_적립포인트_R3M', '포인트_이용포인트_R3M', '마일_적립포인트_R12M', '마일_적립포인트_R3M', '마일_이용포인트_R12M', '마일_이용포인트_R3M', '할인금액_R3M', '할인금액_B0M', '할인금액_청구서_R3M', '할인금액_청구서_B0M', '상환개월수_결제일_R6M', '상환개월수_결제일_R3M', '혜택수혜금액_R3M', '혜택수혜금액']\n"
          ]
        }
      ]
    },
    {
      "cell_type": "code",
      "source": [
        "# 1. 기준년월 컬럼을 제외한 VIF 10 이상 컬럼만 제거 대상에 포함\n",
        "features_to_drop = [col for col in high_vif_features if col != '기준년월']\n",
        "\n",
        "# 2. 컬럼 제거\n",
        "df4 = df4.drop(columns=features_to_drop)\n",
        "print(\"제거된 컬럼 목록:\", features_to_drop)"
      ],
      "metadata": {
        "colab": {
          "base_uri": "https://localhost:8080/"
        },
        "id": "l8YhlRT3xrRm",
        "outputId": "32021be3-c979-4bfe-86e7-3aecd515d888"
      },
      "execution_count": 11,
      "outputs": [
        {
          "output_type": "stream",
          "name": "stdout",
          "text": [
            "제거된 컬럼 목록: ['포인트_마일리지_건별_B0M', '포인트_마일리지_건별_R3M', '포인트_포인트_건별_B0M', '포인트_포인트_건별_R3M', '포인트_마일리지_월적립_B0M', '포인트_마일리지_월적립_R3M', '포인트_적립포인트_R3M', '포인트_이용포인트_R3M', '마일_적립포인트_R12M', '마일_적립포인트_R3M', '마일_이용포인트_R12M', '마일_이용포인트_R3M', '할인금액_R3M', '할인금액_B0M', '할인금액_청구서_R3M', '할인금액_청구서_B0M', '상환개월수_결제일_R6M', '상환개월수_결제일_R3M', '혜택수혜금액_R3M', '혜택수혜금액']\n"
          ]
        }
      ]
    },
    {
      "cell_type": "code",
      "source": [
        "# 기준년월이 여전히 남아있는지 확인\n",
        "print(\"'기준년월' in df4.columns:\", '기준년월' in df4.columns)"
      ],
      "metadata": {
        "colab": {
          "base_uri": "https://localhost:8080/"
        },
        "id": "hE7B9mizd2ay",
        "outputId": "1e125c13-ab8b-414a-cc5e-2728fe2dd02f"
      },
      "execution_count": 12,
      "outputs": [
        {
          "output_type": "stream",
          "name": "stdout",
          "text": [
            "'기준년월' in df4.columns: True\n"
          ]
        }
      ]
=======
        "# df01['Segment']"
      ],
      "metadata": {
        "id": "ro6Z-jkj2HZU"
      },
      "execution_count": 21,
      "outputs": []
>>>>>>> origin/main
    },
    {
      "cell_type": "code",
      "source": [],
      "metadata": {
<<<<<<< HEAD
        "id": "ODKFKKFCd2Nj"
=======
        "id": "QKc8ZF0T2Idt"
      },
      "execution_count": null,
      "outputs": []
    },
    {
      "cell_type": "code",
      "source": [],
      "metadata": {
        "id": "7_rxmMxJ2DbG"
>>>>>>> origin/main
      },
      "execution_count": null,
      "outputs": []
    },
    {
      "cell_type": "code",
      "source": [
<<<<<<< HEAD
        "from sklearn.preprocessing import LabelEncoder\n",
        "\n",
        "# 범주형 컬럼 확인 및 인코딩\n",
        "categorical_cols = df4.select_dtypes(include=['object', 'category']).columns\n",
        "\n",
        "# Label Encoding 수행\n",
        "for col in categorical_cols:\n",
        "    le = LabelEncoder()\n",
        "    df4[col] = le.fit_transform(df4[col].astype(str)) # 결측치 등을 문자열 'nan'으로 처리하여 인코딩\n",
        "\n",
        "print(\"범주형 컬럼 인코딩 완료\")"
      ],
      "metadata": {
        "id": "Xw5azAU056bi",
        "colab": {
          "base_uri": "https://localhost:8080/"
        },
        "outputId": "e46ffef2-c3aa-4e05-8a81-98f0347dfc8d"
      },
      "execution_count": 13,
=======
        "# '대표청구지고객주소구분코드' 컬럼 제거\n",
        "df_all.drop(columns=['대표청구지고객주소구분코드'], inplace=True, errors='ignore')"
      ],
      "metadata": {
        "id": "RZzOXu1nJjk9"
      },
      "execution_count": 34,
      "outputs": []
    },
    {
      "cell_type": "code",
      "source": [
        "# 데이터 개요 확인\n",
        "df_all.info()"
      ],
      "metadata": {
        "colab": {
          "base_uri": "https://localhost:8080/"
        },
        "id": "P6htGT6niQed",
        "outputId": "f97b6b1a-e636-4ba8-af60-28d595a05725"
      },
      "execution_count": 35,
>>>>>>> origin/main
      "outputs": [
        {
          "output_type": "stream",
          "name": "stdout",
          "text": [
<<<<<<< HEAD
            "범주형 컬럼 인코딩 완료\n"
=======
            "<class 'pandas.core.frame.DataFrame'>\n",
            "RangeIndex: 600000 entries, 0 to 599999\n",
            "Data columns (total 41 columns):\n",
            " #   Column            Non-Null Count   Dtype \n",
            "---  ------            --------------   ----- \n",
            " 0   기준년월              600000 non-null  int64 \n",
            " 1   ID                600000 non-null  object\n",
            " 2   대표결제일             600000 non-null  int64 \n",
            " 3   대표청구서수령지구분코드      600000 non-null  object\n",
            " 4   청구서수령방법           600000 non-null  object\n",
            " 5   청구서발송여부_B0        600000 non-null  int64 \n",
            " 6   청구서발송여부_R6M       600000 non-null  int64 \n",
            " 7   청구금액_B0           600000 non-null  int64 \n",
            " 8   청구금액_R6M          600000 non-null  int64 \n",
            " 9   포인트_마일리지_건별_B0M   600000 non-null  int64 \n",
            " 10  포인트_마일리지_건별_R3M   600000 non-null  int64 \n",
            " 11  포인트_포인트_건별_B0M    600000 non-null  int64 \n",
            " 12  포인트_포인트_건별_R3M    600000 non-null  int64 \n",
            " 13  포인트_마일리지_월적립_B0M  600000 non-null  int64 \n",
            " 14  포인트_마일리지_월적립_R3M  600000 non-null  int64 \n",
            " 15  포인트_포인트_월적립_B0M   600000 non-null  int64 \n",
            " 16  포인트_포인트_월적립_R3M   600000 non-null  int64 \n",
            " 17  포인트_적립포인트_R12M    600000 non-null  int64 \n",
            " 18  포인트_적립포인트_R3M     600000 non-null  int64 \n",
            " 19  포인트_이용포인트_R12M    600000 non-null  int64 \n",
            " 20  포인트_이용포인트_R3M     600000 non-null  int64 \n",
            " 21  포인트_잔여포인트_B0M     600000 non-null  int64 \n",
            " 22  마일_적립포인트_R12M     600000 non-null  int64 \n",
            " 23  마일_적립포인트_R3M      600000 non-null  int64 \n",
            " 24  마일_이용포인트_R12M     600000 non-null  int64 \n",
            " 25  마일_이용포인트_R3M      600000 non-null  int64 \n",
            " 26  마일_잔여포인트_B0M      600000 non-null  int64 \n",
            " 27  할인건수_R3M          600000 non-null  object\n",
            " 28  할인금액_R3M          600000 non-null  int64 \n",
            " 29  할인건수_B0M          600000 non-null  object\n",
            " 30  할인금액_B0M          600000 non-null  int64 \n",
            " 31  할인금액_청구서_R3M      600000 non-null  int64 \n",
            " 32  할인금액_청구서_B0M      600000 non-null  int64 \n",
            " 33  상환개월수_결제일_R6M     600000 non-null  int64 \n",
            " 34  상환개월수_결제일_R3M     600000 non-null  int64 \n",
            " 35  선결제건수_R6M         600000 non-null  int64 \n",
            " 36  선결제건수_R3M         600000 non-null  int64 \n",
            " 37  연체건수_R6M          600000 non-null  int64 \n",
            " 38  연체건수_R3M          600000 non-null  int64 \n",
            " 39  혜택수혜금액_R3M        600000 non-null  int64 \n",
            " 40  혜택수혜금액            600000 non-null  int64 \n",
            "dtypes: int64(36), object(5)\n",
            "memory usage: 187.7+ MB\n"
>>>>>>> origin/main
          ]
        }
      ]
    },
    {
      "cell_type": "code",
      "source": [
<<<<<<< HEAD
        "# Parquet 저장\n",
        "df4.to_parquet(\"test_4번eda_encoded.parquet\", index=False)\n",
        "\n",
        "# 파일 다운로드\n",
        "from google.colab import files\n",
        "files.download(\"test_4번eda_encoded.parquet\")"
      ],
      "metadata": {
        "id": "-NLiTu0zncqj",
=======
        "# Parquet로 저장\n",
        "df_all.to_parquet(\"df_all.parquet\", index=False)\n",
        "\n",
        "# 파일 다운로드\n",
        "from google.colab import files\n",
        "files.download(\"df_all.parquet\")"
      ],
      "metadata": {
>>>>>>> origin/main
        "colab": {
          "base_uri": "https://localhost:8080/",
          "height": 17
        },
<<<<<<< HEAD
        "outputId": "7d9a82de-5ba9-4d9b-dcf3-23d6a0a64247"
      },
      "execution_count": 14,
=======
        "id": "Xw5azAU056bi",
        "outputId": "e96bb9bb-44d9-4145-ec69-703937dee500"
      },
      "execution_count": 36,
>>>>>>> origin/main
      "outputs": [
        {
          "output_type": "display_data",
          "data": {
            "text/plain": [
              "<IPython.core.display.Javascript object>"
            ],
            "application/javascript": [
              "\n",
              "    async function download(id, filename, size) {\n",
              "      if (!google.colab.kernel.accessAllowed) {\n",
              "        return;\n",
              "      }\n",
              "      const div = document.createElement('div');\n",
              "      const label = document.createElement('label');\n",
              "      label.textContent = `Downloading \"${filename}\": `;\n",
              "      div.appendChild(label);\n",
              "      const progress = document.createElement('progress');\n",
              "      progress.max = size;\n",
              "      div.appendChild(progress);\n",
              "      document.body.appendChild(div);\n",
              "\n",
              "      const buffers = [];\n",
              "      let downloaded = 0;\n",
              "\n",
              "      const channel = await google.colab.kernel.comms.open(id);\n",
              "      // Send a message to notify the kernel that we're ready.\n",
              "      channel.send({})\n",
              "\n",
              "      for await (const message of channel.messages) {\n",
              "        // Send a message to notify the kernel that we're ready.\n",
              "        channel.send({})\n",
              "        if (message.buffers) {\n",
              "          for (const buffer of message.buffers) {\n",
              "            buffers.push(buffer);\n",
              "            downloaded += buffer.byteLength;\n",
              "            progress.value = downloaded;\n",
              "          }\n",
              "        }\n",
              "      }\n",
              "      const blob = new Blob(buffers, {type: 'application/binary'});\n",
              "      const a = document.createElement('a');\n",
              "      a.href = window.URL.createObjectURL(blob);\n",
              "      a.download = filename;\n",
              "      div.appendChild(a);\n",
              "      a.click();\n",
              "      div.remove();\n",
              "    }\n",
              "  "
            ]
          },
          "metadata": {}
        },
        {
          "output_type": "display_data",
          "data": {
            "text/plain": [
              "<IPython.core.display.Javascript object>"
            ],
            "application/javascript": [
<<<<<<< HEAD
              "download(\"download_f1f3de63-8ec3-4756-8698-ca395d193810\", \"test_4\\ubc88eda_encoded.parquet\", 8538013)"
=======
              "download(\"download_53bd1268-73a3-4ec7-bfad-96620e01c6a1\", \"df_all.parquet\", 16642455)"
>>>>>>> origin/main
            ]
          },
          "metadata": {}
        }
      ]
    },
    {
      "cell_type": "code",
      "source": [],
      "metadata": {
<<<<<<< HEAD
        "id": "sKkPZksmezoT"
=======
        "id": "bDx4LLTj6p68"
      },
      "execution_count": null,
      "outputs": []
    },
    {
      "cell_type": "code",
      "source": [
        "# # CSV 파일 불러오기\n",
        "# df = pd.read_csv('df_all_test.csv', encoding='cp949') # 경로는 필요 시 수정\n",
        "\n",
        "# # Parquet 파일로 저장\n",
        "# df.to_parquet('df_all_test.parquet', index=False)"
      ],
      "metadata": {
        "id": "dRho1ShqnSnx"
      },
      "execution_count": null,
      "outputs": []
    },
    {
      "cell_type": "code",
      "source": [
        "# ls"
      ],
      "metadata": {
        "id": "L8E_oI4bygvX"
      },
      "execution_count": null,
      "outputs": []
    },
    {
      "cell_type": "code",
      "source": [
        "# # 한글이 깨지지 않도록 utf-8-sig 인코딩 적용\n",
        "# df_all.to_csv('df_all_final.csv', index=False, encoding='utf-8-sig')\n",
        "\n",
        "# from google.colab import files\n",
        "# files.download('df_all_final.csv')"
      ],
      "metadata": {
        "id": "qAurqD6_0aRK"
      },
      "execution_count": null,
      "outputs": []
    },
    {
      "cell_type": "code",
      "source": [],
      "metadata": {
        "id": "Nj43ZKmAtWly"
      },
      "execution_count": null,
      "outputs": []
    },
    {
      "cell_type": "code",
      "source": [
        "# # 이상치 확인\n",
        "# def detect_outliers_iqr(df, column):\n",
        "#     Q1 = df[column].quantile(0.25)\n",
        "#     Q3 = df[column].quantile(0.75)\n",
        "#     IQR = Q3 - Q1\n",
        "#     lower_bound = Q1 - 1.5 * IQR\n",
        "#     upper_bound = Q3 + 1.5 * IQR\n",
        "#     outliers = df[(df[column] < lower_bound) | (df[column] > upper_bound)]\n",
        "#     print(f\"[{column}] 이상치 개수: {len(outliers)}\")\n",
        "#     return outliers[['ID', column]]\n",
        "\n",
        "# # 분석 대상 컬럼 리스트\n",
        "# target_columns = ['할인금액_R3M', '혜택수혜금액']\n",
        "\n",
        "# # 이상치 탐지 결과 저장\n",
        "# outlier_results = {}\n",
        "\n",
        "# # 각 컬럼별 이상치 확인\n",
        "# for col in target_columns:\n",
        "#     outliers = detect_outliers_iqr(df_all, col)\n",
        "#     outlier_results[col] = outliers"
      ],
      "metadata": {
        "id": "D4_DWhpdr8QT"
      },
      "execution_count": null,
      "outputs": []
    },
    {
      "cell_type": "code",
      "source": [
        "# # 데이터 샘플 추출\n",
        "# # 1. (선택) 데이터 샘플링: df_all에서 500개 샘플 추출\n",
        "# df_all_sample = df_all.sample(n=500, random_state=42)  # 또는 head(n)\n",
        "\n",
        "# # 2. CSV 파일로 저장 (인코딩은 Excel 호환 위해 cp949 사용)\n",
        "# df_all_sample.to_csv('df_all_sample.csv', index=False, encoding='cp949')\n",
        "\n",
        "# # 3. 로컬로 다운로드\n",
        "# from google.colab import files\n",
        "# files.download('df_all_sample.csv')"
      ],
      "metadata": {
        "id": "U8VzP54Q505z"
      },
      "execution_count": null,
      "outputs": []
    },
    {
      "cell_type": "code",
      "source": [
        "# # 1. 컬럼명 확인\n",
        "# print(df_all_sample.columns.tolist())\n",
        "\n",
        "# # 2. 데이터 미리보기\n",
        "# print(df_all_sample.head(3))"
      ],
      "metadata": {
        "id": "RBbJ6B-rJcBA"
      },
      "execution_count": null,
      "outputs": []
    },
    {
      "cell_type": "code",
      "source": [
        "# from statsmodels.stats.outliers_influence import variance_inflation_factor\n",
        "# from statsmodels.tools.tools import add_constant\n",
        "\n",
        "# def calculate_vif(X):\n",
        "#     X = add_constant(X)  # 상수항 추가 (intercept)\n",
        "#     vif_data = pd.DataFrame()\n",
        "#     vif_data[\"feature\"] = X.columns\n",
        "#     vif_data[\"VIF\"] = [variance_inflation_factor(X.values, i) for i in range(X.shape[1])]\n",
        "#     return vif_data"
      ],
      "metadata": {
        "id": "90wU1CDz_L0x"
      },
      "execution_count": null,
      "outputs": []
    },
    {
      "cell_type": "code",
      "source": [
        "# # 수치형 데이터만 다중공선성(VIF)계산\n",
        "# numeric_cols = df_all.select_dtypes(include='number')\n",
        "# vif_result = calculate_vif(numeric_cols)\n",
        "# print(vif_result)"
      ],
      "metadata": {
        "id": "U59vOFTAuRMY"
      },
      "execution_count": null,
      "outputs": []
    },
    {
      "cell_type": "code",
      "source": [],
      "metadata": {
        "id": "TiBBiLHxdzRW"
      },
      "execution_count": null,
      "outputs": []
    },
    {
      "cell_type": "code",
      "source": [],
      "metadata": {
        "id": "oO_dxJAoK5sj"
      },
      "execution_count": null,
      "outputs": []
    },
    {
      "cell_type": "code",
      "source": [
        "# # parquet 파일 열기\n",
        "# df1 = pd.read_parquet(\"201807_test_청구정보.parquet\")\n",
        "\n",
        "# # csv로 저장\n",
        "# df1.to_csv(\"201807_test_청구정보.csv\", index=False)\n"
      ],
      "metadata": {
        "id": "94C9aKHbZSK5"
      },
      "execution_count": null,
      "outputs": []
    },
    {
      "cell_type": "code",
      "source": [
        "# # parquet 파일 열고 csv로 저장\n",
        "# df2 = pd.read_parquet(\"201807_test_청구정보.parquet\")\n",
        "# df2.to_csv(\"201807_test_청구정보.csv\", index=False)\n",
        "\n",
        "# df3 = pd.read_parquet(\"201807_test_청구정보.parquet\")\n",
        "# df3.to_csv(\"201807_test_청구정보.csv\", index=False)\n",
        "\n",
        "# df4 = pd.read_parquet(\"201807_test_청구정보.parquet\")\n",
        "# df4.to_csv(\"201807_test_청구정보.csv\", index=False)\n",
        "\n",
        "# df5 = pd.read_parquet(\"201807_test_청구정보.parquet\")\n",
        "# df5.to_csv(\"201807_test_청구정보.csv\", index=False)\n",
        "\n",
        "# df6 = pd.read_parquet(\"201807_test_청구정보.parquet\")\n",
        "# df6.to_csv(\"201807_test_청구정보.csv\", index=False)"
      ],
      "metadata": {
        "id": "wyQz8YNjjaE4"
      },
      "execution_count": null,
      "outputs": []
    },
    {
      "cell_type": "code",
      "source": [],
      "metadata": {
        "id": "-NLiTu0zncqj"
>>>>>>> origin/main
      },
      "execution_count": null,
      "outputs": []
    }
  ]
}