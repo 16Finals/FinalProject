{
  "nbformat": 4,
  "nbformat_minor": 0,
  "metadata": {
    "colab": {
      "provenance": []
    },
    "kernelspec": {
      "name": "python3",
      "display_name": "Python 3"
    },
    "language_info": {
      "name": "python"
    }
  },
  "cells": [
    {
      "cell_type": "code",
      "source": [
        "!pip install pyarrow"
      ],
      "metadata": {
        "colab": {
          "base_uri": "https://localhost:8080/"
        },
        "id": "Viahr_32XzZs",
        "outputId": "16ae0c3b-22e7-43b6-f4b0-ffb1580eef91"
      },
      "execution_count": 1,
      "outputs": [
        {
          "output_type": "stream",
          "name": "stdout",
          "text": [
            "Requirement already satisfied: pyarrow in /usr/local/lib/python3.11/dist-packages (18.1.0)\n"
          ]
        }
      ]
    },
    {
      "cell_type": "code",
      "source": [
        "!pip install catboost"
      ],
      "metadata": {
        "colab": {
          "base_uri": "https://localhost:8080/"
        },
        "id": "lUqzQffmX1Al",
        "outputId": "240d7731-d8bc-45f7-fdaf-6147ac5f4a22"
      },
      "execution_count": 2,
      "outputs": [
        {
          "output_type": "stream",
          "name": "stdout",
          "text": [
            "Collecting catboost\n",
            "  Downloading catboost-1.2.8-cp311-cp311-manylinux2014_x86_64.whl.metadata (1.2 kB)\n",
            "Requirement already satisfied: graphviz in /usr/local/lib/python3.11/dist-packages (from catboost) (0.21)\n",
            "Requirement already satisfied: matplotlib in /usr/local/lib/python3.11/dist-packages (from catboost) (3.10.0)\n",
            "Requirement already satisfied: numpy<3.0,>=1.16.0 in /usr/local/lib/python3.11/dist-packages (from catboost) (2.0.2)\n",
            "Requirement already satisfied: pandas>=0.24 in /usr/local/lib/python3.11/dist-packages (from catboost) (2.2.2)\n",
            "Requirement already satisfied: scipy in /usr/local/lib/python3.11/dist-packages (from catboost) (1.15.3)\n",
            "Requirement already satisfied: plotly in /usr/local/lib/python3.11/dist-packages (from catboost) (5.24.1)\n",
            "Requirement already satisfied: six in /usr/local/lib/python3.11/dist-packages (from catboost) (1.17.0)\n",
            "Requirement already satisfied: python-dateutil>=2.8.2 in /usr/local/lib/python3.11/dist-packages (from pandas>=0.24->catboost) (2.9.0.post0)\n",
            "Requirement already satisfied: pytz>=2020.1 in /usr/local/lib/python3.11/dist-packages (from pandas>=0.24->catboost) (2025.2)\n",
            "Requirement already satisfied: tzdata>=2022.7 in /usr/local/lib/python3.11/dist-packages (from pandas>=0.24->catboost) (2025.2)\n",
            "Requirement already satisfied: contourpy>=1.0.1 in /usr/local/lib/python3.11/dist-packages (from matplotlib->catboost) (1.3.2)\n",
            "Requirement already satisfied: cycler>=0.10 in /usr/local/lib/python3.11/dist-packages (from matplotlib->catboost) (0.12.1)\n",
            "Requirement already satisfied: fonttools>=4.22.0 in /usr/local/lib/python3.11/dist-packages (from matplotlib->catboost) (4.58.4)\n",
            "Requirement already satisfied: kiwisolver>=1.3.1 in /usr/local/lib/python3.11/dist-packages (from matplotlib->catboost) (1.4.8)\n",
            "Requirement already satisfied: packaging>=20.0 in /usr/local/lib/python3.11/dist-packages (from matplotlib->catboost) (24.2)\n",
            "Requirement already satisfied: pillow>=8 in /usr/local/lib/python3.11/dist-packages (from matplotlib->catboost) (11.2.1)\n",
            "Requirement already satisfied: pyparsing>=2.3.1 in /usr/local/lib/python3.11/dist-packages (from matplotlib->catboost) (3.2.3)\n",
            "Requirement already satisfied: tenacity>=6.2.0 in /usr/local/lib/python3.11/dist-packages (from plotly->catboost) (8.5.0)\n",
            "Downloading catboost-1.2.8-cp311-cp311-manylinux2014_x86_64.whl (99.2 MB)\n",
            "\u001b[2K   \u001b[90m━━━━━━━━━━━━━━━━━━━━━━━━━━━━━━━━━━━━━━━━\u001b[0m \u001b[32m99.2/99.2 MB\u001b[0m \u001b[31m8.2 MB/s\u001b[0m eta \u001b[36m0:00:00\u001b[0m\n",
            "\u001b[?25hInstalling collected packages: catboost\n",
            "Successfully installed catboost-1.2.8\n"
          ]
        }
      ]
    },
    {
      "cell_type": "code",
      "source": [
        "# 필수 라이브러리 import\n",
        "import pandas as pd\n",
        "import numpy as np\n",
        "import matplotlib.pyplot as plt\n",
        "import seaborn as sns\n",
        "import missingno\n",
        "from sklearn.preprocessing import StandardScaler\n",
        "\n",
        "import gc"
      ],
      "metadata": {
        "id": "4ugH293JhWF-"
      },
      "execution_count": 3,
      "outputs": []
    },
    {
      "cell_type": "code",
      "source": [
        "from google.colab import drive\n",
        "drive.mount('/content/drive')\n",
        "\n",
        "data_root = '/content/drive/MyDrive/Colab Notebooks/final_project/data/'"
      ],
      "metadata": {
        "colab": {
          "base_uri": "https://localhost:8080/"
        },
        "id": "6iKLdc4wuDAK",
        "outputId": "0590f4ce-7ed4-4c61-ed41-c6da4fff9289"
      },
      "execution_count": 4,
      "outputs": [
        {
          "output_type": "stream",
          "name": "stdout",
          "text": [
            "Mounted at /content/drive\n"
          ]
        }
      ]
    },
    {
      "cell_type": "code",
      "source": [
        "# pyarrow 설치 (parquet 파일 읽기용)\n",
        "!pip install pyarrow\n",
        "\n",
        "# 경고 뜨지 않게 설정\n",
        "import warnings\n",
        "warnings.filterwarnings('ignore')"
      ],
      "metadata": {
        "id": "q5pHMJEOuYQj",
        "colab": {
          "base_uri": "https://localhost:8080/"
        },
        "outputId": "ea23099c-316a-41a7-9211-72e227eebefa"
      },
      "execution_count": 5,
      "outputs": [
        {
          "output_type": "stream",
          "name": "stdout",
          "text": [
            "Requirement already satisfied: pyarrow in /usr/local/lib/python3.11/dist-packages (18.1.0)\n"
          ]
        }
      ]
    },
    {
      "cell_type": "code",
      "source": [
        "# 데이터 로드: 6개월 신용정보 parquet 파일 병합\n",
        "df21 = pd.read_parquet(data_root + 'test/2.신용정보/201807_test_신용정보.parquet')\n",
        "df22 = pd.read_parquet(data_root + 'test/2.신용정보/201808_test_신용정보.parquet')\n",
        "df23 = pd.read_parquet(data_root + 'test/2.신용정보/201809_test_신용정보.parquet')\n",
        "df24 = pd.read_parquet(data_root + 'test/2.신용정보/201810_test_신용정보.parquet')\n",
        "df25 = pd.read_parquet(data_root + 'test/2.신용정보/201811_test_신용정보.parquet')\n",
        "df26 = pd.read_parquet(data_root + 'test/2.신용정보/201812_test_신용정보.parquet')"
      ],
      "metadata": {
        "id": "ktjWILaVh9nc"
      },
      "execution_count": 6,
      "outputs": []
    },
    {
      "cell_type": "code",
      "source": [
        "df2 = pd.concat([df21, df22, df23, df24, df25, df26])\n",
        "print(\"병합 완료: \", df2.shape)"
      ],
      "metadata": {
        "id": "Z20hM6nvt_7k",
        "colab": {
          "base_uri": "https://localhost:8080/"
        },
        "outputId": "be585bdf-ac73-483e-c1c8-1d39e62eae80"
      },
      "execution_count": 7,
      "outputs": [
        {
          "output_type": "stream",
          "name": "stdout",
          "text": [
            "병합 완료:  (600000, 42)\n"
          ]
        }
      ]
    },
    {
      "cell_type": "code",
      "source": [
        "# 불필요한 컬럼 제거\n",
        "cols_to_drop = ['자발한도감액후경과월', '강제한도감액후경과월', '한도증액후경과월', '카드론동의여부', '한도심사요청후경과월', '한도심사거절후경과월']\n",
        "df2.drop(columns=cols_to_drop, inplace=True, errors='ignore')\n",
        "print(\"컬럼 제거 완료\")"
      ],
      "metadata": {
        "colab": {
          "base_uri": "https://localhost:8080/"
        },
        "id": "eRY1jvLyh9j7",
        "outputId": "146bfa5b-2b09-4a73-9478-fd664ec02781"
      },
      "execution_count": 8,
      "outputs": [
        {
          "output_type": "stream",
          "name": "stdout",
          "text": [
            "컬럼 제거 완료\n"
          ]
        }
      ]
    },
    {
      "cell_type": "code",
      "source": [
        "# 데이터 개요 확인\n",
        "df2.info()"
      ],
      "metadata": {
        "colab": {
          "base_uri": "https://localhost:8080/"
        },
        "id": "rmeIQcSsIwmX",
        "outputId": "32591846-8f18-4ca7-99bb-d667f9a46810"
      },
      "execution_count": 9,
      "outputs": [
        {
          "output_type": "stream",
          "name": "stdout",
          "text": [
            "<class 'pandas.core.frame.DataFrame'>\n",
            "Index: 600000 entries, 0 to 99999\n",
            "Data columns (total 36 columns):\n",
            " #   Column          Non-Null Count   Dtype  \n",
            "---  ------          --------------   -----  \n",
            " 0   기준년월            600000 non-null  int64  \n",
            " 1   ID              600000 non-null  object \n",
            " 2   최초한도금액          600000 non-null  int64  \n",
            " 3   카드이용한도금액        600000 non-null  int64  \n",
            " 4   CA한도금액          600000 non-null  int64  \n",
            " 5   일시상환론한도금액       600000 non-null  int64  \n",
            " 6   월상환론한도금액        600000 non-null  int64  \n",
            " 7   CA이자율_할인전       600000 non-null  float64\n",
            " 8   CL이자율_할인전       600000 non-null  float64\n",
            " 9   RV일시불이자율_할인전    600000 non-null  float64\n",
            " 10  RV현금서비스이자율_할인전  600000 non-null  float64\n",
            " 11  RV신청일자          112482 non-null  float64\n",
            " 12  RV약정청구율         600000 non-null  float64\n",
            " 13  RV최소결제비율        600000 non-null  float64\n",
            " 14  자발한도감액횟수_R12M   600000 non-null  object \n",
            " 15  자발한도감액금액_R12M   600000 non-null  int64  \n",
            " 16  강제한도감액횟수_R12M   600000 non-null  int64  \n",
            " 17  강제한도감액금액_R12M   600000 non-null  int64  \n",
            " 18  한도증액횟수_R12M     600000 non-null  object \n",
            " 19  한도증액금액_R12M     600000 non-null  int64  \n",
            " 20  상향가능한도금액        600000 non-null  int64  \n",
            " 21  상향가능CA한도금액      600000 non-null  int64  \n",
            " 22  월상환론상향가능한도금액    600000 non-null  int64  \n",
            " 23  RV전환가능여부        592366 non-null  object \n",
            " 24  일시불ONLY전환가능여부   600000 non-null  int64  \n",
            " 25  카드이용한도금액_B1M    600000 non-null  int64  \n",
            " 26  카드이용한도금액_B2M    600000 non-null  int64  \n",
            " 27  특별한도보유여부_R3M    600000 non-null  int64  \n",
            " 28  연체감액여부_R3M      600000 non-null  int64  \n",
            " 29  한도심사요청건수        600000 non-null  object \n",
            " 30  한도요청거절건수        600000 non-null  int64  \n",
            " 31  시장단기연체여부_R6M    600000 non-null  int64  \n",
            " 32  시장단기연체여부_R3M    600000 non-null  int64  \n",
            " 33  시장연체상환여부_R6M    600000 non-null  int64  \n",
            " 34  시장연체상환여부_R3M    600000 non-null  int64  \n",
            " 35  rv최초시작후경과일      600000 non-null  int64  \n",
            "dtypes: float64(7), int64(24), object(5)\n",
            "memory usage: 169.4+ MB\n"
          ]
        }
      ]
    },
    {
      "cell_type": "code",
      "source": [
        "# 결측치 비율 너무 높아서(81%) RV신청일자 컬럼 삭제\n",
        "cols_to_drop = ['RV신청일자']\n",
        "df2.drop(columns=cols_to_drop, inplace=True, errors='ignore')\n",
        "print(\"컬럼 제거 완료\")"
      ],
      "metadata": {
        "colab": {
          "base_uri": "https://localhost:8080/"
        },
        "id": "bUIuCoyNlzds",
        "outputId": "29dbc399-a99e-438b-d28c-de0415a0e8d0"
      },
      "execution_count": 10,
      "outputs": [
        {
          "output_type": "stream",
          "name": "stdout",
          "text": [
            "컬럼 제거 완료\n"
          ]
        }
      ]
    },
    {
      "cell_type": "code",
      "source": [
        "# RV전환가능여부 결측치를 최빈값 'Z'로 대체\n",
        "df2['RV전환가능여부'] = df2['RV전환가능여부'].fillna('Z')"
      ],
      "metadata": {
        "id": "iyhumZ8mZBn2"
      },
      "execution_count": 11,
      "outputs": []
    },
    {
      "cell_type": "code",
      "source": [
        "df2.info()"
      ],
      "metadata": {
        "colab": {
          "base_uri": "https://localhost:8080/"
        },
        "id": "utrEN_YVmDs4",
        "outputId": "e214e13b-aa77-4cdb-cd52-f68d4aa2b92b"
      },
      "execution_count": 12,
      "outputs": [
        {
          "output_type": "stream",
          "name": "stdout",
          "text": [
            "<class 'pandas.core.frame.DataFrame'>\n",
            "Index: 600000 entries, 0 to 99999\n",
            "Data columns (total 35 columns):\n",
            " #   Column          Non-Null Count   Dtype  \n",
            "---  ------          --------------   -----  \n",
            " 0   기준년월            600000 non-null  int64  \n",
            " 1   ID              600000 non-null  object \n",
            " 2   최초한도금액          600000 non-null  int64  \n",
            " 3   카드이용한도금액        600000 non-null  int64  \n",
            " 4   CA한도금액          600000 non-null  int64  \n",
            " 5   일시상환론한도금액       600000 non-null  int64  \n",
            " 6   월상환론한도금액        600000 non-null  int64  \n",
            " 7   CA이자율_할인전       600000 non-null  float64\n",
            " 8   CL이자율_할인전       600000 non-null  float64\n",
            " 9   RV일시불이자율_할인전    600000 non-null  float64\n",
            " 10  RV현금서비스이자율_할인전  600000 non-null  float64\n",
            " 11  RV약정청구율         600000 non-null  float64\n",
            " 12  RV최소결제비율        600000 non-null  float64\n",
            " 13  자발한도감액횟수_R12M   600000 non-null  object \n",
            " 14  자발한도감액금액_R12M   600000 non-null  int64  \n",
            " 15  강제한도감액횟수_R12M   600000 non-null  int64  \n",
            " 16  강제한도감액금액_R12M   600000 non-null  int64  \n",
            " 17  한도증액횟수_R12M     600000 non-null  object \n",
            " 18  한도증액금액_R12M     600000 non-null  int64  \n",
            " 19  상향가능한도금액        600000 non-null  int64  \n",
            " 20  상향가능CA한도금액      600000 non-null  int64  \n",
            " 21  월상환론상향가능한도금액    600000 non-null  int64  \n",
            " 22  RV전환가능여부        600000 non-null  object \n",
            " 23  일시불ONLY전환가능여부   600000 non-null  int64  \n",
            " 24  카드이용한도금액_B1M    600000 non-null  int64  \n",
            " 25  카드이용한도금액_B2M    600000 non-null  int64  \n",
            " 26  특별한도보유여부_R3M    600000 non-null  int64  \n",
            " 27  연체감액여부_R3M      600000 non-null  int64  \n",
            " 28  한도심사요청건수        600000 non-null  object \n",
            " 29  한도요청거절건수        600000 non-null  int64  \n",
            " 30  시장단기연체여부_R6M    600000 non-null  int64  \n",
            " 31  시장단기연체여부_R3M    600000 non-null  int64  \n",
            " 32  시장연체상환여부_R6M    600000 non-null  int64  \n",
            " 33  시장연체상환여부_R3M    600000 non-null  int64  \n",
            " 34  rv최초시작후경과일      600000 non-null  int64  \n",
            "dtypes: float64(6), int64(24), object(5)\n",
            "memory usage: 164.8+ MB\n"
          ]
        }
      ]
    },
    {
      "cell_type": "code",
      "source": [
        "# 결측치 재확인\n",
        "missing_cols = df2.columns[df2.isnull().any()]\n",
        "missing_cols"
      ],
      "metadata": {
        "colab": {
          "base_uri": "https://localhost:8080/"
        },
        "id": "IH6kI5FNZLzS",
        "outputId": "ab7d8d01-34bf-4e77-dd0f-f1178fbb17f3"
      },
      "execution_count": 13,
      "outputs": [
        {
          "output_type": "execute_result",
          "data": {
            "text/plain": [
              "Index([], dtype='object')"
            ]
          },
          "metadata": {},
          "execution_count": 13
        }
      ]
    },
    {
      "cell_type": "markdown",
      "source": [
        "vif 기준 피처 제거"
      ],
      "metadata": {
        "id": "avLx9VPKZTld"
      }
    },
    {
      "cell_type": "code",
      "source": [
        "from statsmodels.stats.outliers_influence import variance_inflation_factor\n",
        "import statsmodels.api as sm\n",
        "\n",
        "# 수치형 컬럼만 선택\n",
        "numeric_cols = df2.select_dtypes(include=['float64', 'int64']).columns.tolist()\n",
        "X_vif = df2[numeric_cols].dropna()\n",
        "\n",
        "# VIF 계산\n",
        "vif_data = pd.DataFrame()\n",
        "vif_data[\"Feature\"] = X_vif.columns\n",
        "vif_data[\"VIF\"] = [variance_inflation_factor(X_vif.values, i) for i in range(X_vif.shape[1])]\n",
        "\n",
        "# VIF가 10 이상인 피처 확인\n",
        "high_vif_features = vif_data[vif_data[\"VIF\"] > 10][\"Feature\"].tolist()\n",
        "print(\"VIF > 10:\", high_vif_features)"
      ],
      "metadata": {
        "id": "efcWUyNBoKJi",
        "colab": {
          "base_uri": "https://localhost:8080/"
        },
        "outputId": "ee930d7d-68bf-4f45-e5bb-a7ed2b6b3a23"
      },
      "execution_count": 15,
      "outputs": [
        {
          "output_type": "stream",
          "name": "stdout",
          "text": [
            "VIF > 10: ['기준년월', '카드이용한도금액', 'RV일시불이자율_할인전', 'RV약정청구율', '상향가능한도금액', '상향가능CA한도금액', '카드이용한도금액_B1M', '카드이용한도금액_B2M', 'rv최초시작후경과일']\n"
          ]
        }
      ]
    },
    {
      "cell_type": "code",
      "source": [
        "# 1. 기준년월 컬럼을 제외한 VIF 10 이상 컬럼만 제거 대상에 포함\n",
        "features_to_drop = [col for col in high_vif_features if col != '기준년월']\n",
        "\n",
        "# 2. 컬럼 제거\n",
        "df2 = df2.drop(columns=features_to_drop)\n",
        "print(\"제거된 컬럼 목록:\", features_to_drop)"
      ],
      "metadata": {
        "colab": {
          "base_uri": "https://localhost:8080/"
        },
        "id": "7WykT4B6h9bP",
        "outputId": "137fe2e7-3d1e-4806-e590-c0c4ee034fa3"
      },
      "execution_count": 16,
      "outputs": [
        {
          "output_type": "stream",
          "name": "stdout",
          "text": [
            "제거된 컬럼 목록: ['카드이용한도금액', 'RV일시불이자율_할인전', 'RV약정청구율', '상향가능한도금액', '상향가능CA한도금액', '카드이용한도금액_B1M', '카드이용한도금액_B2M', 'rv최초시작후경과일']\n"
          ]
        }
      ]
    },
    {
      "cell_type": "code",
      "source": [
        "# 기준년월이 여전히 남아있는지 확인\n",
        "print(\"'기준년월' in df2.columns:\", '기준년월' in df2.columns)"
      ],
      "metadata": {
        "id": "Muev0I4DIHwM",
        "colab": {
          "base_uri": "https://localhost:8080/"
        },
        "outputId": "5ac1d948-6889-4feb-dadd-0499c28d145c"
      },
      "execution_count": 17,
      "outputs": [
        {
          "output_type": "stream",
          "name": "stdout",
          "text": [
            "'기준년월' in df2.columns: True\n"
          ]
        }
      ]
    },
    {
      "cell_type": "code",
      "source": [
        "df2.info()"
      ],
      "metadata": {
        "id": "M4W3ogcB6cTq",
        "colab": {
          "base_uri": "https://localhost:8080/"
        },
        "outputId": "9891b36d-09fa-4333-98d8-6b805acacb85"
      },
      "execution_count": 18,
      "outputs": [
        {
          "output_type": "stream",
          "name": "stdout",
          "text": [
            "<class 'pandas.core.frame.DataFrame'>\n",
            "Index: 600000 entries, 0 to 99999\n",
            "Data columns (total 27 columns):\n",
            " #   Column          Non-Null Count   Dtype  \n",
            "---  ------          --------------   -----  \n",
            " 0   기준년월            600000 non-null  int64  \n",
            " 1   ID              600000 non-null  object \n",
            " 2   최초한도금액          600000 non-null  int64  \n",
            " 3   CA한도금액          600000 non-null  int64  \n",
            " 4   일시상환론한도금액       600000 non-null  int64  \n",
            " 5   월상환론한도금액        600000 non-null  int64  \n",
            " 6   CA이자율_할인전       600000 non-null  float64\n",
            " 7   CL이자율_할인전       600000 non-null  float64\n",
            " 8   RV현금서비스이자율_할인전  600000 non-null  float64\n",
            " 9   RV최소결제비율        600000 non-null  float64\n",
            " 10  자발한도감액횟수_R12M   600000 non-null  object \n",
            " 11  자발한도감액금액_R12M   600000 non-null  int64  \n",
            " 12  강제한도감액횟수_R12M   600000 non-null  int64  \n",
            " 13  강제한도감액금액_R12M   600000 non-null  int64  \n",
            " 14  한도증액횟수_R12M     600000 non-null  object \n",
            " 15  한도증액금액_R12M     600000 non-null  int64  \n",
            " 16  월상환론상향가능한도금액    600000 non-null  int64  \n",
            " 17  RV전환가능여부        600000 non-null  object \n",
            " 18  일시불ONLY전환가능여부   600000 non-null  int64  \n",
            " 19  특별한도보유여부_R3M    600000 non-null  int64  \n",
            " 20  연체감액여부_R3M      600000 non-null  int64  \n",
            " 21  한도심사요청건수        600000 non-null  object \n",
            " 22  한도요청거절건수        600000 non-null  int64  \n",
            " 23  시장단기연체여부_R6M    600000 non-null  int64  \n",
            " 24  시장단기연체여부_R3M    600000 non-null  int64  \n",
            " 25  시장연체상환여부_R6M    600000 non-null  int64  \n",
            " 26  시장연체상환여부_R3M    600000 non-null  int64  \n",
            "dtypes: float64(4), int64(18), object(5)\n",
            "memory usage: 128.2+ MB\n"
          ]
        }
      ]
    },
    {
      "cell_type": "code",
      "source": [
        "# Parquet 저장(세그먼트 포함)\n",
        "df2.to_parquet(\"test_2번eda.parquet\", index=False)\n",
        "\n",
        "# 파일 다운로드\n",
        "from google.colab import files\n",
        "files.download(\"test_2번eda.parquet\")"
      ],
      "metadata": {
        "id": "U8VzP54Q505z",
        "colab": {
          "base_uri": "https://localhost:8080/",
          "height": 17
        },
        "outputId": "63a6d617-15d7-4720-bcde-215e6f5152ea"
      },
      "execution_count": 19,
      "outputs": [
        {
          "output_type": "display_data",
          "data": {
            "text/plain": [
              "<IPython.core.display.Javascript object>"
            ],
            "application/javascript": [
              "\n",
              "    async function download(id, filename, size) {\n",
              "      if (!google.colab.kernel.accessAllowed) {\n",
              "        return;\n",
              "      }\n",
              "      const div = document.createElement('div');\n",
              "      const label = document.createElement('label');\n",
              "      label.textContent = `Downloading \"${filename}\": `;\n",
              "      div.appendChild(label);\n",
              "      const progress = document.createElement('progress');\n",
              "      progress.max = size;\n",
              "      div.appendChild(progress);\n",
              "      document.body.appendChild(div);\n",
              "\n",
              "      const buffers = [];\n",
              "      let downloaded = 0;\n",
              "\n",
              "      const channel = await google.colab.kernel.comms.open(id);\n",
              "      // Send a message to notify the kernel that we're ready.\n",
              "      channel.send({})\n",
              "\n",
              "      for await (const message of channel.messages) {\n",
              "        // Send a message to notify the kernel that we're ready.\n",
              "        channel.send({})\n",
              "        if (message.buffers) {\n",
              "          for (const buffer of message.buffers) {\n",
              "            buffers.push(buffer);\n",
              "            downloaded += buffer.byteLength;\n",
              "            progress.value = downloaded;\n",
              "          }\n",
              "        }\n",
              "      }\n",
              "      const blob = new Blob(buffers, {type: 'application/binary'});\n",
              "      const a = document.createElement('a');\n",
              "      a.href = window.URL.createObjectURL(blob);\n",
              "      a.download = filename;\n",
              "      div.appendChild(a);\n",
              "      a.click();\n",
              "      div.remove();\n",
              "    }\n",
              "  "
            ]
          },
          "metadata": {}
        },
        {
          "output_type": "display_data",
          "data": {
            "text/plain": [
              "<IPython.core.display.Javascript object>"
            ],
            "application/javascript": [
              "download(\"download_8ee9e2e7-c71c-4b9b-bc0a-6fa715aaace3\", \"test_2\\ubc88eda.parquet\", 22542488)"
            ]
          },
          "metadata": {}
        }
      ]
    },
    {
      "cell_type": "markdown",
      "source": [
        "인코딩"
      ],
      "metadata": {
        "id": "dII7UVr6Zq0J"
      }
    },
    {
      "cell_type": "code",
      "source": [
        "from sklearn.preprocessing import LabelEncoder\n",
        "\n",
        "# 범주형 컬럼 확인 및 인코딩\n",
        "categorical_cols = df2.select_dtypes(include=['object', 'category']).columns\n",
        "\n",
        "# Label Encoding 수행\n",
        "for col in categorical_cols:\n",
        "    le = LabelEncoder()\n",
        "    df2[col] = le.fit_transform(df2[col].astype(str)) # 결측치 등을 문자열 'nan'으로 처리하여 인코딩\n",
        "\n",
        "print(\"범주형 컬럼 인코딩 완료\")\n",
        "\n",
        "# Parquet 저장\n",
        "df2.to_parquet(\"test_2번eda_encoded.parquet\", index=False)\n",
        "\n",
        "# 파일 다운로드\n",
        "from google.colab import files\n",
        "files.download(\"test_2번eda_encoded.parquet\")"
      ],
      "metadata": {
        "id": "RBbJ6B-rJcBA",
        "colab": {
          "base_uri": "https://localhost:8080/",
          "height": 35
        },
        "outputId": "89781736-7e6f-428c-d012-1394cf21b0a2"
      },
      "execution_count": 20,
      "outputs": [
        {
          "output_type": "stream",
          "name": "stdout",
          "text": [
            "범주형 컬럼 인코딩 완료\n"
          ]
        },
        {
          "output_type": "display_data",
          "data": {
            "text/plain": [
              "<IPython.core.display.Javascript object>"
            ],
            "application/javascript": [
              "\n",
              "    async function download(id, filename, size) {\n",
              "      if (!google.colab.kernel.accessAllowed) {\n",
              "        return;\n",
              "      }\n",
              "      const div = document.createElement('div');\n",
              "      const label = document.createElement('label');\n",
              "      label.textContent = `Downloading \"${filename}\": `;\n",
              "      div.appendChild(label);\n",
              "      const progress = document.createElement('progress');\n",
              "      progress.max = size;\n",
              "      div.appendChild(progress);\n",
              "      document.body.appendChild(div);\n",
              "\n",
              "      const buffers = [];\n",
              "      let downloaded = 0;\n",
              "\n",
              "      const channel = await google.colab.kernel.comms.open(id);\n",
              "      // Send a message to notify the kernel that we're ready.\n",
              "      channel.send({})\n",
              "\n",
              "      for await (const message of channel.messages) {\n",
              "        // Send a message to notify the kernel that we're ready.\n",
              "        channel.send({})\n",
              "        if (message.buffers) {\n",
              "          for (const buffer of message.buffers) {\n",
              "            buffers.push(buffer);\n",
              "            downloaded += buffer.byteLength;\n",
              "            progress.value = downloaded;\n",
              "          }\n",
              "        }\n",
              "      }\n",
              "      const blob = new Blob(buffers, {type: 'application/binary'});\n",
              "      const a = document.createElement('a');\n",
              "      a.href = window.URL.createObjectURL(blob);\n",
              "      a.download = filename;\n",
              "      div.appendChild(a);\n",
              "      a.click();\n",
              "      div.remove();\n",
              "    }\n",
              "  "
            ]
          },
          "metadata": {}
        },
        {
          "output_type": "display_data",
          "data": {
            "text/plain": [
              "<IPython.core.display.Javascript object>"
            ],
            "application/javascript": [
              "download(\"download_20434cbc-7cd3-4ab4-8707-9dfd0a6ba2d9\", \"test_2\\ubc88eda_encoded.parquet\", 21115182)"
            ]
          },
          "metadata": {}
        }
      ]
    },
    {
      "cell_type": "code",
      "source": [],
      "metadata": {
        "id": "fqBCbrXb9SOg"
      },
      "execution_count": null,
      "outputs": []
    }
  ]
}