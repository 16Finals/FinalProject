{
  "nbformat": 4,
  "nbformat_minor": 0,
  "metadata": {
    "colab": {
      "provenance": []
    },
    "kernelspec": {
      "name": "python3",
      "display_name": "Python 3"
    },
    "language_info": {
      "name": "python"
    }
  },
  "cells": [
    {
      "cell_type": "code",
      "source": [
        "# 필수 라이브러리 import\n",
        "import pandas as pd\n",
        "import numpy as np\n",
        "import matplotlib.pyplot as plt\n",
        "import seaborn as sns\n",
        "import missingno\n",
        "from sklearn.preprocessing import StandardScaler"
      ],
      "metadata": {
        "id": "4ugH293JhWF-"
      },
      "execution_count": 1,
      "outputs": []
    },
    {
      "cell_type": "code",
      "source": [
        "from google.colab import drive\n",
        "drive.mount('/content/drive')"
      ],
      "metadata": {
        "colab": {
          "base_uri": "https://localhost:8080/"
        },
        "id": "6iKLdc4wuDAK",
        "outputId": "5a81d90e-7cb5-417f-9a84-b9cc4a5d20eb"
      },
      "execution_count": 2,
      "outputs": [
        {
          "output_type": "stream",
          "name": "stdout",
          "text": [
            "Mounted at /content/drive\n"
          ]
        }
      ]
    },
    {
      "cell_type": "code",
      "source": [
        "# cp -r /content/drive/MyDrive/Colab\\ Notebooks/final_project/data /content"
      ],
      "metadata": {
        "id": "0ldqkjsTzgYA"
      },
      "execution_count": null,
      "outputs": []
    },
    {
      "cell_type": "code",
      "source": [
        "# 파일 현재 위치\n",
        "!pwd"
      ],
      "metadata": {
        "id": "q5pHMJEOuYQj",
        "colab": {
          "base_uri": "https://localhost:8080/"
        },
        "outputId": "0444f82c-c08c-42ed-c42c-e5a325e28f4d"
      },
      "execution_count": 3,
      "outputs": [
        {
          "output_type": "stream",
          "name": "stdout",
          "text": [
            "/content\n"
          ]
        }
      ]
    },
    {
      "cell_type": "code",
      "source": [
        "cp -r /content/drive/MyDrive/Colab\\ Notebooks/final_project/data /content"
      ],
      "metadata": {
        "id": "uIOz6frir-Eq"
      },
      "execution_count": 4,
      "outputs": []
    },
    {
      "cell_type": "code",
      "source": [
        "# !sudo apt-get install -y fonts-nanum\n",
        "# !sudo fc-cache -fv\n",
        "# !rm ~/.cache/matplotlib -rf"
      ],
      "metadata": {
        "id": "9Q7OXz80v1pe"
      },
      "execution_count": null,
      "outputs": []
    },
    {
      "cell_type": "code",
      "source": [
        "# pyarrow 설치 (parquet 파일 읽기용)\n",
        "!pip install pyarrow\n",
        "\n",
        "# 경고 뜨지 않게 설정\n",
        "import warnings\n",
        "warnings.filterwarnings('ignore')"
      ],
      "metadata": {
        "colab": {
          "base_uri": "https://localhost:8080/"
        },
        "id": "wxiMha7ih9qu",
        "outputId": "7848ee37-241a-4522-f451-cb6b59639307"
      },
      "execution_count": 5,
      "outputs": [
        {
          "output_type": "stream",
          "name": "stdout",
          "text": [
            "Requirement already satisfied: pyarrow in /usr/local/lib/python3.11/dist-packages (18.1.0)\n"
          ]
        }
      ]
    },
    {
      "cell_type": "code",
      "source": [
        "import pyarrow.parquet as pq\n",
        "\n",
        "# 의심되는 파일이 실제 parquet인지 확인\n",
        "pq.ParquetFile('data/test/2.신용정보/201807_test_신용정보.parquet')"
      ],
      "metadata": {
        "colab": {
          "base_uri": "https://localhost:8080/"
        },
        "id": "W2dc4Lh_rmKl",
        "outputId": "2c69c75d-410b-4a1f-c1e9-e5f7adb639b7"
      },
      "execution_count": 7,
      "outputs": [
        {
          "output_type": "execute_result",
          "data": {
            "text/plain": [
              "<pyarrow.parquet.core.ParquetFile at 0x798796383610>"
            ]
          },
          "metadata": {},
          "execution_count": 7
        }
      ]
    },
    {
      "cell_type": "code",
      "source": [
        "path = 'data/test/2.신용정보/'\n"
      ],
      "metadata": {
        "id": "KaRtLU4pEkA_"
      },
      "execution_count": 8,
      "outputs": []
    },
    {
      "cell_type": "code",
      "source": [
        "# 데이터 로드: 6개월 신용정보 parquet 파일 병합\n",
        "file_list = [\n",
        "    '201807_test_신용정보.parquet',\n",
        "    '201808_test_신용정보.parquet',\n",
        "    '201809_test_신용정보.parquet',\n",
        "    '201810_test_신용정보.parquet',\n",
        "    '201811_test_신용정보.parquet',\n",
        "    '201812_test_신용정보.parquet'\n",
        "]\n",
        "\n",
        "df_all = pd.concat([pd.read_parquet(path + f) for f in file_list], ignore_index=True)\n",
        "print(\"병합 완료: \", df_all.shape)"
      ],
      "metadata": {
        "colab": {
          "base_uri": "https://localhost:8080/"
        },
        "id": "ktjWILaVh9nc",
        "outputId": "a4c74d00-f463-4a64-9212-68103996743e"
      },
      "execution_count": 9,
      "outputs": [
        {
          "output_type": "stream",
          "name": "stdout",
          "text": [
            "병합 완료:  (600000, 42)\n"
          ]
        }
      ]
    },
    {
      "cell_type": "code",
      "source": [],
      "metadata": {
        "id": "Z20hM6nvt_7k"
      },
      "execution_count": null,
      "outputs": []
    },
    {
      "cell_type": "code",
      "source": [
        "# 불필요한 컬럼 제거\n",
        "cols_to_drop = ['자발한도감액후경과월', '강제한도감액후경과월', '한도증액후경과월', '카드론동의여부', '한도심사요청후경과월', '한도심사거절후경과월']\n",
        "df_all.drop(columns=cols_to_drop, inplace=True, errors='ignore')\n",
        "print(\"컬럼 제거 완료\")"
      ],
      "metadata": {
        "colab": {
          "base_uri": "https://localhost:8080/"
        },
        "id": "eRY1jvLyh9j7",
        "outputId": "11a61257-29fa-4e89-fc0c-bf680f3ab53d"
      },
      "execution_count": 10,
      "outputs": [
        {
          "output_type": "stream",
          "name": "stdout",
          "text": [
            "컬럼 제거 완료\n"
          ]
        }
      ]
    },
    {
      "cell_type": "code",
      "source": [
        "# 데이터 개요 확인\n",
        "df_all.info()"
      ],
      "metadata": {
        "colab": {
          "base_uri": "https://localhost:8080/"
        },
        "id": "rmeIQcSsIwmX",
        "outputId": "757fed6d-f942-4252-c615-0532482ea376"
      },
      "execution_count": 11,
      "outputs": [
        {
          "output_type": "stream",
          "name": "stdout",
          "text": [
            "<class 'pandas.core.frame.DataFrame'>\n",
            "RangeIndex: 600000 entries, 0 to 599999\n",
            "Data columns (total 36 columns):\n",
            " #   Column          Non-Null Count   Dtype  \n",
            "---  ------          --------------   -----  \n",
            " 0   기준년월            600000 non-null  int64  \n",
            " 1   ID              600000 non-null  object \n",
            " 2   최초한도금액          600000 non-null  int64  \n",
            " 3   카드이용한도금액        600000 non-null  int64  \n",
            " 4   CA한도금액          600000 non-null  int64  \n",
            " 5   일시상환론한도금액       600000 non-null  int64  \n",
            " 6   월상환론한도금액        600000 non-null  int64  \n",
            " 7   CA이자율_할인전       600000 non-null  float64\n",
            " 8   CL이자율_할인전       600000 non-null  float64\n",
            " 9   RV일시불이자율_할인전    600000 non-null  float64\n",
            " 10  RV현금서비스이자율_할인전  600000 non-null  float64\n",
            " 11  RV신청일자          112482 non-null  float64\n",
            " 12  RV약정청구율         600000 non-null  float64\n",
            " 13  RV최소결제비율        600000 non-null  float64\n",
            " 14  자발한도감액횟수_R12M   600000 non-null  object \n",
            " 15  자발한도감액금액_R12M   600000 non-null  int64  \n",
            " 16  강제한도감액횟수_R12M   600000 non-null  int64  \n",
            " 17  강제한도감액금액_R12M   600000 non-null  int64  \n",
            " 18  한도증액횟수_R12M     600000 non-null  object \n",
            " 19  한도증액금액_R12M     600000 non-null  int64  \n",
            " 20  상향가능한도금액        600000 non-null  int64  \n",
            " 21  상향가능CA한도금액      600000 non-null  int64  \n",
            " 22  월상환론상향가능한도금액    600000 non-null  int64  \n",
            " 23  RV전환가능여부        592366 non-null  object \n",
            " 24  일시불ONLY전환가능여부   600000 non-null  int64  \n",
            " 25  카드이용한도금액_B1M    600000 non-null  int64  \n",
            " 26  카드이용한도금액_B2M    600000 non-null  int64  \n",
            " 27  특별한도보유여부_R3M    600000 non-null  int64  \n",
            " 28  연체감액여부_R3M      600000 non-null  int64  \n",
            " 29  한도심사요청건수        600000 non-null  object \n",
            " 30  한도요청거절건수        600000 non-null  int64  \n",
            " 31  시장단기연체여부_R6M    600000 non-null  int64  \n",
            " 32  시장단기연체여부_R3M    600000 non-null  int64  \n",
            " 33  시장연체상환여부_R6M    600000 non-null  int64  \n",
            " 34  시장연체상환여부_R3M    600000 non-null  int64  \n",
            " 35  rv최초시작후경과일      600000 non-null  int64  \n",
            "dtypes: float64(7), int64(24), object(5)\n",
            "memory usage: 164.8+ MB\n"
          ]
        }
      ]
    },
    {
      "cell_type": "code",
      "source": [
        "# 결측치 비율 너무 높아서(81%) RV신청일자 컬럼 삭제\n",
        "cols_to_drop = ['RV신청일자']\n",
        "df_all.drop(columns=cols_to_drop, inplace=True, errors='ignore')\n",
        "print(\"컬럼 제거 완료\")"
      ],
      "metadata": {
        "colab": {
          "base_uri": "https://localhost:8080/"
        },
        "id": "bUIuCoyNlzds",
        "outputId": "ab2f5890-cbfd-4a19-e25d-b508cabb404d"
      },
      "execution_count": 12,
      "outputs": [
        {
          "output_type": "stream",
          "name": "stdout",
          "text": [
            "컬럼 제거 완료\n"
          ]
        }
      ]
    },
    {
      "cell_type": "code",
      "source": [
        "df_all.info()"
      ],
      "metadata": {
        "colab": {
          "base_uri": "https://localhost:8080/"
        },
        "id": "utrEN_YVmDs4",
        "outputId": "9eb41248-24b7-4a38-8888-bb656ab372f6"
      },
      "execution_count": 13,
      "outputs": [
        {
          "output_type": "stream",
          "name": "stdout",
          "text": [
            "<class 'pandas.core.frame.DataFrame'>\n",
            "RangeIndex: 600000 entries, 0 to 599999\n",
            "Data columns (total 35 columns):\n",
            " #   Column          Non-Null Count   Dtype  \n",
            "---  ------          --------------   -----  \n",
            " 0   기준년월            600000 non-null  int64  \n",
            " 1   ID              600000 non-null  object \n",
            " 2   최초한도금액          600000 non-null  int64  \n",
            " 3   카드이용한도금액        600000 non-null  int64  \n",
            " 4   CA한도금액          600000 non-null  int64  \n",
            " 5   일시상환론한도금액       600000 non-null  int64  \n",
            " 6   월상환론한도금액        600000 non-null  int64  \n",
            " 7   CA이자율_할인전       600000 non-null  float64\n",
            " 8   CL이자율_할인전       600000 non-null  float64\n",
            " 9   RV일시불이자율_할인전    600000 non-null  float64\n",
            " 10  RV현금서비스이자율_할인전  600000 non-null  float64\n",
            " 11  RV약정청구율         600000 non-null  float64\n",
            " 12  RV최소결제비율        600000 non-null  float64\n",
            " 13  자발한도감액횟수_R12M   600000 non-null  object \n",
            " 14  자발한도감액금액_R12M   600000 non-null  int64  \n",
            " 15  강제한도감액횟수_R12M   600000 non-null  int64  \n",
            " 16  강제한도감액금액_R12M   600000 non-null  int64  \n",
            " 17  한도증액횟수_R12M     600000 non-null  object \n",
            " 18  한도증액금액_R12M     600000 non-null  int64  \n",
            " 19  상향가능한도금액        600000 non-null  int64  \n",
            " 20  상향가능CA한도금액      600000 non-null  int64  \n",
            " 21  월상환론상향가능한도금액    600000 non-null  int64  \n",
            " 22  RV전환가능여부        592366 non-null  object \n",
            " 23  일시불ONLY전환가능여부   600000 non-null  int64  \n",
            " 24  카드이용한도금액_B1M    600000 non-null  int64  \n",
            " 25  카드이용한도금액_B2M    600000 non-null  int64  \n",
            " 26  특별한도보유여부_R3M    600000 non-null  int64  \n",
            " 27  연체감액여부_R3M      600000 non-null  int64  \n",
            " 28  한도심사요청건수        600000 non-null  object \n",
            " 29  한도요청거절건수        600000 non-null  int64  \n",
            " 30  시장단기연체여부_R6M    600000 non-null  int64  \n",
            " 31  시장단기연체여부_R3M    600000 non-null  int64  \n",
            " 32  시장연체상환여부_R6M    600000 non-null  int64  \n",
            " 33  시장연체상환여부_R3M    600000 non-null  int64  \n",
            " 34  rv최초시작후경과일      600000 non-null  int64  \n",
            "dtypes: float64(6), int64(24), object(5)\n",
            "memory usage: 160.2+ MB\n"
          ]
        }
      ]
    },
    {
      "cell_type": "code",
      "source": [
        "# RV신청일자 컬럼 삭제되었으니, RV약정청구율은 그대로 둔다\n",
        "# RV전환가능여부 컬럼 결측치 -> N 값(0)으로 처리\n",
        "df_all['RV전환가능여부'].value_counts(dropna=False)"
      ],
      "metadata": {
        "colab": {
          "base_uri": "https://localhost:8080/",
          "height": 209
        },
        "id": "kJp5dCzMJUFg",
        "outputId": "21f9b2a1-4b14-42ee-c06b-30a9a8440f4d"
      },
      "execution_count": 14,
      "outputs": [
        {
          "output_type": "execute_result",
          "data": {
            "text/plain": [
              "RV전환가능여부\n",
              "Z       490584\n",
              "N       101782\n",
              "None      7634\n",
              "Name: count, dtype: int64"
            ],
            "text/html": [
              "<div>\n",
              "<style scoped>\n",
              "    .dataframe tbody tr th:only-of-type {\n",
              "        vertical-align: middle;\n",
              "    }\n",
              "\n",
              "    .dataframe tbody tr th {\n",
              "        vertical-align: top;\n",
              "    }\n",
              "\n",
              "    .dataframe thead th {\n",
              "        text-align: right;\n",
              "    }\n",
              "</style>\n",
              "<table border=\"1\" class=\"dataframe\">\n",
              "  <thead>\n",
              "    <tr style=\"text-align: right;\">\n",
              "      <th></th>\n",
              "      <th>count</th>\n",
              "    </tr>\n",
              "    <tr>\n",
              "      <th>RV전환가능여부</th>\n",
              "      <th></th>\n",
              "    </tr>\n",
              "  </thead>\n",
              "  <tbody>\n",
              "    <tr>\n",
              "      <th>Z</th>\n",
              "      <td>490584</td>\n",
              "    </tr>\n",
              "    <tr>\n",
              "      <th>N</th>\n",
              "      <td>101782</td>\n",
              "    </tr>\n",
              "    <tr>\n",
              "      <th>None</th>\n",
              "      <td>7634</td>\n",
              "    </tr>\n",
              "  </tbody>\n",
              "</table>\n",
              "</div><br><label><b>dtype:</b> int64</label>"
            ]
          },
          "metadata": {},
          "execution_count": 14
        }
      ]
    },
    {
      "cell_type": "code",
      "source": [
        "# 전환 가능 여부 인코딩 및 결측치 처리\n",
        "df_all['RV전환가능여부'] = df_all['RV전환가능여부'].map({'Z': 1, 'N': 0})\n",
        "df_all['RV전환가능여부'] = df_all['RV전환가능여부'].fillna(0).astype(int)"
      ],
      "metadata": {
        "id": "efcWUyNBoKJi"
      },
      "execution_count": 15,
      "outputs": []
    },
    {
      "cell_type": "code",
      "source": [
        "# 결측치 재확인\n",
        "missing_cols = df_all.columns[df_all.isnull().any()]\n",
        "missing_cols"
      ],
      "metadata": {
        "colab": {
          "base_uri": "https://localhost:8080/"
        },
        "id": "7WykT4B6h9bP",
        "outputId": "f85fd4c7-1b74-4142-c9df-fee22149b493"
      },
      "execution_count": 16,
      "outputs": [
        {
          "output_type": "execute_result",
          "data": {
            "text/plain": [
              "Index([], dtype='object')"
            ]
          },
          "metadata": {},
          "execution_count": 16
        }
      ]
    },
    {
      "cell_type": "code",
      "source": [],
      "metadata": {
        "id": "Muev0I4DIHwM"
      },
      "execution_count": null,
      "outputs": []
    },
    {
      "cell_type": "code",
      "source": [],
      "metadata": {
        "id": "M4W3ogcB6cTq"
      },
      "execution_count": null,
      "outputs": []
    },
    {
      "cell_type": "code",
      "source": [
        "# # 데이터 샘플 추출\n",
        "# # 1. (선택) 데이터 샘플링: df_all에서 500개 샘플 추출\n",
        "# df_all_sample = df_all.sample(n=500, random_state=42)  # 또는 head(n)\n",
        "\n",
        "# # 2. CSV 파일로 저장 (인코딩은 Excel 호환 위해 cp949 사용)\n",
        "# df_all_sample.to_csv('df_all_sample.csv', index=False, encoding='cp949')\n",
        "\n",
        "# # 3. 로컬로 다운로드\n",
        "# from google.colab import files\n",
        "# files.download('df_all_sample.csv')"
      ],
      "metadata": {
        "id": "U8VzP54Q505z"
      },
      "execution_count": null,
      "outputs": []
    },
    {
      "cell_type": "code",
      "source": [
        "# # 1. 컬럼명 확인\n",
        "# print(df_all_sample.columns.tolist())\n",
        "\n",
        "# # 2. 데이터 미리보기\n",
        "# print(df_all_sample.head(3))"
      ],
      "metadata": {
        "id": "RBbJ6B-rJcBA"
      },
      "execution_count": null,
      "outputs": []
    },
    {
      "cell_type": "code",
      "source": [
        "# from statsmodels.stats.outliers_influence import variance_inflation_factor\n",
        "# from statsmodels.tools.tools import add_constant\n",
        "\n",
        "# def calculate_vif(X):\n",
        "#     X = add_constant(X)  # 상수항 추가 (intercept)\n",
        "#     vif_data = pd.DataFrame()\n",
        "#     vif_data[\"feature\"] = X.columns\n",
        "#     vif_data[\"VIF\"] = [variance_inflation_factor(X.values, i) for i in range(X.shape[1])]\n",
        "#     return vif_data"
      ],
      "metadata": {
        "id": "90wU1CDz_L0x"
      },
      "execution_count": null,
      "outputs": []
    },
    {
      "cell_type": "code",
      "source": [
        "# # parquet 파일 열기\n",
        "# df1 = pd.read_parquet(\"201807_train_청구정보.parquet\")\n",
        "\n",
        "# # csv로 저장\n",
        "# df1.to_csv(\"201807_train_청구정보.csv\", index=False)\n"
      ],
      "metadata": {
        "id": "94C9aKHbZSK5"
      },
      "execution_count": null,
      "outputs": []
    },
    {
      "cell_type": "code",
      "source": [
        "df_all"
      ],
      "metadata": {
        "id": "-NLiTu0zncqj",
        "colab": {
          "base_uri": "https://localhost:8080/",
          "height": 738
        },
        "outputId": "e209a14e-63a7-4364-8146-83e02e455835"
      },
      "execution_count": 17,
      "outputs": [
        {
          "output_type": "execute_result",
          "data": {
            "text/plain": [
              "          기준년월          ID  최초한도금액  카드이용한도금액  CA한도금액  일시상환론한도금액  월상환론한도금액  \\\n",
              "0       201807  TEST_00000       0     50902   18131          0         0   \n",
              "1       201807  TEST_00001       0     50080   16819          0         0   \n",
              "2       201807  TEST_00002       0    100045   30505          0     19499   \n",
              "3       201807  TEST_00003       0     18508    6402          0    156102   \n",
              "4       201807  TEST_00004   10000      4033       0      42195     52784   \n",
              "...        ...         ...     ...       ...     ...        ...       ...   \n",
              "599995  201812  TEST_99995       0         0       0          0         0   \n",
              "599996  201812  TEST_99996       0     49025   17876      48022    152797   \n",
              "599997  201812  TEST_99997       0     29996   13332      89997    156313   \n",
              "599998  201812  TEST_99998       0     42610   17362      90003    204480   \n",
              "599999  201812  TEST_99999       0     86444   30242      90002    180635   \n",
              "\n",
              "        CA이자율_할인전  CL이자율_할인전  RV일시불이자율_할인전  ...  카드이용한도금액_B2M  특별한도보유여부_R3M  \\\n",
              "0       14.641712  11.894873     10.346302  ...         50006             0   \n",
              "1       18.992879  17.600092     14.021300  ...         50003             0   \n",
              "2       14.823453  14.817385     10.679822  ...        100056             0   \n",
              "3       15.121715  15.284812     11.674446  ...         19693             0   \n",
              "4       14.220050  10.897462     10.777585  ...          3924             0   \n",
              "...           ...        ...           ...  ...           ...           ...   \n",
              "599995  14.642972  11.898260     10.674317  ...             0             0   \n",
              "599996  14.221370  14.901302     10.324015  ...         49990             0   \n",
              "599997  15.207480  11.902432     11.495748  ...         30004             0   \n",
              "599998  15.268772  15.299862     11.264263  ...         37139             0   \n",
              "599999  14.722716  11.899745     11.089403  ...         79148             0   \n",
              "\n",
              "        연체감액여부_R3M 한도심사요청건수  한도요청거절건수  시장단기연체여부_R6M  시장단기연체여부_R3M  \\\n",
              "0                0       0회         0             0             0   \n",
              "1                0       0회         0             0             0   \n",
              "2                0       0회         0             0             0   \n",
              "3                0       0회         0             0             0   \n",
              "4                0       0회         0             0             0   \n",
              "...            ...      ...       ...           ...           ...   \n",
              "599995           0       0회         0             0             0   \n",
              "599996           0       0회         0             0             0   \n",
              "599997           0       0회         0             0             0   \n",
              "599998           0       0회         0             0             0   \n",
              "599999           0       0회         0             0             0   \n",
              "\n",
              "       시장연체상환여부_R6M  시장연체상환여부_R3M  rv최초시작후경과일  \n",
              "0                 0             0    99999999  \n",
              "1                 0             0    99999999  \n",
              "2                 0             0    99999999  \n",
              "3                 0             0    99999999  \n",
              "4                 0             0    99999999  \n",
              "...             ...           ...         ...  \n",
              "599995            0             0    99999999  \n",
              "599996            0             0    99999999  \n",
              "599997            0             0    99999999  \n",
              "599998            0             0    99999999  \n",
              "599999            0             0    99999999  \n",
              "\n",
              "[600000 rows x 35 columns]"
            ],
            "text/html": [
              "\n",
              "  <div id=\"df-a5759c03-6cb4-4454-8865-ea105ef862fc\" class=\"colab-df-container\">\n",
              "    <div>\n",
              "<style scoped>\n",
              "    .dataframe tbody tr th:only-of-type {\n",
              "        vertical-align: middle;\n",
              "    }\n",
              "\n",
              "    .dataframe tbody tr th {\n",
              "        vertical-align: top;\n",
              "    }\n",
              "\n",
              "    .dataframe thead th {\n",
              "        text-align: right;\n",
              "    }\n",
              "</style>\n",
              "<table border=\"1\" class=\"dataframe\">\n",
              "  <thead>\n",
              "    <tr style=\"text-align: right;\">\n",
              "      <th></th>\n",
              "      <th>기준년월</th>\n",
              "      <th>ID</th>\n",
              "      <th>최초한도금액</th>\n",
              "      <th>카드이용한도금액</th>\n",
              "      <th>CA한도금액</th>\n",
              "      <th>일시상환론한도금액</th>\n",
              "      <th>월상환론한도금액</th>\n",
              "      <th>CA이자율_할인전</th>\n",
              "      <th>CL이자율_할인전</th>\n",
              "      <th>RV일시불이자율_할인전</th>\n",
              "      <th>...</th>\n",
              "      <th>카드이용한도금액_B2M</th>\n",
              "      <th>특별한도보유여부_R3M</th>\n",
              "      <th>연체감액여부_R3M</th>\n",
              "      <th>한도심사요청건수</th>\n",
              "      <th>한도요청거절건수</th>\n",
              "      <th>시장단기연체여부_R6M</th>\n",
              "      <th>시장단기연체여부_R3M</th>\n",
              "      <th>시장연체상환여부_R6M</th>\n",
              "      <th>시장연체상환여부_R3M</th>\n",
              "      <th>rv최초시작후경과일</th>\n",
              "    </tr>\n",
              "  </thead>\n",
              "  <tbody>\n",
              "    <tr>\n",
              "      <th>0</th>\n",
              "      <td>201807</td>\n",
              "      <td>TEST_00000</td>\n",
              "      <td>0</td>\n",
              "      <td>50902</td>\n",
              "      <td>18131</td>\n",
              "      <td>0</td>\n",
              "      <td>0</td>\n",
              "      <td>14.641712</td>\n",
              "      <td>11.894873</td>\n",
              "      <td>10.346302</td>\n",
              "      <td>...</td>\n",
              "      <td>50006</td>\n",
              "      <td>0</td>\n",
              "      <td>0</td>\n",
              "      <td>0회</td>\n",
              "      <td>0</td>\n",
              "      <td>0</td>\n",
              "      <td>0</td>\n",
              "      <td>0</td>\n",
              "      <td>0</td>\n",
              "      <td>99999999</td>\n",
              "    </tr>\n",
              "    <tr>\n",
              "      <th>1</th>\n",
              "      <td>201807</td>\n",
              "      <td>TEST_00001</td>\n",
              "      <td>0</td>\n",
              "      <td>50080</td>\n",
              "      <td>16819</td>\n",
              "      <td>0</td>\n",
              "      <td>0</td>\n",
              "      <td>18.992879</td>\n",
              "      <td>17.600092</td>\n",
              "      <td>14.021300</td>\n",
              "      <td>...</td>\n",
              "      <td>50003</td>\n",
              "      <td>0</td>\n",
              "      <td>0</td>\n",
              "      <td>0회</td>\n",
              "      <td>0</td>\n",
              "      <td>0</td>\n",
              "      <td>0</td>\n",
              "      <td>0</td>\n",
              "      <td>0</td>\n",
              "      <td>99999999</td>\n",
              "    </tr>\n",
              "    <tr>\n",
              "      <th>2</th>\n",
              "      <td>201807</td>\n",
              "      <td>TEST_00002</td>\n",
              "      <td>0</td>\n",
              "      <td>100045</td>\n",
              "      <td>30505</td>\n",
              "      <td>0</td>\n",
              "      <td>19499</td>\n",
              "      <td>14.823453</td>\n",
              "      <td>14.817385</td>\n",
              "      <td>10.679822</td>\n",
              "      <td>...</td>\n",
              "      <td>100056</td>\n",
              "      <td>0</td>\n",
              "      <td>0</td>\n",
              "      <td>0회</td>\n",
              "      <td>0</td>\n",
              "      <td>0</td>\n",
              "      <td>0</td>\n",
              "      <td>0</td>\n",
              "      <td>0</td>\n",
              "      <td>99999999</td>\n",
              "    </tr>\n",
              "    <tr>\n",
              "      <th>3</th>\n",
              "      <td>201807</td>\n",
              "      <td>TEST_00003</td>\n",
              "      <td>0</td>\n",
              "      <td>18508</td>\n",
              "      <td>6402</td>\n",
              "      <td>0</td>\n",
              "      <td>156102</td>\n",
              "      <td>15.121715</td>\n",
              "      <td>15.284812</td>\n",
              "      <td>11.674446</td>\n",
              "      <td>...</td>\n",
              "      <td>19693</td>\n",
              "      <td>0</td>\n",
              "      <td>0</td>\n",
              "      <td>0회</td>\n",
              "      <td>0</td>\n",
              "      <td>0</td>\n",
              "      <td>0</td>\n",
              "      <td>0</td>\n",
              "      <td>0</td>\n",
              "      <td>99999999</td>\n",
              "    </tr>\n",
              "    <tr>\n",
              "      <th>4</th>\n",
              "      <td>201807</td>\n",
              "      <td>TEST_00004</td>\n",
              "      <td>10000</td>\n",
              "      <td>4033</td>\n",
              "      <td>0</td>\n",
              "      <td>42195</td>\n",
              "      <td>52784</td>\n",
              "      <td>14.220050</td>\n",
              "      <td>10.897462</td>\n",
              "      <td>10.777585</td>\n",
              "      <td>...</td>\n",
              "      <td>3924</td>\n",
              "      <td>0</td>\n",
              "      <td>0</td>\n",
              "      <td>0회</td>\n",
              "      <td>0</td>\n",
              "      <td>0</td>\n",
              "      <td>0</td>\n",
              "      <td>0</td>\n",
              "      <td>0</td>\n",
              "      <td>99999999</td>\n",
              "    </tr>\n",
              "    <tr>\n",
              "      <th>...</th>\n",
              "      <td>...</td>\n",
              "      <td>...</td>\n",
              "      <td>...</td>\n",
              "      <td>...</td>\n",
              "      <td>...</td>\n",
              "      <td>...</td>\n",
              "      <td>...</td>\n",
              "      <td>...</td>\n",
              "      <td>...</td>\n",
              "      <td>...</td>\n",
              "      <td>...</td>\n",
              "      <td>...</td>\n",
              "      <td>...</td>\n",
              "      <td>...</td>\n",
              "      <td>...</td>\n",
              "      <td>...</td>\n",
              "      <td>...</td>\n",
              "      <td>...</td>\n",
              "      <td>...</td>\n",
              "      <td>...</td>\n",
              "      <td>...</td>\n",
              "    </tr>\n",
              "    <tr>\n",
              "      <th>599995</th>\n",
              "      <td>201812</td>\n",
              "      <td>TEST_99995</td>\n",
              "      <td>0</td>\n",
              "      <td>0</td>\n",
              "      <td>0</td>\n",
              "      <td>0</td>\n",
              "      <td>0</td>\n",
              "      <td>14.642972</td>\n",
              "      <td>11.898260</td>\n",
              "      <td>10.674317</td>\n",
              "      <td>...</td>\n",
              "      <td>0</td>\n",
              "      <td>0</td>\n",
              "      <td>0</td>\n",
              "      <td>0회</td>\n",
              "      <td>0</td>\n",
              "      <td>0</td>\n",
              "      <td>0</td>\n",
              "      <td>0</td>\n",
              "      <td>0</td>\n",
              "      <td>99999999</td>\n",
              "    </tr>\n",
              "    <tr>\n",
              "      <th>599996</th>\n",
              "      <td>201812</td>\n",
              "      <td>TEST_99996</td>\n",
              "      <td>0</td>\n",
              "      <td>49025</td>\n",
              "      <td>17876</td>\n",
              "      <td>48022</td>\n",
              "      <td>152797</td>\n",
              "      <td>14.221370</td>\n",
              "      <td>14.901302</td>\n",
              "      <td>10.324015</td>\n",
              "      <td>...</td>\n",
              "      <td>49990</td>\n",
              "      <td>0</td>\n",
              "      <td>0</td>\n",
              "      <td>0회</td>\n",
              "      <td>0</td>\n",
              "      <td>0</td>\n",
              "      <td>0</td>\n",
              "      <td>0</td>\n",
              "      <td>0</td>\n",
              "      <td>99999999</td>\n",
              "    </tr>\n",
              "    <tr>\n",
              "      <th>599997</th>\n",
              "      <td>201812</td>\n",
              "      <td>TEST_99997</td>\n",
              "      <td>0</td>\n",
              "      <td>29996</td>\n",
              "      <td>13332</td>\n",
              "      <td>89997</td>\n",
              "      <td>156313</td>\n",
              "      <td>15.207480</td>\n",
              "      <td>11.902432</td>\n",
              "      <td>11.495748</td>\n",
              "      <td>...</td>\n",
              "      <td>30004</td>\n",
              "      <td>0</td>\n",
              "      <td>0</td>\n",
              "      <td>0회</td>\n",
              "      <td>0</td>\n",
              "      <td>0</td>\n",
              "      <td>0</td>\n",
              "      <td>0</td>\n",
              "      <td>0</td>\n",
              "      <td>99999999</td>\n",
              "    </tr>\n",
              "    <tr>\n",
              "      <th>599998</th>\n",
              "      <td>201812</td>\n",
              "      <td>TEST_99998</td>\n",
              "      <td>0</td>\n",
              "      <td>42610</td>\n",
              "      <td>17362</td>\n",
              "      <td>90003</td>\n",
              "      <td>204480</td>\n",
              "      <td>15.268772</td>\n",
              "      <td>15.299862</td>\n",
              "      <td>11.264263</td>\n",
              "      <td>...</td>\n",
              "      <td>37139</td>\n",
              "      <td>0</td>\n",
              "      <td>0</td>\n",
              "      <td>0회</td>\n",
              "      <td>0</td>\n",
              "      <td>0</td>\n",
              "      <td>0</td>\n",
              "      <td>0</td>\n",
              "      <td>0</td>\n",
              "      <td>99999999</td>\n",
              "    </tr>\n",
              "    <tr>\n",
              "      <th>599999</th>\n",
              "      <td>201812</td>\n",
              "      <td>TEST_99999</td>\n",
              "      <td>0</td>\n",
              "      <td>86444</td>\n",
              "      <td>30242</td>\n",
              "      <td>90002</td>\n",
              "      <td>180635</td>\n",
              "      <td>14.722716</td>\n",
              "      <td>11.899745</td>\n",
              "      <td>11.089403</td>\n",
              "      <td>...</td>\n",
              "      <td>79148</td>\n",
              "      <td>0</td>\n",
              "      <td>0</td>\n",
              "      <td>0회</td>\n",
              "      <td>0</td>\n",
              "      <td>0</td>\n",
              "      <td>0</td>\n",
              "      <td>0</td>\n",
              "      <td>0</td>\n",
              "      <td>99999999</td>\n",
              "    </tr>\n",
              "  </tbody>\n",
              "</table>\n",
              "<p>600000 rows × 35 columns</p>\n",
              "</div>\n",
              "    <div class=\"colab-df-buttons\">\n",
              "\n",
              "  <div class=\"colab-df-container\">\n",
              "    <button class=\"colab-df-convert\" onclick=\"convertToInteractive('df-a5759c03-6cb4-4454-8865-ea105ef862fc')\"\n",
              "            title=\"Convert this dataframe to an interactive table.\"\n",
              "            style=\"display:none;\">\n",
              "\n",
              "  <svg xmlns=\"http://www.w3.org/2000/svg\" height=\"24px\" viewBox=\"0 -960 960 960\">\n",
              "    <path d=\"M120-120v-720h720v720H120Zm60-500h600v-160H180v160Zm220 220h160v-160H400v160Zm0 220h160v-160H400v160ZM180-400h160v-160H180v160Zm440 0h160v-160H620v160ZM180-180h160v-160H180v160Zm440 0h160v-160H620v160Z\"/>\n",
              "  </svg>\n",
              "    </button>\n",
              "\n",
              "  <style>\n",
              "    .colab-df-container {\n",
              "      display:flex;\n",
              "      gap: 12px;\n",
              "    }\n",
              "\n",
              "    .colab-df-convert {\n",
              "      background-color: #E8F0FE;\n",
              "      border: none;\n",
              "      border-radius: 50%;\n",
              "      cursor: pointer;\n",
              "      display: none;\n",
              "      fill: #1967D2;\n",
              "      height: 32px;\n",
              "      padding: 0 0 0 0;\n",
              "      width: 32px;\n",
              "    }\n",
              "\n",
              "    .colab-df-convert:hover {\n",
              "      background-color: #E2EBFA;\n",
              "      box-shadow: 0px 1px 2px rgba(60, 64, 67, 0.3), 0px 1px 3px 1px rgba(60, 64, 67, 0.15);\n",
              "      fill: #174EA6;\n",
              "    }\n",
              "\n",
              "    .colab-df-buttons div {\n",
              "      margin-bottom: 4px;\n",
              "    }\n",
              "\n",
              "    [theme=dark] .colab-df-convert {\n",
              "      background-color: #3B4455;\n",
              "      fill: #D2E3FC;\n",
              "    }\n",
              "\n",
              "    [theme=dark] .colab-df-convert:hover {\n",
              "      background-color: #434B5C;\n",
              "      box-shadow: 0px 1px 3px 1px rgba(0, 0, 0, 0.15);\n",
              "      filter: drop-shadow(0px 1px 2px rgba(0, 0, 0, 0.3));\n",
              "      fill: #FFFFFF;\n",
              "    }\n",
              "  </style>\n",
              "\n",
              "    <script>\n",
              "      const buttonEl =\n",
              "        document.querySelector('#df-a5759c03-6cb4-4454-8865-ea105ef862fc button.colab-df-convert');\n",
              "      buttonEl.style.display =\n",
              "        google.colab.kernel.accessAllowed ? 'block' : 'none';\n",
              "\n",
              "      async function convertToInteractive(key) {\n",
              "        const element = document.querySelector('#df-a5759c03-6cb4-4454-8865-ea105ef862fc');\n",
              "        const dataTable =\n",
              "          await google.colab.kernel.invokeFunction('convertToInteractive',\n",
              "                                                    [key], {});\n",
              "        if (!dataTable) return;\n",
              "\n",
              "        const docLinkHtml = 'Like what you see? Visit the ' +\n",
              "          '<a target=\"_blank\" href=https://colab.research.google.com/notebooks/data_table.ipynb>data table notebook</a>'\n",
              "          + ' to learn more about interactive tables.';\n",
              "        element.innerHTML = '';\n",
              "        dataTable['output_type'] = 'display_data';\n",
              "        await google.colab.output.renderOutput(dataTable, element);\n",
              "        const docLink = document.createElement('div');\n",
              "        docLink.innerHTML = docLinkHtml;\n",
              "        element.appendChild(docLink);\n",
              "      }\n",
              "    </script>\n",
              "  </div>\n",
              "\n",
              "\n",
              "    <div id=\"df-63ef42f2-571e-4022-936b-df32a75960e7\">\n",
              "      <button class=\"colab-df-quickchart\" onclick=\"quickchart('df-63ef42f2-571e-4022-936b-df32a75960e7')\"\n",
              "                title=\"Suggest charts\"\n",
              "                style=\"display:none;\">\n",
              "\n",
              "<svg xmlns=\"http://www.w3.org/2000/svg\" height=\"24px\"viewBox=\"0 0 24 24\"\n",
              "     width=\"24px\">\n",
              "    <g>\n",
              "        <path d=\"M19 3H5c-1.1 0-2 .9-2 2v14c0 1.1.9 2 2 2h14c1.1 0 2-.9 2-2V5c0-1.1-.9-2-2-2zM9 17H7v-7h2v7zm4 0h-2V7h2v10zm4 0h-2v-4h2v4z\"/>\n",
              "    </g>\n",
              "</svg>\n",
              "      </button>\n",
              "\n",
              "<style>\n",
              "  .colab-df-quickchart {\n",
              "      --bg-color: #E8F0FE;\n",
              "      --fill-color: #1967D2;\n",
              "      --hover-bg-color: #E2EBFA;\n",
              "      --hover-fill-color: #174EA6;\n",
              "      --disabled-fill-color: #AAA;\n",
              "      --disabled-bg-color: #DDD;\n",
              "  }\n",
              "\n",
              "  [theme=dark] .colab-df-quickchart {\n",
              "      --bg-color: #3B4455;\n",
              "      --fill-color: #D2E3FC;\n",
              "      --hover-bg-color: #434B5C;\n",
              "      --hover-fill-color: #FFFFFF;\n",
              "      --disabled-bg-color: #3B4455;\n",
              "      --disabled-fill-color: #666;\n",
              "  }\n",
              "\n",
              "  .colab-df-quickchart {\n",
              "    background-color: var(--bg-color);\n",
              "    border: none;\n",
              "    border-radius: 50%;\n",
              "    cursor: pointer;\n",
              "    display: none;\n",
              "    fill: var(--fill-color);\n",
              "    height: 32px;\n",
              "    padding: 0;\n",
              "    width: 32px;\n",
              "  }\n",
              "\n",
              "  .colab-df-quickchart:hover {\n",
              "    background-color: var(--hover-bg-color);\n",
              "    box-shadow: 0 1px 2px rgba(60, 64, 67, 0.3), 0 1px 3px 1px rgba(60, 64, 67, 0.15);\n",
              "    fill: var(--button-hover-fill-color);\n",
              "  }\n",
              "\n",
              "  .colab-df-quickchart-complete:disabled,\n",
              "  .colab-df-quickchart-complete:disabled:hover {\n",
              "    background-color: var(--disabled-bg-color);\n",
              "    fill: var(--disabled-fill-color);\n",
              "    box-shadow: none;\n",
              "  }\n",
              "\n",
              "  .colab-df-spinner {\n",
              "    border: 2px solid var(--fill-color);\n",
              "    border-color: transparent;\n",
              "    border-bottom-color: var(--fill-color);\n",
              "    animation:\n",
              "      spin 1s steps(1) infinite;\n",
              "  }\n",
              "\n",
              "  @keyframes spin {\n",
              "    0% {\n",
              "      border-color: transparent;\n",
              "      border-bottom-color: var(--fill-color);\n",
              "      border-left-color: var(--fill-color);\n",
              "    }\n",
              "    20% {\n",
              "      border-color: transparent;\n",
              "      border-left-color: var(--fill-color);\n",
              "      border-top-color: var(--fill-color);\n",
              "    }\n",
              "    30% {\n",
              "      border-color: transparent;\n",
              "      border-left-color: var(--fill-color);\n",
              "      border-top-color: var(--fill-color);\n",
              "      border-right-color: var(--fill-color);\n",
              "    }\n",
              "    40% {\n",
              "      border-color: transparent;\n",
              "      border-right-color: var(--fill-color);\n",
              "      border-top-color: var(--fill-color);\n",
              "    }\n",
              "    60% {\n",
              "      border-color: transparent;\n",
              "      border-right-color: var(--fill-color);\n",
              "    }\n",
              "    80% {\n",
              "      border-color: transparent;\n",
              "      border-right-color: var(--fill-color);\n",
              "      border-bottom-color: var(--fill-color);\n",
              "    }\n",
              "    90% {\n",
              "      border-color: transparent;\n",
              "      border-bottom-color: var(--fill-color);\n",
              "    }\n",
              "  }\n",
              "</style>\n",
              "\n",
              "      <script>\n",
              "        async function quickchart(key) {\n",
              "          const quickchartButtonEl =\n",
              "            document.querySelector('#' + key + ' button');\n",
              "          quickchartButtonEl.disabled = true;  // To prevent multiple clicks.\n",
              "          quickchartButtonEl.classList.add('colab-df-spinner');\n",
              "          try {\n",
              "            const charts = await google.colab.kernel.invokeFunction(\n",
              "                'suggestCharts', [key], {});\n",
              "          } catch (error) {\n",
              "            console.error('Error during call to suggestCharts:', error);\n",
              "          }\n",
              "          quickchartButtonEl.classList.remove('colab-df-spinner');\n",
              "          quickchartButtonEl.classList.add('colab-df-quickchart-complete');\n",
              "        }\n",
              "        (() => {\n",
              "          let quickchartButtonEl =\n",
              "            document.querySelector('#df-63ef42f2-571e-4022-936b-df32a75960e7 button');\n",
              "          quickchartButtonEl.style.display =\n",
              "            google.colab.kernel.accessAllowed ? 'block' : 'none';\n",
              "        })();\n",
              "      </script>\n",
              "    </div>\n",
              "\n",
              "  <div id=\"id_0d42e57e-ca19-407d-a4f4-127fc09c7c4e\">\n",
              "    <style>\n",
              "      .colab-df-generate {\n",
              "        background-color: #E8F0FE;\n",
              "        border: none;\n",
              "        border-radius: 50%;\n",
              "        cursor: pointer;\n",
              "        display: none;\n",
              "        fill: #1967D2;\n",
              "        height: 32px;\n",
              "        padding: 0 0 0 0;\n",
              "        width: 32px;\n",
              "      }\n",
              "\n",
              "      .colab-df-generate:hover {\n",
              "        background-color: #E2EBFA;\n",
              "        box-shadow: 0px 1px 2px rgba(60, 64, 67, 0.3), 0px 1px 3px 1px rgba(60, 64, 67, 0.15);\n",
              "        fill: #174EA6;\n",
              "      }\n",
              "\n",
              "      [theme=dark] .colab-df-generate {\n",
              "        background-color: #3B4455;\n",
              "        fill: #D2E3FC;\n",
              "      }\n",
              "\n",
              "      [theme=dark] .colab-df-generate:hover {\n",
              "        background-color: #434B5C;\n",
              "        box-shadow: 0px 1px 3px 1px rgba(0, 0, 0, 0.15);\n",
              "        filter: drop-shadow(0px 1px 2px rgba(0, 0, 0, 0.3));\n",
              "        fill: #FFFFFF;\n",
              "      }\n",
              "    </style>\n",
              "    <button class=\"colab-df-generate\" onclick=\"generateWithVariable('df_all')\"\n",
              "            title=\"Generate code using this dataframe.\"\n",
              "            style=\"display:none;\">\n",
              "\n",
              "  <svg xmlns=\"http://www.w3.org/2000/svg\" height=\"24px\"viewBox=\"0 0 24 24\"\n",
              "       width=\"24px\">\n",
              "    <path d=\"M7,19H8.4L18.45,9,17,7.55,7,17.6ZM5,21V16.75L18.45,3.32a2,2,0,0,1,2.83,0l1.4,1.43a1.91,1.91,0,0,1,.58,1.4,1.91,1.91,0,0,1-.58,1.4L9.25,21ZM18.45,9,17,7.55Zm-12,3A5.31,5.31,0,0,0,4.9,8.1,5.31,5.31,0,0,0,1,6.5,5.31,5.31,0,0,0,4.9,4.9,5.31,5.31,0,0,0,6.5,1,5.31,5.31,0,0,0,8.1,4.9,5.31,5.31,0,0,0,12,6.5,5.46,5.46,0,0,0,6.5,12Z\"/>\n",
              "  </svg>\n",
              "    </button>\n",
              "    <script>\n",
              "      (() => {\n",
              "      const buttonEl =\n",
              "        document.querySelector('#id_0d42e57e-ca19-407d-a4f4-127fc09c7c4e button.colab-df-generate');\n",
              "      buttonEl.style.display =\n",
              "        google.colab.kernel.accessAllowed ? 'block' : 'none';\n",
              "\n",
              "      buttonEl.onclick = () => {\n",
              "        google.colab.notebook.generateWithVariable('df_all');\n",
              "      }\n",
              "      })();\n",
              "    </script>\n",
              "  </div>\n",
              "\n",
              "    </div>\n",
              "  </div>\n"
            ],
            "application/vnd.google.colaboratory.intrinsic+json": {
              "type": "dataframe",
              "variable_name": "df_all"
            }
          },
          "metadata": {},
          "execution_count": 17
        }
      ]
    },
    {
      "cell_type": "code",
      "source": [
        "# # CSV 파일 불러오기\n",
        "# df = pd.read_csv('df_all.csv', encoding='cp949') # 경로는 필요 시 수정\n",
        "\n",
        "# # Parquet 파일로 저장\n",
        "# df.to_parquet('df_all.parquet', index=False)"
      ],
      "metadata": {
        "id": "dRho1ShqnSnx"
      },
      "execution_count": null,
      "outputs": []
    },
    {
      "cell_type": "code",
      "source": [
        "# Parquet로 저장\n",
        "df_all.to_parquet(\"test_2번eda.parquet\", index=False)\n",
        "\n",
        "# 파일 다운로드\n",
        "from google.colab import files\n",
        "files.download(\"test_2번eda.parquet\")"
      ],
      "metadata": {
        "colab": {
          "base_uri": "https://localhost:8080/",
          "height": 17
        },
        "id": "F4vUpFYf811d",
        "outputId": "e196f3fb-fb57-40bb-89ff-73b3dd7f5ec8"
      },
      "execution_count": 18,
      "outputs": [
        {
          "output_type": "display_data",
          "data": {
            "text/plain": [
              "<IPython.core.display.Javascript object>"
            ],
            "application/javascript": [
              "\n",
              "    async function download(id, filename, size) {\n",
              "      if (!google.colab.kernel.accessAllowed) {\n",
              "        return;\n",
              "      }\n",
              "      const div = document.createElement('div');\n",
              "      const label = document.createElement('label');\n",
              "      label.textContent = `Downloading \"${filename}\": `;\n",
              "      div.appendChild(label);\n",
              "      const progress = document.createElement('progress');\n",
              "      progress.max = size;\n",
              "      div.appendChild(progress);\n",
              "      document.body.appendChild(div);\n",
              "\n",
              "      const buffers = [];\n",
              "      let downloaded = 0;\n",
              "\n",
              "      const channel = await google.colab.kernel.comms.open(id);\n",
              "      // Send a message to notify the kernel that we're ready.\n",
              "      channel.send({})\n",
              "\n",
              "      for await (const message of channel.messages) {\n",
              "        // Send a message to notify the kernel that we're ready.\n",
              "        channel.send({})\n",
              "        if (message.buffers) {\n",
              "          for (const buffer of message.buffers) {\n",
              "            buffers.push(buffer);\n",
              "            downloaded += buffer.byteLength;\n",
              "            progress.value = downloaded;\n",
              "          }\n",
              "        }\n",
              "      }\n",
              "      const blob = new Blob(buffers, {type: 'application/binary'});\n",
              "      const a = document.createElement('a');\n",
              "      a.href = window.URL.createObjectURL(blob);\n",
              "      a.download = filename;\n",
              "      div.appendChild(a);\n",
              "      a.click();\n",
              "      div.remove();\n",
              "    }\n",
              "  "
            ]
          },
          "metadata": {}
        },
        {
          "output_type": "display_data",
          "data": {
            "text/plain": [
              "<IPython.core.display.Javascript object>"
            ],
            "application/javascript": [
              "download(\"download_87ead536-985f-4822-811a-8b85e71ebd7d\", \"test_2\\ubc88eda.parquet\", 32993058)"
            ]
          },
          "metadata": {}
        }
      ]
    },
    {
      "cell_type": "code",
      "source": [],
      "metadata": {
        "id": "fqBCbrXb9SOg"
      },
      "execution_count": null,
      "outputs": []
    }
  ]
}